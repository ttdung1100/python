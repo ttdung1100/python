{
 "cells": [
  {
   "cell_type": "code",
   "execution_count": 1,
   "metadata": {},
   "outputs": [
    {
     "name": "stdout",
     "output_type": "stream",
     "text": [
      "Sum : 600\n"
     ]
    }
   ],
   "source": [
    "# Python3 Program to find sum of  \n",
    "# all items in a Dictionary \n",
    "  \n",
    "# Function to print sum \n",
    "def returnSum(myDict): \n",
    "      \n",
    "    sum = 0\n",
    "    for i in myDict: \n",
    "        sum = sum + myDict[i] \n",
    "      \n",
    "    return sum\n",
    "  \n",
    "# Driver Function \n",
    "dict = {'a': 100, 'b':200, 'c':300} \n",
    "print(\"Sum :\", returnSum(dict)) \n"
   ]
  },
  {
   "cell_type": "code",
   "execution_count": 2,
   "metadata": {},
   "outputs": [
    {
     "name": "stdout",
     "output_type": "stream",
     "text": [
      "Sum : 600\n"
     ]
    }
   ],
   "source": [
    "# Python3 Program to find sum of  \n",
    "# all items in a Dictionary \n",
    "  \n",
    "# Function to print sum \n",
    "def returnSum(dict): \n",
    "      \n",
    "     sum = 0\n",
    "     for i in dict.values(): \n",
    "           sum = sum + i \n",
    "       \n",
    "     return sum\n",
    "  \n",
    "# Driver Function \n",
    "dict = {'a': 100, 'b':200, 'c':300} \n",
    "print(\"Sum :\", returnSum(dict)) \n"
   ]
  },
  {
   "cell_type": "code",
   "execution_count": 5,
   "metadata": {},
   "outputs": [
    {
     "name": "stdout",
     "output_type": "stream",
     "text": [
      "Sum : 600\n"
     ]
    }
   ],
   "source": [
    "# Python3 Program to find sum of  \n",
    "# all items in a Dictionary \n",
    "  \n",
    "# Function to print sum \n",
    "def returnSum(dict): \n",
    "      \n",
    "     sum = 0\n",
    "     for i in dict: \n",
    "           sum = sum + dict[i] \n",
    "       \n",
    "     return sum\n",
    "  \n",
    "# Driver Function \n",
    "dict = {'a': 100, 'b':200, 'c':300} \n",
    "print(\"Sum :\", returnSum(dict)) \n"
   ]
  },
  {
   "cell_type": "code",
   "execution_count": 14,
   "metadata": {},
   "outputs": [
    {
     "name": "stdout",
     "output_type": "stream",
     "text": [
      "The list printed sorting by age: \n",
      "[{'name': 'Nikhil', 'age': 19}, {'name': 'Nandini', 'age': 20}, {'name': 'Manjeet', 'age': 20}]\n",
      "\n",
      "The list printed sorting by age and name: \n",
      "[{'name': 'Nikhil', 'age': 19}, {'name': 'Manjeet', 'age': 20}, {'name': 'Nandini', 'age': 20}]\n",
      "\n",
      "The list printed sorting by age in descending order: \n",
      "[{'name': 'Nandini', 'age': 20}, {'name': 'Manjeet', 'age': 20}, {'name': 'Nikhil', 'age': 19}]\n"
     ]
    }
   ],
   "source": [
    "# Python code demonstrate the working of \n",
    "# sorted() with lambda \n",
    "  \n",
    "# Initializing list of dictionaries \n",
    "lis = [{ \"name\" : \"Nandini\", \"age\" : 20},  \n",
    "{ \"name\" : \"Manjeet\", \"age\" : 20 }, \n",
    "{ \"name\" : \"Nikhil\" , \"age\" : 19 }] \n",
    "  \n",
    "# using sorted and lambda to print list sorted \n",
    "# by age  \n",
    "print (\"The list printed sorting by age: \")\n",
    "print( sorted(lis, key = lambda i: i['age']) )\n",
    "  \n",
    "print (\"\\r\") \n",
    "  \n",
    "# using sorted and lambda to print list sorted  \n",
    "# by both age and name. Notice that \"Manjeet\" \n",
    "# now comes before \"Nandini\" \n",
    "print (\"The list printed sorting by age and name: \")\n",
    "print (sorted(lis, key = lambda i: (i['age'], i['name']))) \n",
    "  \n",
    "print (\"\\r\") \n",
    "  \n",
    "# using sorted and lambda to print list sorted \n",
    "# by age in descending order \n",
    "print (\"The list printed sorting by age in descending order: \")\n",
    "print (sorted(lis, key = lambda i: i['age'],reverse=True) )\n"
   ]
  },
  {
   "cell_type": "code",
   "execution_count": 16,
   "metadata": {},
   "outputs": [
    {
     "name": "stdout",
     "output_type": "stream",
     "text": [
      "The list printed sorting by age: \n",
      "[{'name': 'Nikhil', 'age': 19}, {'name': 'Nandini', 'age': 20}, {'name': 'Manjeet', 'age': 20}]\n",
      "\n",
      "The list printed sorting by age and name: \n",
      "[{'name': 'Nikhil', 'age': 19}, {'name': 'Manjeet', 'age': 20}, {'name': 'Nandini', 'age': 20}]\n",
      "\n",
      "The list printed sorting by age in descending order: \n",
      "[{'name': 'Nandini', 'age': 20}, {'name': 'Manjeet', 'age': 20}, {'name': 'Nikhil', 'age': 19}]\n"
     ]
    }
   ],
   "source": [
    "# Python code demonstrate the working of sorted() \n",
    "# and itemgetter \n",
    "  \n",
    "# importing \"operator\" for implementing itemgetter \n",
    "from operator import itemgetter \n",
    "  \n",
    "# Initializing list of dictionaries \n",
    "lis = [{ \"name\" : \"Nandini\", \"age\" : 20},  \n",
    "{ \"name\" : \"Manjeet\", \"age\" : 20 }, \n",
    "{ \"name\" : \"Nikhil\" , \"age\" : 19 }] \n",
    "  \n",
    "# using sorted and itemgetter to print list sorted by age  \n",
    "print (\"The list printed sorting by age: \")\n",
    "print (sorted(lis, key=itemgetter('age')) )\n",
    "  \n",
    "print (\"\\r\") \n",
    "  \n",
    "# using sorted and itemgetter to print list sorted by both age and name \n",
    "# notice that \"Manjeet\" now comes before \"Nandini\" \n",
    "print( \"The list printed sorting by age and name: \")\n",
    "print (sorted(lis, key=itemgetter('age', 'name')) )\n",
    "  \n",
    "print (\"\\r\") \n",
    "  \n",
    "# using sorted and itemgetter to print list sorted by age in descending order \n",
    "print( \"The list printed sorting by age in descending order: \")\n",
    "print (sorted(lis, key=itemgetter('age'),reverse = True) )\n"
   ]
  },
  {
   "cell_type": "code",
   "execution_count": 32,
   "metadata": {},
   "outputs": [
    {
     "name": "stdout",
     "output_type": "stream",
     "text": [
      "The dictionary before performing remove is : {'Arushi': 22, 'Anuradha': 21, 'Mani': 21, 'Haritha': 21}\n",
      "The dictionary after remove is : {'Arushi': 22, 'Anuradha': 21, 'Haritha': 21}\n"
     ]
    }
   ],
   "source": [
    "# Python code to demonstrate \n",
    "# removal of dict. pair  \n",
    "# using del \n",
    "  \n",
    "# Initializing dictionary \n",
    "test_dict = {\"Arushi\" : 22, \"Anuradha\" : 21, \"Mani\" : 21, \"Haritha\" : 21} \n",
    "  \n",
    "# Printing dictionary before removal \n",
    "print (\"The dictionary before performing remove is : \" + str(test_dict)) \n",
    "  \n",
    "# Using del to remove a dict \n",
    "# removes Mani \n",
    "del test_dict['Mani'] \n",
    "  \n",
    "# Printing dictionary after removal \n",
    "print (\"The dictionary after remove is : \" + str(test_dict)) \n",
    "  \n",
    "# Using del to remove a dict \n",
    "# raises exception \n",
    "del test_dict\n",
    "#['Manjeet']\n",
    "#Manjeet"
   ]
  },
  {
   "cell_type": "code",
   "execution_count": 33,
   "metadata": {},
   "outputs": [
    {
     "name": "stdout",
     "output_type": "stream",
     "text": [
      "The dictionary before performing remove is : {'Arushi': 22, 'Anuradha': 21, 'Mani': 21, 'Haritha': 21}\n",
      "The dictionary after remove is : {'Arushi': 22, 'Anuradha': 21, 'Haritha': 21}\n",
      "The removed key's value is : 21\n",
      "\n",
      "The dictionary after remove is : {'Arushi': 22, 'Anuradha': 21, 'Haritha': 21}\n",
      "The removed key's value is : No Key found\n"
     ]
    }
   ],
   "source": [
    "# Python code to demonstrate \n",
    "# removal of dict. pair  \n",
    "# using pop() \n",
    "  \n",
    "# Initializing dictionary \n",
    "test_dict = {\"Arushi\" : 22, \"Anuradha\" : 21, \"Mani\" : 21, \"Haritha\" : 21} \n",
    "  \n",
    "# Printing dictionary before removal \n",
    "print (\"The dictionary before performing remove is : \" + str(test_dict)) \n",
    "  \n",
    "# Using pop() to remove a dict. pair \n",
    "# removes Mani \n",
    "removed_value = test_dict.pop('Mani') \n",
    "  \n",
    "# Printing dictionary after removal \n",
    "print (\"The dictionary after remove is : \" + str(test_dict)) \n",
    "print (\"The removed key's value is : \" + str(removed_value)) \n",
    "  \n",
    "print ('\\r') \n",
    "  \n",
    "# Using pop() to remove a dict. pair \n",
    "# doesn't raise exception \n",
    "# assigns 'No Key found' to removed_value \n",
    "removed_value = test_dict.pop('Manjeet', 'No Key found') \n",
    "  \n",
    "# Printing dictionary after removal \n",
    "print (\"The dictionary after remove is : \" + str(test_dict)) \n",
    "print (\"The removed key's value is : \" + str(removed_value)) \n"
   ]
  },
  {
   "cell_type": "code",
   "execution_count": 34,
   "metadata": {},
   "outputs": [
    {
     "name": "stdout",
     "output_type": "stream",
     "text": [
      "The dictionary before performing remove is : {'Arushi': 22, 'Anuradha': 21, 'Mani': 21, 'Haritha': 21}\n",
      "The dictionary after remove is : {'Arushi': 22, 'Anuradha': 21, 'Haritha': 21}\n"
     ]
    }
   ],
   "source": [
    "# Python code to demonstrate \n",
    "# removal of dict. pair  \n",
    "# using items() + dict comprehension \n",
    "  \n",
    "# Initializing dictionary \n",
    "test_dict = {\"Arushi\" : 22, \"Anuradha\" : 21, \"Mani\" : 21, \"Haritha\" : 21} \n",
    "  \n",
    "# Printing dictionary before removal \n",
    "print (\"The dictionary before performing remove is : \" + str(test_dict)) \n",
    "  \n",
    "# Using items() + dict comprehension to remove a dict. pair \n",
    "# removes Mani \n",
    "new_dict = {key:val for key, val in test_dict.items() if key != 'Mani'} \n",
    "  \n",
    "# Printing dictionary after removal \n",
    "print (\"The dictionary after remove is : \" + str(new_dict)) \n"
   ]
  },
  {
   "cell_type": "code",
   "execution_count": 35,
   "metadata": {},
   "outputs": [
    {
     "name": "stdout",
     "output_type": "stream",
     "text": [
      "Jack Frost\n",
      "=+=+=+=+=+=+=+=+=+=+=+=+=+=+=+=+=+=+=+=\n",
      "Average marks of Jack Frost is : 72.79 \n",
      "Letter Grade of Jack Frost is : C\n",
      "\n",
      "James Potter\n",
      "=+=+=+=+=+=+=+=+=+=+=+=+=+=+=+=+=+=+=+=\n",
      "Average marks of James Potter is : 75.962 \n",
      "Letter Grade of James Potter is : C\n",
      "\n",
      "Dylan Rhodes\n",
      "=+=+=+=+=+=+=+=+=+=+=+=+=+=+=+=+=+=+=+=\n",
      "Average marks of Dylan Rhodes is : 75.775 \n",
      "Letter Grade of Dylan Rhodes is : C\n",
      "\n",
      "Jessica Stone\n",
      "=+=+=+=+=+=+=+=+=+=+=+=+=+=+=+=+=+=+=+=\n",
      "Average marks of Jessica Stone is : 48.356 \n",
      "Letter Grade of Jessica Stone is : E\n",
      "\n",
      "Tom Hanks\n",
      "=+=+=+=+=+=+=+=+=+=+=+=+=+=+=+=+=+=+=+=\n",
      "Average marks of Tom Hanks is : 57.26 \n",
      "Letter Grade of Tom Hanks is : E\n",
      "\n",
      "Class Average is 72.79\n",
      "Letter Grade of the class is C \n"
     ]
    }
   ],
   "source": [
    "# Python code for the Grade \n",
    "# Calculator program in action \n",
    "  \n",
    "# Creating a dictionary which  \n",
    "# consists of the student name, \n",
    "# assignment result test results \n",
    "# and their respective lab results \n",
    "  \n",
    "# 1. Jack's dictionary \n",
    "jack = { \"name\":\"Jack Frost\", \n",
    "         \"assignment\" : [80, 50, 40, 20], \n",
    "         \"test\" : [75, 75], \n",
    "         \"lab\" : [78.20, 77.20] \n",
    "       } \n",
    "         \n",
    "# 2. James's dictionary \n",
    "james = { \"name\":\"James Potter\", \n",
    "          \"assignment\" : [82, 56, 44, 30], \n",
    "          \"test\" : [80, 80], \n",
    "          \"lab\" : [67.90, 78.72] \n",
    "        } \n",
    "  \n",
    "# 3. Dylan's dictionary \n",
    "dylan = { \"name\" : \"Dylan Rhodes\", \n",
    "          \"assignment\" : [77, 82, 23, 39], \n",
    "          \"test\" : [78, 77], \n",
    "          \"lab\" : [80, 80] \n",
    "        } \n",
    "          \n",
    "# 4. Jessica's dictionary \n",
    "jess = { \"name\" : \"Jessica Stone\", \n",
    "         \"assignment\" : [67, 55, 77, 21], \n",
    "         \"test\" : [40, 50], \n",
    "         \"lab\" : [69, 44.56] \n",
    "       } \n",
    "         \n",
    "# 5. Tom's dictionary \n",
    "tom = { \"name\" : \"Tom Hanks\", \n",
    "        \"assignment\" : [29, 89, 60, 56], \n",
    "        \"test\" : [65, 56], \n",
    "        \"lab\" : [50, 40.6] \n",
    "      } \n",
    "  \n",
    "# Function calculates average  \n",
    "def get_average(marks): \n",
    "    total_sum = sum(marks) \n",
    "    total_sum = float(total_sum) \n",
    "    return total_sum / len(marks) \n",
    "  \n",
    "# Function calculates total average \n",
    "def calculate_total_average(students): \n",
    "    assignment = get_average(students[\"assignment\"]) \n",
    "    test = get_average(students[\"test\"]) \n",
    "    lab = get_average(students[\"lab\"]) \n",
    "  \n",
    "    # Return the result based \n",
    "    # on weightage supplied \n",
    "    # 10 % from assignments \n",
    "    # 70 % from test \n",
    "    # 20 % from lab-works \n",
    "    return (0.1 * assignment +\n",
    "            0.7 * test + 0.2 * lab) \n",
    "  \n",
    "  \n",
    "# Calculate letter grade of each student \n",
    "def assign_letter_grade(score): \n",
    "    if score >= 90: return \"A\"\n",
    "    elif score >= 80: return \"B\"\n",
    "    elif score >= 70: return \"C\"\n",
    "    elif score >= 60: return \"D\"\n",
    "    else : return \"E\"\n",
    "  \n",
    "# Function to calculate the total \n",
    "# average marks of the whole class \n",
    "def class_average_is(student_list): \n",
    "    result_list = [] \n",
    "  \n",
    "    for student in student_list: \n",
    "        stud_avg = calculate_total_average(student) \n",
    "        result_list.append(stud_avg) \n",
    "        return get_average(result_list) \n",
    "  \n",
    "# Student list consisting the \n",
    "# dictionary of all students \n",
    "students = [jack, james, dylan, jess, tom] \n",
    "  \n",
    "# Iterate through the students list \n",
    "# and calculate their respective \n",
    "# average marks and letter grade \n",
    "for i in students : \n",
    "    print(i[\"name\"]) \n",
    "    print(\"=+=+=+=+=+=+=+=+=+=+=+=+=+=+=+=+=+=+=+=\") \n",
    "    print(\"Average marks of %s is : %s \" %(i[\"name\"], \n",
    "                         calculate_total_average(i))) \n",
    "                           \n",
    "    print(\"Letter Grade of %s is : %s\" %(i[\"name\"], \n",
    "    assign_letter_grade(calculate_total_average(i)))) \n",
    "      \n",
    "    print() \n",
    "  \n",
    "  \n",
    "# Calculate the average of whole class \n",
    "class_av = class_average_is(students) \n",
    "  \n",
    "print( \"Class Average is %s\" %(class_av)) \n",
    "print(\"Letter Grade of the class is %s \" \n",
    "        %(assign_letter_grade(class_av))) \n"
   ]
  },
  {
   "cell_type": "code",
   "execution_count": 36,
   "metadata": {},
   "outputs": [
    {
     "name": "stdout",
     "output_type": "stream",
     "text": [
      "None\n",
      "{'d': 6, 'c': 4, 'a': 10, 'b': 8}\n"
     ]
    }
   ],
   "source": [
    "# Python code to merge dict using update() method \n",
    "def Merge(dict1, dict2): \n",
    "    return(dict2.update(dict1)) \n",
    "      \n",
    "# Driver code \n",
    "dict1 = {'a': 10, 'b': 8} \n",
    "dict2 = {'d': 6, 'c': 4} \n",
    "  \n",
    "# This return None \n",
    "print(Merge(dict1, dict2)) \n",
    "  \n",
    "# changes made in dict2 \n",
    "print(dict2) \n"
   ]
  },
  {
   "cell_type": "code",
   "execution_count": 37,
   "metadata": {},
   "outputs": [
    {
     "name": "stdout",
     "output_type": "stream",
     "text": [
      "{'a': 10, 'b': 8, 'd': 6, 'c': 4}\n"
     ]
    }
   ],
   "source": [
    "# Python code to merge dict using a single  \n",
    "# expression \n",
    "def Merge(dict1, dict2): \n",
    "    res = {**dict1, **dict2} \n",
    "    return res \n",
    "      \n",
    "# Driver code \n",
    "dict1 = {'a': 10, 'b': 8} \n",
    "dict2 = {'d': 6, 'c': 4} \n",
    "dict3 = Merge(dict1, dict2) \n",
    "print(dict3) \n"
   ]
  },
  {
   "cell_type": "code",
   "execution_count": 51,
   "metadata": {},
   "outputs": [
    {
     "ename": "AttributeError",
     "evalue": "'collections.OrderedDict' object has no attribute 'iteritems'",
     "output_type": "error",
     "traceback": [
      "\u001b[1;31m---------------------------------------------------------------------------\u001b[0m",
      "\u001b[1;31mAttributeError\u001b[0m                            Traceback (most recent call last)",
      "\u001b[1;32m<ipython-input-51-e339f1ab571e>\u001b[0m in \u001b[0;36m<module>\u001b[1;34m\u001b[0m\n\u001b[0;32m     30\u001b[0m     \u001b[0minput\u001b[0m \u001b[1;33m=\u001b[0m \u001b[1;34m'engineers rock'\u001b[0m\u001b[1;33m\u001b[0m\u001b[1;33m\u001b[0m\u001b[0m\n\u001b[0;32m     31\u001b[0m     \u001b[0mpattern\u001b[0m \u001b[1;33m=\u001b[0m \u001b[1;34m'egr'\u001b[0m\u001b[1;33m\u001b[0m\u001b[1;33m\u001b[0m\u001b[0m\n\u001b[1;32m---> 32\u001b[1;33m     \u001b[0mprint\u001b[0m \u001b[1;33m(\u001b[0m\u001b[0mcheckOrder\u001b[0m\u001b[1;33m(\u001b[0m\u001b[0minput\u001b[0m\u001b[1;33m,\u001b[0m\u001b[0mpattern\u001b[0m\u001b[1;33m)\u001b[0m \u001b[1;33m)\u001b[0m\u001b[1;33m\u001b[0m\u001b[1;33m\u001b[0m\u001b[0m\n\u001b[0m",
      "\u001b[1;32m<ipython-input-51-e339f1ab571e>\u001b[0m in \u001b[0;36mcheckOrder\u001b[1;34m(input, pattern)\u001b[0m\n\u001b[0;32m     13\u001b[0m     \u001b[1;31m# are same or not\u001b[0m\u001b[1;33m\u001b[0m\u001b[1;33m\u001b[0m\u001b[1;33m\u001b[0m\u001b[0m\n\u001b[0;32m     14\u001b[0m     \u001b[0mptrlen\u001b[0m \u001b[1;33m=\u001b[0m \u001b[1;36m0\u001b[0m\u001b[1;33m\u001b[0m\u001b[1;33m\u001b[0m\u001b[0m\n\u001b[1;32m---> 15\u001b[1;33m     \u001b[1;32mfor\u001b[0m \u001b[0mkey\u001b[0m\u001b[1;33m,\u001b[0m\u001b[0mvalue\u001b[0m \u001b[1;32min\u001b[0m \u001b[0mdict\u001b[0m\u001b[1;33m.\u001b[0m\u001b[0miteritems\u001b[0m\u001b[1;33m(\u001b[0m\u001b[1;33m)\u001b[0m\u001b[1;33m:\u001b[0m\u001b[1;33m\u001b[0m\u001b[1;33m\u001b[0m\u001b[0m\n\u001b[0m\u001b[0;32m     16\u001b[0m         \u001b[1;32mif\u001b[0m \u001b[1;33m(\u001b[0m\u001b[0mkey\u001b[0m \u001b[1;33m==\u001b[0m \u001b[0mpattern\u001b[0m\u001b[1;33m[\u001b[0m\u001b[0mptrlen\u001b[0m\u001b[1;33m]\u001b[0m\u001b[1;33m)\u001b[0m\u001b[1;33m:\u001b[0m\u001b[1;33m\u001b[0m\u001b[1;33m\u001b[0m\u001b[0m\n\u001b[0;32m     17\u001b[0m             \u001b[0mptrlen\u001b[0m \u001b[1;33m=\u001b[0m \u001b[0mptrlen\u001b[0m \u001b[1;33m+\u001b[0m \u001b[1;36m1\u001b[0m\u001b[1;33m\u001b[0m\u001b[1;33m\u001b[0m\u001b[0m\n",
      "\u001b[1;31mAttributeError\u001b[0m: 'collections.OrderedDict' object has no attribute 'iteritems'"
     ]
    }
   ],
   "source": [
    "# Function to check if string follows order of  \n",
    "# characters defined by a pattern \n",
    "from collections import OrderedDict \n",
    "  \n",
    "def checkOrder(input, pattern): \n",
    "      \n",
    "    # create empty OrderedDict \n",
    "    # output will be like {'a': None,'b': None, 'c': None} \n",
    "    dict = OrderedDict.fromkeys(input) \n",
    "  \n",
    "    # traverse generated OrderedDict parallel with \n",
    "    # pattern string to check if order of characters  \n",
    "    # are same or not \n",
    "    ptrlen = 0 \n",
    "    for key,value in dict.iteritems(): \n",
    "        if (key == pattern[ptrlen]): \n",
    "            ptrlen = ptrlen + 1\n",
    "          \n",
    "        # check if we have traverse complete  \n",
    "        # pattern string \n",
    "        if (ptrlen == (len(pattern))): \n",
    "            return 'true'\n",
    "  \n",
    "    # if we come out from for loop that means  \n",
    "    # order was mismatched \n",
    "    return 'false'\n",
    "   \n",
    "# Driver program \n",
    "if __name__ == \"__main__\": \n",
    "    input = 'engineers rock' \n",
    "    pattern = 'egr'\n",
    "    print (checkOrder(input,pattern) )\n"
   ]
  },
  {
   "cell_type": "code",
   "execution_count": 53,
   "metadata": {},
   "outputs": [
    {
     "name": "stdout",
     "output_type": "stream",
     "text": [
      "The list printed sorting by age: \n",
      "[{'name': 'Nikhil', 'age': 19}, {'name': 'Nandini', 'age': 20}, {'name': 'Manjeet', 'age': 20}]\n",
      "\n",
      "The list printed sorting by age and name: \n",
      "[{'name': 'Nikhil', 'age': 19}, {'name': 'Manjeet', 'age': 20}, {'name': 'Nandini', 'age': 20}]\n",
      "\n",
      "The list printed sorting by age in descending order: \n",
      "[{'name': 'Nandini', 'age': 20}, {'name': 'Manjeet', 'age': 20}, {'name': 'Nikhil', 'age': 19}]\n"
     ]
    }
   ],
   "source": [
    "# Python code demonstrate the working of sorted() \n",
    "# and itemgetter \n",
    "  \n",
    "# importing \"operator\" for implementing itemgetter \n",
    "from operator import itemgetter \n",
    "  \n",
    "# Initializing list of dictionaries \n",
    "lis = [{ \"name\" : \"Nandini\", \"age\" : 20},  \n",
    "{ \"name\" : \"Manjeet\", \"age\" : 20 }, \n",
    "{ \"name\" : \"Nikhil\" , \"age\" : 19 }] \n",
    "  \n",
    "# using sorted and itemgetter to print list sorted by age  \n",
    "print (\"The list printed sorting by age: \")\n",
    "print( sorted(lis, key=itemgetter('age'))) \n",
    "  \n",
    "print (\"\\r\") \n",
    "  \n",
    "# using sorted and itemgetter to print list sorted by both age and name \n",
    "# notice that \"Manjeet\" now comes before \"Nandini\" \n",
    "print( \"The list printed sorting by age and name: \")\n",
    "print( sorted(lis, key=itemgetter('age', 'name')) )\n",
    "  \n",
    "print (\"\\r\") \n",
    "  \n",
    "# using sorted and itemgetter to print list sorted by age in descending order \n",
    "print (\"The list printed sorting by age in descending order: \")\n",
    "print( sorted(lis, key=itemgetter('age'),reverse = True) )\n"
   ]
  },
  {
   "cell_type": "code",
   "execution_count": 60,
   "metadata": {},
   "outputs": [
    {
     "ename": "TypeError",
     "evalue": "'dict' object is not callable",
     "output_type": "error",
     "traceback": [
      "\u001b[1;31m---------------------------------------------------------------------------\u001b[0m",
      "\u001b[1;31mTypeError\u001b[0m                                 Traceback (most recent call last)",
      "\u001b[1;32m<ipython-input-60-54c7c6446a5e>\u001b[0m in \u001b[0;36m<module>\u001b[1;34m\u001b[0m\n\u001b[0;32m     26\u001b[0m     \u001b[0mar2\u001b[0m \u001b[1;33m=\u001b[0m \u001b[1;33m[\u001b[0m\u001b[1;36m6\u001b[0m\u001b[1;33m,\u001b[0m \u001b[1;36m7\u001b[0m\u001b[1;33m,\u001b[0m \u001b[1;36m20\u001b[0m\u001b[1;33m,\u001b[0m \u001b[1;36m80\u001b[0m\u001b[1;33m,\u001b[0m \u001b[1;36m100\u001b[0m\u001b[1;33m]\u001b[0m\u001b[1;33m\u001b[0m\u001b[1;33m\u001b[0m\u001b[0m\n\u001b[0;32m     27\u001b[0m     \u001b[0mar3\u001b[0m \u001b[1;33m=\u001b[0m \u001b[1;33m[\u001b[0m\u001b[1;36m3\u001b[0m\u001b[1;33m,\u001b[0m \u001b[1;36m4\u001b[0m\u001b[1;33m,\u001b[0m \u001b[1;36m15\u001b[0m\u001b[1;33m,\u001b[0m \u001b[1;36m20\u001b[0m\u001b[1;33m,\u001b[0m \u001b[1;36m30\u001b[0m\u001b[1;33m,\u001b[0m \u001b[1;36m70\u001b[0m\u001b[1;33m,\u001b[0m \u001b[1;36m80\u001b[0m\u001b[1;33m,\u001b[0m \u001b[1;36m120\u001b[0m\u001b[1;33m]\u001b[0m\u001b[1;33m\u001b[0m\u001b[1;33m\u001b[0m\u001b[0m\n\u001b[1;32m---> 28\u001b[1;33m     \u001b[0mcommonElement\u001b[0m\u001b[1;33m(\u001b[0m\u001b[0mar1\u001b[0m\u001b[1;33m,\u001b[0m\u001b[0mar2\u001b[0m\u001b[1;33m,\u001b[0m\u001b[0mar3\u001b[0m\u001b[1;33m)\u001b[0m\u001b[1;33m\u001b[0m\u001b[1;33m\u001b[0m\u001b[0m\n\u001b[0m",
      "\u001b[1;32m<ipython-input-60-54c7c6446a5e>\u001b[0m in \u001b[0;36mcommonElement\u001b[1;34m(ar1, ar2, ar3)\u001b[0m\n\u001b[0;32m     10\u001b[0m \u001b[1;33m\u001b[0m\u001b[0m\n\u001b[0;32m     11\u001b[0m      \u001b[1;31m# perform intersection operation\u001b[0m\u001b[1;33m\u001b[0m\u001b[1;33m\u001b[0m\u001b[1;33m\u001b[0m\u001b[0m\n\u001b[1;32m---> 12\u001b[1;33m      \u001b[0mresultDict\u001b[0m \u001b[1;33m=\u001b[0m \u001b[0mdict\u001b[0m\u001b[1;33m(\u001b[0m\u001b[0mar1\u001b[0m\u001b[1;33m.\u001b[0m\u001b[0mitems\u001b[0m\u001b[1;33m(\u001b[0m\u001b[1;33m)\u001b[0m \u001b[1;33m&\u001b[0m \u001b[0mar2\u001b[0m\u001b[1;33m.\u001b[0m\u001b[0mitems\u001b[0m\u001b[1;33m(\u001b[0m\u001b[1;33m)\u001b[0m \u001b[1;33m&\u001b[0m \u001b[0mar3\u001b[0m\u001b[1;33m.\u001b[0m\u001b[0mitems\u001b[0m\u001b[1;33m(\u001b[0m\u001b[1;33m)\u001b[0m\u001b[1;33m)\u001b[0m\u001b[1;33m\u001b[0m\u001b[1;33m\u001b[0m\u001b[0m\n\u001b[0m\u001b[0;32m     13\u001b[0m      \u001b[0mcommon\u001b[0m \u001b[1;33m=\u001b[0m \u001b[1;33m[\u001b[0m\u001b[1;33m]\u001b[0m\u001b[1;33m\u001b[0m\u001b[1;33m\u001b[0m\u001b[0m\n\u001b[0;32m     14\u001b[0m \u001b[1;33m\u001b[0m\u001b[0m\n",
      "\u001b[1;31mTypeError\u001b[0m: 'dict' object is not callable"
     ]
    }
   ],
   "source": [
    "# Function to find common elements in three \n",
    "# sorted arrays \n",
    "from collections import Counter \n",
    "  \n",
    "def commonElement(ar1,ar2,ar3):\n",
    "     # first convert lists into dictionary \n",
    "     ar1 = Counter(ar1)\n",
    "     ar2 = Counter(ar2)\n",
    "     ar3 = Counter(ar3)\n",
    "     \n",
    "     # perform intersection operation\n",
    "     resultDict = dict(ar1.items() & ar2.items() & ar3.items()) \n",
    "     common = [] \n",
    "      \n",
    "     # iterate through resultant dictionary \n",
    "     # and collect common elements \n",
    "     for (key,val) in resultDict.items(): \n",
    "          for i in range(0,val): \n",
    "               common.append(key) \n",
    "  \n",
    "     print(common)\n",
    "  \n",
    "# Driver program \n",
    "if __name__ == \"__main__\": \n",
    "    ar1 = [1, 5, 10, 20, 40, 80] \n",
    "    ar2 = [6, 7, 20, 80, 100] \n",
    "    ar3 = [3, 4, 15, 20, 30, 70, 80, 120] \n",
    "    commonElement(ar1,ar2,ar3) \n"
   ]
  },
  {
   "cell_type": "code",
   "execution_count": 68,
   "metadata": {},
   "outputs": [
    {
     "ename": "AttributeError",
     "evalue": "'Counter' object has no attribute 'iteritems'",
     "output_type": "error",
     "traceback": [
      "\u001b[1;31m---------------------------------------------------------------------------\u001b[0m",
      "\u001b[1;31mAttributeError\u001b[0m                            Traceback (most recent call last)",
      "\u001b[1;32m<ipython-input-68-0660fc84c1e8>\u001b[0m in \u001b[0;36m<module>\u001b[1;34m\u001b[0m\n\u001b[0;32m     39\u001b[0m     input =['john','johnny','jackie','johnny','john','jackie','jamie','jamie', \n\u001b[0;32m     40\u001b[0m 'john','johnny','jamie','johnny','john'] \n\u001b[1;32m---> 41\u001b[1;33m     \u001b[0mwinner\u001b[0m\u001b[1;33m(\u001b[0m\u001b[0minput\u001b[0m\u001b[1;33m)\u001b[0m\u001b[1;33m\u001b[0m\u001b[1;33m\u001b[0m\u001b[0m\n\u001b[0m",
      "\u001b[1;32m<ipython-input-68-0660fc84c1e8>\u001b[0m in \u001b[0;36mwinner\u001b[1;34m(input)\u001b[0m\n\u001b[0;32m     21\u001b[0m           \u001b[0mdict\u001b[0m\u001b[1;33m[\u001b[0m\u001b[0mvalue\u001b[0m\u001b[1;33m]\u001b[0m \u001b[1;33m=\u001b[0m \u001b[1;33m[\u001b[0m\u001b[1;33m]\u001b[0m\u001b[1;33m\u001b[0m\u001b[1;33m\u001b[0m\u001b[0m\n\u001b[0;32m     22\u001b[0m \u001b[1;33m\u001b[0m\u001b[0m\n\u001b[1;32m---> 23\u001b[1;33m      \u001b[1;32mfor\u001b[0m \u001b[1;33m(\u001b[0m\u001b[0mkey\u001b[0m\u001b[1;33m,\u001b[0m\u001b[0mvalue\u001b[0m\u001b[1;33m)\u001b[0m \u001b[1;32min\u001b[0m \u001b[0mvotes\u001b[0m\u001b[1;33m.\u001b[0m\u001b[0miteritems\u001b[0m\u001b[1;33m(\u001b[0m\u001b[1;33m)\u001b[0m\u001b[1;33m:\u001b[0m\u001b[1;33m\u001b[0m\u001b[1;33m\u001b[0m\u001b[0m\n\u001b[0m\u001b[0;32m     24\u001b[0m           \u001b[0mdict\u001b[0m\u001b[1;33m[\u001b[0m\u001b[0mvalue\u001b[0m\u001b[1;33m]\u001b[0m\u001b[1;33m.\u001b[0m\u001b[0mappend\u001b[0m\u001b[1;33m(\u001b[0m\u001b[0mkey\u001b[0m\u001b[1;33m)\u001b[0m\u001b[1;33m\u001b[0m\u001b[1;33m\u001b[0m\u001b[0m\n\u001b[0;32m     25\u001b[0m \u001b[1;33m\u001b[0m\u001b[0m\n",
      "\u001b[1;31mAttributeError\u001b[0m: 'Counter' object has no attribute 'iteritems'"
     ]
    }
   ],
   "source": [
    "# Function to find winner of an election where votes \n",
    "# are represented as candidate names \n",
    "from collections import Counter \n",
    "  \n",
    "def winner(input): \n",
    "  \n",
    "     # convert list of candidates into dictionary \n",
    "     # output will be likes candidates = {'A':2, 'B':4} \n",
    "     votes = Counter(input) \n",
    "       \n",
    "     # create another dictionary and it's key will \n",
    "     # be count of votes values will be name of  \n",
    "     # candidates \n",
    "     dict = {} \n",
    "  \n",
    "     for value in votes.values(): \n",
    "  \n",
    "          # initialize empty list to each key to  \n",
    "          # insert candidate names having same  \n",
    "          # number of votes  \n",
    "          dict[value] = [] \n",
    "  \n",
    "     for (key,value) in votes.iteritems(): \n",
    "          dict[value].append(key) \n",
    "  \n",
    "     # sort keys in descending order to get maximum  \n",
    "     # value of votes \n",
    "     maxVote = sorted(dict.keys(),reverse=True)[0] \n",
    "  \n",
    "     # check if more than 1 candidates have same  \n",
    "     # number of votes. If yes, then sort the list \n",
    "     # first and print first element \n",
    "     if len(dict[maxVote])>1: \n",
    "         print( sorted(dict[maxVote])[0] )\n",
    "     else: \n",
    "         print( dict[maxVote][0])\n",
    "# Driver program \n",
    "if __name__ == \"__main__\": \n",
    "    input =['john','johnny','jackie','johnny','john','jackie','jamie','jamie', \n",
    "'john','johnny','jamie','johnny','john'] \n",
    "    winner(input) \n"
   ]
  },
  {
   "cell_type": "code",
   "execution_count": null,
   "metadata": {},
   "outputs": [],
   "source": []
  }
 ],
 "metadata": {
  "kernelspec": {
   "display_name": "Python 3",
   "language": "python",
   "name": "python3"
  },
  "language_info": {
   "codemirror_mode": {
    "name": "ipython",
    "version": 3
   },
   "file_extension": ".py",
   "mimetype": "text/x-python",
   "name": "python",
   "nbconvert_exporter": "python",
   "pygments_lexer": "ipython3",
   "version": "3.7.3"
  }
 },
 "nbformat": 4,
 "nbformat_minor": 2
}
