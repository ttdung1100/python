{
 "cells": [
  {
   "cell_type": "code",
   "execution_count": 22,
   "metadata": {},
   "outputs": [
    {
     "name": "stdout",
     "output_type": "stream",
     "text": [
      "y: [1.0000000465]\n"
     ]
    }
   ],
   "source": [
    "m = GEKKO()           # create GEKKO model\n",
    "y = m.Var(value=2)    # define new variable, initial value=2\n",
    "m.Equation(y**2==1)   # define new equation\n",
    "m.options.SOLVER=1    # change solver (1=APOPT,3=IPOPT)\n",
    "m.solve(disp=False)   # solve locally (remote=False)\n",
    "print('y: ' + str(y.value)) # print variable value\n"
   ]
  },
  {
   "cell_type": "code",
   "execution_count": 18,
   "metadata": {},
   "outputs": [
    {
     "name": "stdout",
     "output_type": "stream",
     "text": [
      "[0.5] [-0.25]\n"
     ]
    }
   ],
   "source": [
    "from gekko import GEKKO\n",
    "m = GEKKO()            # create GEKKO model\n",
    "x = m.Var()            # define new variable, default=0\n",
    "y = m.Var()            # define new variable, default=0\n",
    "m.Equations([3*x+2*y==1, x+2*y==0])  # equations\n",
    "m.solve(disp=False)    # solve\n",
    "print(x.value,y.value) # print solution\n"
   ]
  },
  {
   "cell_type": "code",
   "execution_count": 23,
   "metadata": {},
   "outputs": [],
   "source": [
    "#install and import GEKKO\n",
    "#other packages needed in this notebook\n",
    "import numpy as np\n",
    "import matplotlib.pyplot as plt\n",
    "%matplotlib inline\n"
   ]
  },
  {
   "cell_type": "code",
   "execution_count": 24,
   "metadata": {},
   "outputs": [
    {
     "name": "stderr",
     "output_type": "stream",
     "text": [
      "No handles with labels found to put in legend.\n"
     ]
    },
    {
     "data": {
      "text/plain": [
       "<matplotlib.legend.Legend at 0x28d3c5f7860>"
      ]
     },
     "execution_count": 24,
     "metadata": {},
     "output_type": "execute_result"
    },
    {
     "data": {
      "image/png": "[encoded data removed]",
      "text/plain": [
       "<Figure size 432x288 with 1 Axes>"
      ]
     },
     "metadata": {
      "needs_background": "light"
     },
     "output_type": "display_data"
    }
   ],
   "source": [
    "xm = np.array([0,1,2,3,4,5])\n",
    "ym = np.array([0.1,0.2,0.3,0.5,1.0,0.9])\n",
    "\n",
    "# create plot\n",
    "plt.plot(xm,ym,'bo')\n",
    "plt.legend(loc='best')\n"
   ]
  },
  {
   "cell_type": "code",
   "execution_count": 19,
   "metadata": {},
   "outputs": [
    {
     "data": {
      "text/plain": [
       "Text(0, 0.5, 'y')"
      ]
     },
     "execution_count": 19,
     "metadata": {},
     "output_type": "execute_result"
    },
    {
     "data": {
      "image/png": "[encoded data removed]",
      "text/plain": [
       "<Figure size 432x288 with 1 Axes>"
      ]
     },
     "metadata": {
      "needs_background": "light"
     },
     "output_type": "display_data"
    }
   ],
   "source": [
    "xm = np.array([0,1,2,3,4,5])\n",
    "ym = np.array([0.1,0.2,0.3,0.5,0.8,2.0])\n",
    "\n",
    "# plot data\n",
    "plt.plot(xm,ym,'ko',label='Data')\n",
    "plt.legend(loc='best')\n",
    "plt.xlabel('x')\n",
    "plt.ylabel('y')\n"
   ]
  },
  {
   "cell_type": "code",
   "execution_count": 20,
   "metadata": {},
   "outputs": [
    {
     "data": {
      "text/plain": [
       "<matplotlib.legend.Legend at 0x28d3c5b6320>"
      ]
     },
     "execution_count": 20,
     "metadata": {},
     "output_type": "execute_result"
    },
    {
     "data": {
      "image/png": "[encoded data removed]",
      "text/plain": [
       "<Figure size 432x288 with 1 Axes>"
      ]
     },
     "metadata": {
      "needs_background": "light"
     },
     "output_type": "display_data"
    }
   ],
   "source": [
    "# measurements\n",
    "xm = np.array([0,1,2,3,4,5])\n",
    "ym = np.array([0.1,0.2,0.3,0.5,0.8,2.0])\n",
    "\n",
    "plt.plot(xm,ym,'bo',label='Data')\n",
    "plt.legend()\n"
   ]
  },
  {
   "cell_type": "code",
   "execution_count": 25,
   "metadata": {},
   "outputs": [
    {
     "name": "stdout",
     "output_type": "stream",
     "text": [
      "[0.5] [-0.25]\n"
     ]
    }
   ],
   "source": [
    "m = GEKKO()            # create GEKKO model\n",
    "x = m.Var()            # define new variable, default=0\n",
    "y = m.Var()            # define new variable, default=0\n",
    "m.Equations([3*x+2*y==1, x+2*y==0])  # equations\n",
    "m.solve(disp=False)    # solve\n",
    "print(x.value,y.value) # print solution\n"
   ]
  },
  {
   "cell_type": "code",
   "execution_count": 26,
   "metadata": {},
   "outputs": [
    {
     "name": "stdout",
     "output_type": "stream",
     "text": [
      "[-0.89442724267, 0.44721362133]\n"
     ]
    }
   ],
   "source": [
    "m = GEKKO()             # create GEKKO model\n",
    "x = m.Var(value=0)      # define new variable, initial value=0\n",
    "y = m.Var(value=1)      # define new variable, initial value=1\n",
    "m.Equations([x + 2*y==0, x**2+y**2==1]) # equations\n",
    "m.solve(disp=False)     # solve\n",
    "print([x.value[0],y.value[0]]) # print solution\n"
   ]
  },
  {
   "cell_type": "code",
   "execution_count": 27,
   "metadata": {},
   "outputs": [
    {
     "data": {
      "text/plain": [
       "<matplotlib.legend.Legend at 0x28d3c6a8cc0>"
      ]
     },
     "execution_count": 27,
     "metadata": {},
     "output_type": "execute_result"
    },
    {
     "data": {
      "image/png": "[encoded data removed]",
      "text/plain": [
       "<Figure size 432x288 with 1 Axes>"
      ]
     },
     "metadata": {
      "needs_background": "light"
     },
     "output_type": "display_data"
    }
   ],
   "source": [
    "import numpy as np\n",
    "import matplotlib.pyplot as plt\n",
    "%matplotlib inline\n",
    "\n",
    "xm = np.array([0,1,2,3,4,5])\n",
    "ym = np.array([0.1,0.2,0.3,0.5,1.0,0.9])\n",
    "\n",
    "m = GEKKO()             # create GEKKO model\n",
    "m.options.IMODE = 2     # solution mode\n",
    "x = m.Param(value=np.linspace(-1,6)) # prediction points\n",
    "y = m.Var()             # prediction results\n",
    "m.cspline(x, y, xm, ym) # cubic spline\n",
    "m.solve(disp=False)     # solve\n",
    "\n",
    "# create plot\n",
    "plt.plot(xm,ym,'bo')\n",
    "plt.plot(x.value,y.value,'r--',label='cubic spline')\n",
    "plt.legend(loc='best')\n"
   ]
  },
  {
   "cell_type": "code",
   "execution_count": 28,
   "metadata": {},
   "outputs": [
    {
     "data": {
      "text/plain": [
       "Text(0, 0.5, 'y')"
      ]
     },
     "execution_count": 28,
     "metadata": {},
     "output_type": "execute_result"
    },
    {
     "data": {
      "image/png": "[encoded data removed]",
      "text/plain": [
       "<Figure size 432x288 with 1 Axes>"
      ]
     },
     "metadata": {
      "needs_background": "light"
     },
     "output_type": "display_data"
    }
   ],
   "source": [
    "import numpy as np\n",
    "import matplotlib.pyplot as plt\n",
    "%matplotlib inline\n",
    "\n",
    "xm = np.array([0,1,2,3,4,5])\n",
    "ym = np.array([0.1,0.2,0.3,0.5,0.8,2.0])\n",
    "\n",
    "#### Solution\n",
    "m = GEKKO()\n",
    "m.options.IMODE=2\n",
    "# coefficients\n",
    "c = [m.FV(value=0) for i in range(4)]\n",
    "x = m.Param(value=xm)\n",
    "y = m.CV(value=ym)\n",
    "y.FSTATUS = 1\n",
    "# polynomial model\n",
    "m.Equation(y==c[0]+c[1]*x+c[2]*x**2+c[3]*x**3)\n",
    "\n",
    "# linear regression\n",
    "c[0].STATUS=1\n",
    "c[1].STATUS=1\n",
    "m.solve(disp=False)\n",
    "p1 = [c[1].value[0],c[0].value[0]]\n",
    "\n",
    "# quadratic\n",
    "c[2].STATUS=1\n",
    "m.solve(disp=False)\n",
    "p2 = [c[2].value[0],c[1].value[0],c[0].value[0]]\n",
    "\n",
    "# cubic\n",
    "c[3].STATUS=1\n",
    "m.solve(disp=False)\n",
    "p3 = [c[3].value[0],c[2].value[0],c[1].value[0],c[0].value[0]]\n",
    "\n",
    "# plot fit\n",
    "plt.plot(xm,ym,'ko',markersize=10)\n",
    "xp = np.linspace(0,5,100)\n",
    "plt.plot(xp,np.polyval(p1,xp),'b--',linewidth=2)\n",
    "plt.plot(xp,np.polyval(p2,xp),'r--',linewidth=3)\n",
    "plt.plot(xp,np.polyval(p3,xp),'g:',linewidth=2)\n",
    "plt.legend(['Data','Linear','Quadratic','Cubic'],loc='best')\n",
    "plt.xlabel('x')\n",
    "plt.ylabel('y')\n"
   ]
  },
  {
   "cell_type": "code",
   "execution_count": 29,
   "metadata": {},
   "outputs": [
    {
     "name": "stdout",
     "output_type": "stream",
     "text": [
      "Optimized, a = 0.59909644847\n"
     ]
    },
    {
     "data": {
      "text/plain": [
       "[<matplotlib.lines.Line2D at 0x28d3c616cc0>]"
      ]
     },
     "execution_count": 29,
     "metadata": {},
     "output_type": "execute_result"
    },
    {
     "data": {
      "image/png": "[encoded data removed]",
      "text/plain": [
       "<Figure size 432x288 with 1 Axes>"
      ]
     },
     "metadata": {
      "needs_background": "light"
     },
     "output_type": "display_data"
    }
   ],
   "source": [
    "import numpy as np\n",
    "import matplotlib.pyplot as plt\n",
    "%matplotlib inline\n",
    "\n",
    "# measurements\n",
    "xm = np.array([0,1,2,3,4,5])\n",
    "ym = np.array([0.1,0.2,0.3,0.5,0.8,2.0])\n",
    "\n",
    "# GEKKO model\n",
    "m = GEKKO()\n",
    "\n",
    "# parameters\n",
    "x = m.Param(value=xm)\n",
    "a = m.FV()\n",
    "a.STATUS=1\n",
    "\n",
    "# variables\n",
    "y = m.CV(value=ym)\n",
    "y.FSTATUS=1\n",
    "\n",
    "# regression equation\n",
    "m.Equation(y==0.1*m.exp(a*x))\n",
    "\n",
    "# regression mode\n",
    "m.options.IMODE = 2\n",
    "\n",
    "# optimize\n",
    "m.solve(disp=False)\n",
    "\n",
    "# print parameters\n",
    "print('Optimized, a = ' + str(a.value[0]))\n",
    "\n",
    "plt.plot(xm,ym,'bo')\n",
    "plt.plot(xm,y.value,'r-')\n"
   ]
  },
  {
   "cell_type": "code",
   "execution_count": 30,
   "metadata": {},
   "outputs": [
    {
     "name": "stdout",
     "output_type": "stream",
     "text": [
      "w1[0]: 0.7426893948\n",
      "w1[1]: 0.92510316793\n",
      "w2a[0]: -0.95242510918\n",
      "w2b[0]: 0.40841790313\n",
      "w2a[1]: 0.72628704132\n",
      "w2b[1]: 0.20024305921\n",
      "w2a[2]: -0.04516559025\n",
      "w2b[2]: 0.42558464345\n",
      "w2a[3]: -2.5981522329\n",
      "w2b[3]: 0.2758312857\n",
      "w2a[4]: 1.0412993589\n",
      "w2b[4]: 0.33921781165\n",
      "w2a[5]: -1.9496022264\n",
      "w2b[5]: 0.34277444998\n",
      "w3[0]: -6.137506162\n",
      "w3[1]: -6.1374933707\n",
      "w3[2]: -3.2217078674\n",
      "w3[3]: -3.2207536792\n",
      "w3[4]: 6.077019293\n",
      "w3[5]: 6.0769469066\n"
     ]
    },
    {
     "data": {
      "text/plain": [
       "[<matplotlib.lines.Line2D at 0x28d3c802f28>]"
      ]
     },
     "execution_count": 30,
     "metadata": {},
     "output_type": "execute_result"
    },
    {
     "data": {
      "image/png": "[encoded data removed]",
      "text/plain": [
       "<Figure size 432x288 with 1 Axes>"
      ]
     },
     "metadata": {
      "needs_background": "light"
     },
     "output_type": "display_data"
    }
   ],
   "source": [
    "import numpy as np\n",
    "import matplotlib.pyplot as plt\n",
    "%matplotlib inline\n",
    "from gekko import GEKKO\n",
    "\n",
    "# generate training data\n",
    "x = np.linspace(0.0,2*np.pi,20)\n",
    "y = np.sin(x)\n",
    "\n",
    "# option for fitting function\n",
    "select = False # True / False\n",
    "if select:\n",
    "    # Size with cosine function\n",
    "    nin = 1  # inputs\n",
    "    n1 = 1   # hidden layer 1 (linear)\n",
    "    n2 = 1   # hidden layer 2 (nonlinear)\n",
    "    n3 = 1   # hidden layer 3 (linear)\n",
    "    nout = 1 # outputs\n",
    "else:\n",
    "    # Size with hyperbolic tangent function\n",
    "    nin = 1  # inputs\n",
    "    n1 = 2   # hidden layer 1 (linear)\n",
    "    n2 = 3   # hidden layer 2 (nonlinear)\n",
    "    n3 = 2   # hidden layer 3 (linear)\n",
    "    nout = 1 # outputs\n",
    "\n",
    "# Initialize gekko\n",
    "train = GEKKO() \n",
    "test = GEKKO()\n",
    "\n",
    "model = [train,test]\n",
    "\n",
    "for m in model:\n",
    "    # input(s)\n",
    "    m.inpt = m.Param()\n",
    "\n",
    "    # layer 1\n",
    "    m.w1 = m.Array(m.FV, (nin,n1))\n",
    "    m.l1 = [m.Intermediate(m.w1[0,i]*m.inpt) for i in range(n1)]\n",
    "\n",
    "    # layer 2\n",
    "    m.w2a = m.Array(m.FV, (n1,n2))\n",
    "    m.w2b = m.Array(m.FV, (n1,n2))\n",
    "    if select:\n",
    "        m.l2 = [m.Intermediate(sum([m.cos(m.w2a[j,i]+m.w2b[j,i]*m.l1[j]) \\\n",
    "                                for j in range(n1)])) for i in range(n2)]\n",
    "    else:\n",
    "        m.l2 = [m.Intermediate(sum([m.tanh(m.w2a[j,i]+m.w2b[j,i]*m.l1[j]) \\\n",
    "                                for j in range(n1)])) for i in range(n2)]\n",
    "        \n",
    "    # layer 3\n",
    "    m.w3 = m.Array(m.FV, (n2,n3))\n",
    "    m.l3 = [m.Intermediate(sum([m.w3[j,i]*m.l2[j] \\\n",
    "            for j in range(n2)])) for i in range(n3)]\n",
    "\n",
    "    # output(s)\n",
    "    m.outpt = m.CV()\n",
    "    m.Equation(m.outpt==sum([m.l3[i] for i in range(n3)]))\n",
    "\n",
    "    # flatten matrices\n",
    "    m.w1 = m.w1.flatten()\n",
    "    m.w2a = m.w2a.flatten()\n",
    "    m.w2b = m.w2b.flatten()\n",
    "    m.w3 = m.w3.flatten()\n",
    "    \n",
    "# Fit parameter weights\n",
    "m = train\n",
    "m.inpt.value=x\n",
    "m.outpt.value=y\n",
    "m.outpt.FSTATUS = 1\n",
    "for i in range(len(m.w1)):\n",
    "    m.w1[i].FSTATUS=1\n",
    "    m.w1[i].STATUS=1\n",
    "    m.w1[i].MEAS=1.0\n",
    "for i in range(len(m.w2a)):\n",
    "    m.w2a[i].STATUS=1\n",
    "    m.w2b[i].STATUS=1\n",
    "    m.w2a[i].FSTATUS=1\n",
    "    m.w2b[i].FSTATUS=1\n",
    "    m.w2a[i].MEAS=1.0\n",
    "    m.w2b[i].MEAS=0.5\n",
    "for i in range(len(m.w3)):\n",
    "    m.w3[i].FSTATUS=1\n",
    "    m.w3[i].STATUS=1\n",
    "    m.w3[i].MEAS=1.0\n",
    "m.options.IMODE = 2\n",
    "m.options.SOLVER = 3\n",
    "m.options.EV_TYPE = 2\n",
    "m.solve(disp=False)\n",
    "\n",
    "# Test sample points\n",
    "m = test\n",
    "for i in range(len(m.w1)):\n",
    "    m.w1[i].MEAS=train.w1[i].NEWVAL\n",
    "    m.w1[i].FSTATUS = 1\n",
    "    print('w1['+str(i)+']: '+str(m.w1[i].MEAS))\n",
    "for i in range(len(m.w2a)):\n",
    "    m.w2a[i].MEAS=train.w2a[i].NEWVAL\n",
    "    m.w2b[i].MEAS=train.w2b[i].NEWVAL\n",
    "    m.w2a[i].FSTATUS = 1\n",
    "    m.w2b[i].FSTATUS = 1\n",
    "    print('w2a['+str(i)+']: '+str(m.w2a[i].MEAS))\n",
    "    print('w2b['+str(i)+']: '+str(m.w2b[i].MEAS))\n",
    "for i in range(len(m.w3)):\n",
    "    m.w3[i].MEAS=train.w3[i].NEWVAL\n",
    "    m.w3[i].FSTATUS = 1\n",
    "    print('w3['+str(i)+']: '+str(m.w3[i].MEAS))\n",
    "m.inpt.value=np.linspace(-2*np.pi,4*np.pi,100)\n",
    "m.options.IMODE = 2\n",
    "m.options.SOLVER = 3\n",
    "m.solve(disp=False)\n",
    "\n",
    "plt.figure()\n",
    "plt.plot(x,y,'bo')\n",
    "plt.plot(test.inpt.value,test.outpt.value,'r-')\n"
   ]
  },
  {
   "cell_type": "code",
   "execution_count": 31,
   "metadata": {},
   "outputs": [
    {
     "data": {
      "text/plain": [
       "Text(0, 0.5, 'y')"
      ]
     },
     "execution_count": 31,
     "metadata": {},
     "output_type": "execute_result"
    },
    {
     "data": {
      "image/png": "[encoded data removed]",
      "text/plain": [
       "<Figure size 432x288 with 1 Axes>"
      ]
     },
     "metadata": {
      "needs_background": "light"
     },
     "output_type": "display_data"
    }
   ],
   "source": [
    "from gekko import GEKKO\n",
    "import numpy as np\n",
    "import matplotlib.pyplot as plt\n",
    "%matplotlib inline\n",
    "\n",
    "m = GEKKO()\n",
    "m.time = np.linspace(0,20,100)\n",
    "k = 10\n",
    "y = m.Var(value=5.0)\n",
    "t = m.Param(value=m.time)\n",
    "m.Equation(k*y.dt()==-t*y)\n",
    "m.options.IMODE = 4\n",
    "m.solve(disp=False)\n",
    "\n",
    "plt.plot(m.time,y.value)\n",
    "plt.xlabel('time')\n",
    "plt.ylabel('y')\n"
   ]
  },
  {
   "cell_type": "code",
   "execution_count": 32,
   "metadata": {},
   "outputs": [
    {
     "name": "stdout",
     "output_type": "stream",
     "text": [
      "Results\n",
      "x1: [1.000000057]\n",
      "x2: [4.74299963]\n",
      "x3: [3.8211500283]\n",
      "x4: [1.3794081795]\n",
      "Objective: 17.014017127\n"
     ]
    }
   ],
   "source": [
    "from gekko import GEKKO\n",
    "m = GEKKO() # Initialize gekko\n",
    "# Use IPOPT solver (default)\n",
    "m.options.SOLVER = 3\n",
    "# Change to parallel linear solver\n",
    "m.solver_options = ['linear_solver ma97']\n",
    "# Initialize variables\n",
    "x1 = m.Var(value=1,lb=1,ub=5)\n",
    "x2 = m.Var(value=5,lb=1,ub=5)\n",
    "x3 = m.Var(value=5,lb=1,ub=5)\n",
    "x4 = m.Var(value=1,lb=1,ub=5)\n",
    "# Equations\n",
    "m.Equation(x1*x2*x3*x4>=25)\n",
    "m.Equation(x1**2+x2**2+x3**2+x4**2==40)\n",
    "m.Obj(x1*x4*(x1+x2+x3)+x3) # Objective\n",
    "m.options.IMODE = 3 # Steady state optimization\n",
    "m.solve(disp=False) # Solve\n",
    "print('Results')\n",
    "print('x1: ' + str(x1.value))\n",
    "print('x2: ' + str(x2.value))\n",
    "print('x3: ' + str(x3.value))\n",
    "print('x4: ' + str(x4.value))\n",
    "print('Objective: ' + str(m.options.objfcnval))\n"
   ]
  },
  {
   "cell_type": "code",
   "execution_count": 33,
   "metadata": {},
   "outputs": [
    {
     "name": "stdout",
     "output_type": "stream",
     "text": [
      "Results\n",
      "x1: [1.3589086474]\n",
      "x2: [4.5992789966]\n",
      "x3: [4.0]\n",
      "x4: [1.0]\n",
      "Objective: 17.532267301\n"
     ]
    }
   ],
   "source": [
    "from gekko import GEKKO\n",
    "m = GEKKO() # Initialize gekko\n",
    "m.options.SOLVER=1  # APOPT is an MINLP solver\n",
    "\n",
    "# optional solver settings with APOPT\n",
    "m.solver_options = ['minlp_maximum_iterations 500', \\\n",
    "                    # minlp iterations with integer solution\n",
    "                    'minlp_max_iter_with_int_sol 10', \\\n",
    "                    # treat minlp as nlp\n",
    "                    'minlp_as_nlp 0', \\\n",
    "                    # nlp sub-problem max iterations\n",
    "                    'nlp_maximum_iterations 50', \\\n",
    "                    # 1 = depth first, 2 = breadth first\n",
    "                    'minlp_branch_method 1', \\\n",
    "                    # maximum deviation from whole number\n",
    "                    'minlp_integer_tol 0.05', \\\n",
    "                    # covergence tolerance\n",
    "                    'minlp_gap_tol 0.01']\n",
    "\n",
    "# Initialize variables\n",
    "x1 = m.Var(value=1,lb=1,ub=5)\n",
    "x2 = m.Var(value=5,lb=1,ub=5)\n",
    "# Integer constraints for x3 and x4\n",
    "x3 = m.Var(value=5,lb=1,ub=5,integer=True)\n",
    "x4 = m.Var(value=1,lb=1,ub=5,integer=True)\n",
    "# Equations\n",
    "m.Equation(x1*x2*x3*x4>=25)\n",
    "m.Equation(x1**2+x2**2+x3**2+x4**2==40)\n",
    "m.Obj(x1*x4*(x1+x2+x3)+x3) # Objective\n",
    "m.solve(disp=False) # Solve\n",
    "print('Results')\n",
    "print('x1: ' + str(x1.value))\n",
    "print('x2: ' + str(x2.value))\n",
    "print('x3: ' + str(x3.value))\n",
    "print('x4: ' + str(x4.value))\n",
    "print('Objective: ' + str(m.options.objfcnval))\n"
   ]
  },
  {
   "cell_type": "code",
   "execution_count": 34,
   "metadata": {},
   "outputs": [
    {
     "data": {
      "text/plain": [
       "Text(0, 0.5, 'Value')"
      ]
     },
     "execution_count": 34,
     "metadata": {},
     "output_type": "execute_result"
    },
    {
     "data": {
      "image/png": "[encoded data removed]",
      "text/plain": [
       "<Figure size 432x288 with 1 Axes>"
      ]
     },
     "metadata": {
      "needs_background": "light"
     },
     "output_type": "display_data"
    }
   ],
   "source": [
    "from gekko import GEKKO\n",
    "import numpy as np\n",
    "import matplotlib.pyplot as plt\n",
    "%matplotlib inline\n",
    "\n",
    "m = GEKKO() # initialize gekko\n",
    "nt = 101\n",
    "m.time = np.linspace(0,2,nt)\n",
    "# Variables\n",
    "x1 = m.Var(value=1)\n",
    "x2 = m.Var(value=0)\n",
    "u = m.Var(value=0,lb=-1,ub=1)\n",
    "p = np.zeros(nt) # mark final time point\n",
    "p[-1] = 1.0\n",
    "final = m.Param(value=p)\n",
    "# Equations\n",
    "m.Equation(x1.dt()==u)\n",
    "m.Equation(x2.dt()==0.5*x1**2)\n",
    "m.Obj(x2*final) # Objective function\n",
    "m.options.IMODE = 6 # optimal control mode\n",
    "m.solve(disp=False) # solve\n",
    "plt.figure(1) # plot results\n",
    "plt.plot(m.time,x1.value,'k-',label=r'$x_1$')\n",
    "plt.plot(m.time,x2.value,'b-',label=r'$x_2$')\n",
    "plt.plot(m.time,u.value,'r--',label=r'$u$')\n",
    "plt.legend(loc='best')\n",
    "plt.xlabel('Time')\n",
    "plt.ylabel('Value')\n"
   ]
  },
  {
   "cell_type": "code",
   "execution_count": 35,
   "metadata": {},
   "outputs": [
    {
     "name": "stdout",
     "output_type": "stream",
     "text": [
      "Optimal Profit: 106.90608335\n"
     ]
    },
    {
     "data": {
      "text/plain": [
       "<matplotlib.legend.Legend at 0x28d3d9f7320>"
      ]
     },
     "execution_count": 35,
     "metadata": {},
     "output_type": "execute_result"
    },
    {
     "data": {
      "image/png": "[encoded data removed]",
      "text/plain": [
       "<Figure size 432x288 with 2 Axes>"
      ]
     },
     "metadata": {
      "needs_background": "light"
     },
     "output_type": "display_data"
    }
   ],
   "source": [
    "from gekko import GEKKO\n",
    "import numpy as np\n",
    "import matplotlib.pyplot as plt\n",
    "%matplotlib inline\n",
    "\n",
    "# create GEKKO model\n",
    "m = GEKKO()\n",
    "# time points\n",
    "n=501\n",
    "m.time = np.linspace(0,10,n)\n",
    "# constants\n",
    "E,c,r,k,U_max = 1,17.5,0.71,80.5,20\n",
    "# fishing rate\n",
    "u = m.MV(value=1,lb=0,ub=1)\n",
    "u.STATUS = 1\n",
    "u.DCOST = 0\n",
    "x = m.Var(value=70) # fish population\n",
    "# fish population balance\n",
    "m.Equation(x.dt() == r*x*(1-x/k)-u*U_max)\n",
    "J = m.Var(value=0) # objective (profit)\n",
    "Jf = m.FV() # final objective\n",
    "Jf.STATUS = 1\n",
    "m.Connection(Jf,J,pos2='end')\n",
    "m.Equation(J.dt() == (E-c/x)*u*U_max)\n",
    "m.Obj(-Jf) # maximize profit\n",
    "m.options.IMODE = 6  # optimal control\n",
    "m.options.NODES = 3  # collocation nodes\n",
    "m.options.SOLVER = 3 # solver (IPOPT)\n",
    "m.solve(disp=False) # Solve\n",
    "print('Optimal Profit: ' + str(Jf.value[0]))\n",
    "plt.figure(1) # plot results\n",
    "plt.subplot(2,1,1)\n",
    "plt.plot(m.time,J.value,'r--',label='profit')\n",
    "plt.plot(m.time,x.value,'b-',label='fish')\n",
    "plt.legend()\n",
    "plt.subplot(2,1,2)\n",
    "plt.plot(m.time,u.value,'k--',label='rate')\n",
    "plt.xlabel('Time (yr)')\n",
    "plt.legend()\n"
   ]
  },
  {
   "cell_type": "code",
   "execution_count": 36,
   "metadata": {},
   "outputs": [
    {
     "name": "stdout",
     "output_type": "stream",
     "text": [
      "Final Time: 4.3162556133\n"
     ]
    },
    {
     "data": {
      "text/plain": [
       "Text(0.5, 0, 'Time')"
      ]
     },
     "execution_count": 36,
     "metadata": {},
     "output_type": "execute_result"
    },
    {
     "data": {
      "image/png": "[encoded data removed]",
      "text/plain": [
       "<Figure size 432x288 with 1 Axes>"
      ]
     },
     "metadata": {
      "needs_background": "light"
     },
     "output_type": "display_data"
    }
   ],
   "source": [
    "from gekko import GEKKO\n",
    "import numpy as np\n",
    "import matplotlib.pyplot as plt\n",
    "%matplotlib inline\n",
    "\n",
    "m = GEKKO() # initialize GEKKO\n",
    "nt = 501\n",
    "m.time = np.linspace(0,1,nt)\n",
    "# Variables\n",
    "x1 = m.Var(value=np.pi/2.0)\n",
    "x2 = m.Var(value=4.0)\n",
    "x3 = m.Var(value=0.0)\n",
    "p = np.zeros(nt) # final time = 1\n",
    "p[-1] = 1.0\n",
    "final = m.Param(value=p)\n",
    "# optimize final time\n",
    "tf = m.FV(value=1.0,lb=0.1,ub=100.0)\n",
    "tf.STATUS = 1\n",
    "# control changes every time period\n",
    "u = m.MV(value=0,lb=-2,ub=2)\n",
    "u.STATUS = 1\n",
    "m.Equation(x1.dt()==u*tf)\n",
    "m.Equation(x2.dt()==m.cos(x1)*tf)\n",
    "m.Equation(x3.dt()==m.sin(x1)*tf)\n",
    "m.Equation(x2*final<=0)\n",
    "m.Equation(x3*final<=0)\n",
    "m.Obj(tf)\n",
    "m.options.IMODE = 6\n",
    "m.solve(disp=False)\n",
    "print('Final Time: ' + str(tf.value[0]))\n",
    "tm = np.linspace(0,tf.value[0],nt)\n",
    "plt.figure(1)\n",
    "plt.plot(tm,x1.value,'k-',label=r'$x_1$')\n",
    "plt.plot(tm,x2.value,'b-',label=r'$x_2$')\n",
    "plt.plot(tm,x3.value,'g--',label=r'$x_3$')\n",
    "plt.plot(tm,u.value,'r--',label=r'$u$')\n",
    "plt.legend(loc='best')\n",
    "plt.xlabel('Time')\n"
   ]
  },
  {
   "cell_type": "code",
   "execution_count": 37,
   "metadata": {},
   "outputs": [
    {
     "data": {
      "text/plain": [
       "<matplotlib.legend.Legend at 0x28d3db3ecc0>"
      ]
     },
     "execution_count": 37,
     "metadata": {},
     "output_type": "execute_result"
    },
    {
     "data": {
      "image/png": "[encoded data removed]",
      "text/plain": [
       "<Figure size 432x288 with 2 Axes>"
      ]
     },
     "metadata": {
      "needs_background": "light"
     },
     "output_type": "display_data"
    }
   ],
   "source": [
    "from gekko import GEKKO\n",
    "import numpy as np\n",
    "import matplotlib.pyplot as plt\n",
    "%matplotlib inline\n",
    "\n",
    "m = GEKKO()\n",
    "tf = 40\n",
    "m.time = np.linspace(0,tf,2*tf+1)\n",
    "step = np.zeros(2*tf+1)\n",
    "step[3:40] = 2.0\n",
    "step[40:]  = 5.0\n",
    "\n",
    "# Controller model\n",
    "Kc = 15.0                    # controller gain\n",
    "tauI = 2.0                  # controller reset time\n",
    "tauD = 1.0                  # derivative constant\n",
    "OP_0 = m.Const(value=0.0)   # OP bias\n",
    "OP = m.Var(value=0.0)       # controller output\n",
    "PV = m.Var(value=0.0)       # process variable\n",
    "SP = m.Param(value=step)    # set point\n",
    "Intgl = m.Var(value=0.0)    # integral of the error\n",
    "err = m.Intermediate(SP-PV) # set point error\n",
    "m.Equation(Intgl.dt()==err) # integral of the error\n",
    "m.Equation(OP == OP_0 + Kc*err + (Kc/tauI)*Intgl - PV.dt())\n",
    "\n",
    "# Process model\n",
    "Kp = 0.5                    # process gain\n",
    "tauP = 10.0                 # process time constant\n",
    "m.Equation(tauP*PV.dt() + PV == Kp*OP)\n",
    "\n",
    "m.options.IMODE=4\n",
    "m.solve(disp=False)\n",
    "\n",
    "plt.figure()\n",
    "plt.subplot(2,1,1)\n",
    "plt.plot(m.time,OP.value,'b:',label='OP')\n",
    "plt.ylabel('Output')\n",
    "plt.legend()\n",
    "plt.subplot(2,1,2)\n",
    "plt.plot(m.time,SP.value,'k-',label='SP')\n",
    "plt.plot(m.time,PV.value,'r--',label='PV')\n",
    "plt.xlabel('Time (sec)')\n",
    "plt.ylabel('Process')\n",
    "plt.legend()\n"
   ]
  },
  {
   "cell_type": "code",
   "execution_count": 38,
   "metadata": {},
   "outputs": [
    {
     "data": {
      "text/plain": [
       "<matplotlib.legend.Legend at 0x28d3dbd1e10>"
      ]
     },
     "execution_count": 38,
     "metadata": {},
     "output_type": "execute_result"
    },
    {
     "data": {
      "image/png": "[encoded data removed]",
      "text/plain": [
       "<Figure size 432x288 with 1 Axes>"
      ]
     },
     "metadata": {
      "needs_background": "light"
     },
     "output_type": "display_data"
    }
   ],
   "source": [
    "from gekko import GEKKO\n",
    "import numpy as np\n",
    "import matplotlib.pyplot as plt\n",
    "%matplotlib inline\n",
    "\n",
    "# Generate \"data\" with process simulation\n",
    "nt = 51\n",
    "# input steps\n",
    "u_meas = np.zeros(nt)\n",
    "u_meas[3:10] = 1.0\n",
    "u_meas[10:20] = 2.0\n",
    "u_meas[20:40] = 0.5\n",
    "u_meas[40:] = 3.0\n",
    "# simulation model\n",
    "p = GEKKO()\n",
    "p.time = np.linspace(0,10,nt)\n",
    "n = 1 #process model order\n",
    "# Parameters\n",
    "steps = np.zeros(n)\n",
    "p.u = p.MV(value=u_meas)\n",
    "p.u.FSTATUS=1\n",
    "p.K = p.Param(value=1) #gain\n",
    "p.tau = p.Param(value=5) #time constant\n",
    "# Intermediate\n",
    "p.x = [p.Intermediate(p.u)]\n",
    "# Variables\n",
    "p.x.extend([p.Var() for _ in range(n)])  #state variables\n",
    "p.y = p.SV() #measurement\n",
    "# Equations\n",
    "p.Equations([p.tau/n * p.x[i+1].dt() == -p.x[i+1] + p.x[i] for i in range(n)])\n",
    "p.Equation(p.y == p.K * p.x[n])\n",
    "# Simulate\n",
    "p.options.IMODE = 4\n",
    "p.solve(disp=False)\n",
    "# add measurement noise\n",
    "y_meas = (np.random.rand(nt)-0.5)*0.2\n",
    "for i in range(nt):\n",
    "    y_meas[i] += p.y.value[i]\n",
    "plt.plot(p.time,u_meas,'b:',label='Input (u) meas')\n",
    "plt.plot(p.time,y_meas,'ro',label='Output (y) meas')\n",
    "plt.plot(p.time,p.y.value,'k-',label='Output (y) actual')\n",
    "plt.legend()\n"
   ]
  },
  {
   "cell_type": "code",
   "execution_count": 39,
   "metadata": {},
   "outputs": [
    {
     "data": {
      "text/plain": [
       "<matplotlib.legend.Legend at 0x28d3dc7b828>"
      ]
     },
     "execution_count": 39,
     "metadata": {},
     "output_type": "execute_result"
    },
    {
     "data": {
      "image/png": "[encoded data removed]",
      "text/plain": [
       "<Figure size 432x288 with 2 Axes>"
      ]
     },
     "metadata": {
      "needs_background": "light"
     },
     "output_type": "display_data"
    }
   ],
   "source": [
    "from gekko import GEKKO\n",
    "import numpy as np\n",
    "import matplotlib.pyplot as plt\n",
    "%matplotlib inline\n",
    "\n",
    "# Estimator Model\n",
    "m = GEKKO()\n",
    "m.time = p.time\n",
    "# Parameters\n",
    "m.u = m.MV(value=u_meas) #input\n",
    "m.K = m.FV(value=1, lb=1, ub=3)    # gain\n",
    "m.tau = m.FV(value=5, lb=1, ub=10) # time constant\n",
    "# Variables\n",
    "m.x = m.SV() #state variable\n",
    "m.y = m.CV(value=y_meas) #measurement\n",
    "# Equations\n",
    "m.Equations([m.tau * m.x.dt() == -m.x + m.u, \n",
    "             m.y == m.K * m.x])\n",
    "# Options\n",
    "m.options.IMODE = 5 #MHE\n",
    "m.options.EV_TYPE = 1\n",
    "# STATUS = 0, optimizer doesn't adjust value\n",
    "# STATUS = 1, optimizer can adjust\n",
    "m.u.STATUS = 0\n",
    "m.K.STATUS = 1\n",
    "m.tau.STATUS = 1\n",
    "m.y.STATUS = 1\n",
    "# FSTATUS = 0, no measurement\n",
    "# FSTATUS = 1, measurement used to update model\n",
    "m.u.FSTATUS = 1\n",
    "m.K.FSTATUS = 0\n",
    "m.tau.FSTATUS = 0\n",
    "m.y.FSTATUS = 1\n",
    "# DMAX = maximum movement each cycle\n",
    "m.K.DMAX = 2.0\n",
    "m.tau.DMAX = 4.0\n",
    "# MEAS_GAP = dead-band for measurement / model mismatch\n",
    "m.y.MEAS_GAP = 0.25\n",
    "\n",
    "# solve\n",
    "m.solve(disp=False)\n",
    "\n",
    "# Plot results\n",
    "plt.subplot(2,1,1)\n",
    "plt.plot(m.time,u_meas,'b:',label='Input (u) meas')\n",
    "plt.legend()\n",
    "plt.subplot(2,1,2)\n",
    "plt.plot(m.time,y_meas,'gx',label='Output (y) meas')\n",
    "plt.plot(p.time,p.y.value,'k-',label='Output (y) actual')\n",
    "plt.plot(m.time,m.y.value,'r--',label='Output (y) estimated')\n",
    "plt.legend()\n"
   ]
  },
  {
   "cell_type": "code",
   "execution_count": 40,
   "metadata": {},
   "outputs": [
    {
     "data": {
      "text/plain": [
       "<matplotlib.legend.Legend at 0x28d3dd37da0>"
      ]
     },
     "execution_count": 40,
     "metadata": {},
     "output_type": "execute_result"
    },
    {
     "data": {
      "image/png": "[encoded data removed]",
      "text/plain": [
       "<Figure size 432x288 with 2 Axes>"
      ]
     },
     "metadata": {
      "needs_background": "light"
     },
     "output_type": "display_data"
    }
   ],
   "source": [
    "from gekko import GEKKO\n",
    "import numpy as np\n",
    "from random import random\n",
    "import matplotlib.pyplot as plt\n",
    "%matplotlib inline\n",
    "\n",
    "m = GEKKO()\n",
    "m.time = np.linspace(0,20,41)\n",
    "\n",
    "# Parameters\n",
    "mass = 500\n",
    "b = m.Param(value=50)\n",
    "K = m.Param(value=0.8)\n",
    "\n",
    "# Manipulated variable\n",
    "p = m.MV(value=0, lb=0, ub=100)\n",
    "p.STATUS = 1  # allow optimizer to change\n",
    "p.DCOST = 0.1 # smooth out gas pedal movement\n",
    "p.DMAX = 20   # slow down change of gas pedal\n",
    "\n",
    "# Controlled Variable\n",
    "v = m.CV(value=0)\n",
    "v.STATUS = 1  # add the SP to the objective\n",
    "m.options.CV_TYPE = 2 # squared error\n",
    "v.SP = 40     # set point\n",
    "v.TR_INIT = 1 # set point trajectory\n",
    "v.TAU = 5     # time constant of trajectory\n",
    "\n",
    "# Process model\n",
    "m.Equation(mass*v.dt() == -v*b + K*b*p)\n",
    "\n",
    "m.options.IMODE = 6 # control\n",
    "m.solve(disp=False)\n",
    "\n",
    "# get additional solution information\n",
    "import json\n",
    "with open(m.path+'//results.json') as f:\n",
    "    results = json.load(f)\n",
    "\n",
    "plt.figure()\n",
    "plt.subplot(2,1,1)\n",
    "plt.plot(m.time,p.value,'b-',label='MV Optimized')\n",
    "plt.legend()\n",
    "plt.ylabel('Input')\n",
    "plt.subplot(2,1,2)\n",
    "plt.plot(m.time,results['v1.tr'],'k-',label='Reference Trajectory')\n",
    "plt.plot(m.time,v.value,'r--',label='CV Response')\n",
    "plt.ylabel('Output')\n",
    "plt.xlabel('Time')\n",
    "plt.legend(loc='best')\n"
   ]
  },
  {
   "cell_type": "code",
   "execution_count": 41,
   "metadata": {},
   "outputs": [
    {
     "name": "stdout",
     "output_type": "stream",
     "text": [
      "--------- Follow local path to view files --------------\n",
      "C:\\Users\\DANGDU~1\\AppData\\Local\\Temp\\tmp09p0y67agk_model24\n",
      "--------------------------------------------------------\n",
      "apm 113.161.57.41_gk_model24 <br><pre> ----------------------------------------------------------------\n",
      " APMonitor, Version 0.9.0\n",
      " APMonitor Optimization Suite\n",
      " ----------------------------------------------------------------\n",
      " \n",
      " \n",
      " --------- APM Model Size ------------\n",
      " Each time step contains\n",
      "   Objects      :            0\n",
      "   Constants    :            0\n",
      "   Variables    :            2\n",
      "   Intermediates:            0\n",
      "   Connections  :            0\n",
      "   Equations    :            1\n",
      "   Residuals    :            1\n",
      " \n",
      " Number of state variables:              1\n",
      " Number of total equations: -            1\n",
      " Number of slack variables: -            0\n",
      " ---------------------------------------\n",
      " Degrees of freedom       :              0\n",
      " \n",
      " ----------------------------------------------\n",
      " Steady State Optimization with APOPT Solver\n",
      " ----------------------------------------------\n",
      " \n",
      " Iter    Objective  Convergence\n",
      "    0  0.00000E+00  5.00000E+00\n",
      "    1  0.00000E+00  5.00000E+00\n",
      " Successful solution\n",
      " \n",
      " ---------------------------------------------------\n",
      " Solver         :  APOPT (v1.0)\n",
      " Solution time  :   1.339999999618158E-002 sec\n",
      " Objective      :   0.000000000000000E+000\n",
      " Successful solution\n",
      " ---------------------------------------------------\n",
      " \n",
      " \n",
      " Generating Sensitivity Analysis\n",
      " Writing apm_sens_A_matrix.txt\n",
      " Writing sensitivity.txt\n",
      " Writing sensitivity.htm\n",
      "x: [5.0]\n"
     ]
    }
   ],
   "source": [
    "from gekko import GEKKO\n",
    "\n",
    "m = GEKKO()                 # create GEKKO model\n",
    "\n",
    "print('--------- Follow local path to view files --------------')\n",
    "print(m.path)               # show source file path\n",
    "print('--------------------------------------------------------')\n",
    "\n",
    "# test application\n",
    "u = m.FV(value=5,name='u')  # define fixed value\n",
    "x = m.SV(name='state')      # define state variable\n",
    "m.Equation(x==u)            # define equation\n",
    "m.options.COLDSTART = 1     # coldstart option\n",
    "m.options.DIAGLEVEL = 0     # diagnostic level (0-10)\n",
    "m.options.MAX_ITER = 500    # adjust maximum iterations\n",
    "m.options.SENSITIVITY = 1   # sensitivity analysis\n",
    "m.options.SOLVER = 1        # change solver (1=APOPT,3=IPOPT)\n",
    "m.solve(disp=True)          # solve locally (remote=False)\n",
    "print('x: ' + str(x.value)) # print variable value\n"
   ]
  },
  {
   "cell_type": "code",
   "execution_count": null,
   "metadata": {},
   "outputs": [],
   "source": []
  }
 ],
 "metadata": {
  "kernelspec": {
   "display_name": "Python 3",
   "language": "python",
   "name": "python3"
  },
  "language_info": {
   "name": ""
  }
 },
 "nbformat": 4,
 "nbformat_minor": 2
}
