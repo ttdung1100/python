{
 "cells": [
  {
   "cell_type": "code",
   "execution_count": 2,
   "metadata": {},
   "outputs": [
    {
     "name": "stdout",
     "output_type": "stream",
     "text": [
      "<class 'int'> <class 'float'> <class 'str'> <class 'bool'>\n"
     ]
    }
   ],
   "source": [
    "year_of_birth = 1994\n",
    "height_cm = 170.50\n",
    "subject = \"Data Science\"\n",
    "is_success = True\n",
    "\n",
    "print(type(year_of_birth), type(height_cm), type(subject), type(is_success))\n",
    "# Output: <class 'int'> <class 'float'> <class 'str'> <class 'bool'>\n"
   ]
  },
  {
   "cell_type": "code",
   "execution_count": 3,
   "metadata": {},
   "outputs": [
    {
     "data": {
      "text/plain": [
       "['kiwi', 'orange', 'strawberry', 'lemon', 'apple', 'pineapple']"
      ]
     },
     "execution_count": 3,
     "metadata": {},
     "output_type": "execute_result"
    }
   ],
   "source": [
    "fruits = [\"pineapple\", \"apple\", \"lemon\", \"strawberry\", \"orange\", \"kiwi\"]\n",
    "fruits[1]  # apple\n",
    "fruits[0]  # \"pineapple\"\n",
    "fruits[-1] # \"kiwi\"\n",
    "fruits[5]  # \"kiwi\"\n",
    "fruits[-3] # \"strawberry\"\n",
    "\n",
    "# List slicing\n",
    "fruits[::]    # [\"pineapple\", \"apple\", \"lemon\", \"strawberry\", \"orange\", \"kiwi\"]\n",
    "fruits[0:2]   # [\"pineapple\", \"apple\"]\n",
    "fruits[-2:-1] # [\"orange\"]\n",
    "fruits[3:]    # [\"strawberry\", \"orange\", \"kiwi\"]\n",
    "fruits[:4]    # [\"pineapple\", \"apple\", \"lemon\", \"strawberry\"]\n",
    "fruits[:]     # [\"pineapple\", \"apple\", \"lemon\", \"strawberry\", \"orange\", \"kiwi\"]\n",
    "fruits[::-1]  # [\"kiwi\", \"orange\", \"strawberry\", \"lemon\", \"apple\", \"pineapple\"]\n",
    "fruits[::-2]  # [\"kiwi\", \"strawberry\", \"apple\"]\n",
    "fruits[::2]   # [\"pineapple\", \"lemon\", \"orange\"]\n",
    "\n",
    "# Understanding some default values\n",
    "fruits[0:6:1]    # the same result as the result from fruits[::]\n",
    "fruits[-1:-7:-1] # the same result as the result from fruits[::-1]\n"
   ]
  },
  {
   "cell_type": "code",
   "execution_count": 4,
   "metadata": {},
   "outputs": [
    {
     "data": {
      "text/plain": [
       "['grape', 'lemon', 'strawberry', 'orange', 'kiwi', 'peach', 'fig', 'melon']"
      ]
     },
     "execution_count": 4,
     "metadata": {},
     "output_type": "execute_result"
    }
   ],
   "source": [
    "# Add values to a list\n",
    "fruits.append(\"peach\")\n",
    "fruits # [\"pineapple\", \"apple\", \"lemon\", \"strawberry\", \"orange\", \"kiwi\", \"peach\"]\n",
    "fruits = fruits + [\"fig\", \"melon\"]\n",
    "fruits # [\"pineapple\", \"apple\", \"lemon\", \"strawberry\", \"orange\", \"kiwi\", \"peach\", \"fig\", \"melon\"]\n",
    "\n",
    "# Change values from a list\n",
    "fruits[0:2] = [\"grape\", \"mango\"]\n",
    "fruits # [\"grape\", \"mango\", \"lemon\", \"strawberry\", \"orange\", \"kiwi\", \"peach\", \"fig\", \"melon\"]\n",
    "\n",
    "# Delete values from a list\n",
    "fruits.remove(\"mango\")\n",
    "fruits # [\"grape\", \"lemon\", \"strawberry\", \"orange\", \"kiwi\", \"peach\", \"fig\", \"melon\"]\n"
   ]
  },
  {
   "cell_type": "code",
   "execution_count": 6,
   "metadata": {},
   "outputs": [
    {
     "data": {
      "text/plain": [
       "['A', 'B', 'D']"
      ]
     },
     "execution_count": 6,
     "metadata": {},
     "output_type": "execute_result"
    }
   ],
   "source": [
    "numbers = [10, 42, 28, 420]\n",
    "numbers_copy = numbers\n",
    "numbers_copy[2] = 100\n",
    "numbers      # [10, 42, 100, 420]\n",
    "numbers_copy # [10, 42, 100, 420]\n",
    "\n",
    "ratings = [4.5, 5.0, 3.5, 4.75, 4.00]\n",
    "ratings_copy = ratings[:]\n",
    "ratings_copy[0] = 2.0\n",
    "ratings      # [4.5, 5.0, 3.5, 4.75, 4.0]\n",
    "ratings_copy # [2.0, 5.0, 3.5, 4.75, 4.0]\n",
    "\n",
    "characters = [\"A\", \"B\", \"C\"]\n",
    "characters_copy = list(characters)\n",
    "characters_copy[-1] = \"D\"\n",
    "characters      # [\"A\", \"B\", \"C\"]\n",
    "characters_copy # [\"A\", \"B\", \"D\"]\n"
   ]
  },
  {
   "cell_type": "code",
   "execution_count": 7,
   "metadata": {},
   "outputs": [
    {
     "name": "stdout",
     "output_type": "stream",
     "text": [
      "7.7\n"
     ]
    }
   ],
   "source": [
    "movies = [\"Ex Machina\", \"Mad Max: Fury Road\", \"1408\"]\n",
    "ratings = [7.7, 8.1, 6.8]\n",
    "\n",
    "movie_choice_index = movies.index(\"Ex Machina\")\n",
    "print(ratings[movie_choice_index]) # 7.7\n"
   ]
  },
  {
   "cell_type": "code",
   "execution_count": 8,
   "metadata": {},
   "outputs": [
    {
     "name": "stdout",
     "output_type": "stream",
     "text": [
      "7.7\n"
     ]
    }
   ],
   "source": [
    "ratings = {\n",
    "    \"Ex Machina\": 7.7,\n",
    "    \"Mad Max: Fury Road\": 8.1,\n",
    "    \"1408\" : 6.8\n",
    "}\n",
    "\n",
    "print(ratings[\"Ex Machina\"]) # 7.7\n"
   ]
  },
  {
   "cell_type": "code",
   "execution_count": 9,
   "metadata": {},
   "outputs": [
    {
     "name": "stdout",
     "output_type": "stream",
     "text": [
      "{'Ex Machina': 7.7, 'Mad Max: Fury Road': 8.1, '1408': 6.8, 'Deadpool': 8.0}\n",
      "{'Ex Machina': 7.8, 'Mad Max: Fury Road': 8.1, '1408': 6.8, 'Deadpool': 8.0}\n",
      "{'Ex Machina': 7.8, 'Mad Max: Fury Road': 8.1, 'Deadpool': 8.0}\n"
     ]
    }
   ],
   "source": [
    "ratings[\"Deadpool\"] = 8.0\n",
    "print(ratings) # {'Ex Machina': 7.7, 'Mad Max: Fury Road': 8.1, '1408': 6.8, 'Deadpool': 8.0}\n",
    "\n",
    "ratings[\"Ex Machina\"] = 7.8\n",
    "print(ratings) # {'Ex Machina': 7.8, 'Mad Max: Fury Road': 8.1, '1408': 6.8, 'Deadpool': 8.0}\n",
    "\n",
    "del(ratings[\"1408\"])\n",
    "print(ratings) # {'Ex Machina': 7.8, 'Mad Max: Fury Road': 8.1, 'Deadpool': 8.0}\n"
   ]
  },
  {
   "cell_type": "code",
   "execution_count": 10,
   "metadata": {},
   "outputs": [
    {
     "name": "stdout",
     "output_type": "stream",
     "text": [
      "True\n"
     ]
    }
   ],
   "source": [
    "print(\"Ex Machina\" in ratings) # True\n"
   ]
  },
  {
   "cell_type": "code",
   "execution_count": 15,
   "metadata": {},
   "outputs": [
    {
     "name": "stdout",
     "output_type": "stream",
     "text": [
      "True\n"
     ]
    }
   ],
   "source": [
    "def is_prime(n):\n",
    "    if n <= 1:\n",
    "        return False\n",
    "    elif n <= 3:\n",
    "        return True\n",
    "    elif n % 2 == 0 or n % 3 == 0:\n",
    "        return False\n",
    "    current_number = 5\n",
    "    while current_number * current_number <= n:\n",
    "        if n % current_number == 0 or n % (current_number + 2) == 0:\n",
    "            return False\n",
    "        current_number = current_number + 6\n",
    "    return True\n",
    "\n",
    "print(is_prime(3))"
   ]
  },
  {
   "cell_type": "code",
   "execution_count": 16,
   "metadata": {},
   "outputs": [
    {
     "name": "stdout",
     "output_type": "stream",
     "text": [
      "[10, 9, 9, 2, 0, 4, 1]\n",
      "[0, 1, 2, 4, 9, 9, 10]\n",
      "dict_keys(['Ex Machina', 'Mad Max: Fury Road', '1408'])\n",
      "dict_values([7.7, 8.1, 6.8])\n",
      "dict_items([('Ex Machina', 7.7), ('Mad Max: Fury Road', 8.1), ('1408', 6.8)])\n"
     ]
    }
   ],
   "source": [
    "# String methods\n",
    "text = \"Data Science\" \n",
    "text.upper() # \"DATA SCIENCE\"\n",
    "text.lower() # \"data science\"\n",
    "text.capitalize() # \"Data science\"\n",
    "\n",
    "# Lists methods\n",
    "numbers = [1, 4, 0, 2, 9, 9, 10]\n",
    "numbers.reverse()\n",
    "print(numbers) # [10, 9, 9, 2, 0, 4, 1]\n",
    "numbers.sort()\n",
    "print(numbers) # [0, 1, 2, 4, 9, 9, 10]\n",
    "\n",
    "# Dictionaris methods\n",
    "ratings = {\n",
    "    \"Ex Machina\": 7.7,\n",
    "    \"Mad Max: Fury Road\": 8.1,\n",
    "    \"1408\" : 6.8\n",
    "}\n",
    "\n",
    "print(ratings.keys()) # dict_keys(['Ex Machina', 'Mad Max: Fury Road', '1408'])\n",
    "print(ratings.values()) # dict_values([7.7, 8.1, 6.8])\n",
    "print(ratings.items()) # dict_items([('Ex Machina', 7.7), ('Mad Max: Fury Road', 8.1), ('1408', 6.8)])\n"
   ]
  },
  {
   "cell_type": "code",
   "execution_count": 17,
   "metadata": {},
   "outputs": [
    {
     "data": {
      "text/plain": [
       "1"
      ]
     },
     "execution_count": 17,
     "metadata": {},
     "output_type": "execute_result"
    }
   ],
   "source": [
    "numbers = [10, 30, 55, 40, 8, 30]\n",
    "text = \"Data Science\"\n",
    "\n",
    "numbers.index(8)  # 4\n",
    "text.index(\"a\")   # 1\n",
    "\n",
    "numbers.count(30) # 2\n",
    "text.count(\"i\")   # 1\n"
   ]
  },
  {
   "cell_type": "code",
   "execution_count": 20,
   "metadata": {},
   "outputs": [
    {
     "name": "stdout",
     "output_type": "stream",
     "text": [
      "[ 3  4 20 15  7 19  0]\n"
     ]
    }
   ],
   "source": [
    "import numpy\n",
    "numbers = numpy.array([3, 4, 20, 15, 7, 19, 0])\n",
    "print(numbers)"
   ]
  },
  {
   "cell_type": "code",
   "execution_count": 21,
   "metadata": {},
   "outputs": [],
   "source": [
    "import numpy as np # np is an alias for the numpy package\n",
    "numbers = np.array([3, 4, 20, 15, 7, 19, 0]) # works fine\n",
    "numbers = numpy.array([3, 4, 20, 15, 7, 19, 0]) # NameError: name 'numpy' is not defined\n"
   ]
  },
  {
   "cell_type": "code",
   "execution_count": 22,
   "metadata": {},
   "outputs": [],
   "source": [
    "# import the \"pyplot\" submodule from the \"matplotlib\" package with alias \"plt\"\n",
    "import matplotlib.pyplot as plt\n"
   ]
  },
  {
   "cell_type": "code",
   "execution_count": 23,
   "metadata": {},
   "outputs": [
    {
     "data": {
      "text/plain": [
       "numpy.ndarray"
      ]
     },
     "execution_count": 23,
     "metadata": {},
     "output_type": "execute_result"
    }
   ],
   "source": [
    "from numpy import array\n",
    "numbers = array([3, 4, 20, 15, 7, 19, 0]) # works fine\n",
    "numbers = numpy.array([3, 4, 20, 15, 7, 19, 0]) # NameError: name 'numpy' is not defined\n",
    "type(numbers) # numpy.ndarray\n"
   ]
  },
  {
   "cell_type": "code",
   "execution_count": 29,
   "metadata": {},
   "outputs": [
    {
     "data": {
      "text/plain": [
       "array([ 0.  , 42.  , 53.99])"
      ]
     },
     "execution_count": 29,
     "metadata": {},
     "output_type": "execute_result"
    }
   ],
   "source": [
    "np.array([False, 42, \"Data Science\"])       # array([\"False\", \"42\", \"Data Science\"], dtype=\"<U12\")\n",
    "np.array([False, 42], dtype = int)          # array([ 0, 42])\n",
    "np.array([False, 42, 53.99], dtype = float) # array([  0.  ,  42.  ,  53.99])\n",
    "\n",
    "# Invalid converting\n",
    "#np.array([False, 42, \"Data Science\"], dtype = float) # could not convert string to float: 'Data Science'\n"
   ]
  },
  {
   "cell_type": "code",
   "execution_count": 26,
   "metadata": {},
   "outputs": [
    {
     "data": {
      "text/plain": [
       "array([ -9, -18, -27])"
      ]
     },
     "execution_count": 26,
     "metadata": {},
     "output_type": "execute_result"
    }
   ],
   "source": [
    "np.array([37, 48, 50]) + 1 # array([38, 49, 51])\n",
    "np.array([20, 30, 40]) * 2 # array([40, 60, 80])\n",
    "np.array([42, 10, 60]) / 2 # array([ 21.,   5.,  30.])\n",
    "\n",
    "np.array([1, 2, 3]) * np.array([10, 20, 30]) # array([10, 40, 90])\n",
    "np.array([1, 2, 3]) - np.array([10, 20, 30]) # array([ -9, -18, -27])\n"
   ]
  },
  {
   "cell_type": "code",
   "execution_count": 30,
   "metadata": {},
   "outputs": [
    {
     "data": {
      "text/plain": [
       "array([[5, 6],\n",
       "       [8, 9]])"
      ]
     },
     "execution_count": 30,
     "metadata": {},
     "output_type": "execute_result"
    }
   ],
   "source": [
    "numbers = np.array([\n",
    "    [1, 2, 3],\n",
    "    [4, 5, 6],\n",
    "    [7, 8, 9],\n",
    "    [10, 11, 12]\n",
    "])\n",
    "\n",
    "numbers[2, 1]     # 8\n",
    "numbers[-1, 0]    # 10\n",
    "numbers[0]        # array([1, 2, 3])\n",
    "numbers[:, 0]     # array([ 1,  4,  7, 10])\n",
    "numbers[0:3, 2]   # array([3, 6, 9])\n",
    "numbers[1:3, 1:3] # array([[5, 6],[8, 9]])\n"
   ]
  },
  {
   "cell_type": "code",
   "execution_count": 31,
   "metadata": {},
   "outputs": [
    {
     "data": {
      "text/plain": [
       "(5, 3)"
      ]
     },
     "execution_count": 31,
     "metadata": {},
     "output_type": "execute_result"
    }
   ],
   "source": [
    "numbers = np.array([\n",
    "    [1, 2, 3],\n",
    "    [4, 5, 6],\n",
    "    [7, 8, 9],\n",
    "    [10, 11, 12],\n",
    "    [13, 14, 15]\n",
    "])\n",
    "\n",
    "numbers.shape # (5, 3)\n"
   ]
  },
  {
   "cell_type": "code",
   "execution_count": 32,
   "metadata": {},
   "outputs": [
    {
     "data": {
      "text/plain": [
       "array([[1.        , 0.88964891],\n",
       "       [0.88964891, 1.        ]])"
      ]
     },
     "execution_count": 32,
     "metadata": {},
     "output_type": "execute_result"
    }
   ],
   "source": [
    "learning_hours = [1, 2, 6, 4, 10]\n",
    "grades = [3, 4, 6, 5, 6]\n",
    "\n",
    "np.mean(learning_hours)   # 4.6\n",
    "np.median(learning_hours) # 4.0\n",
    "np.std(learning_hours)    # 3.2\n",
    "np.corrcoef(learning_hours, grades) # [[ 1.          0.88964891][ 0.88964891  1.        ]]\n"
   ]
  },
  {
   "cell_type": "code",
   "execution_count": 34,
   "metadata": {},
   "outputs": [
    {
     "name": "stdout",
     "output_type": "stream",
     "text": [
      "10\n",
      "12\n",
      "15\n",
      "18\n",
      "20\n"
     ]
    }
   ],
   "source": [
    "numbers = [10, 12, 15, 18, 20]\n",
    "for number in numbers:\n",
    "    print(number)\n"
   ]
  },
  {
   "cell_type": "code",
   "execution_count": 35,
   "metadata": {},
   "outputs": [],
   "source": [
    "numbers = [10, 12, 15, 18, 20]\n",
    "fruits = (\"apple\", \"pineapple\", \"blueberry\")\n",
    "message = \"I love Python ❤️\"\n"
   ]
  },
  {
   "cell_type": "code",
   "execution_count": 36,
   "metadata": {},
   "outputs": [
    {
     "name": "stdout",
     "output_type": "stream",
     "text": [
      "10\n",
      "blueberry\n",
      "❤\n"
     ]
    }
   ],
   "source": [
    "# Element access using integer indices\n",
    "print(numbers[0])\n",
    "print(fruits[2])\n",
    "print(message[-2])\n"
   ]
  },
  {
   "cell_type": "code",
   "execution_count": 13,
   "metadata": {},
   "outputs": [
    {
     "name": "stdout",
     "output_type": "stream",
     "text": [
      "{2, 3, 5}\n",
      "{'name': 'Ventsislav', 'age': 24}\n",
      "<generator object <genexpr> at 0x00000166768BACF0>\n"
     ]
    }
   ],
   "source": [
    "my_set = {2, 3, 5}\n",
    "my_dict = {\"name\": \"Ventsislav\", \"age\": 24}\n",
    "#my_file = open(\"file_name.txt\")\n",
    "squares = (n**2 for n in my_set)\n",
    "print(my_set)\n",
    "print(my_dict)\n",
    "print(squares)"
   ]
  },
  {
   "cell_type": "code",
   "execution_count": 18,
   "metadata": {},
   "outputs": [
    {
     "name": "stdout",
     "output_type": "stream",
     "text": [
      "[1.+0.j 2.+0.j 3.+0.j]\n"
     ]
    }
   ],
   "source": [
    "import numpy as np \n",
    "a = np.array([1, 2, 3], dtype = complex) \n",
    "print(a)"
   ]
  },
  {
   "cell_type": "code",
   "execution_count": 20,
   "metadata": {},
   "outputs": [
    {
     "name": "stdout",
     "output_type": "stream",
     "text": [
      "0    a\n",
      "1    b\n",
      "2    c\n",
      "3    d\n",
      "dtype: object\n"
     ]
    }
   ],
   "source": [
    "#import the pandas library and aliasing as pd\n",
    "import pandas as pd\n",
    "import numpy as np\n",
    "data = np.array(['a','b','c','d'])\n",
    "s = pd.Series(data)\n",
    "print(s)\n"
   ]
  },
  {
   "cell_type": "code",
   "execution_count": 25,
   "metadata": {},
   "outputs": [
    {
     "name": "stdout",
     "output_type": "stream",
     "text": [
      "        Name  Age\n",
      "rank1    Tom   28\n",
      "rank2   Jack   34\n",
      "rank3  Steve   29\n",
      "rank4  Ricky   42\n"
     ]
    }
   ],
   "source": [
    "#pandas.DataFrame( data, index, columns, dtype, copy)\n",
    "import pandas as pd\n",
    "data = {'Name':['Tom', 'Jack', 'Steve', 'Ricky'],'Age':[28,34,29,42]}\n",
    "df = pd.DataFrame(data, index=['rank1','rank2','rank3','rank4'])\n",
    "print(df)\n"
   ]
  },
  {
   "cell_type": "code",
   "execution_count": 27,
   "metadata": {},
   "outputs": [
    {
     "name": "stdout",
     "output_type": "stream",
     "text": [
      "<class 'pandas.core.panel.Panel'>\n",
      "Dimensions: 2 (items) x 4 (major_axis) x 3 (minor_axis)\n",
      "Items axis: Item1 to Item2\n",
      "Major_axis axis: 0 to 3\n",
      "Minor_axis axis: 0 to 2\n"
     ]
    },
    {
     "name": "stderr",
     "output_type": "stream",
     "text": [
      "C:\\Users\\Dang Dung\\Anaconda3\\lib\\site-packages\\IPython\\core\\interactiveshell.py:3296: FutureWarning: \n",
      "Panel is deprecated and will be removed in a future version.\n",
      "The recommended way to represent these types of 3-dimensional data are with a MultiIndex on a DataFrame, via the Panel.to_frame() method\n",
      "Alternatively, you can use the xarray package http://xarray.pydata.org/en/stable/.\n",
      "Pandas provides a `.to_xarray()` method to help automate this conversion.\n",
      "\n",
      "  exec(code_obj, self.user_global_ns, self.user_ns)\n"
     ]
    }
   ],
   "source": [
    "import pandas as pd\n",
    "import numpy as np\n",
    "\n",
    "data = {'Item1' : pd.DataFrame(np.random.randn(4, 3)), \n",
    "        'Item2' : pd.DataFrame(np.random.randn(4, 2))}\n",
    "p = pd.Panel(data)\n",
    "print(p)\n"
   ]
  },
  {
   "cell_type": "code",
   "execution_count": 28,
   "metadata": {},
   "outputs": [
    {
     "name": "stdout",
     "output_type": "stream",
     "text": [
      "        one       two     three\n",
      "a -1.350595 -0.509413  0.964876\n",
      "b       NaN       NaN       NaN\n",
      "c -1.226875  0.428255 -2.031815\n",
      "d       NaN       NaN       NaN\n",
      "e -0.254838 -1.309055  2.206348\n",
      "f -0.029787  1.391069 -1.014208\n",
      "g       NaN       NaN       NaN\n",
      "h -2.154469 -1.083157 -0.081055\n"
     ]
    }
   ],
   "source": [
    "import pandas as pd\n",
    "import numpy as np\n",
    "\n",
    "df = pd.DataFrame(np.random.randn(5, 3), index=['a', 'c', 'e', 'f',\n",
    "'h'],columns=['one', 'two', 'three'])\n",
    "\n",
    "df = df.reindex(['a', 'b', 'c', 'd', 'e', 'f', 'g', 'h'])\n",
    "\n",
    "print (df)"
   ]
  },
  {
   "cell_type": "code",
   "execution_count": 29,
   "metadata": {},
   "outputs": [
    {
     "name": "stdout",
     "output_type": "stream",
     "text": [
      "a    False\n",
      "b     True\n",
      "c    False\n",
      "d     True\n",
      "e    False\n",
      "f    False\n",
      "g     True\n",
      "h    False\n",
      "Name: one, dtype: bool\n"
     ]
    }
   ],
   "source": [
    "import pandas as pd\n",
    "import numpy as np\n",
    " \n",
    "df = pd.DataFrame(np.random.randn(5, 3), index=['a', 'c', 'e', 'f',\n",
    "'h'],columns=['one', 'two', 'three'])\n",
    "\n",
    "df = df.reindex(['a', 'b', 'c', 'd', 'e', 'f', 'g', 'h'])\n",
    "\n",
    "print(df['one'].isnull())\n"
   ]
  },
  {
   "cell_type": "code",
   "execution_count": 31,
   "metadata": {},
   "outputs": [
    {
     "name": "stdout",
     "output_type": "stream",
     "text": [
      "        one       two     three\n",
      "a  0.242658 -0.066829 -0.481372\n",
      "b       NaN       NaN       NaN\n",
      "c -1.315553 -1.250725  0.552483\n",
      "NaN replaced with '0':\n",
      "        one       two     three\n",
      "a  0.242658 -0.066829 -0.481372\n",
      "b  0.000000  0.000000  0.000000\n",
      "c -1.315553 -1.250725  0.552483\n"
     ]
    }
   ],
   "source": [
    "import pandas as pd\n",
    "import numpy as np\n",
    "df = pd.DataFrame(np.random.randn(3, 3), index=['a', 'c', 'e'],columns=['one',\n",
    "'two', 'three'])\n",
    "df = df.reindex(['a', 'b', 'c'])\n",
    "print(df)\n",
    "print (\"NaN replaced with '0':\")\n",
    "print(df.fillna(0))"
   ]
  },
  {
   "cell_type": "code",
   "execution_count": 47,
   "metadata": {},
   "outputs": [
    {
     "name": "stdout",
     "output_type": "stream",
     "text": [
      "[[406.82111396 414.7304     373.12644278 375.74923062]\n",
      " [393.77960451 390.7304     363.56892074 365.36461518]\n",
      " [370.95696296 378.7304     360.38308006 358.44153823]\n",
      " [362.80601956 378.7304     360.38308006 353.24923051]\n",
      " [369.32677428 390.7304     363.56892074 358.44153823]\n",
      " [392.14941583 402.7304     376.31228346 368.82615366]]\n"
     ]
    },
    {
     "data": {
      "image/png": "[encoded data removed]",
      "text/plain": [
       "<Figure size 432x288 with 1 Axes>"
      ]
     },
     "metadata": {
      "needs_background": "light"
     },
     "output_type": "display_data"
    }
   ],
   "source": [
    "# Numpy (data import, manipulation, export)\n",
    "import numpy as np\n",
    "# Matplotlib (create trends)\n",
    "import matplotlib.pyplot as plt\n",
    "\n",
    "# load the data file\n",
    "data_file = np.genfromtxt('/Users/Dang Dung/Downloads/python_data_analysis/data_file.txt', delimiter=',')\n",
    "\n",
    "# create time vector from imported data (starts from index 0)\n",
    "time = data_file[:,0]\n",
    "# parse good sensor data from imported data\n",
    "sensors = data_file[:,1:5]\n",
    "\n",
    "# display the first 6 sensor rows\n",
    "print(sensors[0:6])\n",
    "\n",
    "# adjust time to start at zero by subtracting the\n",
    "#  first element in the time vector (index = 0)\n",
    "time = time - time[0]\n",
    "\n",
    "# calculate the average of the sensor readings\n",
    "avg = np.mean(sensors,1) # over the 2nd dimension\n",
    "\n",
    "# export data\n",
    "# stack time and avg as column vectors\n",
    "my_data = np.vstack((time,sensors.T,avg))\n",
    "# transpose data\n",
    "my_data = my_data.T\n",
    "# save text file with comma delimiter\n",
    "np.savetxt('export_from_python.txt',my_data,delimiter=',')\n",
    "\n",
    "# generate a figure\n",
    "plt.figure(1)\n",
    "plt.plot(time/60.0,sensors[:,1],'ro')\n",
    "plt.plot(time/60.0,avg,'b.')\n",
    "# add text labels to the plot\n",
    "plt.legend(['Sensor 2','Average Sensors 1-4'])\n",
    "plt.xlabel('Time (min)')\n",
    "plt.ylabel('Sensor Values')\n",
    "# save the figure as a PNG file\n",
    "plt.savefig('my_Python_plot.png')\n",
    "# show the figure on the screen (pauses execution until closed)\n",
    "plt.show()\n"
   ]
  },
  {
   "cell_type": "code",
   "execution_count": 57,
   "metadata": {},
   "outputs": [
    {
     "name": "stderr",
     "output_type": "stream",
     "text": [
      "C:\\Users\\Dang Dung\\Anaconda3\\lib\\site-packages\\ipykernel_launcher.py:14: DeprecationWarning: \n",
      ".ix is deprecated. Please use\n",
      ".loc for label based indexing or\n",
      ".iloc for positional indexing\n",
      "\n",
      "See the documentation here:\n",
      "http://pandas.pydata.org/pandas-docs/stable/indexing.html#ix-indexer-is-deprecated\n",
      "  \n"
     ]
    },
    {
     "name": "stdout",
     "output_type": "stream",
     "text": [
      "           s1        s2          s3          s4\n",
      "0  406.821114  414.7304  373.126443  375.749231\n",
      "1  393.779605  390.7304  363.568921  365.364615\n",
      "2  370.956963  378.7304  360.383080  358.441538\n",
      "3  362.806020  378.7304  360.383080  353.249231\n",
      "4  369.326774  390.7304  363.568921  358.441538\n",
      "5  392.149416  402.7304  376.312283  368.826154\n"
     ]
    },
    {
     "data": {
      "image/png": "[encoded data removed]",
      "text/plain": [
       "<Figure size 432x288 with 1 Axes>"
      ]
     },
     "metadata": {
      "needs_background": "light"
     },
     "output_type": "display_data"
    }
   ],
   "source": [
    "# import Numpy, Pandas, and Matplotlib\n",
    "import numpy as np\n",
    "import pandas as pd\n",
    "import matplotlib.pyplot as plt\n",
    "\n",
    "# load the data file\n",
    "url='http://apmonitor.com/che263/uploads/Main/data_with_headers.txt'\n",
    "#data_file = pd.read_csv('/Users/Dang Dung/Downloads/python_with_pandas/data_with_headers.csv)\n",
    "data_file = pd.read_csv(url)\n",
    "\n",
    "# create time vector from imported data\n",
    "time = data_file['time']\n",
    "# parse good sensor data from imported data\n",
    "sensors = data_file.ix[:,'s1':'s4']\n",
    "\n",
    "# display the first 6 sensor rows\n",
    "print(sensors[0:6])\n",
    "\n",
    "# adjust time to start at zero by subtracting the\n",
    "#  first element in the time vector (index = 0)\n",
    "time = time - time[0]\n",
    "\n",
    "# calculate the average of the sensor readings\n",
    "avg = np.mean(sensors,1) # over the 2nd dimension\n",
    "\n",
    "# export data\n",
    "my_data = [time, sensors, avg]\n",
    "result = pd.concat(my_data,axis=1)\n",
    "result.columns.values[-1] = 'avg'\n",
    "\n",
    "result.to_csv('result.csv')\n",
    "#result.to_excel('result.xlsx')\n",
    "result.to_html('result.htm')\n",
    "result.to_clipboard()\n",
    "\n",
    "# generate a figure\n",
    "plt.figure(1)\n",
    "plt.plot(time,sensors['s1'],'r-')\n",
    "plt.plot(time,avg,'b.')\n",
    "# add text labels to the plot\n",
    "plt.legend(['Sensor 2','Average'])\n",
    "plt.xlabel('Time (sec)')\n",
    "plt.ylabel('Sensor Values')\n",
    "# save the figure as a PNG file\n",
    "plt.savefig('my_Python_plot.png')\n",
    "# show the figure on the screen\n",
    "plt.show()\n"
   ]
  },
  {
   "cell_type": "code",
   "execution_count": 65,
   "metadata": {},
   "outputs": [
    {
     "name": "stdout",
     "output_type": "stream",
     "text": [
      "0    929.080017\n",
      "1    932.070007\n",
      "2    935.090027\n",
      "3    925.109985\n",
      "4    920.289978\n",
      "Name: Close, dtype: float64\n",
      "min: 915.0\n",
      "max: 978.8900150000001\n"
     ]
    },
    {
     "data": {
      "image/png": "[encoded data removed]",
      "text/plain": [
       "<Figure size 432x288 with 1 Axes>"
      ]
     },
     "metadata": {
      "needs_background": "light"
     },
     "output_type": "display_data"
    }
   ],
   "source": [
    "import pandas as pd\n",
    "import matplotlib.pyplot as plt\n",
    "\n",
    "# stock ticker symbol\n",
    "url = 'https://apmonitor.com/che263/uploads/Main/goog.csv'\n",
    "\n",
    "# import data with pandas\n",
    "data = pd.read_csv(url)\n",
    "print(data['Close'][0:5])\n",
    "print('min: '+str(min(data['Close'][0:20])))\n",
    "print('max: '+str(max(data['Close'][0:20])))\n",
    "\n",
    "# plot data with pyplot\n",
    "plt.figure()\n",
    "plt.plot(data['Open'][0:20])\n",
    "plt.plot(data['Close'][0:20])\n",
    "plt.xlabel('days ago')\n",
    "plt.ylabel('price')\n",
    "plt.show()\n"
   ]
  },
  {
   "cell_type": "code",
   "execution_count": 71,
   "metadata": {},
   "outputs": [
    {
     "name": "stdout",
     "output_type": "stream",
     "text": [
      "0    929.080017\n",
      "1    932.070007\n",
      "2    935.090027\n",
      "3    925.109985\n",
      "4    920.289978\n",
      "Name: Close, dtype: float64\n",
      "min: 915.0\n",
      "max: 978.8900150000001\n",
      "apm 101.99.36.196_gk_model2 <br><pre> ----------------------------------------------------------------\n",
      " APMonitor, Version 0.9.0\n",
      " APMonitor Optimization Suite\n",
      " ----------------------------------------------------------------\n",
      " \n",
      " \n",
      " --------- APM Model Size ------------\n",
      " Each time step contains\n",
      "   Objects      :            0\n",
      "   Constants    :            0\n",
      "   Variables    :            5\n",
      "   Intermediates:            0\n",
      "   Connections  :            0\n",
      "   Equations    :            1\n",
      "   Residuals    :            1\n",
      " \n",
      " Number of state variables:            118\n",
      " Number of total equations: -          115\n",
      " Number of slack variables: -            0\n",
      " ---------------------------------------\n",
      " Degrees of freedom       :              3\n",
      " \n",
      " ----------------------------------------------\n",
      " Model Parameter Estimation with APOPT Solver\n",
      " ----------------------------------------------\n",
      " \n",
      " Iter    Objective  Convergence\n",
      "    0  9.28860E+03  9.66064E-01\n",
      "    1  3.17472E+03  4.88381E-07\n",
      "    2  3.03033E+03  4.79444E-03\n",
      "    3  3.55324E+06  3.45416E-03\n",
      "    4  3.18385E+03  2.33290E-03\n",
      "    5  3.18086E+03  2.36634E-05\n",
      "    6  3.28017E+03  1.33885E-05\n",
      "    7  3.17759E+03  3.54561E-04\n",
      "    8  3.18344E+03  6.32418E-06\n",
      "    9  3.28811E+03  2.57056E-05\n",
      " \n",
      " Iter    Objective  Convergence\n",
      "   10  4.54419E+03  2.52958E-05\n",
      "   11  3.17465E+03  6.32418E-06\n",
      "   12  3.17504E+03  8.50047E-04\n",
      "   13  3.17606E+03  4.13018E-05\n",
      "   14  3.21458E+03  4.16298E-06\n",
      "   15  5.67195E+03  4.14910E-06\n",
      "   16  2.22721E+05  4.16214E-06\n",
      "   17  2.08851E+05  4.16658E-06\n",
      "   18  3.16329E+03  1.16221E+00\n",
      "   19  3.11829E+03  4.23139E-04\n",
      " \n",
      " Iter    Objective  Convergence\n",
      "   20  3.11523E+03  2.83870E-05\n",
      "   21  3.11266E+03  9.24751E-07\n",
      "   22  3.06084E+03  1.12565E-05\n",
      "   23  1.82766+101  4.40570E-05\n",
      "   24  3.97596E+42  4.35228E-05\n",
      "   25  6.07082E+03  3.77321E-05\n",
      "   26  4.12027E+03  6.27942E-05\n",
      "   27  3.50958E+03  2.67358E-05\n",
      "   28  3.25174E+03  8.79785E-06\n",
      "   29  3.86440E+03  3.57086E-06\n",
      " \n",
      " Iter    Objective  Convergence\n",
      "   30  3.84372E+03  1.82621E-05\n",
      "   31  3.73299E+03  1.43927E-05\n",
      "   32  3.10193E+03  3.84286E-05\n",
      "   33  3.08597E+03  1.80194E-05\n",
      "   34  3.90699E+03  2.09815E-03\n",
      "   35  3.24330E+03  1.71587E-03\n",
      "   36  3.11079E+03  5.03827E-04\n",
      "   37  3.11425E+03  9.74243E-05\n",
      "   38  3.20380E+03  2.18272E-05\n",
      "   39  7.69000E+03  4.24956E-03\n",
      " \n",
      " Iter    Objective  Convergence\n",
      "   40  4.11803E+03  2.40702E-03\n",
      "   41  3.09071E+03  2.18272E-05\n",
      "   42  3.06170E+03  1.95385E-05\n",
      "   43  7.41143E+08  1.31513E-02\n",
      "   44  9.52387E+05  7.86194E-03\n",
      "   45  5.28891E+03  3.68138E-03\n",
      "   46  3.16040E+03  1.84816E-03\n",
      "   47  3.19257E+03  2.60707E-04\n",
      "   48  3.35206E+03  1.99333E-04\n",
      "   49  2.29654E+05  1.90302E-04\n",
      " \n",
      " Iter    Objective  Convergence\n",
      "   50  3.39769E+03  2.60707E-04\n",
      "   51  3.10412E+03  7.66805E-05\n",
      "   52  3.12522E+03  1.67275E-06\n",
      "   53  4.52023E+03  1.33486E-06\n",
      "   54  5.73193E+03  1.24160E-06\n",
      "   55  5.75885E+03  3.72414E-07\n",
      "   56  3.10153E+03  3.73753E-07\n",
      "   57  3.41149E+03  1.18500E-06\n",
      "   58  5.27502E+03  1.18394E-06\n",
      "   59  3.09695E+03  3.73753E-07\n",
      " \n",
      " Iter    Objective  Convergence\n",
      "   60  3.08977E+03  4.82055E-07\n",
      "   61  3.08081E+03  4.49478E-04\n",
      "   62  3.21853E+03  2.03257E-03\n",
      "   63  3.09872E+03  4.86048E-04\n",
      "   64  3.09925E+03  9.71185E-05\n",
      "   65  3.15251E+03  1.23144E-05\n",
      "   66  3.12718E+03  1.39332E-03\n",
      "   67  3.07894E+03  3.12362E-04\n",
      "   68  3.08789E+03  8.64456E-06\n",
      "   69  3.13618E+03  1.11899E-04\n",
      " \n",
      " Iter    Objective  Convergence\n",
      "   70  3.15545E+03  1.11086E-04\n",
      "   71  3.06358E+03  8.64456E-06\n",
      "   72  3.10417E+03  2.73328E-03\n",
      "   73  3.06875E+03  3.62359E-04\n",
      "   74  3.06468E+03  5.42878E-05\n",
      "   75  3.06448E+03  2.77274E-06\n",
      "   76  3.06448E+03  1.69219E-08\n",
      "   77  3.06448E+03  1.69219E-08\n",
      " Successful solution\n",
      " \n",
      " ---------------------------------------------------\n",
      " Solver         :  APOPT (v1.0)\n",
      " Solution time  :   0.122000000003027      sec\n",
      " Objective      :    3064.48078678756     \n",
      " Successful solution\n",
      " ---------------------------------------------------\n",
      " \n",
      "Optimized, a = -0.015733269899\n",
      "Optimized, b = -188852109.36\n",
      "Optimized, c = 1015.0112979\n"
     ]
    },
    {
     "data": {
      "image/png": "[encoded data removed]",
      "text/plain": [
       "<Figure size 432x288 with 1 Axes>"
      ]
     },
     "metadata": {
      "needs_background": "light"
     },
     "output_type": "display_data"
    }
   ],
   "source": [
    "#pip install gekko\n",
    "\n",
    "from gekko import GEKKO\n",
    "import numpy as np\n",
    "import matplotlib.pyplot as plt  \n",
    "import pandas as pd\n",
    "\n",
    "# Google stock\n",
    "url = 'https://apmonitor.com/che263/uploads/Main/goog.csv'\n",
    "\n",
    "# import data with pandas\n",
    "data = pd.read_csv(url)\n",
    "print(data['Close'][0:5])\n",
    "print('min: '+str(min(data['Close'][0:20])))\n",
    "print('max: '+str(max(data['Close'][0:20])))\n",
    "\n",
    "# GEKKO model\n",
    "m = GEKKO()\n",
    "\n",
    "# input data\n",
    "x = m.Param(value=np.array(data['Open']))\n",
    "\n",
    "# parameters to optimize\n",
    "a = m.FV()\n",
    "a.STATUS=1\n",
    "b = m.FV()\n",
    "b.STATUS=1\n",
    "c = m.FV()\n",
    "c.STATUS=1\n",
    "\n",
    "# variables\n",
    "y = m.CV(value=np.array(data['Close']))\n",
    "y.FSTATUS=1\n",
    "\n",
    "# regression equation\n",
    "m.Equation(y==b*m.exp(a*x)+c)\n",
    "\n",
    "# regression mode\n",
    "m.options.IMODE = 2\n",
    "\n",
    "# optimize\n",
    "m.options.solver = 1\n",
    "m.solve(disp=True)\n",
    "\n",
    "# print parameters\n",
    "print('Optimized, a = ' + str(a.value[0]))\n",
    "print('Optimized, b = ' + str(b.value[0]))\n",
    "print('Optimized, c = ' + str(c.value[0]))\n",
    "\n",
    "# plot data\n",
    "plt.figure()\n",
    "plt.plot(data['Open'],data['Close'],'ro',label='Stock Data')\n",
    "plt.plot(x.value,y.value,'bx',label='Predicted')\n",
    "plt.xlabel('Open Price')\n",
    "plt.ylabel('Close Price')\n",
    "plt.legend()\n",
    "plt.show()\n"
   ]
  },
  {
   "cell_type": "code",
   "execution_count": 72,
   "metadata": {},
   "outputs": [
    {
     "name": "stdout",
     "output_type": "stream",
     "text": [
      "Requirement already satisfied: gekko in c:\\users\\dang dung\\anaconda3\\lib\\site-packages (0.2.2)\n",
      "Requirement already satisfied: numpy>=1.8 in c:\\users\\dang dung\\anaconda3\\lib\\site-packages (from gekko) (1.16.2)\n",
      "Requirement already satisfied: flask in c:\\users\\dang dung\\anaconda3\\lib\\site-packages (from gekko) (1.0.2)\n",
      "Requirement already satisfied: flask-cors in c:\\users\\dang dung\\anaconda3\\lib\\site-packages (from gekko) (3.0.8)\n",
      "Requirement already satisfied: Jinja2>=2.10 in c:\\users\\dang dung\\anaconda3\\lib\\site-packages (from flask->gekko) (2.10)\n",
      "Requirement already satisfied: Werkzeug>=0.14 in c:\\users\\dang dung\\anaconda3\\lib\\site-packages (from flask->gekko) (0.14.1)\n",
      "Requirement already satisfied: itsdangerous>=0.24 in c:\\users\\dang dung\\anaconda3\\lib\\site-packages (from flask->gekko) (1.1.0)\n",
      "Requirement already satisfied: click>=5.1 in c:\\users\\dang dung\\anaconda3\\lib\\site-packages (from flask->gekko) (7.0)\n",
      "Requirement already satisfied: Six in c:\\users\\dang dung\\anaconda3\\lib\\site-packages (from flask-cors->gekko) (1.12.0)\n",
      "Requirement already satisfied: MarkupSafe>=0.23 in c:\\users\\dang dung\\anaconda3\\lib\\site-packages (from Jinja2>=2.10->flask->gekko) (1.1.1)\n"
     ]
    },
    {
     "data": {
      "text/plain": [
       "0"
      ]
     },
     "execution_count": 72,
     "metadata": {},
     "output_type": "execute_result"
    }
   ],
   "source": [
    "try:\n",
    "    from pip import main as pipmain\n",
    "except:\n",
    "    from pip._internal import main as pipmain\n",
    "pipmain(['install','gekko'])\n",
    "# to upgrade: pipmain(['install','--upgrade','gekko'])\n"
   ]
  },
  {
   "cell_type": "code",
   "execution_count": null,
   "metadata": {},
   "outputs": [],
   "source": []
  }
 ],
 "metadata": {
  "kernelspec": {
   "display_name": "Python 3",
   "language": "python",
   "name": "python3"
  },
  "language_info": {
   "codemirror_mode": {
    "name": "ipython",
    "version": 3
   },
   "file_extension": ".py",
   "mimetype": "text/x-python",
   "name": "python",
   "nbconvert_exporter": "python",
   "pygments_lexer": "ipython3",
   "version": "3.7.3"
  }
 },
 "nbformat": 4,
 "nbformat_minor": 2
}
