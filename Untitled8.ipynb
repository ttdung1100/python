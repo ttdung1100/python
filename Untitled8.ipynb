{
 "cells": [
  {
   "cell_type": "code",
   "execution_count": 57,
   "metadata": {},
   "outputs": [
    {
     "name": "stdout",
     "output_type": "stream",
     "text": [
      "Name :  Zara , Salary:  2000\n",
      "Name :  Manni , Salary:  5000\n",
      "Total Employee 2\n"
     ]
    }
   ],
   "source": [
    "class Employee:\n",
    "   'Common base class for all employees'\n",
    "   empCount = 0\n",
    "\n",
    "   def __init__(self, name, salary):\n",
    "      self.name = name\n",
    "      self.salary = salary\n",
    "      Employee.empCount += 1\n",
    "   \n",
    "   def displayCount(self):\n",
    "     print(\"Total Employee %d\" % Employee.empCount)\n",
    "\n",
    "   def displayEmployee(self):\n",
    "      print ( \"Name : \", self.name,  \", Salary: \", self.salary)\n",
    "\n",
    "\"This would create first object of Employee class\"\n",
    "emp1 = Employee(\"Zara\", 2000)\n",
    "\"This would create second object of Employee class\"\n",
    "emp2 = Employee(\"Manni\", 5000)\n",
    "\n",
    "emp1.displayEmployee()\n",
    "emp2.displayEmployee()\n",
    "print(\"Total Employee %d\" % Employee.empCount)\n"
   ]
  },
  {
   "cell_type": "code",
   "execution_count": 58,
   "metadata": {},
   "outputs": [
    {
     "name": "stdout",
     "output_type": "stream",
     "text": [
      "Name :  Zara , Salary:  2000\n",
      "Name :  Manni , Salary:  5000\n",
      "Total Employee 2\n"
     ]
    }
   ],
   "source": [
    "class Employee:\n",
    "   'Common base class for all employees'\n",
    "   empCount = 0\n",
    "\n",
    "   def __init__(self, name, salary):\n",
    "      self.name = name\n",
    "      self.salary = salary\n",
    "      Employee.empCount += 1\n",
    "   \n",
    "   def displayCount(self):\n",
    "     print(\"Total Employee %d\" % Employee.empCount)\n",
    "\n",
    "   def displayEmployee(self):\n",
    "      print(\"Name : \", self.name,  \", Salary: \", self.salary)\n",
    "\n",
    "\"This would create first object of Employee class\"\n",
    "emp1 = Employee(\"Zara\", 2000)\n",
    "\"This would create second object of Employee class\"\n",
    "emp2 = Employee(\"Manni\", 5000)\n",
    "emp1.displayEmployee()\n",
    "emp2.displayEmployee()\n",
    "print(\"Total Employee %d\" % Employee.empCount)\n"
   ]
  },
  {
   "cell_type": "code",
   "execution_count": 100,
   "metadata": {},
   "outputs": [
    {
     "name": "stdout",
     "output_type": "stream",
     "text": [
      "Name :  Zara , Salary:  2000\n",
      "Name :  Manni , Salary:  5000\n",
      "Total Employee 0\n"
     ]
    },
    {
     "ename": "AttributeError",
     "evalue": "'Employee' object has no attribute 'age'",
     "output_type": "error",
     "traceback": [
      "\u001b[1;31m---------------------------------------------------------------------------\u001b[0m",
      "\u001b[1;31mAttributeError\u001b[0m                            Traceback (most recent call last)",
      "\u001b[1;32m<ipython-input-100-4292e30c3580>\u001b[0m in \u001b[0;36m<module>\u001b[1;34m\u001b[0m\n\u001b[0;32m      8\u001b[0m \u001b[1;33m\u001b[0m\u001b[0m\n\u001b[0;32m      9\u001b[0m \u001b[0mhasattr\u001b[0m\u001b[1;33m(\u001b[0m\u001b[0memp1\u001b[0m\u001b[1;33m,\u001b[0m\u001b[1;34m'age'\u001b[0m\u001b[1;33m)\u001b[0m    \u001b[1;31m# Returns true if 'age' attribute exists\u001b[0m\u001b[1;33m\u001b[0m\u001b[1;33m\u001b[0m\u001b[0m\n\u001b[1;32m---> 10\u001b[1;33m \u001b[0mgetattr\u001b[0m\u001b[1;33m(\u001b[0m\u001b[0memp1\u001b[0m\u001b[1;33m,\u001b[0m\u001b[1;34m'age'\u001b[0m\u001b[1;33m)\u001b[0m    \u001b[1;31m# Returns value of 'age' attribute\u001b[0m\u001b[1;33m\u001b[0m\u001b[1;33m\u001b[0m\u001b[0m\n\u001b[0m\u001b[0;32m     11\u001b[0m \u001b[0msetattr\u001b[0m\u001b[1;33m(\u001b[0m\u001b[0memp1\u001b[0m\u001b[1;33m,\u001b[0m\u001b[1;34m'age'\u001b[0m\u001b[1;33m,\u001b[0m \u001b[1;36m8\u001b[0m\u001b[1;33m)\u001b[0m \u001b[1;31m# Set attribute 'age' at 8\u001b[0m\u001b[1;33m\u001b[0m\u001b[1;33m\u001b[0m\u001b[0m\n\u001b[0;32m     12\u001b[0m \u001b[1;31m#delattr(empl,'age')    # Delete attribute 'age'\u001b[0m\u001b[1;33m\u001b[0m\u001b[1;33m\u001b[0m\u001b[1;33m\u001b[0m\u001b[0m\n",
      "\u001b[1;31mAttributeError\u001b[0m: 'Employee' object has no attribute 'age'"
     ]
    }
   ],
   "source": [
    "emp1.age = 7  # Add an 'age' attribute.\n",
    "emp1.age = 8  # Modify 'age' attribute.\n",
    "del emp1.age  # Delete 'age' attribute.\n",
    "emp1.displayEmployee()\n",
    "emp2.displayEmployee()\n",
    "print(\"Total Employee %d\" % Employee.empCount)\n",
    "\n"
   ]
  },
  {
   "cell_type": "code",
   "execution_count": 109,
   "metadata": {},
   "outputs": [
    {
     "ename": "NameError",
     "evalue": "name 'empl' is not defined",
     "output_type": "error",
     "traceback": [
      "\u001b[1;31m---------------------------------------------------------------------------\u001b[0m",
      "\u001b[1;31mNameError\u001b[0m                                 Traceback (most recent call last)",
      "\u001b[1;32m<ipython-input-109-1f248027b24f>\u001b[0m in \u001b[0;36m<module>\u001b[1;34m\u001b[0m\n\u001b[0;32m      2\u001b[0m \u001b[1;31m#getattr(emp1, 'birth')    # Returns value of 'age' attribute\u001b[0m\u001b[1;33m\u001b[0m\u001b[1;33m\u001b[0m\u001b[1;33m\u001b[0m\u001b[0m\n\u001b[0;32m      3\u001b[0m \u001b[0msetattr\u001b[0m\u001b[1;33m(\u001b[0m\u001b[0memp1\u001b[0m\u001b[1;33m,\u001b[0m \u001b[1;34m'age'\u001b[0m\u001b[1;33m,\u001b[0m \u001b[1;36m8\u001b[0m\u001b[1;33m)\u001b[0m \u001b[1;31m# Set attribute 'age' at 8\u001b[0m\u001b[1;33m\u001b[0m\u001b[1;33m\u001b[0m\u001b[0m\n\u001b[1;32m----> 4\u001b[1;33m \u001b[0mdelattr\u001b[0m\u001b[1;33m(\u001b[0m\u001b[0mempl\u001b[0m\u001b[1;33m,\u001b[0m \u001b[1;34m'age'\u001b[0m\u001b[1;33m)\u001b[0m    \u001b[1;31m# Delete attribute 'age'\u001b[0m\u001b[1;33m\u001b[0m\u001b[1;33m\u001b[0m\u001b[0m\n\u001b[0m",
      "\u001b[1;31mNameError\u001b[0m: name 'empl' is not defined"
     ]
    }
   ],
   "source": [
    "hasattr(emp1,'birth')    # Returns true if 'age' attribute exists\n",
    "#getattr(emp1, 'birth')    # Returns value of 'age' attribute\n",
    "setattr(emp1, 'age', 8) # Set attribute 'age' at 8\n",
    "delattr(empl, 'age')    # Delete attribute 'age'\n"
   ]
  },
  {
   "cell_type": "code",
   "execution_count": 110,
   "metadata": {},
   "outputs": [
    {
     "name": "stdout",
     "output_type": "stream",
     "text": [
      "Employee.__doc__: Common base class for all employees\n",
      "Employee.__name__: Employee\n",
      "Employee.__module__: __main__\n",
      "Employee.__bases__: (<class 'object'>,)\n",
      "Employee.__dict__: {'__module__': '__main__', '__doc__': 'Common base class for all employees', 'empCount': 0, '__init__': <function Employee.__init__ at 0x0000029BFD5521E0>, 'displayCount': <function Employee.displayCount at 0x0000029BFD552B70>, 'displayEmployee': <function Employee.displayEmployee at 0x0000029BFD552048>, '__dict__': <attribute '__dict__' of 'Employee' objects>, '__weakref__': <attribute '__weakref__' of 'Employee' objects>}\n"
     ]
    }
   ],
   "source": [
    "class Employee:\n",
    "   'Common base class for all employees'\n",
    "   empCount = 0\n",
    "\n",
    "   def __init__(self, name, salary):\n",
    "      self.name = name\n",
    "      self.salary = salary\n",
    "      Employee.empCount += 1\n",
    "   \n",
    "   def displayCount(self):\n",
    "     print( \"Total Employee %d\" % Employee.empCount)\n",
    "\n",
    "   def displayEmployee(self):\n",
    "      print( \"Name : \", self.name,  \", Salary: \", self.salary)\n",
    "\n",
    "print( \"Employee.__doc__:\", Employee.__doc__)\n",
    "print (\"Employee.__name__:\", Employee.__name__)\n",
    "print( \"Employee.__module__:\", Employee.__module__)\n",
    "print (\"Employee.__bases__:\", Employee.__bases__)\n",
    "print (\"Employee.__dict__:\", Employee.__dict__)\n"
   ]
  },
  {
   "cell_type": "code",
   "execution_count": 70,
   "metadata": {},
   "outputs": [],
   "source": [
    "a = 40      # Create object <40>\n",
    "b = a       # Increase ref. count  of <40> \n",
    "c = [b]     # Increase ref. count  of <40> \n",
    "\n",
    "del a       # Decrease ref. count  of <40>\n",
    "b = 100     # Decrease ref. count  of <40> \n",
    "c[0] = -1   # Decrease ref. count  of <40> \n"
   ]
  },
  {
   "cell_type": "code",
   "execution_count": 53,
   "metadata": {},
   "outputs": [
    {
     "name": "stdout",
     "output_type": "stream",
     "text": [
      "2868992488896 2868992488896 2868992488896\n",
      "Point destroyed\n"
     ]
    }
   ],
   "source": [
    "class Point:\n",
    "   def __init__( self, x=0, y=0):\n",
    "      self.x = x\n",
    "      self.y = y\n",
    "   def __del__(self):\n",
    "      class_name = self.__class__.__name__\n",
    "      print (class_name, \"destroyed\")\n",
    "\n",
    "pt1 = Point()\n",
    "pt2 = pt1\n",
    "pt3 = pt1\n",
    "print(id(pt1), id(pt2), id(pt3)) # prints the ids of the obejcts\n",
    "del pt1\n",
    "del pt2\n",
    "del pt3\n"
   ]
  },
  {
   "cell_type": "code",
   "execution_count": 73,
   "metadata": {},
   "outputs": [
    {
     "name": "stdout",
     "output_type": "stream",
     "text": [
      "Calling child constructor\n",
      "Calling child method\n",
      "Calling parent method\n",
      "Parent attribute : 200\n"
     ]
    }
   ],
   "source": [
    "class Parent:        # define parent class\n",
    "   parentAttr = 100\n",
    "   def __init__(self):\n",
    "      print( \"Calling parent constructor\")\n",
    "\n",
    "   def parentMethod(self):\n",
    "      print ('Calling parent method')\n",
    "\n",
    "   def setAttr(self, attr):\n",
    "      Parent.parentAttr = attr\n",
    "\n",
    "   def getAttr(self):\n",
    "      print (\"Parent attribute :\", Parent.parentAttr)\n",
    "\n",
    "class Child(Parent): # define child class\n",
    "   def __init__(self):\n",
    "      print (\"Calling child constructor\")\n",
    "\n",
    "   def childMethod(self):\n",
    "      print ('Calling child method')\n",
    "\n",
    "c = Child()          # instance of child\n",
    "c.childMethod()      # child calls its method\n",
    "c.parentMethod()     # calls parent's method\n",
    "c.setAttr(200)       # again call parent's method\n",
    "c.getAttr()          # again call parent's method\n"
   ]
  },
  {
   "cell_type": "code",
   "execution_count": 75,
   "metadata": {},
   "outputs": [
    {
     "name": "stdout",
     "output_type": "stream",
     "text": [
      "Calling child method\n"
     ]
    }
   ],
   "source": [
    "class Parent:        # define parent class\n",
    "   def myMethod(self):\n",
    "      print ('Calling parent method')\n",
    "\n",
    "class Child(Parent): # define child class\n",
    "   def myMethod(self):\n",
    "      print ('Calling child method')\n",
    "\n",
    "c = Child()          # instance of child\n",
    "c.myMethod()         # child calls overridden method\n"
   ]
  },
  {
   "cell_type": "code",
   "execution_count": 84,
   "metadata": {},
   "outputs": [
    {
     "name": "stdout",
     "output_type": "stream",
     "text": [
      "Vector (7, 8)\n"
     ]
    }
   ],
   "source": [
    "class Vector:\n",
    "   def __init__(self, a, b):\n",
    "      self.a = a\n",
    "      self.b = b\n",
    "\n",
    "   def __str__(self):\n",
    "      return 'Vector (%d, %d)' % (self.a, self.b)\n",
    "   \n",
    "   def __add__(self,other):\n",
    "      return Vector(self.a + other.a, self.b + other.b)\n",
    "\n",
    "v1 = Vector(2,10)\n",
    "v2 = Vector(5,-2)\n",
    "print( v1 + v2)\n"
   ]
  },
  {
   "cell_type": "code",
   "execution_count": 14,
   "metadata": {},
   "outputs": [
    {
     "ename": "SyntaxError",
     "evalue": "Missing parentheses in call to 'print'. Did you mean print(counter.__secretCount)? (<ipython-input-14-3a42edb8e49a>, line 11)",
     "output_type": "error",
     "traceback": [
      "\u001b[1;36m  File \u001b[1;32m\"<ipython-input-14-3a42edb8e49a>\"\u001b[1;36m, line \u001b[1;32m11\u001b[0m\n\u001b[1;33m    print counter.__secretCount\u001b[0m\n\u001b[1;37m                ^\u001b[0m\n\u001b[1;31mSyntaxError\u001b[0m\u001b[1;31m:\u001b[0m Missing parentheses in call to 'print'. Did you mean print(counter.__secretCount)?\n"
     ]
    }
   ],
   "source": [
    "class JustCounter:\n",
    "   __secretCount = 0\n",
    "  \n",
    "   def count(self):\n",
    "      self.__secretCount += 1\n",
    "      print( self.__secretCount)\n",
    "\n",
    "counter = JustCounter()\n",
    "counter.count()\n",
    "counter.count()\n",
    "print counter.__secretCount"
   ]
  },
  {
   "cell_type": "code",
   "execution_count": 17,
   "metadata": {},
   "outputs": [
    {
     "name": "stdout",
     "output_type": "stream",
     "text": [
      "matchObj.group() :  Cats are smarter than dogs\n",
      "matchObj.group(1) :  Cats\n",
      "matchObj.group(2) :  smarter\n"
     ]
    }
   ],
   "source": [
    "import re\n",
    "\n",
    "line = \"Cats are smarter than dogs\"\n",
    "\n",
    "matchObj = re.match( r'(.*) are (.*?) .*', line, re.M|re.I)\n",
    "\n",
    "if matchObj:\n",
    "   print (\"matchObj.group() : \", matchObj.group() )\n",
    "   print (\"matchObj.group(1) : \", matchObj.group(1))\n",
    "   print (\"matchObj.group(2) : \", matchObj.group(2))\n",
    "else:\n",
    "   print (\"No match!!\")\n"
   ]
  },
  {
   "cell_type": "code",
   "execution_count": 18,
   "metadata": {},
   "outputs": [
    {
     "ename": "NameError",
     "evalue": "name 'pattern' is not defined",
     "output_type": "error",
     "traceback": [
      "\u001b[1;31m---------------------------------------------------------------------------\u001b[0m",
      "\u001b[1;31mNameError\u001b[0m                                 Traceback (most recent call last)",
      "\u001b[1;32m<ipython-input-18-1bbb63995f9f>\u001b[0m in \u001b[0;36m<module>\u001b[1;34m\u001b[0m\n\u001b[1;32m----> 1\u001b[1;33m \u001b[0mre\u001b[0m\u001b[1;33m.\u001b[0m\u001b[0msearch\u001b[0m\u001b[1;33m(\u001b[0m\u001b[0mpattern\u001b[0m\u001b[1;33m,\u001b[0m \u001b[0mstring\u001b[0m\u001b[1;33m,\u001b[0m \u001b[0mflags\u001b[0m\u001b[1;33m=\u001b[0m\u001b[1;36m0\u001b[0m\u001b[1;33m)\u001b[0m\u001b[1;33m\u001b[0m\u001b[1;33m\u001b[0m\u001b[0m\n\u001b[0m",
      "\u001b[1;31mNameError\u001b[0m: name 'pattern' is not defined"
     ]
    }
   ],
   "source": [
    "re.search(pattern, string, flags=0)"
   ]
  },
  {
   "cell_type": "code",
   "execution_count": 20,
   "metadata": {},
   "outputs": [
    {
     "name": "stdout",
     "output_type": "stream",
     "text": [
      "searchObj.group() :  Cats are smarter than dogs\n",
      "searchObj.group(1) :  Cats\n",
      "searchObj.group(2) :  smarter\n"
     ]
    }
   ],
   "source": [
    "import re\n",
    "\n",
    "line = \"Cats are smarter than dogs\";\n",
    "\n",
    "searchObj = re.search( r'(.*) are (.*?) .*', line, re.M|re.I)\n",
    "\n",
    "if searchObj:\n",
    "   print (\"searchObj.group() : \", searchObj.group())\n",
    "   print (\"searchObj.group(1) : \", searchObj.group(1))\n",
    "   print (\"searchObj.group(2) : \", searchObj.group(2))\n",
    "else:\n",
    "   print (\"Nothing found!!\")\n"
   ]
  },
  {
   "cell_type": "code",
   "execution_count": 22,
   "metadata": {},
   "outputs": [
    {
     "name": "stdout",
     "output_type": "stream",
     "text": [
      "No match!!\n",
      "search --> searchObj.group() :  dogs\n"
     ]
    }
   ],
   "source": [
    "import re\n",
    "\n",
    "line = \"Cats are smarter than dogs\";\n",
    "\n",
    "matchObj = re.match( r'dogs', line, re.M|re.I)\n",
    "if matchObj:\n",
    "   print (\"match --> matchObj.group() : \", matchObj.group() )\n",
    "else:\n",
    "   print (\"No match!!\")\n",
    "\n",
    "searchObj = re.search( r'dogs', line, re.M|re.I)\n",
    "if searchObj:\n",
    "   print (\"search --> searchObj.group() : \", searchObj.group())\n",
    "else:\n",
    "   print (\"Nothing found!!\")\n"
   ]
  },
  {
   "cell_type": "code",
   "execution_count": 23,
   "metadata": {},
   "outputs": [
    {
     "name": "stdout",
     "output_type": "stream",
     "text": [
      "Phone Num :  2004-959-559 \n",
      "Phone Num :  2004959559\n"
     ]
    }
   ],
   "source": [
    "import re\n",
    "\n",
    "phone = \"2004-959-559 # This is Phone Number\"\n",
    "\n",
    "# Delete Python-style comments\n",
    "num = re.sub(r'#.*$', \"\", phone)\n",
    "print (\"Phone Num : \", num)\n",
    "\n",
    "# Remove anything other than digits\n",
    "num = re.sub(r'\\D', \"\", phone)    \n",
    "print( \"Phone Num : \", num)\n"
   ]
  },
  {
   "cell_type": "code",
   "execution_count": 29,
   "metadata": {},
   "outputs": [
    {
     "name": "stdout",
     "output_type": "stream",
     "text": [
      "Content-type: text/html\n",
      "\n",
      "\n",
      "<font size=+1>Environment</font>r>\n",
      "<b>     ALLUSERSPROFILE</b>: C:\\ProgramDatar>\n",
      "<b>             APPDATA</b>: C:\\Users\\Dang Dung\\AppData\\Roamingr>\n",
      "<b>             ASL.LOG</b>: Destination=filer>\n",
      "<b>  COMMONPROGRAMFILES</b>: C:\\Program Files\\Common Filesr>\n",
      "<b>COMMONPROGRAMFILES(X86)</b>: C:\\Program Files (x86)\\Common Filesr>\n",
      "<b>  COMMONPROGRAMW6432</b>: C:\\Program Files\\Common Filesr>\n",
      "<b>        COMPUTERNAME</b>: DESKTOP-3GH088Ir>\n",
      "<b>             COMSPEC</b>: C:\\Windows\\system32\\cmd.exer>\n",
      "<b>   CONDA_DEFAULT_ENV</b>: baser>\n",
      "<b>           CONDA_EXE</b>: C:\\Users\\Dang Dung\\Anaconda3\\Scripts\\conda.exer>\n",
      "<b>CONDA_PROMPT_MODIFIER</b>: (base) r>\n",
      "<b>          CONDA_ROOT</b>: C:\\Users\\Dang Dung\\Anaconda3r>\n",
      "<b>         CONDA_SHLVL</b>: 1r>\n",
      "<b>FPS_BROWSER_APP_PROFILE_STRING</b>: Internet Explorerr>\n",
      "<b>FPS_BROWSER_USER_PROFILE_STRING</b>: Defaultr>\n",
      "<b>           HOMEDRIVE</b>: C:r>\n",
      "<b>            HOMEPATH</b>: \\Users\\Dang Dungr>\n",
      "<b>        LOCALAPPDATA</b>: C:\\Users\\Dang Dung\\AppData\\Localr>\n",
      "<b>         LOGONSERVER</b>: \\\\DESKTOP-3GH088Ir>\n",
      "<b>NUMBER_OF_PROCESSORS</b>: 4r>\n",
      "<b>            ONEDRIVE</b>: C:\\Users\\Dang Dung\\OneDriver>\n",
      "<b>                  OS</b>: Windows_NTr>\n",
      "<b>                PATH</b>: C:\\Users\\Dang Dung\\Anaconda3;C:\\Users\\Dang Dung\\Anaconda3\\Library\\mingw-w64\\bin;C:\\Users\\Dang Dung\\Anaconda3\\Library\\usr\\bin;C:\\Users\\Dang Dung\\Anaconda3\\Library\\bin;C:\\Users\\Dang Dung\\Anaconda3\\Scripts;C:\\Users\\Dang Dung\\Anaconda3\\bin;C:\\Users\\Dang Dung\\Anaconda3\\condabin;C:\\Users\\Dang Dung\\Anaconda3;C:\\Users\\Dang Dung\\Anaconda3\\Library\\mingw-w64\\bin;C:\\Users\\Dang Dung\\Anaconda3\\Library\\usr\\bin;C:\\Users\\Dang Dung\\Anaconda3\\Library\\bin;C:\\Users\\Dang Dung\\Anaconda3\\Scripts;C:\\Windows\\system32;C:\\Windows;C:\\Windows\\System32\\Wbem;C:\\Windows\\System32\\WindowsPowerShell\\v1.0\\;C:\\Users\\Dang Dung\\AppData\\Local\\Microsoft\\WindowsApps;r>\n",
      "<b>             PATHEXT</b>: .COM;.EXE;.BAT;.CMD;.VBS;.VBE;.JS;.JSE;.WSF;.WSH;.MSCr>\n",
      "<b>PROCESSOR_ARCHITECTURE</b>: AMD64r>\n",
      "<b>PROCESSOR_IDENTIFIER</b>: Intel64 Family 6 Model 142 Stepping 9, GenuineIntelr>\n",
      "<b>     PROCESSOR_LEVEL</b>: 6r>\n",
      "<b>  PROCESSOR_REVISION</b>: 8e09r>\n",
      "<b>         PROGRAMDATA</b>: C:\\ProgramDatar>\n",
      "<b>        PROGRAMFILES</b>: C:\\Program Filesr>\n",
      "<b>   PROGRAMFILES(X86)</b>: C:\\Program Files (x86)r>\n",
      "<b>        PROGRAMW6432</b>: C:\\Program Filesr>\n",
      "<b>              PROMPT</b>: (base) $P$Gr>\n",
      "<b>        PSMODULEPATH</b>: C:\\Program Files\\WindowsPowerShell\\Modules;C:\\Windows\\system32\\WindowsPowerShell\\v1.0\\Modulesr>\n",
      "<b>              PUBLIC</b>: C:\\Users\\Publicr>\n",
      "<b>         SESSIONNAME</b>: Consoler>\n",
      "<b>         SYSTEMDRIVE</b>: C:r>\n",
      "<b>          SYSTEMROOT</b>: C:\\Windowsr>\n",
      "<b>                TEMP</b>: C:\\Users\\DANGDU~1\\AppData\\Local\\Tempr>\n",
      "<b>                 TMP</b>: C:\\Users\\DANGDU~1\\AppData\\Local\\Tempr>\n",
      "<b>          USERDOMAIN</b>: DESKTOP-3GH088Ir>\n",
      "<b>USERDOMAIN_ROAMINGPROFILE</b>: DESKTOP-3GH088Ir>\n",
      "<b>            USERNAME</b>: Dang Dungr>\n",
      "<b>         USERPROFILE</b>: C:\\Users\\Dang Dungr>\n",
      "<b>              WINDIR</b>: C:\\Windowsr>\n",
      "<b>        CONDA_PREFIX</b>: C:\\Users\\Dang Dung\\Anaconda3r>\n",
      "<b>               _SYSP</b>: C:\\Users\\Dang Dung\\Anaconda3\\condabin\\..\\r>\n",
      "<b> JPY_INTERRUPT_EVENT</b>: 2472r>\n",
      "<b> IPY_INTERRUPT_EVENT</b>: 2472r>\n",
      "<b>      JPY_PARENT_PID</b>: 2476r>\n",
      "<b>                TERM</b>: xterm-colorr>\n",
      "<b>            CLICOLOR</b>: 1r>\n",
      "<b>               PAGER</b>: catr>\n",
      "<b>           GIT_PAGER</b>: catr>\n",
      "<b>          MPLBACKEND</b>: module://ipykernel.pylab.backend_inliner>\n"
     ]
    }
   ],
   "source": [
    "import os\n",
    "\n",
    "print (\"Content-type: text/html\\r\\n\\r\\n\");\n",
    "print (\"<font size=+1>Environment</font><\\br>\");\n",
    "for param in os.environ.keys():\n",
    "   print (\"<b>%20s</b>: %s<\\br>\" % (param, os.environ[param]))"
   ]
  },
  {
   "cell_type": "code",
   "execution_count": 31,
   "metadata": {},
   "outputs": [
    {
     "name": "stdout",
     "output_type": "stream",
     "text": [
      "Content-type:text/html\n",
      "\n",
      "\n",
      "<html>\n",
      "<head>\n",
      "<title>Hello - Second CGI Program</title>\n",
      "</head>\n",
      "<body>\n",
      "<h2>Hello None None</h2>\n",
      "</body>\n",
      "</html>\n"
     ]
    }
   ],
   "source": [
    "# Import modules for CGI handling \n",
    "import cgi, cgitb \n",
    "\n",
    "# Create instance of FieldStorage \n",
    "form = cgi.FieldStorage() \n",
    "\n",
    "# Get data from fields\n",
    "first_name = form.getvalue('first_name')\n",
    "last_name  = form.getvalue('last_name')\n",
    "\n",
    "print (\"Content-type:text/html\\r\\n\\r\\n\")\n",
    "print (\"<html>\")\n",
    "print (\"<head>\")\n",
    "print (\"<title>Hello - Second CGI Program</title>\")\n",
    "print (\"</head>\")\n",
    "print (\"<body>\")\n",
    "print (\"<h2>Hello %s %s</h2>\" % (first_name, last_name))\n",
    "print (\"</body>\")\n",
    "print (\"</html>\")\n"
   ]
  },
  {
   "cell_type": "code",
   "execution_count": 33,
   "metadata": {},
   "outputs": [
    {
     "name": "stdout",
     "output_type": "stream",
     "text": [
      "Content-type:text/html\n",
      "\n",
      "\n",
      "<html>\n",
      "<head>\n",
      "<title>Hello - Second CGI Program</title>\n",
      "</head>\n",
      "<body>\n",
      "<h2>Hello None None</h2>\n",
      "</body>\n",
      "</html>\n"
     ]
    }
   ],
   "source": [
    "import cgi, cgitb \n",
    "\n",
    "# Create instance of FieldStorage \n",
    "form = cgi.FieldStorage() \n",
    "\n",
    "# Get data from fields\n",
    "first_name = form.getvalue('first_name')\n",
    "last_name  = form.getvalue('last_name')\n",
    "\n",
    "print (\"Content-type:text/html\\r\\n\\r\\n\")\n",
    "print (\"<html>\")\n",
    "print (\"<head>\")\n",
    "print (\"<title>Hello - Second CGI Program</title>\")\n",
    "print (\"</head>\")\n",
    "print (\"<body>\")\n",
    "print (\"<h2>Hello %s %s</h2>\" % (first_name, last_name))\n",
    "print (\"</body>\")\n",
    "print (\"</html>\")"
   ]
  },
  {
   "cell_type": "code",
   "execution_count": 35,
   "metadata": {},
   "outputs": [
    {
     "ename": "SyntaxError",
     "evalue": "invalid syntax (<ipython-input-35-8430b08e6bf5>, line 1)",
     "output_type": "error",
     "traceback": [
      "\u001b[1;36m  File \u001b[1;32m\"<ipython-input-35-8430b08e6bf5>\"\u001b[1;36m, line \u001b[1;32m1\u001b[0m\n\u001b[1;33m    <form action = \"/cgi-bin/checkbox.cgi\" method = \"POST\" target = \"_blank\">\u001b[0m\n\u001b[1;37m    ^\u001b[0m\n\u001b[1;31mSyntaxError\u001b[0m\u001b[1;31m:\u001b[0m invalid syntax\n"
     ]
    }
   ],
   "source": [
    "<form action = \"/cgi-bin/checkbox.cgi\" method = \"POST\" target = \"_blank\">\n",
    "<input type = \"checkbox\" name = \"maths\" value = \"on\" /> Maths\n",
    "<input type = \"checkbox\" name = \"physics\" value = \"on\" /> Physics\n",
    "<input type = \"submit\" value = \"Select Subject\" />\n",
    "</form>\n"
   ]
  },
  {
   "cell_type": "code",
   "execution_count": 37,
   "metadata": {},
   "outputs": [
    {
     "name": "stdout",
     "output_type": "stream",
     "text": [
      "Content-type:text/html\n",
      "\n",
      "\n",
      "<html>\n",
      "<head>\n",
      "<title>Checkbox - Third CGI Program</title>\n",
      "</head>\n",
      "<body>\n",
      "<h2> CheckBox Maths is : OFF</h2>\n",
      "<h2> CheckBox Physics is : OFF</h2>\n",
      "</body>\n",
      "</html>\n"
     ]
    }
   ],
   "source": [
    "# Import modules for CGI handling \n",
    "import cgi, cgitb \n",
    "\n",
    "# Create instance of FieldStorage \n",
    "form = cgi.FieldStorage() \n",
    "\n",
    "# Get data from fields\n",
    "if form.getvalue('maths'):\n",
    "   math_flag = \"ON\"\n",
    "else:\n",
    "   math_flag = \"OFF\"\n",
    "\n",
    "if form.getvalue('physics'):\n",
    "   physics_flag = \"ON\"\n",
    "else:\n",
    "   physics_flag = \"OFF\"\n",
    "\n",
    "print (\"Content-type:text/html\\r\\n\\r\\n\")\n",
    "print (\"<html>\")\n",
    "print (\"<head>\")\n",
    "print (\"<title>Checkbox - Third CGI Program</title>\")\n",
    "print (\"</head>\")\n",
    "print (\"<body>\")\n",
    "print (\"<h2> CheckBox Maths is : %s</h2>\" % math_flag)\n",
    "print (\"<h2> CheckBox Physics is : %s</h2>\" % physics_flag)\n",
    "print (\"</body>\")\n",
    "print (\"</html>\")\n"
   ]
  },
  {
   "cell_type": "code",
   "execution_count": 38,
   "metadata": {},
   "outputs": [
    {
     "ename": "SyntaxError",
     "evalue": "invalid syntax (<ipython-input-38-7d737efbefd0>, line 1)",
     "output_type": "error",
     "traceback": [
      "\u001b[1;36m  File \u001b[1;32m\"<ipython-input-38-7d737efbefd0>\"\u001b[1;36m, line \u001b[1;32m1\u001b[0m\n\u001b[1;33m    <form action = \"/cgi-bin/radiobutton.py\" method = \"post\" target = \"_blank\">\u001b[0m\n\u001b[1;37m    ^\u001b[0m\n\u001b[1;31mSyntaxError\u001b[0m\u001b[1;31m:\u001b[0m invalid syntax\n"
     ]
    }
   ],
   "source": [
    "<form action = \"/cgi-bin/radiobutton.py\" method = \"post\" target = \"_blank\">\n",
    "<input type = \"radio\" name = \"subject\" value = \"maths\" /> Maths\n",
    "<input type = \"radio\" name = \"subject\" value = \"physics\" /> Physics\n",
    "<input type = \"submit\" value = \"Select Subject\" />\n",
    "</form>\n"
   ]
  },
  {
   "cell_type": "code",
   "execution_count": 40,
   "metadata": {},
   "outputs": [
    {
     "name": "stdout",
     "output_type": "stream",
     "text": [
      "Content-type:text/html\n",
      "\n",
      "\n",
      "<html>\n",
      "<head>\n",
      "<title>Radio - Fourth CGI Program</title>\n",
      "</head>\n",
      "<body>\n",
      "<h2> Selected Subject is Not set</h2>\n",
      "</body>\n",
      "</html>\n"
     ]
    }
   ],
   "source": [
    "# Import modules for CGI handling \n",
    "import cgi, cgitb \n",
    "\n",
    "# Create instance of FieldStorage \n",
    "form = cgi.FieldStorage() \n",
    "\n",
    "# Get data from fields\n",
    "if form.getvalue('subject'):\n",
    "   subject = form.getvalue('subject')\n",
    "else:\n",
    "   subject = \"Not set\"\n",
    "\n",
    "print (\"Content-type:text/html\\r\\n\\r\\n\")\n",
    "print (\"<html>\")\n",
    "print (\"<head>\")\n",
    "print (\"<title>Radio - Fourth CGI Program</title>\")\n",
    "print (\"</head>\")\n",
    "print (\"<body>\")\n",
    "print (\"<h2> Selected Subject is %s</h2>\" % subject)\n",
    "print (\"</body>\")\n",
    "print (\"</html>\")\n"
   ]
  },
  {
   "cell_type": "code",
   "execution_count": 46,
   "metadata": {},
   "outputs": [
    {
     "ename": "SyntaxError",
     "evalue": "invalid syntax (<ipython-input-46-b9754d1d347b>, line 1)",
     "output_type": "error",
     "traceback": [
      "\u001b[1;36m  File \u001b[1;32m\"<ipython-input-46-b9754d1d347b>\"\u001b[1;36m, line \u001b[1;32m1\u001b[0m\n\u001b[1;33m    <form action = \"/cgi-bin/textarea.py\" method = \"post\" target = \"_blank\">\u001b[0m\n\u001b[1;37m    ^\u001b[0m\n\u001b[1;31mSyntaxError\u001b[0m\u001b[1;31m:\u001b[0m invalid syntax\n"
     ]
    }
   ],
   "source": [
    "<form action = \"/cgi-bin/textarea.py\" method = \"post\" target = \"_blank\">\n",
    "<textarea name = \"textcontent\" cols = \"40\" rows = \"4\">\n",
    "Type your text here...\n",
    "</textarea>\n",
    "<input type = \"submit\" value = \"Submit\" />\n",
    "</form>\n"
   ]
  },
  {
   "cell_type": "code",
   "execution_count": 49,
   "metadata": {},
   "outputs": [
    {
     "name": "stdout",
     "output_type": "stream",
     "text": [
      "Content-type:text/html\n",
      "\n",
      "\n",
      "<html>\n",
      "<head>\n",
      "<title>Text Area - Fifth CGI Program</title>\n",
      "</head>\n",
      "<body>\n",
      "<h2> Entered Text Content is Not entered</h2>\n",
      "</body>\n"
     ]
    }
   ],
   "source": [
    "# Import modules for CGI handling \n",
    "import cgi, cgitb \n",
    "\n",
    "# Create instance of FieldStorage \n",
    "form = cgi.FieldStorage() \n",
    "\n",
    "# Get data from fields\n",
    "if form.getvalue('textcontent'):\n",
    "   text_content = form.getvalue('textcontent')\n",
    "else:\n",
    "   text_content = \"Not entered\"\n",
    "\n",
    "print (\"Content-type:text/html\\r\\n\\r\\n\")\n",
    "print (\"<html>\")\n",
    "print (\"<head>\");\n",
    "print (\"<title>Text Area - Fifth CGI Program</title>\")\n",
    "print (\"</head>\")\n",
    "print (\"<body>\")\n",
    "print (\"<h2> Entered Text Content is %s</h2>\" % text_content)\n",
    "print (\"</body>\")\n"
   ]
  },
  {
   "cell_type": "code",
   "execution_count": 50,
   "metadata": {},
   "outputs": [
    {
     "ename": "SyntaxError",
     "evalue": "invalid syntax (<ipython-input-50-2cd83918aa20>, line 1)",
     "output_type": "error",
     "traceback": [
      "\u001b[1;36m  File \u001b[1;32m\"<ipython-input-50-2cd83918aa20>\"\u001b[1;36m, line \u001b[1;32m1\u001b[0m\n\u001b[1;33m    <form action = \"/cgi-bin/dropdown.py\" method = \"post\" target = \"_blank\">\u001b[0m\n\u001b[1;37m    ^\u001b[0m\n\u001b[1;31mSyntaxError\u001b[0m\u001b[1;31m:\u001b[0m invalid syntax\n"
     ]
    }
   ],
   "source": [
    "<form action = \"/cgi-bin/dropdown.py\" method = \"post\" target = \"_blank\">\n",
    "<select name = \"dropdown\">\n",
    "<option value = \"Maths\" selected>Maths</option>\n",
    "<option value = \"Physics\">Physics</option>\n",
    "</select>\n",
    "<input type = \"submit\" value = \"Submit\"/>\n",
    "</form>\n"
   ]
  },
  {
   "cell_type": "code",
   "execution_count": 51,
   "metadata": {},
   "outputs": [
    {
     "name": "stdout",
     "output_type": "stream",
     "text": [
      "Content-type:text/html\n",
      "\n",
      "\n",
      "<html>\n",
      "<head>\n",
      "<title>Dropdown Box - Sixth CGI Program</title>\n",
      "</head>\n",
      "<body>\n",
      "<h2> Selected Subject is Not entered</h2>\n",
      "</body>\n",
      "</html>\n"
     ]
    }
   ],
   "source": [
    "# Import modules for CGI handling \n",
    "import cgi, cgitb \n",
    "\n",
    "# Create instance of FieldStorage \n",
    "form = cgi.FieldStorage() \n",
    "\n",
    "# Get data from fields\n",
    "if form.getvalue('dropdown'):\n",
    "   subject = form.getvalue('dropdown')\n",
    "else:\n",
    "   subject = \"Not entered\"\n",
    "\n",
    "print (\"Content-type:text/html\\r\\n\\r\\n\")\n",
    "print (\"<html>\")\n",
    "print (\"<head>\")\n",
    "print (\"<title>Dropdown Box - Sixth CGI Program</title>\")\n",
    "print (\"</head>\")\n",
    "print (\"<body>\")\n",
    "print (\"<h2> Selected Subject is %s</h2>\" % subject)\n",
    "print (\"</body>\")\n",
    "print (\"</html>\")\n"
   ]
  },
  {
   "cell_type": "code",
   "execution_count": 54,
   "metadata": {},
   "outputs": [
    {
     "ename": "SyntaxError",
     "evalue": "invalid syntax (<ipython-input-54-a717e8c7a609>, line 1)",
     "output_type": "error",
     "traceback": [
      "\u001b[1;36m  File \u001b[1;32m\"<ipython-input-54-a717e8c7a609>\"\u001b[1;36m, line \u001b[1;32m1\u001b[0m\n\u001b[1;33m    <html>\u001b[0m\n\u001b[1;37m    ^\u001b[0m\n\u001b[1;31mSyntaxError\u001b[0m\u001b[1;31m:\u001b[0m invalid syntax\n"
     ]
    }
   ],
   "source": [
    "<html>\n",
    "<body>\n",
    "   <form enctype = \"multipart/form-data\" \n",
    "                     action = \"save_file.py\" method = \"post\">\n",
    "   <p>File: <input type = \"file\" name = \"filename\" /></p>\n",
    "   <p><input type = \"submit\" value = \"Upload\" /></p>\n",
    "   </form>\n",
    "</body>\n",
    "</html>\n"
   ]
  },
  {
   "cell_type": "code",
   "execution_count": 55,
   "metadata": {},
   "outputs": [
    {
     "ename": "SyntaxError",
     "evalue": "invalid syntax (<ipython-input-55-9b279d23108d>, line 28)",
     "output_type": "error",
     "traceback": [
      "\u001b[1;36m  File \u001b[1;32m\"<ipython-input-55-9b279d23108d>\"\u001b[1;36m, line \u001b[1;32m28\u001b[0m\n\u001b[1;33m    \"\"\" % (message,)\u001b[0m\n\u001b[1;37m                    \n^\u001b[0m\n\u001b[1;31mSyntaxError\u001b[0m\u001b[1;31m:\u001b[0m invalid syntax\n"
     ]
    }
   ],
   "source": [
    "import cgi, os\n",
    "import cgitb; cgitb.enable()\n",
    "\n",
    "form = cgi.FieldStorage()\n",
    "\n",
    "# Get filename here.\n",
    "fileitem = form['filename']\n",
    "\n",
    "# Test if the file was uploaded\n",
    "if fileitem.filename:\n",
    "   # strip leading path from file name to avoid \n",
    "   # directory traversal attacks\n",
    "   fn = os.path.basename(fileitem.filename)\n",
    "   open('/tmp/' + fn, 'wb').write(fileitem.file.read())\n",
    "\n",
    "   message = 'The file \"' + fn + '\" was uploaded successfully'\n",
    "   \n",
    "else:\n",
    "   message = 'No file was uploaded'\n",
    "   \n",
    "print \"\"\"\\\n",
    "Content-Type: text/html\\n\n",
    "<html>\n",
    "<body>\n",
    "   <p>%s</p>\n",
    "</body>\n",
    "</html>\n",
    "\"\"\" % (message,)\n"
   ]
  },
  {
   "cell_type": "code",
   "execution_count": 56,
   "metadata": {},
   "outputs": [
    {
     "ename": "SyntaxError",
     "evalue": "Missing parentheses in call to 'print'. Did you mean print(\"Content-Type:application/octet-stream)? (<ipython-input-56-e7b21b3639a4>, line 1)",
     "output_type": "error",
     "traceback": [
      "\u001b[1;36m  File \u001b[1;32m\"<ipython-input-56-e7b21b3639a4>\"\u001b[1;36m, line \u001b[1;32m1\u001b[0m\n\u001b[1;33m    print \"Content-Type:application/octet-stream; name = \\\"FileName\\\"\\r\\n\";\u001b[0m\n\u001b[1;37m                                                                         ^\u001b[0m\n\u001b[1;31mSyntaxError\u001b[0m\u001b[1;31m:\u001b[0m Missing parentheses in call to 'print'. Did you mean print(\"Content-Type:application/octet-stream)?\n"
     ]
    }
   ],
   "source": [
    "print \"Content-Type:application/octet-stream; name = \\\"FileName\\\"\\r\\n\";\n",
    "print \"Content-Disposition: attachment; filename = \\\"FileName\\\"\\r\\n\\n\";\n",
    "\n",
    "# Actual File Content will go here.\n",
    "fo = open(\"foo.txt\", \"rb\")\n",
    "\n",
    "str = fo.read();\n",
    "print str\n",
    "\n",
    "# Close opend file\n",
    "fo.close()\n"
   ]
  },
  {
   "cell_type": "code",
   "execution_count": 57,
   "metadata": {},
   "outputs": [
    {
     "ename": "ModuleNotFoundError",
     "evalue": "No module named 'MySQLdb'",
     "output_type": "error",
     "traceback": [
      "\u001b[1;31m---------------------------------------------------------------------------\u001b[0m",
      "\u001b[1;31mModuleNotFoundError\u001b[0m                       Traceback (most recent call last)",
      "\u001b[1;32m<ipython-input-57-b4bf46996471>\u001b[0m in \u001b[0;36m<module>\u001b[1;34m\u001b[0m\n\u001b[1;32m----> 1\u001b[1;33m \u001b[1;32mimport\u001b[0m \u001b[0mMySQLdb\u001b[0m\u001b[1;33m\u001b[0m\u001b[1;33m\u001b[0m\u001b[0m\n\u001b[0m\u001b[0;32m      2\u001b[0m \u001b[1;33m\u001b[0m\u001b[0m\n\u001b[0;32m      3\u001b[0m \u001b[1;31m# Open database connection\u001b[0m\u001b[1;33m\u001b[0m\u001b[1;33m\u001b[0m\u001b[1;33m\u001b[0m\u001b[0m\n\u001b[0;32m      4\u001b[0m \u001b[0mdb\u001b[0m \u001b[1;33m=\u001b[0m \u001b[0mMySQLdb\u001b[0m\u001b[1;33m.\u001b[0m\u001b[0mconnect\u001b[0m\u001b[1;33m(\u001b[0m\u001b[1;34m\"localhost\"\u001b[0m\u001b[1;33m,\u001b[0m\u001b[1;34m\"testuser\"\u001b[0m\u001b[1;33m,\u001b[0m\u001b[1;34m\"test123\"\u001b[0m\u001b[1;33m,\u001b[0m\u001b[1;34m\"TESTDB\"\u001b[0m \u001b[1;33m)\u001b[0m\u001b[1;33m\u001b[0m\u001b[1;33m\u001b[0m\u001b[0m\n\u001b[0;32m      5\u001b[0m \u001b[1;33m\u001b[0m\u001b[0m\n",
      "\u001b[1;31mModuleNotFoundError\u001b[0m: No module named 'MySQLdb'"
     ]
    }
   ],
   "source": [
    "import MySQLdb\n",
    "\n",
    "# Open database connection\n",
    "db = MySQLdb.connect(\"localhost\",\"testuser\",\"test123\",\"TESTDB\" )\n",
    "\n",
    "# prepare a cursor object using cursor() method\n",
    "cursor = db.cursor()\n",
    "\n",
    "# Drop table if it already exist using execute() method.\n",
    "cursor.execute(\"DROP TABLE IF EXISTS EMPLOYEE\")\n",
    "\n",
    "# Create table as per requirement\n",
    "sql = \"\"\"CREATE TABLE EMPLOYEE (\n",
    "         FIRST_NAME  CHAR(20) NOT NULL,\n",
    "         LAST_NAME  CHAR(20),\n",
    "         AGE INT,  \n",
    "         SEX CHAR(1),\n",
    "         INCOME FLOAT )\"\"\"\n",
    "\n",
    "cursor.execute(sql)\n",
    "\n",
    "# disconnect from server\n",
    "db.close()\n"
   ]
  },
  {
   "cell_type": "code",
   "execution_count": 58,
   "metadata": {},
   "outputs": [
    {
     "ename": "ModuleNotFoundError",
     "evalue": "No module named 'MySQLdb'",
     "output_type": "error",
     "traceback": [
      "\u001b[1;31m---------------------------------------------------------------------------\u001b[0m",
      "\u001b[1;31mModuleNotFoundError\u001b[0m                       Traceback (most recent call last)",
      "\u001b[1;32m<ipython-input-58-1effa0f848ff>\u001b[0m in \u001b[0;36m<module>\u001b[1;34m\u001b[0m\n\u001b[1;32m----> 1\u001b[1;33m \u001b[1;32mimport\u001b[0m \u001b[0mMySQLdb\u001b[0m\u001b[1;33m\u001b[0m\u001b[1;33m\u001b[0m\u001b[0m\n\u001b[0m\u001b[0;32m      2\u001b[0m \u001b[1;33m\u001b[0m\u001b[0m\n\u001b[0;32m      3\u001b[0m \u001b[1;31m# Open database connection\u001b[0m\u001b[1;33m\u001b[0m\u001b[1;33m\u001b[0m\u001b[1;33m\u001b[0m\u001b[0m\n\u001b[0;32m      4\u001b[0m \u001b[0mdb\u001b[0m \u001b[1;33m=\u001b[0m \u001b[0mMySQLdb\u001b[0m\u001b[1;33m.\u001b[0m\u001b[0mconnect\u001b[0m\u001b[1;33m(\u001b[0m\u001b[1;34m\"localhost\"\u001b[0m\u001b[1;33m,\u001b[0m\u001b[1;34m\"testuser\"\u001b[0m\u001b[1;33m,\u001b[0m\u001b[1;34m\"test123\"\u001b[0m\u001b[1;33m,\u001b[0m\u001b[1;34m\"TESTDB\"\u001b[0m \u001b[1;33m)\u001b[0m\u001b[1;33m\u001b[0m\u001b[1;33m\u001b[0m\u001b[0m\n\u001b[0;32m      5\u001b[0m \u001b[1;33m\u001b[0m\u001b[0m\n",
      "\u001b[1;31mModuleNotFoundError\u001b[0m: No module named 'MySQLdb'"
     ]
    }
   ],
   "source": [
    "import MySQLdb\n",
    "\n",
    "# Open database connection\n",
    "db = MySQLdb.connect(\"localhost\",\"testuser\",\"test123\",\"TESTDB\" )\n",
    "\n",
    "# prepare a cursor object using cursor() method\n",
    "cursor = db.cursor()\n",
    "\n",
    "# Prepare SQL query to INSERT a record into the database.\n",
    "sql = \"\"\"INSERT INTO EMPLOYEE(FIRST_NAME,\n",
    "         LAST_NAME, AGE, SEX, INCOME)\n",
    "         VALUES ('Mac', 'Mohan', 20, 'M', 2000)\"\"\"\n",
    "try:\n",
    "   # Execute the SQL command\n",
    "   cursor.execute(sql)\n",
    "   # Commit your changes in the database\n",
    "   db.commit()\n",
    "except:\n",
    "   # Rollback in case there is any error\n",
    "   db.rollback()\n",
    "\n",
    "# disconnect from server\n",
    "db.close()\n"
   ]
  },
  {
   "cell_type": "code",
   "execution_count": 59,
   "metadata": {},
   "outputs": [
    {
     "ename": "ModuleNotFoundError",
     "evalue": "No module named 'MySQLdb'",
     "output_type": "error",
     "traceback": [
      "\u001b[1;31m---------------------------------------------------------------------------\u001b[0m",
      "\u001b[1;31mModuleNotFoundError\u001b[0m                       Traceback (most recent call last)",
      "\u001b[1;32m<ipython-input-59-1effa0f848ff>\u001b[0m in \u001b[0;36m<module>\u001b[1;34m\u001b[0m\n\u001b[1;32m----> 1\u001b[1;33m \u001b[1;32mimport\u001b[0m \u001b[0mMySQLdb\u001b[0m\u001b[1;33m\u001b[0m\u001b[1;33m\u001b[0m\u001b[0m\n\u001b[0m\u001b[0;32m      2\u001b[0m \u001b[1;33m\u001b[0m\u001b[0m\n\u001b[0;32m      3\u001b[0m \u001b[1;31m# Open database connection\u001b[0m\u001b[1;33m\u001b[0m\u001b[1;33m\u001b[0m\u001b[1;33m\u001b[0m\u001b[0m\n\u001b[0;32m      4\u001b[0m \u001b[0mdb\u001b[0m \u001b[1;33m=\u001b[0m \u001b[0mMySQLdb\u001b[0m\u001b[1;33m.\u001b[0m\u001b[0mconnect\u001b[0m\u001b[1;33m(\u001b[0m\u001b[1;34m\"localhost\"\u001b[0m\u001b[1;33m,\u001b[0m\u001b[1;34m\"testuser\"\u001b[0m\u001b[1;33m,\u001b[0m\u001b[1;34m\"test123\"\u001b[0m\u001b[1;33m,\u001b[0m\u001b[1;34m\"TESTDB\"\u001b[0m \u001b[1;33m)\u001b[0m\u001b[1;33m\u001b[0m\u001b[1;33m\u001b[0m\u001b[0m\n\u001b[0;32m      5\u001b[0m \u001b[1;33m\u001b[0m\u001b[0m\n",
      "\u001b[1;31mModuleNotFoundError\u001b[0m: No module named 'MySQLdb'"
     ]
    }
   ],
   "source": [
    "import MySQLdb\n",
    "\n",
    "# Open database connection\n",
    "db = MySQLdb.connect(\"localhost\",\"testuser\",\"test123\",\"TESTDB\" )\n",
    "\n",
    "# prepare a cursor object using cursor() method\n",
    "cursor = db.cursor()\n",
    "\n",
    "# Prepare SQL query to INSERT a record into the database.\n",
    "sql = \"\"\"INSERT INTO EMPLOYEE(FIRST_NAME,\n",
    "         LAST_NAME, AGE, SEX, INCOME)\n",
    "         VALUES ('Mac', 'Mohan', 20, 'M', 2000)\"\"\"\n",
    "try:\n",
    "   # Execute the SQL command\n",
    "   cursor.execute(sql)\n",
    "   # Commit your changes in the database\n",
    "   db.commit()\n",
    "except:\n",
    "   # Rollback in case there is any error\n",
    "   db.rollback()\n",
    "\n",
    "# disconnect from server\n",
    "db.close()\n"
   ]
  },
  {
   "cell_type": "code",
   "execution_count": 60,
   "metadata": {},
   "outputs": [
    {
     "ename": "ModuleNotFoundError",
     "evalue": "No module named 'MySQLdb'",
     "output_type": "error",
     "traceback": [
      "\u001b[1;31m---------------------------------------------------------------------------\u001b[0m",
      "\u001b[1;31mModuleNotFoundError\u001b[0m                       Traceback (most recent call last)",
      "\u001b[1;32m<ipython-input-60-8c69c2c2e38f>\u001b[0m in \u001b[0;36m<module>\u001b[1;34m\u001b[0m\n\u001b[1;32m----> 1\u001b[1;33m \u001b[1;32mimport\u001b[0m \u001b[0mMySQLdb\u001b[0m\u001b[1;33m\u001b[0m\u001b[1;33m\u001b[0m\u001b[0m\n\u001b[0m\u001b[0;32m      2\u001b[0m \u001b[1;33m\u001b[0m\u001b[0m\n\u001b[0;32m      3\u001b[0m \u001b[1;31m# Open database connection\u001b[0m\u001b[1;33m\u001b[0m\u001b[1;33m\u001b[0m\u001b[1;33m\u001b[0m\u001b[0m\n\u001b[0;32m      4\u001b[0m \u001b[0mdb\u001b[0m \u001b[1;33m=\u001b[0m \u001b[0mMySQLdb\u001b[0m\u001b[1;33m.\u001b[0m\u001b[0mconnect\u001b[0m\u001b[1;33m(\u001b[0m\u001b[1;34m\"localhost\"\u001b[0m\u001b[1;33m,\u001b[0m\u001b[1;34m\"testuser\"\u001b[0m\u001b[1;33m,\u001b[0m\u001b[1;34m\"test123\"\u001b[0m\u001b[1;33m,\u001b[0m\u001b[1;34m\"TESTDB\"\u001b[0m \u001b[1;33m)\u001b[0m\u001b[1;33m\u001b[0m\u001b[1;33m\u001b[0m\u001b[0m\n\u001b[0;32m      5\u001b[0m \u001b[1;33m\u001b[0m\u001b[0m\n",
      "\u001b[1;31mModuleNotFoundError\u001b[0m: No module named 'MySQLdb'"
     ]
    }
   ],
   "source": [
    "import MySQLdb\n",
    "\n",
    "# Open database connection\n",
    "db = MySQLdb.connect(\"localhost\",\"testuser\",\"test123\",\"TESTDB\" )\n",
    "\n",
    "# prepare a cursor object using cursor() method\n",
    "cursor = db.cursor()\n",
    "\n",
    "# Prepare SQL query to INSERT a record into the database.\n",
    "sql = \"INSERT INTO EMPLOYEE(FIRST_NAME, \\\n",
    "       LAST_NAME, AGE, SEX, INCOME) \\\n",
    "       VALUES ('%s', '%s', '%d', '%c', '%d' )\" % \\\n",
    "       ('Mac', 'Mohan', 20, 'M', 2000)\n",
    "try:\n",
    "   # Execute the SQL command\n",
    "   cursor.execute(sql)\n",
    "   # Commit your changes in the database\n",
    "   db.commit()\n",
    "except:\n",
    "   # Rollback in case there is any error\n",
    "   db.rollback()\n",
    "\n",
    "# disconnect from server\n",
    "db.close()\n"
   ]
  },
  {
   "cell_type": "code",
   "execution_count": 61,
   "metadata": {},
   "outputs": [
    {
     "ename": "SyntaxError",
     "evalue": "Missing parentheses in call to 'print'. Did you mean print(\"fname=%s,lname=%s,age=%d,sex=%s,income=%d\" % \\)? (<ipython-input-61-37b81f056843>, line 23)",
     "output_type": "error",
     "traceback": [
      "\u001b[1;36m  File \u001b[1;32m\"<ipython-input-61-37b81f056843>\"\u001b[1;36m, line \u001b[1;32m23\u001b[0m\n\u001b[1;33m    print \"fname=%s,lname=%s,age=%d,sex=%s,income=%d\" % \\\u001b[0m\n\u001b[1;37m                                                    ^\u001b[0m\n\u001b[1;31mSyntaxError\u001b[0m\u001b[1;31m:\u001b[0m Missing parentheses in call to 'print'. Did you mean print(\"fname=%s,lname=%s,age=%d,sex=%s,income=%d\" % \\)?\n"
     ]
    }
   ],
   "source": [
    "import MySQLdb\n",
    "\n",
    "# Open database connection\n",
    "db = MySQLdb.connect(\"localhost\",\"testuser\",\"test123\",\"TESTDB\" )\n",
    "\n",
    "# prepare a cursor object using cursor() method\n",
    "cursor = db.cursor()\n",
    "\n",
    "sql = \"SELECT * FROM EMPLOYEE \\\n",
    "       WHERE INCOME > '%d'\" % (1000)\n",
    "try:\n",
    "   # Execute the SQL command\n",
    "   cursor.execute(sql)\n",
    "   # Fetch all the rows in a list of lists.\n",
    "   results = cursor.fetchall()\n",
    "   for row in results:\n",
    "      fname = row[0]\n",
    "      lname = row[1]\n",
    "      age = row[2]\n",
    "      sex = row[3]\n",
    "      income = row[4]\n",
    "      # Now print fetched result\n",
    "      print \"fname=%s,lname=%s,age=%d,sex=%s,income=%d\" % \\\n",
    "             (fname, lname, age, sex, income )\n",
    "except:\n",
    "   print \"Error: unable to fecth data\"\n",
    "\n",
    "# disconnect from server\n",
    "db.close()\n"
   ]
  },
  {
   "cell_type": "code",
   "execution_count": 62,
   "metadata": {},
   "outputs": [
    {
     "ename": "SyntaxError",
     "evalue": "EOL while scanning string literal (<ipython-input-62-69966c11acb4>, line 10)",
     "output_type": "error",
     "traceback": [
      "\u001b[1;36m  File \u001b[1;32m\"<ipython-input-62-69966c11acb4>\"\u001b[1;36m, line \u001b[1;32m10\u001b[0m\n\u001b[1;33m    sql = \"UPDATE EMPLOYEE SET AGE = AGE + 1\u001b[0m\n\u001b[1;37m                                            ^\u001b[0m\n\u001b[1;31mSyntaxError\u001b[0m\u001b[1;31m:\u001b[0m EOL while scanning string literal\n"
     ]
    }
   ],
   "source": [
    "import MySQLdb\n",
    "\n",
    "# Open database connection\n",
    "db = MySQLdb.connect(\"localhost\",\"testuser\",\"test123\",\"TESTDB\" )\n",
    "\n",
    "# prepare a cursor object using cursor() method\n",
    "cursor = db.cursor()\n",
    "\n",
    "# Prepare SQL query to UPDATE required records\n",
    "sql = \"UPDATE EMPLOYEE SET AGE = AGE + 1\n",
    "                          WHERE SEX = '%c'\" % ('M')\n",
    "try:\n",
    "   # Execute the SQL command\n",
    "   cursor.execute(sql)\n",
    "   # Commit your changes in the database\n",
    "   db.commit()\n",
    "except:\n",
    "   # Rollback in case there is any error\n",
    "   db.rollback()\n",
    "\n",
    "# disconnect from server\n",
    "db.close()\n"
   ]
  },
  {
   "cell_type": "code",
   "execution_count": 63,
   "metadata": {},
   "outputs": [
    {
     "ename": "ModuleNotFoundError",
     "evalue": "No module named 'MySQLdb'",
     "output_type": "error",
     "traceback": [
      "\u001b[1;31m---------------------------------------------------------------------------\u001b[0m",
      "\u001b[1;31mModuleNotFoundError\u001b[0m                       Traceback (most recent call last)",
      "\u001b[1;32m<ipython-input-63-ae2edb67ce64>\u001b[0m in \u001b[0;36m<module>\u001b[1;34m\u001b[0m\n\u001b[1;32m----> 1\u001b[1;33m \u001b[1;32mimport\u001b[0m \u001b[0mMySQLdb\u001b[0m\u001b[1;33m\u001b[0m\u001b[1;33m\u001b[0m\u001b[0m\n\u001b[0m\u001b[0;32m      2\u001b[0m \u001b[1;33m\u001b[0m\u001b[0m\n\u001b[0;32m      3\u001b[0m \u001b[1;31m# Open database connection\u001b[0m\u001b[1;33m\u001b[0m\u001b[1;33m\u001b[0m\u001b[1;33m\u001b[0m\u001b[0m\n\u001b[0;32m      4\u001b[0m \u001b[0mdb\u001b[0m \u001b[1;33m=\u001b[0m \u001b[0mMySQLdb\u001b[0m\u001b[1;33m.\u001b[0m\u001b[0mconnect\u001b[0m\u001b[1;33m(\u001b[0m\u001b[1;34m\"localhost\"\u001b[0m\u001b[1;33m,\u001b[0m\u001b[1;34m\"testuser\"\u001b[0m\u001b[1;33m,\u001b[0m\u001b[1;34m\"test123\"\u001b[0m\u001b[1;33m,\u001b[0m\u001b[1;34m\"TESTDB\"\u001b[0m \u001b[1;33m)\u001b[0m\u001b[1;33m\u001b[0m\u001b[1;33m\u001b[0m\u001b[0m\n\u001b[0;32m      5\u001b[0m \u001b[1;33m\u001b[0m\u001b[0m\n",
      "\u001b[1;31mModuleNotFoundError\u001b[0m: No module named 'MySQLdb'"
     ]
    }
   ],
   "source": [
    "import MySQLdb\n",
    "\n",
    "# Open database connection\n",
    "db = MySQLdb.connect(\"localhost\",\"testuser\",\"test123\",\"TESTDB\" )\n",
    "\n",
    "# prepare a cursor object using cursor() method\n",
    "cursor = db.cursor()\n",
    "\n",
    "# Prepare SQL query to DELETE required records\n",
    "sql = \"DELETE FROM EMPLOYEE WHERE AGE > '%d'\" % (20)\n",
    "try:\n",
    "   # Execute the SQL command\n",
    "   cursor.execute(sql)\n",
    "   # Commit your changes in the database\n",
    "   db.commit()\n",
    "except:\n",
    "   # Rollback in case there is any error\n",
    "   db.rollback()\n",
    "\n",
    "# disconnect from server\n",
    "db.close()\n"
   ]
  },
  {
   "cell_type": "code",
   "execution_count": 64,
   "metadata": {},
   "outputs": [
    {
     "ename": "NameError",
     "evalue": "name 'db' is not defined",
     "output_type": "error",
     "traceback": [
      "\u001b[1;31m---------------------------------------------------------------------------\u001b[0m",
      "\u001b[1;31mNameError\u001b[0m                                 Traceback (most recent call last)",
      "\u001b[1;32m<ipython-input-64-d3f551d0e8a2>\u001b[0m in \u001b[0;36m<module>\u001b[1;34m\u001b[0m\n\u001b[0;32m      4\u001b[0m    \u001b[1;31m# Execute the SQL command\u001b[0m\u001b[1;33m\u001b[0m\u001b[1;33m\u001b[0m\u001b[1;33m\u001b[0m\u001b[0m\n\u001b[1;32m----> 5\u001b[1;33m    \u001b[0mcursor\u001b[0m\u001b[1;33m.\u001b[0m\u001b[0mexecute\u001b[0m\u001b[1;33m(\u001b[0m\u001b[0msql\u001b[0m\u001b[1;33m)\u001b[0m\u001b[1;33m\u001b[0m\u001b[1;33m\u001b[0m\u001b[0m\n\u001b[0m\u001b[0;32m      6\u001b[0m    \u001b[1;31m# Commit your changes in the database\u001b[0m\u001b[1;33m\u001b[0m\u001b[1;33m\u001b[0m\u001b[1;33m\u001b[0m\u001b[0m\n",
      "\u001b[1;31mNameError\u001b[0m: name 'cursor' is not defined",
      "\nDuring handling of the above exception, another exception occurred:\n",
      "\u001b[1;31mNameError\u001b[0m                                 Traceback (most recent call last)",
      "\u001b[1;32m<ipython-input-64-d3f551d0e8a2>\u001b[0m in \u001b[0;36m<module>\u001b[1;34m\u001b[0m\n\u001b[0;32m      8\u001b[0m \u001b[1;32mexcept\u001b[0m\u001b[1;33m:\u001b[0m\u001b[1;33m\u001b[0m\u001b[1;33m\u001b[0m\u001b[0m\n\u001b[0;32m      9\u001b[0m    \u001b[1;31m# Rollback in case there is any error\u001b[0m\u001b[1;33m\u001b[0m\u001b[1;33m\u001b[0m\u001b[1;33m\u001b[0m\u001b[0m\n\u001b[1;32m---> 10\u001b[1;33m    \u001b[0mdb\u001b[0m\u001b[1;33m.\u001b[0m\u001b[0mrollback\u001b[0m\u001b[1;33m(\u001b[0m\u001b[1;33m)\u001b[0m\u001b[1;33m\u001b[0m\u001b[1;33m\u001b[0m\u001b[0m\n\u001b[0m",
      "\u001b[1;31mNameError\u001b[0m: name 'db' is not defined"
     ]
    }
   ],
   "source": [
    "# Prepare SQL query to DELETE required records\n",
    "sql = \"DELETE FROM EMPLOYEE WHERE AGE > '%d'\" % (20)\n",
    "try:\n",
    "   # Execute the SQL command\n",
    "   cursor.execute(sql)\n",
    "   # Commit your changes in the database\n",
    "   db.commit()\n",
    "except:\n",
    "   # Rollback in case there is any error\n",
    "   db.rollback()\n"
   ]
  },
  {
   "cell_type": "code",
   "execution_count": 65,
   "metadata": {},
   "outputs": [
    {
     "ename": "SyntaxError",
     "evalue": "invalid syntax (<ipython-input-65-e7162183e2bb>, line 8)",
     "output_type": "error",
     "traceback": [
      "\u001b[1;36m  File \u001b[1;32m\"<ipython-input-65-e7162183e2bb>\"\u001b[1;36m, line \u001b[1;32m8\u001b[0m\n\u001b[1;33m    print s.recv(1024)\u001b[0m\n\u001b[1;37m          ^\u001b[0m\n\u001b[1;31mSyntaxError\u001b[0m\u001b[1;31m:\u001b[0m invalid syntax\n"
     ]
    }
   ],
   "source": [
    "import socket               # Import socket module\n",
    "\n",
    "s = socket.socket()         # Create a socket object\n",
    "host = socket.gethostname() # Get local machine name\n",
    "port = 12345                # Reserve a port for your service.\n",
    "\n",
    "s.connect((host, port))\n",
    "print s.recv(1024)\n",
    "s.close()                     # Close the socket when done\n"
   ]
  },
  {
   "cell_type": "code",
   "execution_count": 66,
   "metadata": {},
   "outputs": [
    {
     "ename": "SyntaxError",
     "evalue": "invalid syntax (<ipython-input-66-983a2c8e4afc>, line 1)",
     "output_type": "error",
     "traceback": [
      "\u001b[1;36m  File \u001b[1;32m\"<ipython-input-66-983a2c8e4afc>\"\u001b[1;36m, line \u001b[1;32m1\u001b[0m\n\u001b[1;33m    $ python server.py &\u001b[0m\n\u001b[1;37m    ^\u001b[0m\n\u001b[1;31mSyntaxError\u001b[0m\u001b[1;31m:\u001b[0m invalid syntax\n"
     ]
    }
   ],
   "source": [
    "$ python server.py & \n",
    "\n",
    "# Once server is started run client as follows:\n",
    "$ python client.py\n"
   ]
  },
  {
   "cell_type": "code",
   "execution_count": 67,
   "metadata": {},
   "outputs": [
    {
     "ename": "SyntaxError",
     "evalue": "Missing parentheses in call to 'print'. Did you mean print(\"Successfully sent email\")? (<ipython-input-67-674a8e2982d5>, line 16)",
     "output_type": "error",
     "traceback": [
      "\u001b[1;36m  File \u001b[1;32m\"<ipython-input-67-674a8e2982d5>\"\u001b[1;36m, line \u001b[1;32m16\u001b[0m\n\u001b[1;33m    print \"Successfully sent email\"\u001b[0m\n\u001b[1;37m                                  ^\u001b[0m\n\u001b[1;31mSyntaxError\u001b[0m\u001b[1;31m:\u001b[0m Missing parentheses in call to 'print'. Did you mean print(\"Successfully sent email\")?\n"
     ]
    }
   ],
   "source": [
    "import smtplib\n",
    "\n",
    "sender = 'from@fromdomain.com'\n",
    "receivers = ['to@todomain.com']\n",
    "\n",
    "message = \"\"\"From: From Person <from@fromdomain.com>\n",
    "To: To Person <to@todomain.com>\n",
    "Subject: SMTP e-mail test\n",
    "\n",
    "This is a test e-mail message.\n",
    "\"\"\"\n",
    "\n",
    "try:\n",
    "   smtpObj = smtplib.SMTP('localhost')\n",
    "   smtpObj.sendmail(sender, receivers, message)         \n",
    "   print \"Successfully sent email\"\n",
    "except SMTPException:\n",
    "   print \"Error: unable to send email\"\n"
   ]
  },
  {
   "cell_type": "code",
   "execution_count": 68,
   "metadata": {},
   "outputs": [
    {
     "ename": "SyntaxError",
     "evalue": "Missing parentheses in call to 'print'. Did you mean print(\"Successfully sent email\")? (<ipython-input-68-dfd25f6d2341>, line 18)",
     "output_type": "error",
     "traceback": [
      "\u001b[1;36m  File \u001b[1;32m\"<ipython-input-68-dfd25f6d2341>\"\u001b[1;36m, line \u001b[1;32m18\u001b[0m\n\u001b[1;33m    print \"Successfully sent email\"\u001b[0m\n\u001b[1;37m                                  ^\u001b[0m\n\u001b[1;31mSyntaxError\u001b[0m\u001b[1;31m:\u001b[0m Missing parentheses in call to 'print'. Did you mean print(\"Successfully sent email\")?\n"
     ]
    }
   ],
   "source": [
    "import smtplib\n",
    "\n",
    "message = \"\"\"From: From Person <from@fromdomain.com>\n",
    "To: To Person <to@todomain.com>\n",
    "MIME-Version: 1.0\n",
    "Content-type: text/html\n",
    "Subject: SMTP HTML e-mail test\n",
    "\n",
    "This is an e-mail message to be sent in HTML format\n",
    "\n",
    "<b>This is HTML message.</b>\n",
    "<h1>This is headline.</h1>\n",
    "\"\"\"\n",
    "\n",
    "try:\n",
    "   smtpObj = smtplib.SMTP('localhost')\n",
    "   smtpObj.sendmail(sender, receivers, message)         \n",
    "   print \"Successfully sent email\"\n",
    "except SMTPException:\n",
    "   print \"Error: unable to send email\"\n"
   ]
  },
  {
   "cell_type": "code",
   "execution_count": 69,
   "metadata": {},
   "outputs": [
    {
     "ename": "SyntaxError",
     "evalue": "Missing parentheses in call to 'print'. Did you mean print(\"Successfully sent email\")? (<ipython-input-69-8993436c72c2>, line 49)",
     "output_type": "error",
     "traceback": [
      "\u001b[1;36m  File \u001b[1;32m\"<ipython-input-69-8993436c72c2>\"\u001b[1;36m, line \u001b[1;32m49\u001b[0m\n\u001b[1;33m    print \"Successfully sent email\"\u001b[0m\n\u001b[1;37m                                  ^\u001b[0m\n\u001b[1;31mSyntaxError\u001b[0m\u001b[1;31m:\u001b[0m Missing parentheses in call to 'print'. Did you mean print(\"Successfully sent email\")?\n"
     ]
    }
   ],
   "source": [
    "import smtplib\n",
    "import base64\n",
    "\n",
    "filename = \"/tmp/test.txt\"\n",
    "\n",
    "# Read a file and encode it into base64 format\n",
    "fo = open(filename, \"rb\")\n",
    "filecontent = fo.read()\n",
    "encodedcontent = base64.b64encode(filecontent)  # base64\n",
    "\n",
    "sender = 'webmaster@tutorialpoint.com'\n",
    "reciever = 'amrood.admin@gmail.com'\n",
    "\n",
    "marker = \"AUNIQUEMARKER\"\n",
    "\n",
    "body =\"\"\"\n",
    "This is a test email to send an attachement.\n",
    "\"\"\"\n",
    "# Define the main headers.\n",
    "part1 = \"\"\"From: From Person <me@fromdomain.net>\n",
    "To: To Person <amrood.admin@gmail.com>\n",
    "Subject: Sending Attachement\n",
    "MIME-Version: 1.0\n",
    "Content-Type: multipart/mixed; boundary=%s\n",
    "--%s\n",
    "\"\"\" % (marker, marker)\n",
    "\n",
    "# Define the message action\n",
    "part2 = \"\"\"Content-Type: text/plain\n",
    "Content-Transfer-Encoding:8bit\n",
    "\n",
    "%s\n",
    "--%s\n",
    "\"\"\" % (body,marker)\n",
    "\n",
    "# Define the attachment section\n",
    "part3 = \"\"\"Content-Type: multipart/mixed; name=\\\"%s\\\"\n",
    "Content-Transfer-Encoding:base64\n",
    "Content-Disposition: attachment; filename=%s\n",
    "\n",
    "%s\n",
    "--%s--\n",
    "\"\"\" %(filename, filename, encodedcontent, marker)\n",
    "message = part1 + part2 + part3\n",
    "\n",
    "try:\n",
    "   smtpObj = smtplib.SMTP('localhost')\n",
    "   smtpObj.sendmail(sender, reciever, message)\n",
    "   print \"Successfully sent email\"\n",
    "except Exception:\n",
    "   print \"Error: unable to send email\""
   ]
  },
  {
   "cell_type": "code",
   "execution_count": 75,
   "metadata": {},
   "outputs": [
    {
     "ename": "SyntaxError",
     "evalue": "invalid syntax (<ipython-input-75-7b467f3eec7a>, line 13)",
     "output_type": "error",
     "traceback": [
      "\u001b[1;36m  File \u001b[1;32m\"<ipython-input-75-7b467f3eec7a>\"\u001b[1;36m, line \u001b[1;32m13\u001b[0m\n\u001b[1;33m    try:\u001b[0m\n\u001b[1;37m      ^\u001b[0m\n\u001b[1;31mSyntaxError\u001b[0m\u001b[1;31m:\u001b[0m invalid syntax\n"
     ]
    }
   ],
   "source": [
    "import thread\n",
    "import time\n",
    "\n",
    "# Define a function for the thread\n",
    "def print_time( threadName, delay):\n",
    "   count = 0\n",
    "   while count < 5:\n",
    "      time.sleep(delay)\n",
    "      count += 1\n",
    "      print (\"%s: %s\" % ( threadName, time.ctime(time.time()) )\n",
    "\n",
    "# Create two threads as follows\n",
    "try:\n",
    "   thread.start_new_thread( print_time, (\"Thread-1\", 2, ) )\n",
    "   thread.start_new_thread( print_time, (\"Thread-2\", 4, ) )\n",
    "except:\n",
    "   print (\"Error: unable to start thread\")\n",
    "\n",
    "while 1:\n",
    "   pass\n"
   ]
  },
  {
   "cell_type": "code",
   "execution_count": 74,
   "metadata": {},
   "outputs": [
    {
     "ename": "SyntaxError",
     "evalue": "Missing parentheses in call to 'print'. Did you mean print(\"Starting \" + self.name)? (<ipython-input-74-01a285b6bbbb>, line 13)",
     "output_type": "error",
     "traceback": [
      "\u001b[1;36m  File \u001b[1;32m\"<ipython-input-74-01a285b6bbbb>\"\u001b[1;36m, line \u001b[1;32m13\u001b[0m\n\u001b[1;33m    print \"Starting \" + self.name\u001b[0m\n\u001b[1;37m                    ^\u001b[0m\n\u001b[1;31mSyntaxError\u001b[0m\u001b[1;31m:\u001b[0m Missing parentheses in call to 'print'. Did you mean print(\"Starting \" + self.name)?\n"
     ]
    }
   ],
   "source": [
    "import threading\n",
    "import time\n",
    "\n",
    "exitFlag = 0\n",
    "\n",
    "class myThread (threading.Thread):\n",
    "   def __init__(self, threadID, name, counter):\n",
    "      threading.Thread.__init__(self)\n",
    "      self.threadID = threadID\n",
    "      self.name = name\n",
    "      self.counter = counter\n",
    "   def run(self):\n",
    "      print \"Starting \" + self.name\n",
    "      print_time(self.name, 5, self.counter)\n",
    "      print \"Exiting \" + self.name\n",
    "\n",
    "def print_time(threadName, counter, delay):\n",
    "   while counter:\n",
    "      if exitFlag:\n",
    "         threadName.exit()\n",
    "      time.sleep(delay)\n",
    "      print \"%s: %s\" % (threadName, time.ctime(time.time()))\n",
    "      counter -= 1\n",
    "\n",
    "# Create new threads\n",
    "thread1 = myThread(1, \"Thread-1\", 1)\n",
    "thread2 = myThread(2, \"Thread-2\", 2)\n",
    "\n",
    "# Start new Threads\n",
    "thread1.start()\n",
    "thread2.start()\n",
    "\n",
    "print (\"Exiting Main Thread\")\n"
   ]
  },
  {
   "cell_type": "code",
   "execution_count": 76,
   "metadata": {},
   "outputs": [
    {
     "ename": "SyntaxError",
     "evalue": "Missing parentheses in call to 'print'. Did you mean print(\"Starting \" + self.name)? (<ipython-input-76-a058a9cf6113>, line 14)",
     "output_type": "error",
     "traceback": [
      "\u001b[1;36m  File \u001b[1;32m\"<ipython-input-76-a058a9cf6113>\"\u001b[1;36m, line \u001b[1;32m14\u001b[0m\n\u001b[1;33m    print \"Starting \" + self.name\u001b[0m\n\u001b[1;37m                    ^\u001b[0m\n\u001b[1;31mSyntaxError\u001b[0m\u001b[1;31m:\u001b[0m Missing parentheses in call to 'print'. Did you mean print(\"Starting \" + self.name)?\n"
     ]
    }
   ],
   "source": [
    "import Queue\n",
    "import threading\n",
    "import time\n",
    "\n",
    "exitFlag = 0\n",
    "\n",
    "class myThread (threading.Thread):\n",
    "   def __init__(self, threadID, name, q):\n",
    "      threading.Thread.__init__(self)\n",
    "      self.threadID = threadID\n",
    "      self.name = name\n",
    "      self.q = q\n",
    "   def run(self):\n",
    "      print \"Starting \" + self.name\n",
    "      process_data(self.name, self.q)\n",
    "      print \"Exiting \" + self.name\n",
    "\n",
    "def process_data(threadName, q):\n",
    "   while not exitFlag:\n",
    "      queueLock.acquire()\n",
    "         if not workQueue.empty():\n",
    "            data = q.get()\n",
    "            queueLock.release()\n",
    "            print \"%s processing %s\" % (threadName, data)\n",
    "         else:\n",
    "            queueLock.release()\n",
    "         time.sleep(1)\n",
    "\n",
    "threadList = [\"Thread-1\", \"Thread-2\", \"Thread-3\"]\n",
    "nameList = [\"One\", \"Two\", \"Three\", \"Four\", \"Five\"]\n",
    "queueLock = threading.Lock()\n",
    "workQueue = Queue.Queue(10)\n",
    "threads = []\n",
    "threadID = 1\n",
    "\n",
    "# Create new threads\n",
    "for tName in threadList:\n",
    "   thread = myThread(threadID, tName, workQueue)\n",
    "   thread.start()\n",
    "   threads.append(thread)\n",
    "   threadID += 1\n",
    "\n",
    "# Fill the queue\n",
    "queueLock.acquire()\n",
    "for word in nameList:\n",
    "   workQueue.put(word)\n",
    "queueLock.release()\n",
    "\n",
    "# Wait for queue to empty\n",
    "while not workQueue.empty():\n",
    "   pass\n",
    "\n",
    "# Notify threads it's time to exit\n",
    "exitFlag = 1\n",
    "\n",
    "# Wait for all threads to complete\n",
    "for t in threads:\n",
    "   t.join()\n",
    "print (\"Exiting Main Thread\")\n"
   ]
  },
  {
   "cell_type": "code",
   "execution_count": 77,
   "metadata": {},
   "outputs": [
    {
     "ename": "SyntaxError",
     "evalue": "Missing parentheses in call to 'print'. Did you mean print(\"Starting \" + self.name)? (<ipython-input-77-a058a9cf6113>, line 14)",
     "output_type": "error",
     "traceback": [
      "\u001b[1;36m  File \u001b[1;32m\"<ipython-input-77-a058a9cf6113>\"\u001b[1;36m, line \u001b[1;32m14\u001b[0m\n\u001b[1;33m    print \"Starting \" + self.name\u001b[0m\n\u001b[1;37m                    ^\u001b[0m\n\u001b[1;31mSyntaxError\u001b[0m\u001b[1;31m:\u001b[0m Missing parentheses in call to 'print'. Did you mean print(\"Starting \" + self.name)?\n"
     ]
    }
   ],
   "source": [
    "import Queue\n",
    "import threading\n",
    "import time\n",
    "\n",
    "exitFlag = 0\n",
    "\n",
    "class myThread (threading.Thread):\n",
    "   def __init__(self, threadID, name, q):\n",
    "      threading.Thread.__init__(self)\n",
    "      self.threadID = threadID\n",
    "      self.name = name\n",
    "      self.q = q\n",
    "   def run(self):\n",
    "      print \"Starting \" + self.name\n",
    "      process_data(self.name, self.q)\n",
    "      print \"Exiting \" + self.name\n",
    "\n",
    "def process_data(threadName, q):\n",
    "   while not exitFlag:\n",
    "      queueLock.acquire()\n",
    "         if not workQueue.empty():\n",
    "            data = q.get()\n",
    "            queueLock.release()\n",
    "            print \"%s processing %s\" % (threadName, data)\n",
    "         else:\n",
    "            queueLock.release()\n",
    "         time.sleep(1)\n",
    "\n",
    "threadList = [\"Thread-1\", \"Thread-2\", \"Thread-3\"]\n",
    "nameList = [\"One\", \"Two\", \"Three\", \"Four\", \"Five\"]\n",
    "queueLock = threading.Lock()\n",
    "workQueue = Queue.Queue(10)\n",
    "threads = []\n",
    "threadID = 1\n",
    "\n",
    "# Create new threads\n",
    "for tName in threadList:\n",
    "   thread = myThread(threadID, tName, workQueue)\n",
    "   thread.start()\n",
    "   threads.append(thread)\n",
    "   threadID += 1\n",
    "\n",
    "# Fill the queue\n",
    "queueLock.acquire()\n",
    "for word in nameList:\n",
    "   workQueue.put(word)\n",
    "queueLock.release()\n",
    "\n",
    "# Wait for queue to empty\n",
    "while not workQueue.empty():\n",
    "   pass\n",
    "\n",
    "# Notify threads it's time to exit\n",
    "exitFlag = 1\n",
    "\n",
    "# Wait for all threads to complete\n",
    "for t in threads:\n",
    "   t.join()\n",
    "print \"Exiting Main Thread\"\n"
   ]
  },
  {
   "cell_type": "code",
   "execution_count": 78,
   "metadata": {},
   "outputs": [
    {
     "ename": "SyntaxError",
     "evalue": "Missing parentheses in call to 'print'. Did you mean print(\"*****Movie*****\")? (<ipython-input-78-2ad52fcf8faa>, line 17)",
     "output_type": "error",
     "traceback": [
      "\u001b[1;36m  File \u001b[1;32m\"<ipython-input-78-2ad52fcf8faa>\"\u001b[1;36m, line \u001b[1;32m17\u001b[0m\n\u001b[1;33m    print \"*****Movie*****\"\u001b[0m\n\u001b[1;37m                          ^\u001b[0m\n\u001b[1;31mSyntaxError\u001b[0m\u001b[1;31m:\u001b[0m Missing parentheses in call to 'print'. Did you mean print(\"*****Movie*****\")?\n"
     ]
    }
   ],
   "source": [
    "import xml.sax\n",
    "\n",
    "class MovieHandler( xml.sax.ContentHandler ):\n",
    "   def __init__(self):\n",
    "      self.CurrentData = \"\"\n",
    "      self.type = \"\"\n",
    "      self.format = \"\"\n",
    "      self.year = \"\"\n",
    "      self.rating = \"\"\n",
    "      self.stars = \"\"\n",
    "      self.description = \"\"\n",
    "\n",
    "   # Call when an element starts\n",
    "   def startElement(self, tag, attributes):\n",
    "      self.CurrentData = tag\n",
    "      if tag == \"movie\":\n",
    "         print \"*****Movie*****\"\n",
    "         title = attributes[\"title\"]\n",
    "         print \"Title:\", title\n",
    "\n",
    "   # Call when an elements ends\n",
    "   def endElement(self, tag):\n",
    "      if self.CurrentData == \"type\":\n",
    "         print \"Type:\", self.type\n",
    "      elif self.CurrentData == \"format\":\n",
    "         print \"Format:\", self.format\n",
    "      elif self.CurrentData == \"year\":\n",
    "         print \"Year:\", self.year\n",
    "      elif self.CurrentData == \"rating\":\n",
    "         print \"Rating:\", self.rating\n",
    "      elif self.CurrentData == \"stars\":\n",
    "         print \"Stars:\", self.stars\n",
    "      elif self.CurrentData == \"description\":\n",
    "         print \"Description:\", self.description\n",
    "      self.CurrentData = \"\"\n",
    "\n",
    "   # Call when a character is read\n",
    "   def characters(self, content):\n",
    "      if self.CurrentData == \"type\":\n",
    "         self.type = content\n",
    "      elif self.CurrentData == \"format\":\n",
    "         self.format = content\n",
    "      elif self.CurrentData == \"year\":\n",
    "         self.year = content\n",
    "      elif self.CurrentData == \"rating\":\n",
    "         self.rating = content\n",
    "      elif self.CurrentData == \"stars\":\n",
    "         self.stars = content\n",
    "      elif self.CurrentData == \"description\":\n",
    "         self.description = content\n",
    "  \n",
    "if ( __name__ == \"__main__\"):\n",
    "   \n",
    "   # create an XMLReader\n",
    "   parser = xml.sax.make_parser()\n",
    "   # turn off namepsaces\n",
    "   parser.setFeature(xml.sax.handler.feature_namespaces, 0)\n",
    "\n",
    "   # override the default ContextHandler\n",
    "   Handler = MovieHandler()\n",
    "   parser.setContentHandler( Handler )\n",
    "   \n",
    "   parser.parse(\"movies.xml\")\n"
   ]
  },
  {
   "cell_type": "code",
   "execution_count": 79,
   "metadata": {},
   "outputs": [
    {
     "ename": "SyntaxError",
     "evalue": "invalid syntax (<ipython-input-79-58fae5413c99>, line 8)",
     "output_type": "error",
     "traceback": [
      "\u001b[1;36m  File \u001b[1;32m\"<ipython-input-79-58fae5413c99>\"\u001b[1;36m, line \u001b[1;32m8\u001b[0m\n\u001b[1;33m    print \"Root element : %s\" % collection.getAttribute(\"shelf\")\u001b[0m\n\u001b[1;37m                            ^\u001b[0m\n\u001b[1;31mSyntaxError\u001b[0m\u001b[1;31m:\u001b[0m invalid syntax\n"
     ]
    }
   ],
   "source": [
    "from xml.dom.minidom import parse\n",
    "import xml.dom.minidom\n",
    "\n",
    "# Open XML document using minidom parser\n",
    "DOMTree = xml.dom.minidom.parse(\"movies.xml\")\n",
    "collection = DOMTree.documentElement\n",
    "if collection.hasAttribute(\"shelf\"):\n",
    "   print \"Root element : %s\" % collection.getAttribute(\"shelf\")\n",
    "\n",
    "# Get all the movies in the collection\n",
    "movies = collection.getElementsByTagName(\"movie\")\n",
    "\n",
    "# Print detail of each movie.\n",
    "for movie in movies:\n",
    "   print \"*****Movie*****\"\n",
    "   if movie.hasAttribute(\"title\"):\n",
    "      print \"Title: %s\" % movie.getAttribute(\"title\")\n",
    "\n",
    "   type = movie.getElementsByTagName('type')[0]\n",
    "   print \"Type: %s\" % type.childNodes[0].data\n",
    "   format = movie.getElementsByTagName('format')[0]\n",
    "   print \"Format: %s\" % format.childNodes[0].data\n",
    "   rating = movie.getElementsByTagName('rating')[0]\n",
    "   print \"Rating: %s\" % rating.childNodes[0].data\n",
    "   description = movie.getElementsByTagName('description')[0]\n",
    "   print \"Description: %s\" % description.childNodes[0].data\n"
   ]
  },
  {
   "cell_type": "code",
   "execution_count": 80,
   "metadata": {},
   "outputs": [
    {
     "ename": "ModuleNotFoundError",
     "evalue": "No module named 'Tkinter'",
     "output_type": "error",
     "traceback": [
      "\u001b[1;31m---------------------------------------------------------------------------\u001b[0m",
      "\u001b[1;31mModuleNotFoundError\u001b[0m                       Traceback (most recent call last)",
      "\u001b[1;32m<ipython-input-80-759fc123b484>\u001b[0m in \u001b[0;36m<module>\u001b[1;34m\u001b[0m\n\u001b[1;32m----> 1\u001b[1;33m \u001b[1;32mimport\u001b[0m \u001b[0mTkinter\u001b[0m\u001b[1;33m\u001b[0m\u001b[1;33m\u001b[0m\u001b[0m\n\u001b[0m\u001b[0;32m      2\u001b[0m \u001b[0mtop\u001b[0m \u001b[1;33m=\u001b[0m \u001b[0mTkinter\u001b[0m\u001b[1;33m.\u001b[0m\u001b[0mTk\u001b[0m\u001b[1;33m(\u001b[0m\u001b[1;33m)\u001b[0m\u001b[1;33m\u001b[0m\u001b[1;33m\u001b[0m\u001b[0m\n\u001b[0;32m      3\u001b[0m \u001b[1;31m# Code to add widgets will go here...\u001b[0m\u001b[1;33m\u001b[0m\u001b[1;33m\u001b[0m\u001b[1;33m\u001b[0m\u001b[0m\n\u001b[0;32m      4\u001b[0m \u001b[0mtop\u001b[0m\u001b[1;33m.\u001b[0m\u001b[0mmainloop\u001b[0m\u001b[1;33m(\u001b[0m\u001b[1;33m)\u001b[0m\u001b[1;33m\u001b[0m\u001b[1;33m\u001b[0m\u001b[0m\n",
      "\u001b[1;31mModuleNotFoundError\u001b[0m: No module named 'Tkinter'"
     ]
    }
   ],
   "source": [
    "import Tkinter\n",
    "top = Tkinter.Tk()\n",
    "# Code to add widgets will go here...\n",
    "top.mainloop()\n"
   ]
  },
  {
   "cell_type": "code",
   "execution_count": 81,
   "metadata": {},
   "outputs": [
    {
     "ename": "SyntaxError",
     "evalue": "invalid syntax (<ipython-input-81-f395bcf0f24e>, line 1)",
     "output_type": "error",
     "traceback": [
      "\u001b[1;36m  File \u001b[1;32m\"<ipython-input-81-f395bcf0f24e>\"\u001b[1;36m, line \u001b[1;32m1\u001b[0m\n\u001b[1;33m    static PyObject *MyFunction( PyObject *self, PyObject *args );\u001b[0m\n\u001b[1;37m                  ^\u001b[0m\n\u001b[1;31mSyntaxError\u001b[0m\u001b[1;31m:\u001b[0m invalid syntax\n"
     ]
    }
   ],
   "source": [
    "static PyObject *MyFunction( PyObject *self, PyObject *args );\n",
    "\n",
    "static PyObject *MyFunctionWithKeywords(PyObject *self,\n",
    "                                 PyObject *args,\n",
    "                                 PyObject *kw);\n",
    "\n",
    "static PyObject *MyFunctionWithNoArgs( PyObject *self );\n"
   ]
  },
  {
   "cell_type": "code",
   "execution_count": 82,
   "metadata": {},
   "outputs": [
    {
     "ename": "SyntaxError",
     "evalue": "invalid syntax (<ipython-input-82-d97d0dfe07fc>, line 1)",
     "output_type": "error",
     "traceback": [
      "\u001b[1;36m  File \u001b[1;32m\"<ipython-input-82-d97d0dfe07fc>\"\u001b[1;36m, line \u001b[1;32m1\u001b[0m\n\u001b[1;33m    static PyObject *module_func(PyObject *self, PyObject *args) {\u001b[0m\n\u001b[1;37m                  ^\u001b[0m\n\u001b[1;31mSyntaxError\u001b[0m\u001b[1;31m:\u001b[0m invalid syntax\n"
     ]
    }
   ],
   "source": [
    "static PyObject *module_func(PyObject *self, PyObject *args) {\n",
    "   /* Do your stuff here. */\n",
    "   Py_RETURN_NONE;\n",
    "}\n"
   ]
  },
  {
   "cell_type": "code",
   "execution_count": 83,
   "metadata": {},
   "outputs": [
    {
     "ename": "SyntaxError",
     "evalue": "invalid syntax (<ipython-input-83-189665a92d03>, line 1)",
     "output_type": "error",
     "traceback": [
      "\u001b[1;36m  File \u001b[1;32m\"<ipython-input-83-189665a92d03>\"\u001b[1;36m, line \u001b[1;32m1\u001b[0m\n\u001b[1;33m    struct PyMethodDef {\u001b[0m\n\u001b[1;37m                     ^\u001b[0m\n\u001b[1;31mSyntaxError\u001b[0m\u001b[1;31m:\u001b[0m invalid syntax\n"
     ]
    }
   ],
   "source": [
    "struct PyMethodDef {\n",
    "   char *ml_name;\n",
    "   PyCFunction ml_meth;\n",
    "   int ml_flags;\n",
    "   char *ml_doc;\n",
    "};\n"
   ]
  },
  {
   "cell_type": "code",
   "execution_count": 84,
   "metadata": {},
   "outputs": [
    {
     "ename": "SyntaxError",
     "evalue": "invalid syntax (<ipython-input-84-dae49d7a1774>, line 1)",
     "output_type": "error",
     "traceback": [
      "\u001b[1;36m  File \u001b[1;32m\"<ipython-input-84-dae49d7a1774>\"\u001b[1;36m, line \u001b[1;32m1\u001b[0m\n\u001b[1;33m    static PyMethodDef module_methods[] = {\u001b[0m\n\u001b[1;37m                     ^\u001b[0m\n\u001b[1;31mSyntaxError\u001b[0m\u001b[1;31m:\u001b[0m invalid syntax\n"
     ]
    }
   ],
   "source": [
    "static PyMethodDef module_methods[] = {\n",
    "   { \"func\", (PyCFunction)module_func, METH_NOARGS, NULL },\n",
    "   { NULL, NULL, 0, NULL }\n",
    "};\n"
   ]
  },
  {
   "cell_type": "code",
   "execution_count": 85,
   "metadata": {},
   "outputs": [
    {
     "ename": "SyntaxError",
     "evalue": "invalid syntax (<ipython-input-85-2a41f71867d6>, line 3)",
     "output_type": "error",
     "traceback": [
      "\u001b[1;36m  File \u001b[1;32m\"<ipython-input-85-2a41f71867d6>\"\u001b[1;36m, line \u001b[1;32m3\u001b[0m\n\u001b[1;33m    static PyObject *module_func(PyObject *self, PyObject *args) {\u001b[0m\n\u001b[1;37m                  ^\u001b[0m\n\u001b[1;31mSyntaxError\u001b[0m\u001b[1;31m:\u001b[0m invalid syntax\n"
     ]
    }
   ],
   "source": [
    "#include <Python.h>\n",
    "\n",
    "static PyObject *module_func(PyObject *self, PyObject *args) {\n",
    "   /* Do your stuff here. */\n",
    "   Py_RETURN_NONE;\n",
    "}\n",
    "\n",
    "static PyMethodDef module_methods[] = {\n",
    "   { \"func\", (PyCFunction)module_func, METH_NOARGS, NULL },\n",
    "   { NULL, NULL, 0, NULL }\n",
    "};\n",
    "\n",
    "PyMODINIT_FUNC initModule() {\n",
    "   Py_InitModule3(func, module_methods, \"docstring...\");\n",
    "}\n"
   ]
  },
  {
   "cell_type": "code",
   "execution_count": 86,
   "metadata": {},
   "outputs": [
    {
     "ename": "SyntaxError",
     "evalue": "invalid syntax (<ipython-input-86-e8b59a2f9abb>, line 3)",
     "output_type": "error",
     "traceback": [
      "\u001b[1;36m  File \u001b[1;32m\"<ipython-input-86-e8b59a2f9abb>\"\u001b[1;36m, line \u001b[1;32m3\u001b[0m\n\u001b[1;33m    static PyObject* helloworld(PyObject* self) {\u001b[0m\n\u001b[1;37m                  ^\u001b[0m\n\u001b[1;31mSyntaxError\u001b[0m\u001b[1;31m:\u001b[0m invalid syntax\n"
     ]
    }
   ],
   "source": [
    "#include <Python.h>\n",
    "\n",
    "static PyObject* helloworld(PyObject* self) {\n",
    "   return Py_BuildValue(\"s\", \"Hello, Python extensions!!\");\n",
    "}\n",
    "\n",
    "static char helloworld_docs[] =\n",
    "   \"helloworld( ): Any message you want to put here!!\\n\";\n",
    "\n",
    "static PyMethodDef helloworld_funcs[] = {\n",
    "   {\"helloworld\", (PyCFunction)helloworld, \n",
    "      METH_NOARGS, helloworld_docs},\n",
    "      {NULL}\n",
    "};\n",
    "\n",
    "void inithelloworld(void) {\n",
    "   Py_InitModule3(\"helloworld\", helloworld_funcs,\n",
    "                  \"Extension module example!\");\n",
    "}\n"
   ]
  },
  {
   "cell_type": "code",
   "execution_count": 87,
   "metadata": {},
   "outputs": [
    {
     "ename": "SystemExit",
     "evalue": "usage: ipykernel_launcher.py [global_opts] cmd1 [cmd1_opts] [cmd2 [cmd2_opts] ...]\n   or: ipykernel_launcher.py --help [cmd1 cmd2 ...]\n   or: ipykernel_launcher.py --help-commands\n   or: ipykernel_launcher.py cmd --help\n\nerror: option -f not recognized",
     "output_type": "error",
     "traceback": [
      "An exception has occurred, use %tb to see the full traceback.\n",
      "\u001b[1;31mSystemExit\u001b[0m\u001b[1;31m:\u001b[0m usage: ipykernel_launcher.py [global_opts] cmd1 [cmd1_opts] [cmd2 [cmd2_opts] ...]\n   or: ipykernel_launcher.py --help [cmd1 cmd2 ...]\n   or: ipykernel_launcher.py --help-commands\n   or: ipykernel_launcher.py cmd --help\n\nerror: option -f not recognized\n"
     ]
    },
    {
     "name": "stderr",
     "output_type": "stream",
     "text": [
      "C:\\Users\\Dang Dung\\Anaconda3\\lib\\site-packages\\IPython\\core\\interactiveshell.py:3304: UserWarning: To exit: use 'exit', 'quit', or Ctrl-D.\n",
      "  warn(\"To exit: use 'exit', 'quit', or Ctrl-D.\", stacklevel=1)\n"
     ]
    }
   ],
   "source": [
    "from distutils.core import setup, Extension\n",
    "setup(name='helloworld', version='1.0',  \\\n",
    "      ext_modules=[Extension('helloworld', ['hello.c'])])\n"
   ]
  },
  {
   "cell_type": "code",
   "execution_count": 88,
   "metadata": {},
   "outputs": [
    {
     "ename": "SyntaxError",
     "evalue": "invalid syntax (<ipython-input-88-dcebd81aba64>, line 4)",
     "output_type": "error",
     "traceback": [
      "\u001b[1;36m  File \u001b[1;32m\"<ipython-input-88-dcebd81aba64>\"\u001b[1;36m, line \u001b[1;32m4\u001b[0m\n\u001b[1;33m    print helloworld.helloworld()\u001b[0m\n\u001b[1;37m                   ^\u001b[0m\n\u001b[1;31mSyntaxError\u001b[0m\u001b[1;31m:\u001b[0m invalid syntax\n"
     ]
    }
   ],
   "source": [
    "#!/usr/bin/python\n",
    "import helloworld\n",
    "\n",
    "print helloworld.helloworld()\n"
   ]
  },
  {
   "cell_type": "code",
   "execution_count": 91,
   "metadata": {},
   "outputs": [
    {
     "ename": "SyntaxError",
     "evalue": "invalid syntax (<ipython-input-91-f395bcf0f24e>, line 1)",
     "output_type": "error",
     "traceback": [
      "\u001b[1;36m  File \u001b[1;32m\"<ipython-input-91-f395bcf0f24e>\"\u001b[1;36m, line \u001b[1;32m1\u001b[0m\n\u001b[1;33m    static PyObject *MyFunction( PyObject *self, PyObject *args );\u001b[0m\n\u001b[1;37m                  ^\u001b[0m\n\u001b[1;31mSyntaxError\u001b[0m\u001b[1;31m:\u001b[0m invalid syntax\n"
     ]
    }
   ],
   "source": [
    "static PyObject *MyFunction( PyObject *self, PyObject *args );\n",
    "\n",
    "static PyObject *MyFunctionWithKeywords(PyObject *self,\n",
    "                                 PyObject *args,\n",
    "                                 PyObject *kw);\n",
    "\n",
    "static PyObject *MyFunctionWithNoArgs( PyObject *self );\n"
   ]
  },
  {
   "cell_type": "code",
   "execution_count": 92,
   "metadata": {},
   "outputs": [
    {
     "ename": "SyntaxError",
     "evalue": "invalid syntax (<ipython-input-92-d97d0dfe07fc>, line 1)",
     "output_type": "error",
     "traceback": [
      "\u001b[1;36m  File \u001b[1;32m\"<ipython-input-92-d97d0dfe07fc>\"\u001b[1;36m, line \u001b[1;32m1\u001b[0m\n\u001b[1;33m    static PyObject *module_func(PyObject *self, PyObject *args) {\u001b[0m\n\u001b[1;37m                  ^\u001b[0m\n\u001b[1;31mSyntaxError\u001b[0m\u001b[1;31m:\u001b[0m invalid syntax\n"
     ]
    }
   ],
   "source": [
    "static PyObject *module_func(PyObject *self, PyObject *args) {\n",
    "   /* Do your stuff here. */\n",
    "   Py_RETURN_NONE;\n",
    "}\n"
   ]
  },
  {
   "cell_type": "code",
   "execution_count": 98,
   "metadata": {},
   "outputs": [
    {
     "ename": "SyntaxError",
     "evalue": "invalid syntax (<ipython-input-98-189665a92d03>, line 1)",
     "output_type": "error",
     "traceback": [
      "\u001b[1;36m  File \u001b[1;32m\"<ipython-input-98-189665a92d03>\"\u001b[1;36m, line \u001b[1;32m1\u001b[0m\n\u001b[1;33m    struct PyMethodDef {\u001b[0m\n\u001b[1;37m                     ^\u001b[0m\n\u001b[1;31mSyntaxError\u001b[0m\u001b[1;31m:\u001b[0m invalid syntax\n"
     ]
    }
   ],
   "source": [
    "struct PyMethodDef {\n",
    "   char *ml_name;\n",
    "   PyCFunction ml_meth;\n",
    "   int ml_flags;\n",
    "   char *ml_doc;\n",
    "};"
   ]
  },
  {
   "cell_type": "code",
   "execution_count": 100,
   "metadata": {},
   "outputs": [
    {
     "ename": "SyntaxError",
     "evalue": "invalid syntax (<ipython-input-100-dae49d7a1774>, line 1)",
     "output_type": "error",
     "traceback": [
      "\u001b[1;36m  File \u001b[1;32m\"<ipython-input-100-dae49d7a1774>\"\u001b[1;36m, line \u001b[1;32m1\u001b[0m\n\u001b[1;33m    static PyMethodDef module_methods[] = {\u001b[0m\n\u001b[1;37m                     ^\u001b[0m\n\u001b[1;31mSyntaxError\u001b[0m\u001b[1;31m:\u001b[0m invalid syntax\n"
     ]
    }
   ],
   "source": [
    "static PyMethodDef module_methods[] = {\n",
    "   { \"func\", (PyCFunction)module_func, METH_NOARGS, NULL },\n",
    "   { NULL, NULL, 0, NULL }\n",
    "};"
   ]
  },
  {
   "cell_type": "code",
   "execution_count": 115,
   "metadata": {},
   "outputs": [
    {
     "ename": "SyntaxError",
     "evalue": "invalid syntax (<ipython-input-115-920a3221c653>, line 1)",
     "output_type": "error",
     "traceback": [
      "\u001b[1;36m  File \u001b[1;32m\"<ipython-input-115-920a3221c653>\"\u001b[1;36m, line \u001b[1;32m1\u001b[0m\n\u001b[1;33m    PyMODINIT_FUNC initModule() {\u001b[0m\n\u001b[1;37m                            ^\u001b[0m\n\u001b[1;31mSyntaxError\u001b[0m\u001b[1;31m:\u001b[0m invalid syntax\n"
     ]
    }
   ],
   "source": [
    "PyMODINIT_FUNC initModule() {\n",
    "   Py_InitModule3(func, module_methods, \"docstring...\");\n",
    "}"
   ]
  },
  {
   "cell_type": "code",
   "execution_count": 114,
   "metadata": {},
   "outputs": [
    {
     "ename": "SyntaxError",
     "evalue": "invalid syntax (<ipython-input-114-1134ede31aa7>, line 1)",
     "output_type": "error",
     "traceback": [
      "\u001b[1;36m  File \u001b[1;32m\"<ipython-input-114-1134ede31aa7>\"\u001b[1;36m, line \u001b[1;32m1\u001b[0m\n\u001b[1;33m    static PyObject* helloworld(PyObject* self) {\u001b[0m\n\u001b[1;37m                  ^\u001b[0m\n\u001b[1;31mSyntaxError\u001b[0m\u001b[1;31m:\u001b[0m invalid syntax\n"
     ]
    }
   ],
   "source": [
    "static PyObject* helloworld(PyObject* self) {\n",
    "   return Py_BuildValue(\"s\", \"Hello, Python extensions!!\");\n",
    "}\n",
    "\n",
    "static char helloworld_docs[] =\n",
    "   \"helloworld( ): Any message you want to put here!!\\n\";\n",
    "\n",
    "static PyMethodDef helloworld_funcs[] = {\n",
    "   {\"helloworld\", (PyCFunction)helloworld, \n",
    "      METH_NOARGS, helloworld_docs},\n",
    "      {NULL}\n",
    "};\n",
    "\n",
    "void inithelloworld(void) {\n",
    "   Py_InitModule3(\"helloworld\", helloworld_funcs,\n",
    "                  \"Extension module example!\");\n",
    "}"
   ]
  },
  {
   "cell_type": "code",
   "execution_count": 113,
   "metadata": {},
   "outputs": [
    {
     "ename": "SystemExit",
     "evalue": "usage: ipykernel_launcher.py [global_opts] cmd1 [cmd1_opts] [cmd2 [cmd2_opts] ...]\n   or: ipykernel_launcher.py --help [cmd1 cmd2 ...]\n   or: ipykernel_launcher.py --help-commands\n   or: ipykernel_launcher.py cmd --help\n\nerror: option -f not recognized",
     "output_type": "error",
     "traceback": [
      "An exception has occurred, use %tb to see the full traceback.\n",
      "\u001b[1;31mSystemExit\u001b[0m\u001b[1;31m:\u001b[0m usage: ipykernel_launcher.py [global_opts] cmd1 [cmd1_opts] [cmd2 [cmd2_opts] ...]\n   or: ipykernel_launcher.py --help [cmd1 cmd2 ...]\n   or: ipykernel_launcher.py --help-commands\n   or: ipykernel_launcher.py cmd --help\n\nerror: option -f not recognized\n"
     ]
    }
   ],
   "source": [
    "from distutils.core import setup, Extension\n",
    "setup(name='helloworld', version='1.0',  \\\n",
    "      ext_modules=[Extension('helloworld', ['hello.c'])])"
   ]
  },
  {
   "cell_type": "code",
   "execution_count": 112,
   "metadata": {},
   "outputs": [
    {
     "ename": "SyntaxError",
     "evalue": "invalid syntax (<ipython-input-112-8b312ab94b1f>, line 2)",
     "output_type": "error",
     "traceback": [
      "\u001b[1;36m  File \u001b[1;32m\"<ipython-input-112-8b312ab94b1f>\"\u001b[1;36m, line \u001b[1;32m2\u001b[0m\n\u001b[1;33m    print helloworld.helloworld()\u001b[0m\n\u001b[1;37m                   ^\u001b[0m\n\u001b[1;31mSyntaxError\u001b[0m\u001b[1;31m:\u001b[0m invalid syntax\n"
     ]
    }
   ],
   "source": [
    "import helloworld\n",
    "print helloworld.helloworld()"
   ]
  },
  {
   "cell_type": "code",
   "execution_count": 111,
   "metadata": {},
   "outputs": [
    {
     "ename": "SyntaxError",
     "evalue": "invalid syntax (<ipython-input-111-90eb3a0e2553>, line 1)",
     "output_type": "error",
     "traceback": [
      "\u001b[1;36m  File \u001b[1;32m\"<ipython-input-111-90eb3a0e2553>\"\u001b[1;36m, line \u001b[1;32m1\u001b[0m\n\u001b[1;33m    static PyObject *module_func(PyObject *self, PyObject *args) {\u001b[0m\n\u001b[1;37m                  ^\u001b[0m\n\u001b[1;31mSyntaxError\u001b[0m\u001b[1;31m:\u001b[0m invalid syntax\n"
     ]
    }
   ],
   "source": [
    "static PyObject *module_func(PyObject *self, PyObject *args) {\n",
    "   /* Parse args and do something interesting here. */\n",
    "   Py_RETURN_NONE;\n",
    "}"
   ]
  },
  {
   "cell_type": "code",
   "execution_count": 106,
   "metadata": {},
   "outputs": [
    {
     "ename": "SyntaxError",
     "evalue": "invalid syntax (<ipython-input-106-ef99d4107e7e>, line 1)",
     "output_type": "error",
     "traceback": [
      "\u001b[1;36m  File \u001b[1;32m\"<ipython-input-106-ef99d4107e7e>\"\u001b[1;36m, line \u001b[1;32m1\u001b[0m\n\u001b[1;33m    static PyMethodDef module_methods[] = {\u001b[0m\n\u001b[1;37m                     ^\u001b[0m\n\u001b[1;31mSyntaxError\u001b[0m\u001b[1;31m:\u001b[0m invalid syntax\n"
     ]
    }
   ],
   "source": [
    "static PyMethodDef module_methods[] = {\n",
    "   { \"func\", (PyCFunction)module_func, METH_NOARGS, NULL },\n",
    "   { \"func\", module_func, METH_VARARGS, NULL },\n",
    "   { NULL, NULL, 0, NULL }\n",
    "};\n"
   ]
  },
  {
   "cell_type": "code",
   "execution_count": 107,
   "metadata": {},
   "outputs": [
    {
     "ename": "SyntaxError",
     "evalue": "invalid syntax (<ipython-input-107-0afe2e4890de>, line 1)",
     "output_type": "error",
     "traceback": [
      "\u001b[1;36m  File \u001b[1;32m\"<ipython-input-107-0afe2e4890de>\"\u001b[1;36m, line \u001b[1;32m1\u001b[0m\n\u001b[1;33m    static PyObject *module_func(PyObject *self, PyObject *args) {\u001b[0m\n\u001b[1;37m                  ^\u001b[0m\n\u001b[1;31mSyntaxError\u001b[0m\u001b[1;31m:\u001b[0m invalid syntax\n"
     ]
    }
   ],
   "source": [
    "static PyObject *module_func(PyObject *self, PyObject *args) {\n",
    "   int i;\n",
    "   double d;\n",
    "   char *s;\n",
    "\n",
    "   if (!PyArg_ParseTuple(args, \"ids\", &i, &d, &s)) {\n",
    "      return NULL;\n",
    "   }\n",
    "   \n",
    "   /* Do something interesting here. */\n",
    "   Py_RETURN_NONE;\n",
    "}\n"
   ]
  },
  {
   "cell_type": "code",
   "execution_count": 108,
   "metadata": {},
   "outputs": [
    {
     "ename": "NameError",
     "evalue": "name 'module' is not defined",
     "output_type": "error",
     "traceback": [
      "\u001b[1;31m---------------------------------------------------------------------------\u001b[0m",
      "\u001b[1;31mNameError\u001b[0m                                 Traceback (most recent call last)",
      "\u001b[1;32m<ipython-input-108-32aa1053e156>\u001b[0m in \u001b[0;36m<module>\u001b[1;34m\u001b[0m\n\u001b[1;32m----> 1\u001b[1;33m \u001b[0mmodule\u001b[0m\u001b[1;33m.\u001b[0m\u001b[0mfunc\u001b[0m\u001b[1;33m(\u001b[0m\u001b[1;36m1\u001b[0m\u001b[1;33m,\u001b[0m \u001b[0ms\u001b[0m\u001b[1;33m=\u001b[0m\u001b[1;34m\"three\"\u001b[0m\u001b[1;33m,\u001b[0m \u001b[0md\u001b[0m\u001b[1;33m=\u001b[0m\u001b[1;36m2.0\u001b[0m\u001b[1;33m)\u001b[0m\u001b[1;33m\u001b[0m\u001b[1;33m\u001b[0m\u001b[0m\n\u001b[0m\u001b[0;32m      2\u001b[0m \u001b[0mmodule\u001b[0m\u001b[1;33m.\u001b[0m\u001b[0mfunc\u001b[0m\u001b[1;33m(\u001b[0m\u001b[0mi\u001b[0m\u001b[1;33m=\u001b[0m\u001b[1;36m1\u001b[0m\u001b[1;33m,\u001b[0m \u001b[0md\u001b[0m\u001b[1;33m=\u001b[0m\u001b[1;36m2.0\u001b[0m\u001b[1;33m,\u001b[0m \u001b[0ms\u001b[0m\u001b[1;33m=\u001b[0m\u001b[1;34m\"three\"\u001b[0m\u001b[1;33m)\u001b[0m\u001b[1;33m\u001b[0m\u001b[1;33m\u001b[0m\u001b[0m\n\u001b[0;32m      3\u001b[0m \u001b[0mmodule\u001b[0m\u001b[1;33m.\u001b[0m\u001b[0mfunc\u001b[0m\u001b[1;33m(\u001b[0m\u001b[0ms\u001b[0m\u001b[1;33m=\u001b[0m\u001b[1;34m\"three\"\u001b[0m\u001b[1;33m,\u001b[0m \u001b[0md\u001b[0m\u001b[1;33m=\u001b[0m\u001b[1;36m2.0\u001b[0m\u001b[1;33m,\u001b[0m \u001b[0mi\u001b[0m\u001b[1;33m=\u001b[0m\u001b[1;36m1\u001b[0m\u001b[1;33m)\u001b[0m\u001b[1;33m\u001b[0m\u001b[1;33m\u001b[0m\u001b[0m\n",
      "\u001b[1;31mNameError\u001b[0m: name 'module' is not defined"
     ]
    }
   ],
   "source": [
    "module.func(1, s=\"three\", d=2.0)\n",
    "module.func(i=1, d=2.0, s=\"three\")\n",
    "module.func(s=\"three\", d=2.0, i=1)\n"
   ]
  },
  {
   "cell_type": "code",
   "execution_count": 116,
   "metadata": {},
   "outputs": [
    {
     "ename": "SyntaxError",
     "evalue": "invalid syntax (<ipython-input-116-496336ec1612>, line 1)",
     "output_type": "error",
     "traceback": [
      "\u001b[1;36m  File \u001b[1;32m\"<ipython-input-116-496336ec1612>\"\u001b[1;36m, line \u001b[1;32m1\u001b[0m\n\u001b[1;33m    static PyObject *foo_add(PyObject *self, PyObject *args) {\u001b[0m\n\u001b[1;37m                  ^\u001b[0m\n\u001b[1;31mSyntaxError\u001b[0m\u001b[1;31m:\u001b[0m invalid syntax\n"
     ]
    }
   ],
   "source": [
    "static PyObject *foo_add(PyObject *self, PyObject *args) {\n",
    "   int a;\n",
    "   int b;\n",
    "\n",
    "   if (!PyArg_ParseTuple(args, \"ii\", &a, &b)) {\n",
    "      return NULL;\n",
    "   }\n",
    "   return Py_BuildValue(\"i\", a + b);\n",
    "}\n"
   ]
  },
  {
   "cell_type": "code",
   "execution_count": 117,
   "metadata": {},
   "outputs": [],
   "source": [
    "def add(a, b):\n",
    "   return (a + b)\n"
   ]
  },
  {
   "cell_type": "code",
   "execution_count": 118,
   "metadata": {},
   "outputs": [
    {
     "ename": "SyntaxError",
     "evalue": "invalid syntax (<ipython-input-118-f1b6af3efdb3>, line 1)",
     "output_type": "error",
     "traceback": [
      "\u001b[1;36m  File \u001b[1;32m\"<ipython-input-118-f1b6af3efdb3>\"\u001b[1;36m, line \u001b[1;32m1\u001b[0m\n\u001b[1;33m    static PyObject *foo_add_subtract(PyObject *self, PyObject *args) {\u001b[0m\n\u001b[1;37m                  ^\u001b[0m\n\u001b[1;31mSyntaxError\u001b[0m\u001b[1;31m:\u001b[0m invalid syntax\n"
     ]
    }
   ],
   "source": [
    "static PyObject *foo_add_subtract(PyObject *self, PyObject *args) {\n",
    "   int a;\n",
    "   int b;\n",
    "\n",
    "   if (!PyArg_ParseTuple(args, \"ii\", &a, &b)) {\n",
    "      return NULL;\n",
    "   }\n",
    "   return Py_BuildValue(\"ii\", a + b, a - b);\n",
    "}\n"
   ]
  },
  {
   "cell_type": "code",
   "execution_count": 119,
   "metadata": {},
   "outputs": [],
   "source": [
    "def add_subtract(a, b):\n",
    "   return (a + b, a - b)"
   ]
  },
  {
   "cell_type": "code",
   "execution_count": 124,
   "metadata": {},
   "outputs": [],
   "source": [
    "list1 = ['physics', 'chemistry', 1997, 2000];\n",
    "list2 = [1, 2, 3, 4, 5 ];\n",
    "list3 = [\"a\", \"b\", \"c\", \"d\"]\n"
   ]
  },
  {
   "cell_type": "code",
   "execution_count": 121,
   "metadata": {},
   "outputs": [
    {
     "ename": "SyntaxError",
     "evalue": "Missing parentheses in call to 'print'. Did you mean print(\"list1[0]: \", list1[0])? (<ipython-input-121-5822a2e6984d>, line 3)",
     "output_type": "error",
     "traceback": [
      "\u001b[1;36m  File \u001b[1;32m\"<ipython-input-121-5822a2e6984d>\"\u001b[1;36m, line \u001b[1;32m3\u001b[0m\n\u001b[1;33m    print \"list1[0]: \", list1[0]\u001b[0m\n\u001b[1;37m                     ^\u001b[0m\n\u001b[1;31mSyntaxError\u001b[0m\u001b[1;31m:\u001b[0m Missing parentheses in call to 'print'. Did you mean print(\"list1[0]: \", list1[0])?\n"
     ]
    }
   ],
   "source": [
    "list1 = ['physics', 'chemistry', 1997, 2000];\n",
    "list2 = [1, 2, 3, 4, 5, 6, 7 ];\n",
    "print \"list1[0]: \", list1[0]\n",
    "print \"list2[1:5]: \", list2[1:5]\n"
   ]
  },
  {
   "cell_type": "code",
   "execution_count": 125,
   "metadata": {},
   "outputs": [
    {
     "ename": "NameError",
     "evalue": "name 'physics' is not defined",
     "output_type": "error",
     "traceback": [
      "\u001b[1;31m---------------------------------------------------------------------------\u001b[0m",
      "\u001b[1;31mNameError\u001b[0m                                 Traceback (most recent call last)",
      "\u001b[1;32m<ipython-input-125-3ac1f45debba>\u001b[0m in \u001b[0;36m<module>\u001b[1;34m\u001b[0m\n\u001b[1;32m----> 1\u001b[1;33m \u001b[0mlist1\u001b[0m\u001b[1;33m[\u001b[0m\u001b[1;36m0\u001b[0m\u001b[1;33m]\u001b[0m\u001b[1;33m:\u001b[0m  \u001b[0mphysics\u001b[0m\u001b[1;33m\u001b[0m\u001b[1;33m\u001b[0m\u001b[0m\n\u001b[0m\u001b[0;32m      2\u001b[0m \u001b[0mlist2\u001b[0m\u001b[1;33m[\u001b[0m\u001b[1;36m1\u001b[0m\u001b[1;33m:\u001b[0m\u001b[1;36m5\u001b[0m\u001b[1;33m]\u001b[0m\u001b[1;33m:\u001b[0m  \u001b[1;33m[\u001b[0m\u001b[1;36m2\u001b[0m\u001b[1;33m,\u001b[0m \u001b[1;36m3\u001b[0m\u001b[1;33m,\u001b[0m \u001b[1;36m4\u001b[0m\u001b[1;33m,\u001b[0m \u001b[1;36m5\u001b[0m\u001b[1;33m]\u001b[0m\u001b[1;33m\u001b[0m\u001b[1;33m\u001b[0m\u001b[0m\n",
      "\u001b[1;31mNameError\u001b[0m: name 'physics' is not defined"
     ]
    }
   ],
   "source": [
    "list1[0]:  physics\n",
    "list2[1:5]:  [2, 3, 4, 5]"
   ]
  },
  {
   "cell_type": "code",
   "execution_count": 135,
   "metadata": {},
   "outputs": [
    {
     "name": "stdout",
     "output_type": "stream",
     "text": [
      "abc -4.24e+93 (18+6.6j) xyz\n",
      "Value of x , y :  1 2\n"
     ]
    }
   ],
   "source": [
    "print ('abc', -4.24e93, 18+6.6j, 'xyz');\n",
    "x, y = 1, 2;\n",
    "print (\"Value of x , y : \", x,y);\n"
   ]
  },
  {
   "cell_type": "code",
   "execution_count": 134,
   "metadata": {},
   "outputs": [
    {
     "name": "stdout",
     "output_type": "stream",
     "text": [
      "dict['Name']:  Zara\n",
      "dict['Age']:  7\n"
     ]
    }
   ],
   "source": [
    "dict = {'Name': 'Zara', 'Age': 7, 'Class': 'First'}\n",
    "print (\"dict['Name']: \", dict['Name'])\n",
    "print (\"dict['Age']: \", dict['Age'])\n"
   ]
  },
  {
   "cell_type": "code",
   "execution_count": 136,
   "metadata": {},
   "outputs": [
    {
     "ename": "KeyError",
     "evalue": "'Alice'",
     "output_type": "error",
     "traceback": [
      "\u001b[1;31m---------------------------------------------------------------------------\u001b[0m",
      "\u001b[1;31mKeyError\u001b[0m                                  Traceback (most recent call last)",
      "\u001b[1;32m<ipython-input-136-91084a7d91f5>\u001b[0m in \u001b[0;36m<module>\u001b[1;34m\u001b[0m\n\u001b[0;32m      1\u001b[0m \u001b[0mdict\u001b[0m \u001b[1;33m=\u001b[0m \u001b[1;33m{\u001b[0m\u001b[1;34m'Name'\u001b[0m\u001b[1;33m:\u001b[0m \u001b[1;34m'Zara'\u001b[0m\u001b[1;33m,\u001b[0m \u001b[1;34m'Age'\u001b[0m\u001b[1;33m:\u001b[0m \u001b[1;36m7\u001b[0m\u001b[1;33m,\u001b[0m \u001b[1;34m'Class'\u001b[0m\u001b[1;33m:\u001b[0m \u001b[1;34m'First'\u001b[0m\u001b[1;33m}\u001b[0m\u001b[1;33m\u001b[0m\u001b[1;33m\u001b[0m\u001b[0m\n\u001b[1;32m----> 2\u001b[1;33m \u001b[0mprint\u001b[0m \u001b[1;33m(\u001b[0m\u001b[1;34m\"dict['Alice']: \"\u001b[0m\u001b[1;33m,\u001b[0m \u001b[0mdict\u001b[0m\u001b[1;33m[\u001b[0m\u001b[1;34m'Alice'\u001b[0m\u001b[1;33m]\u001b[0m\u001b[1;33m)\u001b[0m\u001b[1;33m\u001b[0m\u001b[1;33m\u001b[0m\u001b[0m\n\u001b[0m",
      "\u001b[1;31mKeyError\u001b[0m: 'Alice'"
     ]
    }
   ],
   "source": [
    "dict = {'Name': 'Zara', 'Age': 7, 'Class': 'First'}\n",
    "print (\"dict['Alice']: \", dict['Alice'])\n"
   ]
  },
  {
   "cell_type": "code",
   "execution_count": 138,
   "metadata": {},
   "outputs": [
    {
     "ename": "TypeError",
     "evalue": "'type' object is not subscriptable",
     "output_type": "error",
     "traceback": [
      "\u001b[1;31m---------------------------------------------------------------------------\u001b[0m",
      "\u001b[1;31mTypeError\u001b[0m                                 Traceback (most recent call last)",
      "\u001b[1;32m<ipython-input-138-fbade8656a58>\u001b[0m in \u001b[0;36m<module>\u001b[1;34m\u001b[0m\n\u001b[0;32m      4\u001b[0m \u001b[1;32mdel\u001b[0m \u001b[0mdict\u001b[0m \u001b[1;33m;\u001b[0m        \u001b[1;31m# delete entire dictionary\u001b[0m\u001b[1;33m\u001b[0m\u001b[1;33m\u001b[0m\u001b[0m\n\u001b[0;32m      5\u001b[0m \u001b[1;33m\u001b[0m\u001b[0m\n\u001b[1;32m----> 6\u001b[1;33m \u001b[0mprint\u001b[0m \u001b[1;33m(\u001b[0m\u001b[1;34m\"dict['Age']: \"\u001b[0m\u001b[1;33m,\u001b[0m \u001b[0mdict\u001b[0m\u001b[1;33m[\u001b[0m\u001b[1;34m'Age'\u001b[0m\u001b[1;33m]\u001b[0m\u001b[1;33m)\u001b[0m\u001b[1;33m\u001b[0m\u001b[1;33m\u001b[0m\u001b[0m\n\u001b[0m\u001b[0;32m      7\u001b[0m \u001b[0mprint\u001b[0m \u001b[1;33m(\u001b[0m\u001b[1;34m\"dict['School']: \"\u001b[0m\u001b[1;33m,\u001b[0m \u001b[0mdict\u001b[0m\u001b[1;33m[\u001b[0m\u001b[1;34m'School'\u001b[0m\u001b[1;33m]\u001b[0m\u001b[1;33m)\u001b[0m\u001b[1;33m\u001b[0m\u001b[1;33m\u001b[0m\u001b[0m\n",
      "\u001b[1;31mTypeError\u001b[0m: 'type' object is not subscriptable"
     ]
    }
   ],
   "source": [
    "dict = {'Name': 'Zara', 'Age': 7, 'Class': 'First'}\n",
    "del dict['Name']; # remove entry with key 'Name'\n",
    "dict.clear();     # remove all entries in dict\n",
    "del dict ;        # delete entire dictionary\n",
    "\n",
    "print (\"dict['Age']: \", dict['Age'])\n",
    "print (\"dict['School']: \", dict['School'])\n"
   ]
  },
  {
   "cell_type": "code",
   "execution_count": 140,
   "metadata": {},
   "outputs": [
    {
     "name": "stdout",
     "output_type": "stream",
     "text": [
      "dict['Name']:  Manni\n"
     ]
    }
   ],
   "source": [
    "dict = {'Name': 'Zara', 'Age': 7, 'Name': 'Manni'}\n",
    "print (\"dict['Name']: \", dict['Name'])\n"
   ]
  },
  {
   "cell_type": "code",
   "execution_count": 142,
   "metadata": {},
   "outputs": [
    {
     "ename": "TypeError",
     "evalue": "unhashable type: 'list'",
     "output_type": "error",
     "traceback": [
      "\u001b[1;31m---------------------------------------------------------------------------\u001b[0m",
      "\u001b[1;31mTypeError\u001b[0m                                 Traceback (most recent call last)",
      "\u001b[1;32m<ipython-input-142-d3c59f072d3f>\u001b[0m in \u001b[0;36m<module>\u001b[1;34m\u001b[0m\n\u001b[1;32m----> 1\u001b[1;33m \u001b[0mdict\u001b[0m \u001b[1;33m=\u001b[0m \u001b[1;33m{\u001b[0m\u001b[1;33m[\u001b[0m\u001b[1;34m'Name'\u001b[0m\u001b[1;33m]\u001b[0m\u001b[1;33m:\u001b[0m \u001b[1;34m'Zara'\u001b[0m\u001b[1;33m,\u001b[0m \u001b[1;34m'Age'\u001b[0m\u001b[1;33m:\u001b[0m \u001b[1;36m7\u001b[0m\u001b[1;33m}\u001b[0m\u001b[1;33m\u001b[0m\u001b[1;33m\u001b[0m\u001b[0m\n\u001b[0m\u001b[0;32m      2\u001b[0m \u001b[0mprint\u001b[0m \u001b[1;33m(\u001b[0m\u001b[1;34m\"dict['Name']: \"\u001b[0m\u001b[1;33m,\u001b[0m \u001b[0mdict\u001b[0m\u001b[1;33m[\u001b[0m\u001b[1;34m'Name'\u001b[0m\u001b[1;33m]\u001b[0m\u001b[1;33m)\u001b[0m\u001b[1;33m\u001b[0m\u001b[1;33m\u001b[0m\u001b[0m\n",
      "\u001b[1;31mTypeError\u001b[0m: unhashable type: 'list'"
     ]
    }
   ],
   "source": [
    "dict = {['Name']: 'Zara', 'Age': 7}\n",
    "print (\"dict['Name']: \", dict['Name'])\n"
   ]
  },
  {
   "cell_type": "code",
   "execution_count": 144,
   "metadata": {},
   "outputs": [
    {
     "name": "stdout",
     "output_type": "stream",
     "text": [
      "Number of ticks since 12:00am, January 1, 1970: 1563168890.30556\n"
     ]
    }
   ],
   "source": [
    "import time;  # This is required to include time module.\n",
    "\n",
    "ticks = time.time()\n",
    "print (\"Number of ticks since 12:00am, January 1, 1970:\", ticks)\n"
   ]
  },
  {
   "cell_type": "code",
   "execution_count": 146,
   "metadata": {},
   "outputs": [
    {
     "name": "stdout",
     "output_type": "stream",
     "text": [
      "Local current time : time.struct_time(tm_year=2019, tm_mon=7, tm_mday=15, tm_hour=12, tm_min=41, tm_sec=13, tm_wday=0, tm_yday=196, tm_isdst=0)\n"
     ]
    }
   ],
   "source": [
    "import time;\n",
    "\n",
    "localtime = time.localtime(time.time())\n",
    "print (\"Local current time :\", localtime)\n"
   ]
  },
  {
   "cell_type": "code",
   "execution_count": 148,
   "metadata": {},
   "outputs": [
    {
     "name": "stdout",
     "output_type": "stream",
     "text": [
      "Local current time : Mon Jul 15 12:41:29 2019\n"
     ]
    }
   ],
   "source": [
    "import time;\n",
    "\n",
    "localtime = time.asctime( time.localtime(time.time()) )\n",
    "print (\"Local current time :\", localtime)\n"
   ]
  },
  {
   "cell_type": "code",
   "execution_count": 150,
   "metadata": {},
   "outputs": [
    {
     "name": "stdout",
     "output_type": "stream",
     "text": [
      "Here is the calendar:\n",
      "    January 2008\n",
      "Mo Tu We Th Fr Sa Su\n",
      "    1  2  3  4  5  6\n",
      " 7  8  9 10 11 12 13\n",
      "14 15 16 17 18 19 20\n",
      "21 22 23 24 25 26 27\n",
      "28 29 30 31\n",
      "\n"
     ]
    }
   ],
   "source": [
    "import calendar\n",
    "\n",
    "cal = calendar.month(2008, 1)\n",
    "print (\"Here is the calendar:\")\n",
    "print (cal)\n"
   ]
  },
  {
   "cell_type": "code",
   "execution_count": 152,
   "metadata": {},
   "outputs": [
    {
     "name": "stdout",
     "output_type": "stream",
     "text": [
      "  4           0 LOAD_CONST               1 (10)\n",
      "              2 STORE_FAST               0 (vara)\n",
      "\n",
      "  5           4 LOAD_CONST               2 (20)\n",
      "              6 STORE_FAST               1 (varb)\n",
      "\n",
      "  7           8 LOAD_FAST                0 (vara)\n",
      "             10 LOAD_FAST                1 (varb)\n",
      "             12 BINARY_ADD\n",
      "             14 STORE_FAST               2 (sum)\n",
      "\n",
      "  8          16 LOAD_GLOBAL              0 (print)\n",
      "             18 LOAD_CONST               3 ('vara + varb = %d')\n",
      "             20 LOAD_FAST                2 (sum)\n",
      "             22 BINARY_MODULO\n",
      "             24 CALL_FUNCTION            1\n",
      "             26 POP_TOP\n",
      "             28 LOAD_CONST               0 (None)\n",
      "             30 RETURN_VALUE\n"
     ]
    }
   ],
   "source": [
    "import dis\n",
    "\n",
    "def sum():\n",
    "   vara = 10\n",
    "   varb = 20\n",
    "\n",
    "   sum = vara + varb\n",
    "   print (\"vara + varb = %d\" % sum)\n",
    "\n",
    "# Call dis function for the function.\n",
    "\n",
    "dis.dis(sum)\n"
   ]
  },
  {
   "cell_type": "code",
   "execution_count": 154,
   "metadata": {},
   "outputs": [
    {
     "name": "stdout",
     "output_type": "stream",
     "text": [
      "vara + varb = 30\n"
     ]
    }
   ],
   "source": [
    "vara = 10\n",
    "varb = 20\n",
    "\n",
    "sum = vara + varb\n",
    "print (\"vara + varb = %d\" % sum)\n"
   ]
  },
  {
   "cell_type": "code",
   "execution_count": 155,
   "metadata": {},
   "outputs": [
    {
     "name": "stdout",
     "output_type": "stream",
     "text": [
      "vara + varb = 30\n"
     ]
    }
   ],
   "source": [
    "vara = 10\n",
    "varb = 20\n",
    "\n",
    "sum = vara + varb\n",
    "print (\"vara + varb = %d\" % sum)\n"
   ]
  },
  {
   "cell_type": "code",
   "execution_count": null,
   "metadata": {},
   "outputs": [],
   "source": []
  }
 ],
 "metadata": {
  "kernelspec": {
   "display_name": "Python 3",
   "language": "python",
   "name": "python3"
  },
  "language_info": {
   "codemirror_mode": {
    "name": "ipython",
    "version": 3
   },
   "file_extension": ".py",
   "mimetype": "text/x-python",
   "name": "python",
   "nbconvert_exporter": "python",
   "pygments_lexer": "ipython3",
   "version": "3.7.3"
  }
 },
 "nbformat": 4,
 "nbformat_minor": 2
}
