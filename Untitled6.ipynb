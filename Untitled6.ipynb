{
 "cells": [
  {
   "cell_type": "code",
   "execution_count": 1,
   "metadata": {},
   "outputs": [
    {
     "name": "stdout",
     "output_type": "stream",
     "text": [
      "[17, 20, 26, 31, 44, 54, 55, 77, 93]\n"
     ]
    }
   ],
   "source": [
    "def quickSort(alist):\n",
    "\n",
    "  quickSortHelper(alist,0,len(alist)-1)\n",
    "\n",
    "def quickSortHelper(alist,first,last):\n",
    "\n",
    "  if first<last:\n",
    "      splitpoint = partition(alist,first,last)\n",
    "      quickSortHelper(alist,first,splitpoint-1)\n",
    "      quickSortHelper(alist,splitpoint+1,last)\n",
    "\n",
    "def partition(alist,first,last):\n",
    "\n",
    "  pivotvalue = alist[first]\n",
    "  leftmark = first+1\n",
    "  rightmark = last\n",
    "  done = False\n",
    "\n",
    "  while not done:\n",
    "      while leftmark <= rightmark and alist[leftmark] <= pivotvalue:\n",
    "          leftmark = leftmark + 1\n",
    "\n",
    "      while alist[rightmark] >= pivotvalue and rightmark >= leftmark:\n",
    "          rightmark = rightmark -1\n",
    "\n",
    "      if rightmark < leftmark:\n",
    "          done = True\n",
    "      else:\n",
    "          temp = alist[leftmark]\n",
    "          alist[leftmark] = alist[rightmark]\n",
    "          alist[rightmark] = temp\n",
    "\n",
    "  temp = alist[first]\n",
    "  alist[first] = alist[rightmark]\n",
    "  alist[rightmark] = temp\n",
    "\n",
    "  return rightmark\n",
    "\n",
    "alist = [54,26,93,17,77,31,44,55,20]\n",
    "quickSort(alist)\n",
    "print(alist)\n"
   ]
  },
  {
   "cell_type": "code",
   "execution_count": 46,
   "metadata": {},
   "outputs": [
    {
     "name": "stdout",
     "output_type": "stream",
     "text": [
      "[7, 6, 5, 4, 3, 2, 1]\n",
      "[1, 2, 3, 4, 5, 6, 7]\n"
     ]
    }
   ],
   "source": [
    "alist = [1,2,3,4,5,6,7]\n",
    "\n",
    "print(alist[::-1]) #prints [7,6,5,4,3,2,1]\n",
    "\n",
    "print(alist) #prints [1,2,3,4,5,6,7]\n"
   ]
  },
  {
   "cell_type": "code",
   "execution_count": 3,
   "metadata": {},
   "outputs": [
    {
     "name": "stdout",
     "output_type": "stream",
     "text": [
      "[5, 4, 3, 2, 1]\n"
     ]
    }
   ],
   "source": [
    "def reverse(alist):\n",
    "\n",
    "   #intializing pointers\n",
    "   left = 0\n",
    "   right = len(alist)-1\n",
    "\n",
    "   #condition for termination\n",
    "   while left<right:\n",
    "\n",
    "       #swapping\n",
    "       temp = alist[left]\n",
    "       alist[left] = alist[right]\n",
    "       alist[right] = temp\n",
    "\n",
    "       #updating pointers\n",
    "       left += 1\n",
    "       right -= 1\n",
    "\n",
    "   return alist\n",
    "\n",
    "print(reverse([1,2,3,4,5]))\n"
   ]
  },
  {
   "cell_type": "code",
   "execution_count": 29,
   "metadata": {},
   "outputs": [
    {
     "name": "stdout",
     "output_type": "stream",
     "text": [
      "[7, 6, 5, 4, 3, 2, 1]\n",
      "<built-in method append of list object at 0x000001D6048D9A88>\n",
      "[[1, 2, 3, 4, 5, 6, 7]]\n"
     ]
    }
   ],
   "source": [
    "alist = [1,2,3,4,5,6,7]\n",
    "blist = list()\n",
    "print(alist[::-1])\n",
    "print(blist.append)\n",
    "#for item in alist[::-1]:\n",
    "#blist.append(item)\n",
    "#print(blist) #prints [7,6,5,4,3,2,1]\n",
    "llist = [1,2,3,4,5,6,7]\n",
    "klist = list()\n",
    "klist.append(llist)\n",
    "print(klist)"
   ]
  },
  {
   "cell_type": "code",
   "execution_count": 30,
   "metadata": {},
   "outputs": [
    {
     "name": "stdout",
     "output_type": "stream",
     "text": [
      "Inserting\n",
      "True\n",
      "True\n",
      "True\n",
      "Printing\n",
      "25\n",
      "15\n",
      "5\n",
      "Size\n",
      "3\n"
     ]
    }
   ],
   "source": [
    "class Node:\n",
    "\n",
    "   def __init__(self,data,nextNode=None):\n",
    "       self.data = data\n",
    "       self.nextNode = nextNode\n",
    "\n",
    "   def getData(self):\n",
    "       return self.data\n",
    "\n",
    "   def setData(self,val):\n",
    "       self.data = val\n",
    "\n",
    "   def getNextNode(self):\n",
    "       return self.nextNode\n",
    "\n",
    "   def setNextNode(self,val):\n",
    "       self.nextNode = val\n",
    "\n",
    "class LinkedList:\n",
    "\n",
    "   def __init__(self,head = None):\n",
    "       self.head = head\n",
    "       self.size = 0\n",
    "\n",
    "   def getSize(self):\n",
    "       return self.size\n",
    "\n",
    "   def addNode(self,data):\n",
    "       newNode = Node(data,self.head)\n",
    "       self.head = newNode\n",
    "       self.size+=1\n",
    "       return True\n",
    "       \n",
    "   def printNode(self):\n",
    "       curr = self.head\n",
    "       while curr:\n",
    "           print(curr.data)\n",
    "           curr = curr.getNextNode()\n",
    "\n",
    "myList = LinkedList()\n",
    "print(\"Inserting\")\n",
    "print(myList.addNode(5))\n",
    "print(myList.addNode(15))\n",
    "print(myList.addNode(25))\n",
    "print(\"Printing\")\n",
    "myList.printNode()\n",
    "print(\"Size\")\n",
    "print(myList.getSize())\n"
   ]
  },
  {
   "cell_type": "code",
   "execution_count": 40,
   "metadata": {},
   "outputs": [],
   "source": [
    "def findNode(self,value):\n",
    "\n",
    "       curr = self.head\n",
    "       while curr:\n",
    "           if curr.getData() == value:\n",
    "               return True\n",
    "           curr = curr.getNextNode()\n",
    "       return False\n"
   ]
  },
  {
   "cell_type": "code",
   "execution_count": 59,
   "metadata": {},
   "outputs": [],
   "source": [
    "def removeNode(self,value):\n",
    "\n",
    "        prev = None\n",
    "        curr = self.head\n",
    "        while curr:\n",
    "            if curr.getData() == value:\n",
    "                if prev:\n",
    "                    prev.setNextNode(curr.getNextNode())\n",
    "                else:\n",
    "                    self.head = curr.getNextNode()\n",
    "                return True\n",
    "                    \n",
    "            prev = curr\n",
    "            curr = curr.getNextNode()\n",
    "            \n",
    "        return False\n"
   ]
  },
  {
   "cell_type": "code",
   "execution_count": 60,
   "metadata": {},
   "outputs": [],
   "source": [
    "def reverseList(list):\n",
    "\n",
    "       #Initializing values\n",
    "       prev = None\n",
    "       curr = list.head\n",
    "       nex = curr.getNextNode()\n",
    "  \n",
    "       #looping\n",
    "       while curr:\n",
    "           #reversing the link\n",
    "           curr.setNextNode(prev)     \n",
    "\n",
    "           #moving to next node      \n",
    "           prev = curr\n",
    "           curr = nex\n",
    "           if nex:\n",
    "               nex = nex.getNextNode()\n",
    "\n",
    "       #initializing head\n",
    "       list.head = prev\n"
   ]
  },
  {
   "cell_type": "code",
   "execution_count": 61,
   "metadata": {},
   "outputs": [],
   "source": [
    "def reverse(self,node):\n",
    "\n",
    "       if node.getNextNode() == None:\n",
    "           self.head = node\n",
    "           return\n",
    "       self.reverse(node.getNextNode())\n",
    "       temp = node.getNextNode()\n",
    "       temp.setNextNode(node)\n",
    "       node.setNextNode(None)\n"
   ]
  },
  {
   "cell_type": "code",
   "execution_count": 62,
   "metadata": {},
   "outputs": [],
   "source": []
  },
  {
   "cell_type": "code",
   "execution_count": null,
   "metadata": {},
   "outputs": [],
   "source": []
  }
 ],
 "metadata": {
  "kernelspec": {
   "display_name": "Python 3",
   "language": "python",
   "name": "python3"
  },
  "language_info": {
   "codemirror_mode": {
    "name": "ipython",
    "version": 3
   },
   "file_extension": ".py",
   "mimetype": "text/x-python",
   "name": "python",
   "nbconvert_exporter": "python",
   "pygments_lexer": "ipython3",
   "version": "3.7.3"
  }
 },
 "nbformat": 4,
 "nbformat_minor": 2
}
