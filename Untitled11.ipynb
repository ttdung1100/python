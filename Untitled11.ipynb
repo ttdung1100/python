{
 "cells": [
  {
   "cell_type": "code",
   "execution_count": 1,
   "metadata": {},
   "outputs": [
    {
     "name": "stdout",
     "output_type": "stream",
     "text": [
      "[24, 35, 9, 56, 12]\n"
     ]
    }
   ],
   "source": [
    "# Python3 program to swap first \n",
    "# and last element of a list \n",
    "  \n",
    "# Swap function \n",
    "def swapList(newList): \n",
    "    size = len(newList) \n",
    "      \n",
    "    # Swapping  \n",
    "    temp = newList[0] \n",
    "    newList[0] = newList[size - 1] \n",
    "    newList[size - 1] = temp \n",
    "      \n",
    "    return newList \n",
    "      \n",
    "# Driver code \n",
    "newList = [12, 35, 9, 56, 24] \n",
    "  \n",
    "print(swapList(newList)) \n"
   ]
  },
  {
   "cell_type": "code",
   "execution_count": 2,
   "metadata": {},
   "outputs": [
    {
     "name": "stdout",
     "output_type": "stream",
     "text": [
      "[24, 35, 9, 56, 12]\n"
     ]
    }
   ],
   "source": [
    "# Python3 program to swap first \n",
    "# and last element of a list \n",
    "  \n",
    "# Swap function \n",
    "def swapList(newList): \n",
    "      \n",
    "    newList[0], newList[-1] = newList[-1], newList[0] \n",
    "  \n",
    "    return newList \n",
    "      \n",
    "# Driver code \n",
    "newList = [12, 35, 9, 56, 24] \n",
    "print(swapList(newList)) \n"
   ]
  },
  {
   "cell_type": "code",
   "execution_count": 3,
   "metadata": {},
   "outputs": [
    {
     "name": "stdout",
     "output_type": "stream",
     "text": [
      "[24, 35, 9, 56, 12]\n"
     ]
    }
   ],
   "source": [
    "# Python3 program to swap first \n",
    "# and last element of a list \n",
    "  \n",
    "# Swap function \n",
    "def swapList(list): \n",
    "      \n",
    "    # Storing the first and last element  \n",
    "    # as a pair in a tuple variable get \n",
    "    get = list[-1], list[0] \n",
    "      \n",
    "    # unpacking those elements \n",
    "    list[0], list[-1] = get \n",
    "      \n",
    "    return list\n",
    "      \n",
    "# Driver code \n",
    "newList = [12, 35, 9, 56, 24] \n",
    "print(swapList(newList)) \n"
   ]
  },
  {
   "cell_type": "code",
   "execution_count": 4,
   "metadata": {},
   "outputs": [
    {
     "name": "stdout",
     "output_type": "stream",
     "text": [
      "1\n",
      "[2, 3]\n",
      "4\n"
     ]
    }
   ],
   "source": [
    "# Python3 program to illustrate  \n",
    "# the usage of * operarnd \n",
    "list = [1, 2, 3, 4] \n",
    "  \n",
    "a, *b, c = list\n",
    "  \n",
    "print(a) \n",
    "print(b) \n",
    "print(c) \n"
   ]
  },
  {
   "cell_type": "code",
   "execution_count": 5,
   "metadata": {},
   "outputs": [
    {
     "name": "stdout",
     "output_type": "stream",
     "text": [
      "[24, 35, 9, 56, 12]\n"
     ]
    }
   ],
   "source": [
    "# Python3 program to swap first \n",
    "# and last element of a list \n",
    "  \n",
    "# Swap function \n",
    "def swapList(list): \n",
    "      \n",
    "    start, *middle, end = list\n",
    "    list = [end, *middle, start] \n",
    "      \n",
    "    return list\n",
    "      \n",
    "# Driver code \n",
    "newList = [12, 35, 9, 56, 24] \n",
    "  \n",
    "print(swapList(newList)) \n"
   ]
  },
  {
   "cell_type": "code",
   "execution_count": 6,
   "metadata": {},
   "outputs": [
    {
     "name": "stdout",
     "output_type": "stream",
     "text": [
      "[24, 35, 9, 56, 12]\n"
     ]
    }
   ],
   "source": [
    "# Python3 program to swap first \n",
    "# and last element of a list \n",
    "  \n",
    "# Swap function \n",
    "def swapList(list): \n",
    "      \n",
    "    first = list.pop(0)    \n",
    "    last = list.pop(-1) \n",
    "      \n",
    "    list.insert(0, last)   \n",
    "    list.append(first)    \n",
    "      \n",
    "    return list\n",
    "      \n",
    "# Driver code \n",
    "newList = [12, 35, 9, 56, 24] \n",
    "  \n",
    "print(swapList(newList)) \n"
   ]
  },
  {
   "cell_type": "code",
   "execution_count": 7,
   "metadata": {},
   "outputs": [
    {
     "name": "stdout",
     "output_type": "stream",
     "text": [
      "[19, 65, 23, 90]\n"
     ]
    }
   ],
   "source": [
    "# Python3 program to swap elements \n",
    "# at given positions \n",
    "  \n",
    "# Swap function \n",
    "def swapPositions(list, pos1, pos2): \n",
    "      \n",
    "    list[pos1], list[pos2] = list[pos2], list[pos1] \n",
    "    return list\n",
    "  \n",
    "# Driver function \n",
    "List = [23, 65, 19, 90] \n",
    "pos1, pos2  = 1, 3\n",
    "  \n",
    "print(swapPositions(List, pos1-1, pos2-1)) \n"
   ]
  },
  {
   "cell_type": "code",
   "execution_count": 8,
   "metadata": {},
   "outputs": [
    {
     "name": "stdout",
     "output_type": "stream",
     "text": [
      "[19, 65, 23, 90]\n"
     ]
    }
   ],
   "source": [
    "# Python3 program to swap elements \n",
    "# at given positions \n",
    "  \n",
    "# Swap function \n",
    "def swapPositions(list, pos1, pos2): \n",
    "      \n",
    "    # popping both the elements from list \n",
    "    first_ele = list.pop(pos1)    \n",
    "    second_ele = list.pop(pos2-1) \n",
    "     \n",
    "    # inserting in each others positions \n",
    "    list.insert(pos1, second_ele)   \n",
    "    list.insert(pos2, first_ele)   \n",
    "      \n",
    "    return list\n",
    "  \n",
    "# Driver function \n",
    "List = [23, 65, 19, 90] \n",
    "pos1, pos2  = 1, 3\n",
    "  \n",
    "print(swapPositions(List, pos1-1, pos2-1)) \n"
   ]
  },
  {
   "cell_type": "code",
   "execution_count": 9,
   "metadata": {},
   "outputs": [
    {
     "name": "stdout",
     "output_type": "stream",
     "text": [
      "[19, 65, 23, 90]\n"
     ]
    }
   ],
   "source": [
    "# Python3 program to swap elpositions at given positions \n",
    "  \n",
    "# Swap function \n",
    "def swapPositions(list, pos1, pos2): \n",
    "  \n",
    "    # Storing the two elements \n",
    "    # as a pair in a tuple variable get \n",
    "    get = list[pos1], list[pos2] \n",
    "       \n",
    "    # unpacking those elements \n",
    "    list[pos2], list[pos1] = get \n",
    "       \n",
    "    return list\n",
    "  \n",
    "# Driver function \n",
    "List = [23, 65, 19, 90] \n",
    "  \n",
    "pos1, pos2  = 1, 3\n",
    "print(swapPositions(List, pos1-1, pos2-1)) \n"
   ]
  },
  {
   "cell_type": "code",
   "execution_count": 10,
   "metadata": {},
   "outputs": [
    {
     "name": "stdout",
     "output_type": "stream",
     "text": [
      "Updated list is:  ['geeks', 'for']\n"
     ]
    },
    {
     "data": {
      "text/plain": [
       "['geeks', 'for']"
      ]
     },
     "execution_count": 10,
     "metadata": {},
     "output_type": "execute_result"
    }
   ],
   "source": [
    "# Python3 program to remove Nth  \n",
    "# occurrence of the given word \n",
    "  \n",
    "# Function to remove Ith word \n",
    "def RemoveIthWord(lst, word, N): \n",
    "    newList = [] \n",
    "    count = 0\n",
    "  \n",
    "    # iterate the elements \n",
    "    for i in lst: \n",
    "        if(i == word): \n",
    "            count = count + 1\n",
    "            if(count != N): \n",
    "                newList.append(i) \n",
    "        else: \n",
    "            newList.append(i) \n",
    "              \n",
    "    lst = newList \n",
    "      \n",
    "    if count == 0: \n",
    "        print(\"Item not found\") \n",
    "    else: \n",
    "        print(\"Updated list is: \", lst)     \n",
    "      \n",
    "    return newList \n",
    "  \n",
    "# Driver code \n",
    "list = [\"geeks\", \"for\", \"geeks\"] \n",
    "word = \"geeks\"\n",
    "N = 2\n",
    "  \n",
    "RemoveIthWord(list, word, N) \n"
   ]
  },
  {
   "cell_type": "code",
   "execution_count": 11,
   "metadata": {},
   "outputs": [
    {
     "name": "stdout",
     "output_type": "stream",
     "text": [
      "Updated list is:  ['geeks', 'for']\n"
     ]
    }
   ],
   "source": [
    "# Python3 program to remove Nth  \n",
    "# occurrence of the given word \n",
    "  \n",
    "# Function to remove Ith word \n",
    "def RemoveIthWord(list, word, N): \n",
    "    count = 0\n",
    "      \n",
    "    for i in range(0, len(list)): \n",
    "        if (list[i] == word): \n",
    "            count = count + 1\n",
    "              \n",
    "            if(count == N): \n",
    "                del(list[i]) \n",
    "                return True\n",
    "                  \n",
    "    return False\n",
    "  \n",
    "# Driver code \n",
    "list = ['geeks', 'for', 'geeks'] \n",
    "word = 'geeks'\n",
    "N = 2\n",
    "  \n",
    "flag = RemoveIthWord(list, word, N) \n",
    "  \n",
    "if (flag == True): \n",
    "    print(\"Updated list is: \", list) \n",
    "else: \n",
    "    print(\"Item not Updated\")  \n"
   ]
  },
  {
   "cell_type": "code",
   "execution_count": 12,
   "metadata": {},
   "outputs": [
    {
     "name": "stdout",
     "output_type": "stream",
     "text": [
      "The list is : [1, 4, 5, 7, 8]\n",
      "Length of list using naive method is : 5\n"
     ]
    }
   ],
   "source": [
    "# Python code to demonstrate \n",
    "# length of list \n",
    "# using naive method \n",
    "  \n",
    "# Initializing list  \n",
    "test_list = [ 1, 4, 5, 7, 8 ] \n",
    "  \n",
    "# Printing test_list \n",
    "print (\"The list is : \" + str(test_list)) \n",
    "  \n",
    "# Finding length of list  \n",
    "# using loop \n",
    "# Initializing counter \n",
    "counter = 0\n",
    "for i in test_list: \n",
    "      \n",
    "    # incrementing counter \n",
    "    counter = counter + 1\n",
    "  \n",
    "# Printing length of list  \n",
    "print (\"Length of list using naive method is : \" + str(counter)) \n"
   ]
  },
  {
   "cell_type": "code",
   "execution_count": 13,
   "metadata": {},
   "outputs": [
    {
     "name": "stdout",
     "output_type": "stream",
     "text": [
      "The length of list is:  4\n"
     ]
    }
   ],
   "source": [
    "# Python program to demonstrate working \n",
    "# of len() \n",
    "a = [] \n",
    "a.append(\"Hello\") \n",
    "a.append(\"Geeks\") \n",
    "a.append(\"For\") \n",
    "a.append(\"Geeks\") \n",
    "print(\"The length of list is: \", len(a)) \n"
   ]
  },
  {
   "cell_type": "code",
   "execution_count": 14,
   "metadata": {},
   "outputs": [
    {
     "name": "stdout",
     "output_type": "stream",
     "text": [
      "The length of list is:  3\n"
     ]
    }
   ],
   "source": [
    "# Python program to demonstrate working \n",
    "# of len() \n",
    "n = len([10, 20, 30]) \n",
    "print(\"The length of list is: \", n) \n"
   ]
  },
  {
   "cell_type": "code",
   "execution_count": 15,
   "metadata": {},
   "outputs": [
    {
     "name": "stdout",
     "output_type": "stream",
     "text": [
      "The list is : [1, 4, 5, 7, 8]\n",
      "Length of list using len() is : 5\n",
      "Length of list using length_hint() is : 5\n"
     ]
    }
   ],
   "source": [
    "# Python code to demonstrate \n",
    "# length of list \n",
    "# using len() and length_hint \n",
    "from operator import length_hint \n",
    "  \n",
    "# Initializing list  \n",
    "test_list = [ 1, 4, 5, 7, 8 ] \n",
    "  \n",
    "# Printing test_list \n",
    "print (\"The list is : \" + str(test_list)) \n",
    "  \n",
    "# Finding length of list  \n",
    "# using len() \n",
    "list_len = len(test_list) \n",
    "  \n",
    "# Finding length of list  \n",
    "# using length_hint() \n",
    "list_len_hint = length_hint(test_list) \n",
    "  \n",
    "# Printing length of list  \n",
    "print (\"Length of list using len() is : \" + str(list_len)) \n",
    "print (\"Length of list using length_hint() is : \" + str(list_len_hint)) \n"
   ]
  },
  {
   "cell_type": "code",
   "execution_count": 16,
   "metadata": {},
   "outputs": [
    {
     "name": "stdout",
     "output_type": "stream",
     "text": [
      "The list is : [1, 4, 5, 7, 8]\n",
      "Time taken using naive method is : 0.0\n",
      "Time taken using len() is : 0.0\n",
      "Time taken using length_hint() is : 0.0\n"
     ]
    }
   ],
   "source": [
    "# Python code to demonstrate \n",
    "# length of list \n",
    "# Performance Analysis \n",
    "from operator import length_hint \n",
    "import time \n",
    "  \n",
    "# Initializing list  \n",
    "test_list = [ 1, 4, 5, 7, 8 ] \n",
    "  \n",
    "# Printing test_list \n",
    "print (\"The list is : \" + str(test_list)) \n",
    "  \n",
    "# Finding length of list  \n",
    "# using loop \n",
    "# Initializing counter \n",
    "start_time_naive = time.time() \n",
    "counter = 0\n",
    "for i in test_list: \n",
    "      \n",
    "    # incrementing counter \n",
    "    counter = counter + 1\n",
    "end_time_naive = str(time.time() - start_time_naive) \n",
    "  \n",
    "# Finding length of list  \n",
    "# using len() \n",
    "start_time_len = time.time() \n",
    "list_len = len(test_list) \n",
    "end_time_len = str(time.time() - start_time_len) \n",
    "  \n",
    "# Finding length of list  \n",
    "# using length_hint() \n",
    "start_time_hint = time.time() \n",
    "list_len_hint = length_hint(test_list) \n",
    "end_time_hint = str(time.time() - start_time_hint) \n",
    "  \n",
    "# Printing Times of each  \n",
    "print (\"Time taken using naive method is : \" + end_time_naive) \n",
    "print (\"Time taken using len() is : \" + end_time_len) \n",
    "print (\"Time taken using length_hint() is : \" + end_time_hint) \n"
   ]
  },
  {
   "cell_type": "code",
   "execution_count": 17,
   "metadata": {},
   "outputs": [
    {
     "name": "stdout",
     "output_type": "stream",
     "text": [
      "Checking if 4 exists in list ( using loop ) : \n",
      "Element Exists\n",
      "Checking if 4 exists in list ( using in ) : \n",
      "Element Exists\n"
     ]
    }
   ],
   "source": [
    "# Python code to demonstrate \n",
    "# checking of element existence \n",
    "# using loops and in \n",
    "  \n",
    "# Initializing list  \n",
    "test_list = [ 1, 6, 3, 5, 3, 4 ] \n",
    "  \n",
    "print(\"Checking if 4 exists in list ( using loop ) : \") \n",
    "  \n",
    "# Checking if 4 exists in list  \n",
    "# using loop \n",
    "for i in test_list: \n",
    "    if(i == 4) : \n",
    "        print (\"Element Exists\") \n",
    "  \n",
    "print(\"Checking if 4 exists in list ( using in ) : \") \n",
    "  \n",
    "# Checking if 4 exists in list  \n",
    "# using in \n",
    "if (4 in test_list): \n",
    "    print (\"Element Exists\") \n"
   ]
  },
  {
   "cell_type": "code",
   "execution_count": 18,
   "metadata": {},
   "outputs": [
    {
     "name": "stdout",
     "output_type": "stream",
     "text": [
      "Checking if 4 exists in list ( using set() + in) : \n",
      "Element Exists\n",
      "Checking if 4 exists in list ( using sort() + bisect_left() ) : \n",
      "Element Exists\n"
     ]
    }
   ],
   "source": [
    "# Python code to demonstrate \n",
    "# checking of element existence \n",
    "# using set() + in \n",
    "# using sort() + bisect_left() \n",
    "from bisect import bisect_left  \n",
    "  \n",
    "# Initializing list  \n",
    "test_list_set = [ 1, 6, 3, 5, 3, 4 ] \n",
    "test_list_bisect = [ 1, 6, 3, 5, 3, 4 ] \n",
    "  \n",
    "print(\"Checking if 4 exists in list ( using set() + in) : \") \n",
    "  \n",
    "# Checking if 4 exists in list  \n",
    "# using set() + in \n",
    "test_list_set = set(test_list_set) \n",
    "if 4 in test_list_set : \n",
    "    print (\"Element Exists\") \n",
    "  \n",
    "print(\"Checking if 4 exists in list ( using sort() + bisect_left() ) : \") \n",
    "  \n",
    "# Checking if 4 exists in list  \n",
    "# using sort() + bisect_left() \n",
    "test_list_bisect.sort() \n",
    "if bisect_left(test_list_bisect, 4): \n",
    "    print (\"Element Exists\") \n"
   ]
  },
  {
   "cell_type": "code",
   "execution_count": 19,
   "metadata": {},
   "outputs": [
    {
     "name": "stdout",
     "output_type": "stream",
     "text": [
      "GEEK before clear: [6, 0, 4, 1]\n",
      "GEEK after clear: []\n"
     ]
    }
   ],
   "source": [
    "# Python program to clear a list \n",
    "# using clear() method \n",
    "# list of letters  \n",
    "GEEK = [6, 0, 4, 1] \n",
    "print('GEEK before clear:', GEEK)  \n",
    "  \n",
    "# clearing vowels  \n",
    "GEEK.clear()  \n",
    "print('GEEK after clear:', GEEK)  \n"
   ]
  },
  {
   "cell_type": "code",
   "execution_count": 20,
   "metadata": {},
   "outputs": [
    {
     "name": "stdout",
     "output_type": "stream",
     "text": [
      "List1 before deleting is : [1, 2, 3]\n",
      "List1 after clearing using clear() : []\n",
      "List2 before deleting is : [5, 6, 7]\n",
      "List2 after clearing using reinitialization : []\n"
     ]
    }
   ],
   "source": [
    "# Python3 code to demonstrate  \n",
    "# clearing a list using \n",
    "# clear and Reinitializing  \n",
    "  \n",
    "# Initializing lists \n",
    "list1 = [1, 2, 3] \n",
    "list2 = [5, 6, 7] \n",
    "  \n",
    "# Printing list1 before deleting  \n",
    "print (\"List1 before deleting is : \" \n",
    "+  str(list1)) \n",
    "  \n",
    "# deleting list using clear() \n",
    "list1.clear() \n",
    "  \n",
    "# Printing list1 after clearing \n",
    "print (\"List1 after clearing using clear() : \" \n",
    "+ str(list1)) \n",
    "  \n",
    "# Printing list2 before deleting  \n",
    "print (\"List2 before deleting is : \"\n",
    " +  str(list2)) \n",
    "  \n",
    "# deleting list using reinitialization \n",
    "list2 = [] \n",
    "  \n",
    "# Printing list2 after reinitialization \n",
    "print (\"List2 after clearing using reinitialization : \" \n",
    "+ str(list2)) \n"
   ]
  },
  {
   "cell_type": "code",
   "execution_count": 21,
   "metadata": {},
   "outputs": [
    {
     "name": "stdout",
     "output_type": "stream",
     "text": [
      "List1 before deleting is : [1, 2, 3]\n",
      "List1 after clearing using *= 0: []\n"
     ]
    }
   ],
   "source": [
    "# Python3 code to demonstrate  \n",
    "# clearing a list using \n",
    "# *= 0 method \n",
    "# Initializing lists \n",
    "list1 = [1, 2, 3] \n",
    "  \n",
    "# Printing list1 before deleting  \n",
    "print (\"List1 before deleting is : \" + str(list1)) \n",
    "  \n",
    "# deleting list using *= 0 \n",
    "list1 *= 0\n",
    "  \n",
    "# Printing list1 after *= 0 \n",
    "print (\"List1 after clearing using *= 0: \" + str(list1)) \n"
   ]
  },
  {
   "cell_type": "code",
   "execution_count": 22,
   "metadata": {},
   "outputs": [
    {
     "name": "stdout",
     "output_type": "stream",
     "text": [
      "List1 before deleting is : [1, 2, 3]\n",
      "List1 after clearing using del : []\n",
      "List2 before deleting is : [5, 6, 7]\n",
      "List2 after clearing using del : []\n"
     ]
    }
   ],
   "source": [
    "# Python3 code to demonstrate  \n",
    "# clearing a list using \n",
    "# del method \n",
    "  \n",
    "# Initializing lists \n",
    "list1 = [1, 2, 3] \n",
    "list2 = [5, 6, 7] \n",
    "  \n",
    "# Printing list1 before deleting  \n",
    "print (\"List1 before deleting is : \" + str(list1)) \n",
    "  \n",
    "# deleting list1 using del \n",
    "del list1[:] \n",
    "print (\"List1 after clearing using del : \" + str(list1)) \n",
    "  \n",
    "  \n",
    "# Printing list2 before deleting  \n",
    "print (\"List2 before deleting is : \" + str(list2)) \n",
    "  \n",
    "# deleting list using del \n",
    "del list2[:] \n",
    "print (\"List2 after clearing using del : \" + str(list2)) \n"
   ]
  },
  {
   "cell_type": "code",
   "execution_count": 23,
   "metadata": {},
   "outputs": [
    {
     "name": "stdout",
     "output_type": "stream",
     "text": [
      "[15, 14, 13, 12, 11, 10]\n"
     ]
    }
   ],
   "source": [
    "# Reversing a list using reversed() \n",
    "def Reverse(lst): \n",
    "    return [ele for ele in reversed(lst)] \n",
    "      \n",
    "# Driver Code \n",
    "lst = [10, 11, 12, 13, 14, 15] \n",
    "print(Reverse(lst)) \n"
   ]
  },
  {
   "cell_type": "code",
   "execution_count": 24,
   "metadata": {},
   "outputs": [
    {
     "name": "stdout",
     "output_type": "stream",
     "text": [
      "[15, 14, 13, 12, 11, 10]\n"
     ]
    }
   ],
   "source": [
    "# Reversing a list using reverse() \n",
    "def Reverse(lst): \n",
    "    lst.reverse() \n",
    "    return lst \n",
    "      \n",
    "lst = [10, 11, 12, 13, 14, 15] \n",
    "print(Reverse(lst)) \n"
   ]
  },
  {
   "cell_type": "code",
   "execution_count": 25,
   "metadata": {},
   "outputs": [
    {
     "name": "stdout",
     "output_type": "stream",
     "text": [
      "[15, 14, 13, 12, 11, 10]\n"
     ]
    }
   ],
   "source": [
    "# Reversing a list using slicing technique \n",
    "def Reverse(lst): \n",
    "    new_lst = lst[::-1] \n",
    "    return new_lst \n",
    "      \n",
    "lst = [10, 11, 12, 13, 14, 15] \n",
    "print(Reverse(lst)) \n"
   ]
  },
  {
   "cell_type": "code",
   "execution_count": 26,
   "metadata": {},
   "outputs": [
    {
     "name": "stdout",
     "output_type": "stream",
     "text": [
      "Original List: [4, 8, 2, 10, 15, 18]\n",
      "After Cloning: [4, 8, 2, 10, 15, 18]\n"
     ]
    }
   ],
   "source": [
    "# Python program to copy or clone a list \n",
    "# Using the Slice Operator \n",
    "def Cloning(li1): \n",
    "    li_copy = li1[:] \n",
    "    return li_copy \n",
    "  \n",
    "# Driver Code \n",
    "li1 = [4, 8, 2, 10, 15, 18] \n",
    "li2 = Cloning(li1) \n",
    "print(\"Original List:\", li1) \n",
    "print(\"After Cloning:\", li2) \n"
   ]
  },
  {
   "cell_type": "code",
   "execution_count": 34,
   "metadata": {},
   "outputs": [
    {
     "name": "stdout",
     "output_type": "stream",
     "text": [
      "Original List: [4, 8, 2, 10, 15, 18]\n",
      "After Cloning: [4, 8, 2, 10, 15, 18]\n"
     ]
    }
   ],
   "source": [
    "# Python code to clone or copy a list \n",
    "# Using the in-built function extend() \n",
    "def Cloning(li1): \n",
    "    li_copy = [] \n",
    "    li_copy.extend(li1) \n",
    "    return li_copy \n",
    "  \n",
    "# Driver Code \n",
    "li1 = [4, 8, 2, 10, 15, 18] \n",
    "li2 = Cloning(li1) \n",
    "print(\"Original List:\", li1) \n",
    "print(\"After Cloning:\", li2) \n"
   ]
  },
  {
   "cell_type": "code",
   "execution_count": 77,
   "metadata": {},
   "outputs": [
    {
     "ename": "TypeError",
     "evalue": "'list' object is not callable",
     "output_type": "error",
     "traceback": [
      "\u001b[1;31m---------------------------------------------------------------------------\u001b[0m",
      "\u001b[1;31mTypeError\u001b[0m                                 Traceback (most recent call last)",
      "\u001b[1;32m<ipython-input-77-4f64c804b3c5>\u001b[0m in \u001b[0;36m<module>\u001b[1;34m\u001b[0m\n\u001b[0;32m      7\u001b[0m \u001b[1;31m# Driver Code\u001b[0m\u001b[1;33m\u001b[0m\u001b[1;33m\u001b[0m\u001b[1;33m\u001b[0m\u001b[0m\n\u001b[0;32m      8\u001b[0m \u001b[0mli1\u001b[0m \u001b[1;33m=\u001b[0m \u001b[1;33m[\u001b[0m\u001b[1;36m4\u001b[0m\u001b[1;33m,\u001b[0m \u001b[1;36m8\u001b[0m\u001b[1;33m,\u001b[0m \u001b[1;36m2\u001b[0m\u001b[1;33m,\u001b[0m \u001b[1;36m10\u001b[0m\u001b[1;33m,\u001b[0m \u001b[1;36m15\u001b[0m\u001b[1;33m,\u001b[0m \u001b[1;36m18\u001b[0m\u001b[1;33m]\u001b[0m\u001b[1;33m\u001b[0m\u001b[1;33m\u001b[0m\u001b[0m\n\u001b[1;32m----> 9\u001b[1;33m \u001b[0mli2\u001b[0m \u001b[1;33m=\u001b[0m \u001b[0mCloning\u001b[0m\u001b[1;33m(\u001b[0m\u001b[0mli1\u001b[0m\u001b[1;33m)\u001b[0m\u001b[1;33m\u001b[0m\u001b[1;33m\u001b[0m\u001b[0m\n\u001b[0m\u001b[0;32m     10\u001b[0m \u001b[0mprint\u001b[0m\u001b[1;33m(\u001b[0m\u001b[1;34m\"Original List:\"\u001b[0m\u001b[1;33m,\u001b[0m \u001b[0mli1\u001b[0m\u001b[1;33m)\u001b[0m\u001b[1;33m\u001b[0m\u001b[1;33m\u001b[0m\u001b[0m\n\u001b[0;32m     11\u001b[0m \u001b[0mprint\u001b[0m\u001b[1;33m(\u001b[0m\u001b[1;34m\"After Cloning:\"\u001b[0m\u001b[1;33m,\u001b[0m \u001b[0mli2\u001b[0m\u001b[1;33m)\u001b[0m\u001b[1;33m\u001b[0m\u001b[1;33m\u001b[0m\u001b[0m\n",
      "\u001b[1;32m<ipython-input-77-4f64c804b3c5>\u001b[0m in \u001b[0;36mCloning\u001b[1;34m(li1)\u001b[0m\n\u001b[0;32m      2\u001b[0m \u001b[1;31m# Using the in-built function list()\u001b[0m\u001b[1;33m\u001b[0m\u001b[1;33m\u001b[0m\u001b[1;33m\u001b[0m\u001b[0m\n\u001b[0;32m      3\u001b[0m \u001b[1;32mdef\u001b[0m \u001b[0mCloning\u001b[0m\u001b[1;33m(\u001b[0m\u001b[0mli1\u001b[0m\u001b[1;33m)\u001b[0m\u001b[1;33m:\u001b[0m\u001b[1;33m\u001b[0m\u001b[1;33m\u001b[0m\u001b[0m\n\u001b[1;32m----> 4\u001b[1;33m     \u001b[0mli_copy\u001b[0m \u001b[1;33m=\u001b[0m \u001b[0mlist\u001b[0m\u001b[1;33m(\u001b[0m\u001b[0mli1\u001b[0m\u001b[1;33m)\u001b[0m\u001b[1;33m\u001b[0m\u001b[1;33m\u001b[0m\u001b[0m\n\u001b[0m\u001b[0;32m      5\u001b[0m     \u001b[1;32mreturn\u001b[0m \u001b[0mli_copy\u001b[0m\u001b[1;33m\u001b[0m\u001b[1;33m\u001b[0m\u001b[0m\n\u001b[0;32m      6\u001b[0m \u001b[1;33m\u001b[0m\u001b[0m\n",
      "\u001b[1;31mTypeError\u001b[0m: 'list' object is not callable"
     ]
    }
   ],
   "source": [
    "# Python code to clone or copy a list \n",
    "# Using the in-built function list() \n",
    "def Cloning(li1): \n",
    "    li_copy = list(li1) \n",
    "    return li_copy \n",
    "  \n",
    "# Driver Code \n",
    "li1 = [4, 8, 2, 10, 15, 18] \n",
    "li2 = Cloning(li1) \n",
    "print(\"Original List:\", li1) \n",
    "print(\"After Cloning:\", li2) \n"
   ]
  },
  {
   "cell_type": "code",
   "execution_count": 69,
   "metadata": {},
   "outputs": [
    {
     "name": "stdout",
     "output_type": "stream",
     "text": [
      "[4, 8, 2, 10, 15, 18]\n"
     ]
    },
    {
     "ename": "TypeError",
     "evalue": "'list' object is not callable",
     "output_type": "error",
     "traceback": [
      "\u001b[1;31m---------------------------------------------------------------------------\u001b[0m",
      "\u001b[1;31mTypeError\u001b[0m                                 Traceback (most recent call last)",
      "\u001b[1;32m<ipython-input-69-6e22caf3fc34>\u001b[0m in \u001b[0;36m<module>\u001b[1;34m\u001b[0m\n\u001b[0;32m      1\u001b[0m \u001b[0mli1\u001b[0m \u001b[1;33m=\u001b[0m \u001b[1;33m[\u001b[0m\u001b[1;36m4\u001b[0m\u001b[1;33m,\u001b[0m \u001b[1;36m8\u001b[0m\u001b[1;33m,\u001b[0m \u001b[1;36m2\u001b[0m\u001b[1;33m,\u001b[0m \u001b[1;36m10\u001b[0m\u001b[1;33m,\u001b[0m \u001b[1;36m15\u001b[0m\u001b[1;33m,\u001b[0m \u001b[1;36m18\u001b[0m\u001b[1;33m]\u001b[0m\u001b[1;33m\u001b[0m\u001b[1;33m\u001b[0m\u001b[0m\n\u001b[0;32m      2\u001b[0m \u001b[0mprint\u001b[0m\u001b[1;33m(\u001b[0m\u001b[0mli1\u001b[0m\u001b[1;33m)\u001b[0m\u001b[1;33m\u001b[0m\u001b[1;33m\u001b[0m\u001b[0m\n\u001b[1;32m----> 3\u001b[1;33m \u001b[0mli_copy\u001b[0m \u001b[1;33m=\u001b[0m \u001b[0mlist\u001b[0m\u001b[1;33m(\u001b[0m\u001b[0mli1\u001b[0m\u001b[1;33m)\u001b[0m\u001b[1;33m\u001b[0m\u001b[1;33m\u001b[0m\u001b[0m\n\u001b[0m",
      "\u001b[1;31mTypeError\u001b[0m: 'list' object is not callable"
     ]
    }
   ],
   "source": [
    "li1 = [4, 8, 2, 10, 15, 18]\n",
    "print(li1)\n",
    "li_copy = list(li1)\n"
   ]
  },
  {
   "cell_type": "code",
   "execution_count": 71,
   "metadata": {},
   "outputs": [
    {
     "name": "stdout",
     "output_type": "stream",
     "text": [
      "Original List: [4, 8, 2, 10, 15, 18]\n",
      "After Cloning: [4, 8, 2, 10, 15, 18]\n"
     ]
    }
   ],
   "source": [
    "# Python code to clone or copy a list \n",
    "# Using list comprehension \n",
    "def Cloning(li1): \n",
    "    li_copy = [i for i in li1] \n",
    "    return li_copy \n",
    "  \n",
    "# Driver Code \n",
    "li1 = [4, 8, 2, 10, 15, 18] \n",
    "li2 = Cloning(li1) \n",
    "print(\"Original List:\", li1) \n",
    "print(\"After Cloning:\", li2) \n"
   ]
  },
  {
   "cell_type": "code",
   "execution_count": 72,
   "metadata": {},
   "outputs": [
    {
     "name": "stdout",
     "output_type": "stream",
     "text": [
      "Original List: [4, 8, 2, 10, 15, 18]\n",
      "After Cloning: [4, 8, 2, 10, 15, 18]\n"
     ]
    }
   ],
   "source": [
    "# Python code to clone or copy a list \n",
    "# Using append() \n",
    "def Cloning(li1): \n",
    "    li_copy =[] \n",
    "    for item in li1: li_copy.append(item) \n",
    "    return li_copy \n",
    "  \n",
    "# Driver Code \n",
    "li1 = [4, 8, 2, 10, 15, 18] \n",
    "li2 = Cloning(li1) \n",
    "print(\"Original List:\", li1) \n",
    "print(\"After Cloning:\", li2) \n"
   ]
  },
  {
   "cell_type": "code",
   "execution_count": 73,
   "metadata": {},
   "outputs": [
    {
     "name": "stdout",
     "output_type": "stream",
     "text": [
      "Original List: [4, 8, 2, 10, 15, 18]\n",
      "After Cloning: [4, 8, 2, 10, 15, 18]\n"
     ]
    }
   ],
   "source": [
    "# Python code to clone or copy a list \n",
    "# Using bilt-in method copy() \n",
    "def Cloning(li1): \n",
    "    li_copy =[] \n",
    "    li_copy = li1.copy() \n",
    "    return li_copy \n",
    "  \n",
    "# Driver Code \n",
    "li1 = [4, 8, 2, 10, 15, 18] \n",
    "li2 = Cloning(li1) \n",
    "print(\"Original List:\", li1) \n",
    "print(\"After Cloning:\", li2) \n"
   ]
  },
  {
   "cell_type": "code",
   "execution_count": 74,
   "metadata": {},
   "outputs": [
    {
     "name": "stdout",
     "output_type": "stream",
     "text": [
      "8 has occured 5 times\n"
     ]
    }
   ],
   "source": [
    "# Python code to count the number of occurrences \n",
    "def countX(lst, x): \n",
    "    count = 0\n",
    "    for ele in lst: \n",
    "        if (ele == x): \n",
    "            count = count + 1\n",
    "    return count \n",
    "  \n",
    "# Driver Code \n",
    "lst = [8, 6, 8, 10, 8, 20, 10, 8, 8] \n",
    "x = 8\n",
    "print('{} has occured {} times'.format(x, countX(lst, x))) \n"
   ]
  },
  {
   "cell_type": "code",
   "execution_count": 75,
   "metadata": {},
   "outputs": [
    {
     "name": "stdout",
     "output_type": "stream",
     "text": [
      "8 has occured 5 times\n"
     ]
    }
   ],
   "source": [
    "# Python code to count the number of occurrences \n",
    "def countX(lst, x): \n",
    "    return lst.count(x) \n",
    "  \n",
    "# Driver Code \n",
    "lst = [8, 6, 8, 10, 8, 20, 10, 8, 8] \n",
    "x = 8\n",
    "print('{} has occured {} times'.format(x, countX(lst, x))) \n"
   ]
  },
  {
   "cell_type": "code",
   "execution_count": 78,
   "metadata": {},
   "outputs": [
    {
     "name": "stdout",
     "output_type": "stream",
     "text": [
      "Sum of all elements in given list:  74\n"
     ]
    }
   ],
   "source": [
    "# Python program to find sum of elements in list \n",
    "total = 0\n",
    "  \n",
    "# creating a list \n",
    "list1 = [11, 5, 17, 18, 23]  \n",
    "  \n",
    "# Iterate each element in list \n",
    "# and add them in variale total \n",
    "for ele in range(0, len(list1)): \n",
    "    total = total + list1[ele] \n",
    "  \n",
    "# printing total value \n",
    "print(\"Sum of all elements in given list: \", total) \n"
   ]
  },
  {
   "cell_type": "code",
   "execution_count": 79,
   "metadata": {},
   "outputs": [
    {
     "name": "stdout",
     "output_type": "stream",
     "text": [
      "Sum of all elements in given list:  74\n"
     ]
    }
   ],
   "source": [
    "# Python program to find sum of elements in list \n",
    "total = 0\n",
    "ele = 0\n",
    "  \n",
    "# creating a list \n",
    "list1 = [11, 5, 17, 18, 23]  \n",
    "  \n",
    "# Iterate each element in list \n",
    "# and add them in variale total \n",
    "while(ele < len(list1)): \n",
    "    total = total + list1[ele] \n",
    "    ele += 1\n",
    "      \n",
    "# printing total value \n",
    "print(\"Sum of all elements in given list: \", total) \n"
   ]
  },
  {
   "cell_type": "code",
   "execution_count": 80,
   "metadata": {},
   "outputs": [
    {
     "name": "stdout",
     "output_type": "stream",
     "text": [
      "Sum of all elements in given list:  74\n"
     ]
    }
   ],
   "source": [
    "# Python program to find sum of all  \n",
    "# elements in list using recursion \n",
    "  \n",
    "# creating a list \n",
    "list1 = [11, 5, 17, 18, 23] \n",
    "  \n",
    "# creating sum_list function \n",
    "def sumOfList(list, size): \n",
    "   if (size == 0): \n",
    "     return 0\n",
    "   else: \n",
    "     return list[size - 1] + sumOfList(list, size - 1) \n",
    "   \n",
    "# Driver code      \n",
    "total = sumOfList(list1, len(list1)) \n",
    "  \n",
    "print(\"Sum of all elements in given list: \", total) \n"
   ]
  },
  {
   "cell_type": "code",
   "execution_count": 81,
   "metadata": {},
   "outputs": [
    {
     "name": "stdout",
     "output_type": "stream",
     "text": [
      "Sum of all elements in given list:  74\n"
     ]
    }
   ],
   "source": [
    "# Python program to find sum of elements in list \n",
    "  \n",
    "# creating a list \n",
    "list1 = [11, 5, 17, 18, 23] \n",
    "  \n",
    "# using sum() function \n",
    "total = sum(list1) \n",
    "  \n",
    "# printing total value \n",
    "print(\"Sum of all elements in given list: \", total) \n"
   ]
  },
  {
   "cell_type": "code",
   "execution_count": 82,
   "metadata": {},
   "outputs": [
    {
     "name": "stdout",
     "output_type": "stream",
     "text": [
      "6\n",
      "24\n"
     ]
    }
   ],
   "source": [
    "# Python program to multiply all values in the \n",
    "# list using traversal \n",
    "  \n",
    "def multiplyList(myList) : \n",
    "      \n",
    "    # Multiply elements one by one \n",
    "    result = 1\n",
    "    for x in myList: \n",
    "         result = result * x  \n",
    "    return result  \n",
    "      \n",
    "# Driver code \n",
    "list1 = [1, 2, 3]  \n",
    "list2 = [3, 2, 4] \n",
    "print(multiplyList(list1)) \n",
    "print(multiplyList(list2)) \n"
   ]
  },
  {
   "cell_type": "code",
   "execution_count": 86,
   "metadata": {},
   "outputs": [
    {
     "name": "stdout",
     "output_type": "stream",
     "text": [
      "6\n",
      "24\n"
     ]
    }
   ],
   "source": [
    "# Python3 program to multiply all values in the \n",
    "# list using numpy.prod() \n",
    "  \n",
    "import numpy  \n",
    "list1 = [1, 2, 3]  \n",
    "list2 = [3, 2, 4] \n",
    "  \n",
    "# using numpy.prod() to get the multiplications  \n",
    "result1 = numpy.prod(list1) \n",
    "result2 = numpy.prod(list2) \n",
    "print(result1) \n",
    "print(result2) "
   ]
  },
  {
   "cell_type": "code",
   "execution_count": 87,
   "metadata": {},
   "outputs": [
    {
     "name": "stdout",
     "output_type": "stream",
     "text": [
      "6\n",
      "24\n"
     ]
    }
   ],
   "source": [
    "# Python3 program to multiply all values in the \n",
    "# list using lambda function and reduce() \n",
    "  \n",
    "from functools import reduce \n",
    "list1 = [1, 2, 3]  \n",
    "list2 = [3, 2, 4] \n",
    "  \n",
    "  \n",
    "result1 = reduce((lambda x, y: x * y), list1) \n",
    "result2 = reduce((lambda x, y: x * y), list2) \n",
    "print(result1) \n",
    "print(result2) \n"
   ]
  },
  {
   "cell_type": "code",
   "execution_count": 88,
   "metadata": {},
   "outputs": [
    {
     "name": "stdout",
     "output_type": "stream",
     "text": [
      "Smallest element is: 4\n"
     ]
    }
   ],
   "source": [
    "# Python program to find smallest  \n",
    "# number in a list \n",
    "  \n",
    "# list of numbers \n",
    "list1 = [10, 20, 4, 45, 99] \n",
    "  \n",
    "# sorting the list \n",
    "list1.sort() \n",
    "  \n",
    "# printing the first element \n",
    "print(\"Smallest element is:\", *list1[:1]) \n"
   ]
  },
  {
   "cell_type": "code",
   "execution_count": 89,
   "metadata": {},
   "outputs": [
    {
     "name": "stdout",
     "output_type": "stream",
     "text": [
      "Smallest element is: 1\n"
     ]
    }
   ],
   "source": [
    "# Python program to find smallest  \n",
    "# number in a list \n",
    "  \n",
    "# list of numbers \n",
    "list1 = [10, 20, 1, 45, 99] \n",
    "# printing the maximum element \n",
    "print(\"Smallest element is:\", min(list1)) "
   ]
  },
  {
   "cell_type": "code",
   "execution_count": 90,
   "metadata": {},
   "outputs": [
    {
     "name": "stdin",
     "output_type": "stream",
     "text": [
      "Enter number of elements in list:  4\n",
      "Enter elements:  3\n",
      "Enter elements:  5\n",
      "Enter elements:  6\n",
      "Enter elements:  8\n"
     ]
    },
    {
     "name": "stdout",
     "output_type": "stream",
     "text": [
      "Smallest element is: 3\n"
     ]
    }
   ],
   "source": [
    "# Python program to find smallest  \n",
    "# number in a list \n",
    "  \n",
    "# creating empty list \n",
    "list1 = [] \n",
    "  \n",
    "# asking number of elements to put in list \n",
    "num = int(input(\"Enter number of elements in list: \")) \n",
    "  \n",
    "# iterating till num to append elements in list \n",
    "for i in range(1, num + 1): \n",
    "    ele = int(input(\"Enter elements: \")) \n",
    "    list1.append(ele) \n",
    "      \n",
    "# print maximum element \n",
    "print(\"Smallest element is:\", min(list1)) \n"
   ]
  },
  {
   "cell_type": "code",
   "execution_count": 91,
   "metadata": {},
   "outputs": [
    {
     "name": "stdout",
     "output_type": "stream",
     "text": [
      "Largest element is: 99\n"
     ]
    }
   ],
   "source": [
    "# Python program to find largest \n",
    "# number in a list \n",
    "  \n",
    "# list of numbers \n",
    "list1 = [10, 20, 4, 45, 99] \n",
    "  \n",
    "# sorting the list \n",
    "list1.sort() \n",
    "  \n",
    "# printing the last element \n",
    "print(\"Largest element is:\", list1[-1]) \n"
   ]
  },
  {
   "cell_type": "code",
   "execution_count": 92,
   "metadata": {},
   "outputs": [
    {
     "name": "stdout",
     "output_type": "stream",
     "text": [
      "Largest element is: 99\n"
     ]
    }
   ],
   "source": [
    "# Python program to find largest \n",
    "# number in a list \n",
    "  \n",
    "# list of numbers \n",
    "list1 = [10, 20, 4, 45, 99] \n",
    "  \n",
    "  \n",
    "# printing the maximum element \n",
    "print(\"Largest element is:\", max(list1)) \n"
   ]
  },
  {
   "cell_type": "code",
   "execution_count": 94,
   "metadata": {},
   "outputs": [
    {
     "name": "stdin",
     "output_type": "stream",
     "text": [
      "Enter number of elements in list:  5\n",
      "Enter elements:  4\n",
      "Enter elements:  7\n",
      "Enter elements:  8\n",
      "Enter elements:  8\n",
      "Enter elements:  4\n"
     ]
    },
    {
     "name": "stdout",
     "output_type": "stream",
     "text": [
      "Largest element is: 8\n"
     ]
    }
   ],
   "source": [
    "# Python program to find largest \n",
    "# number in a list \n",
    "  \n",
    "# creating empty list \n",
    "list1 = [] \n",
    "  \n",
    "# asking number of elements to put in list \n",
    "num = int(input(\"Enter number of elements in list: \")) \n",
    "  \n",
    "# iterating till num to append elements in list \n",
    "for i in range(1, num + 1): \n",
    "    ele = int(input(\"Enter elements: \")) \n",
    "    list1.append(ele) \n",
    "      \n",
    "# print maximum element \n",
    "print(\"Largest element is:\", max(list1)) \n"
   ]
  },
  {
   "cell_type": "code",
   "execution_count": 95,
   "metadata": {},
   "outputs": [
    {
     "name": "stdout",
     "output_type": "stream",
     "text": [
      "Second highest number is :  45\n"
     ]
    }
   ],
   "source": [
    "# Python program to find second largest \n",
    "# number in a list \n",
    "  \n",
    "# list of numbers - length of list should be at least 2 \n",
    "list1 = [10, 20, 4, 45, 99] \n",
    "  \n",
    "max=max(list1[0],list1[1]) \n",
    "secondmax=min(list1[0],list1[1]) \n",
    "  \n",
    "for i in range(2,len(list1)): \n",
    "    if list1[i]>max: \n",
    "        secondmax=max\n",
    "        max=list1[i] \n",
    "    else: \n",
    "        if list1[i]>secondmax: \n",
    "            secondmax=list1[i] \n",
    "  \n",
    "print(\"Second highest number is : \",str(secondmax)) \n"
   ]
  },
  {
   "cell_type": "code",
   "execution_count": 96,
   "metadata": {},
   "outputs": [
    {
     "name": "stdout",
     "output_type": "stream",
     "text": [
      "Second largest element is: 45\n"
     ]
    }
   ],
   "source": [
    "# Python program to find largest \n",
    "# number in a list \n",
    "  \n",
    "# list of numbers \n",
    "list1 = [10, 20, 4, 45, 99] \n",
    "  \n",
    "# sorting the list \n",
    "list1.sort() \n",
    "  \n",
    "# printing the second last element \n",
    "print(\"Second largest element is:\", list1[-2]) \n"
   ]
  },
  {
   "cell_type": "code",
   "execution_count": 123,
   "metadata": {},
   "outputs": [
    {
     "ename": "TypeError",
     "evalue": "'int' object is not callable",
     "output_type": "error",
     "traceback": [
      "\u001b[1;31m---------------------------------------------------------------------------\u001b[0m",
      "\u001b[1;31mTypeError\u001b[0m                                 Traceback (most recent call last)",
      "\u001b[1;32m<ipython-input-123-259d7466f3e0>\u001b[0m in \u001b[0;36m<module>\u001b[1;34m\u001b[0m\n\u001b[0;32m      9\u001b[0m \u001b[1;33m\u001b[0m\u001b[0m\n\u001b[0;32m     10\u001b[0m \u001b[1;31m# removing the largest element from temp list\u001b[0m\u001b[1;33m\u001b[0m\u001b[1;33m\u001b[0m\u001b[1;33m\u001b[0m\u001b[0m\n\u001b[1;32m---> 11\u001b[1;33m \u001b[0mnew_list\u001b[0m\u001b[1;33m.\u001b[0m\u001b[0mremove\u001b[0m\u001b[1;33m(\u001b[0m\u001b[0mmax\u001b[0m\u001b[1;33m(\u001b[0m\u001b[0mnew_list\u001b[0m\u001b[1;33m)\u001b[0m\u001b[1;33m)\u001b[0m\u001b[1;33m\u001b[0m\u001b[1;33m\u001b[0m\u001b[0m\n\u001b[0m\u001b[0;32m     12\u001b[0m \u001b[1;33m\u001b[0m\u001b[0m\n\u001b[0;32m     13\u001b[0m \u001b[1;31m# elements in original list are not changed\u001b[0m\u001b[1;33m\u001b[0m\u001b[1;33m\u001b[0m\u001b[1;33m\u001b[0m\u001b[0m\n",
      "\u001b[1;31mTypeError\u001b[0m: 'int' object is not callable"
     ]
    }
   ],
   "source": [
    "# Python program to find second largest \n",
    "# number in a list \n",
    "  \n",
    "# list of numbers \n",
    "list1 = [10, 20, 4, 45, 99] \n",
    "  \n",
    "# new_list is a set of list1 \n",
    "new_list = set(list1) \n",
    "\n",
    "# removing the largest element from temp list\n",
    "new_list.remove(max(new_list))\n",
    "  \n",
    "# elements in original list are not changed \n",
    "print(list1) \n",
    "  \n",
    "print(max(new_list)) \n"
   ]
  },
  {
   "cell_type": "code",
   "execution_count": 125,
   "metadata": {},
   "outputs": [
    {
     "name": "stdin",
     "output_type": "stream",
     "text": [
      "Enter number of elements in list:  4\n",
      "Enter elements:  6\n",
      "Enter elements:  8\n",
      "Enter elements:  4\n",
      "Enter elements:  7\n"
     ]
    },
    {
     "name": "stdout",
     "output_type": "stream",
     "text": [
      "Second largest element is: 7\n"
     ]
    }
   ],
   "source": [
    "# Python program to find second largest \n",
    "# number in a list \n",
    "  \n",
    "# creating empty list \n",
    "list1 = [] \n",
    "  \n",
    "# asking number of elements to put in list \n",
    "num = int(input(\"Enter number of elements in list: \")) \n",
    "  \n",
    "# iterating till num to append elements in list \n",
    "for i in range(1, num + 1): \n",
    "    ele = int(input(\"Enter elements: \")) \n",
    "    list1.append(ele) \n",
    "  \n",
    "''' \n",
    "# sort the list     \n",
    "list1.sort() \n",
    "      \n",
    "# print second maximum element \n",
    "print(\"Second largest element is:\", list1[-2]) \n",
    "  \n",
    "'''\n",
    "  \n",
    "# print second maximum element using sorted() method \n",
    "print(\"Second largest element is:\", sorted(list1)[-2]) \n"
   ]
  },
  {
   "cell_type": "code",
   "execution_count": 126,
   "metadata": {},
   "outputs": [
    {
     "name": "stdout",
     "output_type": "stream",
     "text": [
      "[85, 41]\n"
     ]
    }
   ],
   "source": [
    "# Python program to find N largest \n",
    "# element from given list of integers \n",
    "  \n",
    "# Function returns N largest elements \n",
    "def Nmaxelements(list1, N): \n",
    "    final_list = [] \n",
    "  \n",
    "    for i in range(0, N):  \n",
    "        max1 = 0\n",
    "          \n",
    "        for j in range(len(list1)):      \n",
    "            if list1[j] > max1: \n",
    "                max1 = list1[j]; \n",
    "                  \n",
    "        list1.remove(max1); \n",
    "        final_list.append(max1) \n",
    "          \n",
    "    print(final_list) \n",
    "  \n",
    "# Driver code \n",
    "list1 = [2, 6, 41, 85, 0, 3, 7, 6, 10] \n",
    "N = 2\n",
    "  \n",
    "# Calling the function \n",
    "Nmaxelements(list1, N) \n"
   ]
  },
  {
   "cell_type": "code",
   "execution_count": 127,
   "metadata": {},
   "outputs": [
    {
     "name": "stdout",
     "output_type": "stream",
     "text": [
      "10 4 66 "
     ]
    }
   ],
   "source": [
    "# Python program to print Even Numbers in a List \n",
    "  \n",
    "# list of numbers \n",
    "list1 = [10, 21, 4, 45, 66, 93] \n",
    "  \n",
    "# iterating each number in list \n",
    "for num in list1: \n",
    "      \n",
    "    # checking condition \n",
    "    if num % 2 == 0: \n",
    "       print(num, end = \" \") \n"
   ]
  },
  {
   "cell_type": "code",
   "execution_count": 128,
   "metadata": {},
   "outputs": [
    {
     "name": "stdout",
     "output_type": "stream",
     "text": [
      "10 4 66 "
     ]
    }
   ],
   "source": [
    "# Python program to print Even Numbers in a List \n",
    "  \n",
    "# list of numbers \n",
    "list1 = [10, 21, 4, 45, 66, 93] \n",
    "num = 0\n",
    "  \n",
    "# using while loop         \n",
    "while(num < len(list1)): \n",
    "      \n",
    "    # checking condition \n",
    "    if num % 2 == 0: \n",
    "       print(list1[num], end = \" \") \n",
    "      \n",
    "    # increment num   \n",
    "    num += 1\n"
   ]
  },
  {
   "cell_type": "code",
   "execution_count": 129,
   "metadata": {},
   "outputs": [
    {
     "name": "stdout",
     "output_type": "stream",
     "text": [
      "Even numbers in the list:  [10, 4, 66]\n"
     ]
    }
   ],
   "source": [
    "# Python program to print even Numbers in a List \n",
    "  \n",
    "# list of numbers \n",
    "list1 = [10, 21, 4, 45, 66, 93] \n",
    "  \n",
    "# using list comprehension \n",
    "even_nos = [num for num in list1 if num % 2 == 0] \n",
    "  \n",
    "print(\"Even numbers in the list: \", even_nos) \n"
   ]
  },
  {
   "cell_type": "code",
   "execution_count": 141,
   "metadata": {},
   "outputs": [
    {
     "ename": "TypeError",
     "evalue": "'list' object is not callable",
     "output_type": "error",
     "traceback": [
      "\u001b[1;31m---------------------------------------------------------------------------\u001b[0m",
      "\u001b[1;31mTypeError\u001b[0m                                 Traceback (most recent call last)",
      "\u001b[1;32m<ipython-input-141-ab4ea8c21310>\u001b[0m in \u001b[0;36m<module>\u001b[1;34m\u001b[0m\n\u001b[0;32m      5\u001b[0m \u001b[1;33m\u001b[0m\u001b[0m\n\u001b[0;32m      6\u001b[0m \u001b[1;31m# we can also print even no's using lambda exp.\u001b[0m\u001b[1;33m\u001b[0m\u001b[1;33m\u001b[0m\u001b[1;33m\u001b[0m\u001b[0m\n\u001b[1;32m----> 7\u001b[1;33m \u001b[0meven_nos\u001b[0m \u001b[1;33m=\u001b[0m \u001b[0mlist\u001b[0m\u001b[1;33m(\u001b[0m\u001b[0mfilter\u001b[0m\u001b[1;33m(\u001b[0m\u001b[1;32mlambda\u001b[0m \u001b[0mx\u001b[0m\u001b[1;33m:\u001b[0m \u001b[1;33m(\u001b[0m\u001b[0mx\u001b[0m \u001b[1;33m%\u001b[0m \u001b[1;36m2\u001b[0m \u001b[1;33m==\u001b[0m \u001b[1;36m0\u001b[0m\u001b[1;33m)\u001b[0m\u001b[1;33m,\u001b[0m \u001b[0mlist1\u001b[0m\u001b[1;33m)\u001b[0m\u001b[1;33m)\u001b[0m\u001b[1;33m\u001b[0m\u001b[1;33m\u001b[0m\u001b[0m\n\u001b[0m\u001b[0;32m      8\u001b[0m \u001b[1;33m\u001b[0m\u001b[0m\n\u001b[0;32m      9\u001b[0m \u001b[0mprint\u001b[0m\u001b[1;33m(\u001b[0m\u001b[1;34m\"Even numbers in the list: \"\u001b[0m\u001b[1;33m,\u001b[0m \u001b[0meven_nos\u001b[0m\u001b[1;33m)\u001b[0m\u001b[1;33m\u001b[0m\u001b[1;33m\u001b[0m\u001b[0m\n",
      "\u001b[1;31mTypeError\u001b[0m: 'list' object is not callable"
     ]
    }
   ],
   "source": [
    "# Python program to print Even Numbers in a List \n",
    "  \n",
    "# list of numbers  \n",
    "list1 = [10, 21, 4, 45, 66, 93, 11]  \n",
    "\n",
    "# we can also print even no's using lambda exp.  \n",
    "even_nos = list(filter(lambda x: (x % 2 == 0), list1)) \n",
    "  \n",
    "print(\"Even numbers in the list: \", even_nos)  \n"
   ]
  },
  {
   "cell_type": "code",
   "execution_count": 142,
   "metadata": {},
   "outputs": [
    {
     "name": "stdout",
     "output_type": "stream",
     "text": [
      "21 45 93 "
     ]
    }
   ],
   "source": [
    "# Python program to print odd Numbers in a List \n",
    "  \n",
    "# list of numbers \n",
    "list1 = [10, 21, 4, 45, 66, 93] \n",
    "  \n",
    "# iterating each number in list \n",
    "for num in list1: \n",
    "      \n",
    "    # checking condition \n",
    "    if num % 2 != 0: \n",
    "       print(num, end = \" \") \n"
   ]
  },
  {
   "cell_type": "code",
   "execution_count": 143,
   "metadata": {},
   "outputs": [
    {
     "name": "stdout",
     "output_type": "stream",
     "text": [
      "21 45 93 "
     ]
    }
   ],
   "source": [
    "# Python program to print odd Numbers in a List \n",
    "  \n",
    "# list of numbers \n",
    "list1 = [10, 21, 4, 45, 66, 93] \n",
    "num = 0\n",
    "  \n",
    "# using while loop         \n",
    "while(num < len(list1)): \n",
    "      \n",
    "    # checking condition \n",
    "    if num % 2 != 0: \n",
    "       print(list1[num], end = \" \") \n",
    "      \n",
    "    # increment num   \n",
    "    num += 1\n"
   ]
  },
  {
   "cell_type": "code",
   "execution_count": 144,
   "metadata": {},
   "outputs": [
    {
     "name": "stdout",
     "output_type": "stream",
     "text": [
      "[21, 45, 93]\n"
     ]
    }
   ],
   "source": [
    "# Python program to print odd Numbers in a List \n",
    "  \n",
    "# list of numbers \n",
    "list1 = [10, 21, 4, 45, 66, 93] \n",
    "  \n",
    "only_odd = [num for num in list1 if num % 2 == 1] \n",
    "  \n",
    "print(only_odd) \n"
   ]
  },
  {
   "cell_type": "code",
   "execution_count": 145,
   "metadata": {},
   "outputs": [
    {
     "ename": "TypeError",
     "evalue": "'list' object is not callable",
     "output_type": "error",
     "traceback": [
      "\u001b[1;31m---------------------------------------------------------------------------\u001b[0m",
      "\u001b[1;31mTypeError\u001b[0m                                 Traceback (most recent call last)",
      "\u001b[1;32m<ipython-input-145-9da64f6acfa4>\u001b[0m in \u001b[0;36m<module>\u001b[1;34m\u001b[0m\n\u001b[0;32m      6\u001b[0m \u001b[1;33m\u001b[0m\u001b[0m\n\u001b[0;32m      7\u001b[0m \u001b[1;31m# we can also print odd no's using lambda exp.\u001b[0m\u001b[1;33m\u001b[0m\u001b[1;33m\u001b[0m\u001b[1;33m\u001b[0m\u001b[0m\n\u001b[1;32m----> 8\u001b[1;33m \u001b[0modd_nos\u001b[0m \u001b[1;33m=\u001b[0m \u001b[0mlist\u001b[0m\u001b[1;33m(\u001b[0m\u001b[0mfilter\u001b[0m\u001b[1;33m(\u001b[0m\u001b[1;32mlambda\u001b[0m \u001b[0mx\u001b[0m\u001b[1;33m:\u001b[0m \u001b[1;33m(\u001b[0m\u001b[0mx\u001b[0m \u001b[1;33m%\u001b[0m \u001b[1;36m2\u001b[0m \u001b[1;33m!=\u001b[0m \u001b[1;36m0\u001b[0m\u001b[1;33m)\u001b[0m\u001b[1;33m,\u001b[0m \u001b[0mlist1\u001b[0m\u001b[1;33m)\u001b[0m\u001b[1;33m)\u001b[0m\u001b[1;33m\u001b[0m\u001b[1;33m\u001b[0m\u001b[0m\n\u001b[0m\u001b[0;32m      9\u001b[0m \u001b[1;33m\u001b[0m\u001b[0m\n\u001b[0;32m     10\u001b[0m \u001b[0mprint\u001b[0m\u001b[1;33m(\u001b[0m\u001b[1;34m\"Odd numbers in the list: \"\u001b[0m\u001b[1;33m,\u001b[0m \u001b[0modd_nos\u001b[0m\u001b[1;33m)\u001b[0m\u001b[1;33m\u001b[0m\u001b[1;33m\u001b[0m\u001b[0m\n",
      "\u001b[1;31mTypeError\u001b[0m: 'list' object is not callable"
     ]
    }
   ],
   "source": [
    "# Python program to print odd numbers in a List \n",
    "  \n",
    "# list of numbers  \n",
    "list1 = [10, 21, 4, 45, 66, 93, 11]  \n",
    "  \n",
    "  \n",
    "# we can also print odd no's using lambda exp.  \n",
    "odd_nos = list(filter(lambda x: (x % 2 != 0), list1)) \n",
    "  \n",
    "print(\"Odd numbers in the list: \", odd_nos)  \n"
   ]
  },
  {
   "cell_type": "code",
   "execution_count": 146,
   "metadata": {},
   "outputs": [
    {
     "name": "stdout",
     "output_type": "stream",
     "text": [
      "4 6 8 10 12 14 16 18 "
     ]
    }
   ],
   "source": [
    "# Python program to print Even Numbers in given range \n",
    "  \n",
    "start, end = 4, 19\n",
    "  \n",
    "# iterating each number in list \n",
    "for num in range(start, end + 1): \n",
    "      \n",
    "    # checking condition \n",
    "    if num % 2 == 0: \n",
    "        print(num, end = \" \") \n"
   ]
  },
  {
   "cell_type": "code",
   "execution_count": 147,
   "metadata": {},
   "outputs": [
    {
     "name": "stdin",
     "output_type": "stream",
     "text": [
      "Enter the start of range:  1\n",
      "Enter the end of range:  4\n"
     ]
    },
    {
     "name": "stdout",
     "output_type": "stream",
     "text": [
      "2 4 "
     ]
    }
   ],
   "source": [
    "# Python program to print Even Numbers in given range \n",
    "  \n",
    "start = int(input(\"Enter the start of range: \")) \n",
    "end = int(input(\"Enter the end of range: \")) \n",
    "  \n",
    "# iterating each number in list \n",
    "for num in range(start, end + 1): \n",
    "      \n",
    "    # checking condition \n",
    "    if num % 2 == 0: \n",
    "        print(num, end = \" \") \n"
   ]
  },
  {
   "cell_type": "code",
   "execution_count": 148,
   "metadata": {},
   "outputs": [
    {
     "name": "stdout",
     "output_type": "stream",
     "text": [
      "5 7 9 11 13 15 17 19 "
     ]
    }
   ],
   "source": [
    "# Python program to print odd Numbers in given range \n",
    "  \n",
    "start, end = 4, 19\n",
    "  \n",
    "# iterating each number in list \n",
    "for num in range(start, end + 1): \n",
    "      \n",
    "    # checking condition \n",
    "    if num % 2 != 0: \n",
    "        print(num, end = \" \") \n"
   ]
  },
  {
   "cell_type": "code",
   "execution_count": 149,
   "metadata": {},
   "outputs": [
    {
     "name": "stdin",
     "output_type": "stream",
     "text": [
      "Enter the start of range:  3\n",
      "Enter the end of range:  6\n"
     ]
    },
    {
     "name": "stdout",
     "output_type": "stream",
     "text": [
      "3 5 "
     ]
    }
   ],
   "source": [
    "# Python program to print Even Numbers in given range \n",
    "  \n",
    "start = int(input(\"Enter the start of range: \")) \n",
    "end = int(input(\"Enter the end of range: \")) \n",
    "  \n",
    "# iterating each number in list \n",
    "for num in range(start, end + 1): \n",
    "      \n",
    "    # checking condition \n",
    "    if num % 2 != 0: \n",
    "        print(num, end = \" \") \n"
   ]
  },
  {
   "cell_type": "code",
   "execution_count": 150,
   "metadata": {},
   "outputs": [
    {
     "name": "stdout",
     "output_type": "stream",
     "text": [
      "Even numbers in the list:  3\n",
      "Odd numbers in the list:  4\n"
     ]
    }
   ],
   "source": [
    "# Python program to count Even \n",
    "# and Odd numbers in a List \n",
    "  \n",
    "# list of numbers \n",
    "list1 = [10, 21, 4, 45, 66, 93, 1] \n",
    "  \n",
    "even_count, odd_count = 0, 0\n",
    "  \n",
    "# iterating each number in list \n",
    "for num in list1: \n",
    "      \n",
    "    # checking condition \n",
    "    if num % 2 == 0: \n",
    "        even_count += 1\n",
    "  \n",
    "    else: \n",
    "        odd_count += 1\n",
    "          \n",
    "print(\"Even numbers in the list: \", even_count) \n",
    "print(\"Odd numbers in the list: \", odd_count) \n"
   ]
  },
  {
   "cell_type": "code",
   "execution_count": 151,
   "metadata": {},
   "outputs": [
    {
     "name": "stdout",
     "output_type": "stream",
     "text": [
      "Even numbers in the list:  3\n",
      "Odd numbers in the list:  4\n"
     ]
    }
   ],
   "source": [
    "# Python program to count Even and Odd numbers in a List \n",
    "  \n",
    "# list of numbers \n",
    "list1 = [10, 21, 4, 45, 66, 93, 11] \n",
    "  \n",
    "even_count, odd_count = 0, 0\n",
    "num = 0\n",
    "  \n",
    "# using while loop      \n",
    "while(num < len(list1)): \n",
    "      \n",
    "    # checking condition \n",
    "    if list1[num] % 2 == 0: \n",
    "        even_count += 1\n",
    "    else: \n",
    "        odd_count += 1\n",
    "      \n",
    "    # increment num  \n",
    "    num += 1\n",
    "      \n",
    "print(\"Even numbers in the list: \", even_count) \n",
    "print(\"Odd numbers in the list: \", odd_count) \n"
   ]
  },
  {
   "cell_type": "code",
   "execution_count": 152,
   "metadata": {},
   "outputs": [
    {
     "ename": "TypeError",
     "evalue": "'list' object is not callable",
     "output_type": "error",
     "traceback": [
      "\u001b[1;31m---------------------------------------------------------------------------\u001b[0m",
      "\u001b[1;31mTypeError\u001b[0m                                 Traceback (most recent call last)",
      "\u001b[1;32m<ipython-input-152-1f186afe02e8>\u001b[0m in \u001b[0;36m<module>\u001b[1;34m\u001b[0m\n\u001b[0;32m      2\u001b[0m \u001b[0mlist1\u001b[0m \u001b[1;33m=\u001b[0m \u001b[1;33m[\u001b[0m\u001b[1;36m10\u001b[0m\u001b[1;33m,\u001b[0m \u001b[1;36m21\u001b[0m\u001b[1;33m,\u001b[0m \u001b[1;36m4\u001b[0m\u001b[1;33m,\u001b[0m \u001b[1;36m45\u001b[0m\u001b[1;33m,\u001b[0m \u001b[1;36m66\u001b[0m\u001b[1;33m,\u001b[0m \u001b[1;36m93\u001b[0m\u001b[1;33m,\u001b[0m \u001b[1;36m11\u001b[0m\u001b[1;33m]\u001b[0m\u001b[1;33m\u001b[0m\u001b[1;33m\u001b[0m\u001b[0m\n\u001b[0;32m      3\u001b[0m \u001b[1;33m\u001b[0m\u001b[0m\n\u001b[1;32m----> 4\u001b[1;33m \u001b[0modd_count\u001b[0m \u001b[1;33m=\u001b[0m \u001b[0mlen\u001b[0m\u001b[1;33m(\u001b[0m\u001b[0mlist\u001b[0m\u001b[1;33m(\u001b[0m\u001b[0mfilter\u001b[0m\u001b[1;33m(\u001b[0m\u001b[1;32mlambda\u001b[0m \u001b[0mx\u001b[0m\u001b[1;33m:\u001b[0m \u001b[1;33m(\u001b[0m\u001b[0mx\u001b[0m\u001b[1;33m%\u001b[0m\u001b[1;36m2\u001b[0m \u001b[1;33m!=\u001b[0m \u001b[1;36m0\u001b[0m\u001b[1;33m)\u001b[0m \u001b[1;33m,\u001b[0m \u001b[0mlist1\u001b[0m\u001b[1;33m)\u001b[0m\u001b[1;33m)\u001b[0m\u001b[1;33m)\u001b[0m\u001b[1;33m\u001b[0m\u001b[1;33m\u001b[0m\u001b[0m\n\u001b[0m\u001b[0;32m      5\u001b[0m \u001b[1;33m\u001b[0m\u001b[0m\n\u001b[0;32m      6\u001b[0m \u001b[1;31m# we can also do len(list1) - odd_count\u001b[0m\u001b[1;33m\u001b[0m\u001b[1;33m\u001b[0m\u001b[1;33m\u001b[0m\u001b[0m\n",
      "\u001b[1;31mTypeError\u001b[0m: 'list' object is not callable"
     ]
    }
   ],
   "source": [
    "# list of numbers \n",
    "list1 = [10, 21, 4, 45, 66, 93, 11] \n",
    "  \n",
    "odd_count = len(list(filter(lambda x: (x%2 != 0) , list1))) \n",
    "  \n",
    "# we can also do len(list1) - odd_count \n",
    "even_count = len(list(filter(lambda x: (x%2 == 0) , list1))) \n",
    "  \n",
    "print(\"Even numbers in the list: \", even_count) \n",
    "print(\"Odd numbers in the list: \", odd_count) \n"
   ]
  },
  {
   "cell_type": "code",
   "execution_count": 153,
   "metadata": {},
   "outputs": [
    {
     "name": "stdout",
     "output_type": "stream",
     "text": [
      "Even numbers in the list:  3\n",
      "Odd numbers in the list:  4\n"
     ]
    }
   ],
   "source": [
    "# Python program to print odd Numbers in a List \n",
    "   \n",
    "# list of numbers \n",
    "list1 = [10, 21, 4, 45, 66, 93, 11] \n",
    "   \n",
    "only_odd = [num for num in list1 if num % 2 == 1] \n",
    "odd_count = len(only_odd) \n",
    "   \n",
    "print(\"Even numbers in the list: \", len(list1) - odd_count) \n",
    "print(\"Odd numbers in the list: \", odd_count) \n"
   ]
  },
  {
   "cell_type": "code",
   "execution_count": 154,
   "metadata": {},
   "outputs": [
    {
     "name": "stdout",
     "output_type": "stream",
     "text": [
      "11 0 45 66 "
     ]
    }
   ],
   "source": [
    "# Python program to print positive Numbers in a List \n",
    "  \n",
    "# list of numbers \n",
    "list1 = [11, -21, 0, 45, 66, -93] \n",
    "  \n",
    "# iterating each number in list \n",
    "for num in list1: \n",
    "      \n",
    "    # checking condition \n",
    "    if num >= 0: \n",
    "       print(num, end = \" \") \n"
   ]
  },
  {
   "cell_type": "code",
   "execution_count": 156,
   "metadata": {},
   "outputs": [
    {
     "name": "stdout",
     "output_type": "stream",
     "text": [
      "21 93 "
     ]
    }
   ],
   "source": [
    "# Python program to print positive Numbers in a List \n",
    "  \n",
    "# list of numbers \n",
    "list1 = [-10, 21, -4, -45, -66, 93] \n",
    "num = 0\n",
    "  \n",
    "# using while loop      \n",
    "while(num < len(list1)): \n",
    "      \n",
    "    # checking condition \n",
    "    if list1[num] >= 0: \n",
    "        print(list1[num], end = \" \") \n",
    "      \n",
    "    # increment num  \n",
    "    num += 1\n"
   ]
  },
  {
   "cell_type": "code",
   "execution_count": 157,
   "metadata": {},
   "outputs": [
    {
     "name": "stdout",
     "output_type": "stream",
     "text": [
      "Positive numbers in the list:  45 93\n"
     ]
    }
   ],
   "source": [
    "# Python program to print Positive Numbers in a List \n",
    "  \n",
    "# list of numbers \n",
    "list1 = [-10, -21, -4, 45, -66, 93] \n",
    "  \n",
    "# using list comprehension \n",
    "pos_nos = [num for num in list1 if num >= 0] \n",
    "  \n",
    "print(\"Positive numbers in the list: \", *pos_nos) \n"
   ]
  },
  {
   "cell_type": "code",
   "execution_count": 158,
   "metadata": {},
   "outputs": [
    {
     "ename": "TypeError",
     "evalue": "'list' object is not callable",
     "output_type": "error",
     "traceback": [
      "\u001b[1;31m---------------------------------------------------------------------------\u001b[0m",
      "\u001b[1;31mTypeError\u001b[0m                                 Traceback (most recent call last)",
      "\u001b[1;32m<ipython-input-158-0d101e5a4d63>\u001b[0m in \u001b[0;36m<module>\u001b[1;34m\u001b[0m\n\u001b[0;32m      6\u001b[0m \u001b[1;33m\u001b[0m\u001b[0m\n\u001b[0;32m      7\u001b[0m \u001b[1;31m# we can also print positive no's using lambda exp.\u001b[0m\u001b[1;33m\u001b[0m\u001b[1;33m\u001b[0m\u001b[1;33m\u001b[0m\u001b[0m\n\u001b[1;32m----> 8\u001b[1;33m \u001b[0mpos_nos\u001b[0m \u001b[1;33m=\u001b[0m \u001b[0mlist\u001b[0m\u001b[1;33m(\u001b[0m\u001b[0mfilter\u001b[0m\u001b[1;33m(\u001b[0m\u001b[1;32mlambda\u001b[0m \u001b[0mx\u001b[0m\u001b[1;33m:\u001b[0m \u001b[1;33m(\u001b[0m\u001b[0mx\u001b[0m \u001b[1;33m>=\u001b[0m \u001b[1;36m0\u001b[0m\u001b[1;33m)\u001b[0m\u001b[1;33m,\u001b[0m \u001b[0mlist1\u001b[0m\u001b[1;33m)\u001b[0m\u001b[1;33m)\u001b[0m\u001b[1;33m\u001b[0m\u001b[1;33m\u001b[0m\u001b[0m\n\u001b[0m\u001b[0;32m      9\u001b[0m \u001b[1;33m\u001b[0m\u001b[0m\n\u001b[0;32m     10\u001b[0m \u001b[0mprint\u001b[0m\u001b[1;33m(\u001b[0m\u001b[1;34m\"Positive numbers in the list: \"\u001b[0m\u001b[1;33m,\u001b[0m \u001b[1;33m*\u001b[0m\u001b[0mpos_nos\u001b[0m\u001b[1;33m)\u001b[0m\u001b[1;33m\u001b[0m\u001b[1;33m\u001b[0m\u001b[0m\n",
      "\u001b[1;31mTypeError\u001b[0m: 'list' object is not callable"
     ]
    }
   ],
   "source": [
    "# Python program to print positive Numbers in a List \n",
    "  \n",
    "# list of numbers  \n",
    "list1 = [-10, 21, 4, -45, -66, 93, -11]  \n",
    "  \n",
    "  \n",
    "# we can also print positive no's using lambda exp.  \n",
    "pos_nos = list(filter(lambda x: (x >= 0), list1)) \n",
    "  \n",
    "print(\"Positive numbers in the list: \", *pos_nos)  \n"
   ]
  },
  {
   "cell_type": "code",
   "execution_count": 160,
   "metadata": {},
   "outputs": [
    {
     "name": "stdout",
     "output_type": "stream",
     "text": [
      "-21 -93 "
     ]
    }
   ],
   "source": [
    "# Python program to print negative Numbers in a List \n",
    "  \n",
    "# list of numbers \n",
    "list1 = [11, -21, 0, 45, 66, -93] \n",
    "  \n",
    "# iterating each number in list \n",
    "for num in list1: \n",
    "      \n",
    "    # checking condition \n",
    "    if num < 0: \n",
    "       print(num, end = \" \") \n"
   ]
  },
  {
   "cell_type": "code",
   "execution_count": 161,
   "metadata": {},
   "outputs": [
    {
     "name": "stdout",
     "output_type": "stream",
     "text": [
      "-10 -4 -45 -66 "
     ]
    }
   ],
   "source": [
    "# Python program to print negative Numbers in a List \n",
    "  \n",
    "# list of numbers \n",
    "list1 = [-10, 21, -4, -45, -66, 93] \n",
    "num = 0\n",
    "  \n",
    "# using while loop      \n",
    "while(num < len(list1)): \n",
    "      \n",
    "    # checking condition \n",
    "    if list1[num] < 0: \n",
    "        print(list1[num], end = \" \") \n",
    "      \n",
    "    # increment num  \n",
    "    num += 1\n"
   ]
  },
  {
   "cell_type": "code",
   "execution_count": 162,
   "metadata": {},
   "outputs": [
    {
     "name": "stdout",
     "output_type": "stream",
     "text": [
      "Negative numbers in the list:  -10 -21 -4 -66\n"
     ]
    }
   ],
   "source": [
    "# Python program to print negative Numbers in a List \n",
    "  \n",
    "# list of numbers \n",
    "list1 = [-10, -21, -4, 45, -66, 93] \n",
    "  \n",
    "# using list comprehension \n",
    "neg_nos = [num for num in list1 if num < 0] \n",
    "  \n",
    "print(\"Negative numbers in the list: \", *neg_nos) \n"
   ]
  },
  {
   "cell_type": "code",
   "execution_count": 163,
   "metadata": {},
   "outputs": [
    {
     "ename": "TypeError",
     "evalue": "'list' object is not callable",
     "output_type": "error",
     "traceback": [
      "\u001b[1;31m---------------------------------------------------------------------------\u001b[0m",
      "\u001b[1;31mTypeError\u001b[0m                                 Traceback (most recent call last)",
      "\u001b[1;32m<ipython-input-163-ba2b9e47dddb>\u001b[0m in \u001b[0;36m<module>\u001b[1;34m\u001b[0m\n\u001b[0;32m      6\u001b[0m \u001b[1;33m\u001b[0m\u001b[0m\n\u001b[0;32m      7\u001b[0m \u001b[1;31m# we can also print negative no's using lambda exp.\u001b[0m\u001b[1;33m\u001b[0m\u001b[1;33m\u001b[0m\u001b[1;33m\u001b[0m\u001b[0m\n\u001b[1;32m----> 8\u001b[1;33m \u001b[0mneg_nos\u001b[0m \u001b[1;33m=\u001b[0m \u001b[0mlist\u001b[0m\u001b[1;33m(\u001b[0m\u001b[0mfilter\u001b[0m\u001b[1;33m(\u001b[0m\u001b[1;32mlambda\u001b[0m \u001b[0mx\u001b[0m\u001b[1;33m:\u001b[0m \u001b[1;33m(\u001b[0m\u001b[0mx\u001b[0m \u001b[1;33m<\u001b[0m \u001b[1;36m0\u001b[0m\u001b[1;33m)\u001b[0m\u001b[1;33m,\u001b[0m \u001b[0mlist1\u001b[0m\u001b[1;33m)\u001b[0m\u001b[1;33m)\u001b[0m\u001b[1;33m\u001b[0m\u001b[1;33m\u001b[0m\u001b[0m\n\u001b[0m\u001b[0;32m      9\u001b[0m \u001b[1;33m\u001b[0m\u001b[0m\n\u001b[0;32m     10\u001b[0m \u001b[0mprint\u001b[0m\u001b[1;33m(\u001b[0m\u001b[1;34m\"Negative numbers in the list: \"\u001b[0m\u001b[1;33m,\u001b[0m \u001b[1;33m*\u001b[0m\u001b[0mneg_nos\u001b[0m\u001b[1;33m)\u001b[0m\u001b[1;33m\u001b[0m\u001b[1;33m\u001b[0m\u001b[0m\n",
      "\u001b[1;31mTypeError\u001b[0m: 'list' object is not callable"
     ]
    }
   ],
   "source": [
    "# Python program to print negative Numbers in a List \n",
    "  \n",
    "# list of numbers  \n",
    "list1 = [-10, 21, 4, -45, -66, 93, -11]  \n",
    "  \n",
    "  \n",
    "# we can also print negative no's using lambda exp.  \n",
    "neg_nos = list(filter(lambda x: (x < 0), list1)) \n",
    "  \n",
    "print(\"Negative numbers in the list: \", *neg_nos)  \n"
   ]
  },
  {
   "cell_type": "code",
   "execution_count": 164,
   "metadata": {},
   "outputs": [
    {
     "name": "stdout",
     "output_type": "stream",
     "text": [
      "0 1 2 3 4 5 6 7 8 9 10 11 12 13 14 15 16 17 18 19 "
     ]
    }
   ],
   "source": [
    "# Python program to print positive Numbers in given range \n",
    "  \n",
    "start, end = -4, 19\n",
    "  \n",
    "# iterating each number in list \n",
    "for num in range(start, end + 1): \n",
    "      \n",
    "    # checking condition \n",
    "    if num >= 0: \n",
    "        print(num, end = \" \") \n"
   ]
  },
  {
   "cell_type": "code",
   "execution_count": 166,
   "metadata": {},
   "outputs": [
    {
     "name": "stdin",
     "output_type": "stream",
     "text": [
      "Enter the start of range:  3\n",
      "Enter the end of range:  7\n"
     ]
    },
    {
     "name": "stdout",
     "output_type": "stream",
     "text": [
      "3 4 5 6 7 "
     ]
    }
   ],
   "source": [
    "\n",
    "# Python program to print positive Numbers in given range \n",
    "  \n",
    "start = int(input(\"Enter the start of range: \")) \n",
    "end = int(input(\"Enter the end of range: \")) \n",
    "  \n",
    "# iterating each number in list \n",
    "for num in range(start, end + 1): \n",
    "      \n",
    "    # checking condition \n",
    "    if num >= 0: \n",
    "        print(num, end = \" \") \n"
   ]
  },
  {
   "cell_type": "code",
   "execution_count": 167,
   "metadata": {},
   "outputs": [
    {
     "name": "stdout",
     "output_type": "stream",
     "text": [
      "-4 -3 -2 -1 "
     ]
    }
   ],
   "source": [
    "# Python program to print negative Numbers in given range \n",
    "  \n",
    "start, end = -4, 19\n",
    "  \n",
    "# iterating each number in list \n",
    "for num in range(start, end + 1): \n",
    "      \n",
    "    # checking condition \n",
    "    if num < 0: \n",
    "        print(num, end = \" \") \n"
   ]
  },
  {
   "cell_type": "code",
   "execution_count": 169,
   "metadata": {},
   "outputs": [
    {
     "name": "stdin",
     "output_type": "stream",
     "text": [
      "Enter the start of range:  -5\n",
      "Enter the end of range:  -1\n"
     ]
    },
    {
     "name": "stdout",
     "output_type": "stream",
     "text": [
      "-5 -4 -3 -2 -1 "
     ]
    }
   ],
   "source": [
    "# Python program to print negative Numbers in given range \n",
    "  \n",
    "start = int(input(\"Enter the start of range: \")) \n",
    "end = int(input(\"Enter the end of range: \")) \n",
    "  \n",
    "# iterating each number in list \n",
    "for num in range(start, end + 1): \n",
    "      \n",
    "    # checking condition \n",
    "    if num < 0: \n",
    "        print(num, end = \" \") \n"
   ]
  },
  {
   "cell_type": "code",
   "execution_count": 171,
   "metadata": {},
   "outputs": [
    {
     "name": "stdout",
     "output_type": "stream",
     "text": [
      "[85, 41]\n"
     ]
    }
   ],
   "source": [
    "# Python program to find N largest \n",
    "# element from given list of integers \n",
    "  \n",
    "# Function returns N largest elements \n",
    "def Nmaxelements(list1, N): \n",
    "    final_list = [] \n",
    "  \n",
    "    for i in range(0, N):  \n",
    "        max1 = 0\n",
    "          \n",
    "        for j in range(len(list1)):      \n",
    "            if list1[j] > max1: \n",
    "                max1 = list1[j]; \n",
    "                  \n",
    "        list1.remove(max1); \n",
    "        final_list.append(max1) \n",
    "          \n",
    "    print(final_list) \n",
    "  \n",
    "# Driver code \n",
    "list1 = [2, 6, 41, 85, 0, 3, 7, 6, 10] \n",
    "N = 2\n",
    "  \n",
    "# Calling the function \n",
    "Nmaxelements(list1, N) \n"
   ]
  },
  {
   "cell_type": "code",
   "execution_count": 172,
   "metadata": {},
   "outputs": [
    {
     "name": "stdout",
     "output_type": "stream",
     "text": [
      "Positive numbers in the list:  4\n",
      "Negative numbers in the list:  3\n"
     ]
    }
   ],
   "source": [
    "# Python program to count positive and negative numbers in a List \n",
    "  \n",
    "# list of numbers \n",
    "list1 = [10, -21, 4, -45, 66, -93, 1] \n",
    "  \n",
    "pos_count, neg_count = 0, 0\n",
    "  \n",
    "# iterating each number in list \n",
    "for num in list1: \n",
    "      \n",
    "    # checking condition \n",
    "    if num >= 0: \n",
    "        pos_count += 1\n",
    "  \n",
    "    else: \n",
    "        neg_count += 1\n",
    "          \n",
    "print(\"Positive numbers in the list: \", pos_count) \n",
    "print(\"Negative numbers in the list: \", neg_count) \n"
   ]
  },
  {
   "cell_type": "code",
   "execution_count": 173,
   "metadata": {},
   "outputs": [
    {
     "name": "stdout",
     "output_type": "stream",
     "text": [
      "Positive numbers in the list:  2\n",
      "Negative numbers in the list:  5\n"
     ]
    }
   ],
   "source": [
    "# Python program to count positive and negative numbers in a List \n",
    "  \n",
    "# list of numbers \n",
    "list1 = [-10, -21, -4, -45, -66, 93, 11] \n",
    "  \n",
    "pos_count, neg_count = 0, 0\n",
    "num = 0\n",
    "  \n",
    "# using while loop      \n",
    "while(num < len(list1)): \n",
    "      \n",
    "    # checking condition \n",
    "    if list1[num] >= 0: \n",
    "        pos_count += 1\n",
    "    else: \n",
    "        neg_count += 1\n",
    "      \n",
    "    # increment num  \n",
    "    num += 1\n",
    "      \n",
    "print(\"Positive numbers in the list: \", pos_count) \n",
    "print(\"Negative numbers in the list: \", neg_count) \n"
   ]
  },
  {
   "cell_type": "code",
   "execution_count": 174,
   "metadata": {},
   "outputs": [
    {
     "ename": "TypeError",
     "evalue": "'list' object is not callable",
     "output_type": "error",
     "traceback": [
      "\u001b[1;31m---------------------------------------------------------------------------\u001b[0m",
      "\u001b[1;31mTypeError\u001b[0m                                 Traceback (most recent call last)",
      "\u001b[1;32m<ipython-input-174-5d4198fe1f83>\u001b[0m in \u001b[0;36m<module>\u001b[1;34m\u001b[0m\n\u001b[0;32m      5\u001b[0m \u001b[0mlist1\u001b[0m \u001b[1;33m=\u001b[0m \u001b[1;33m[\u001b[0m\u001b[1;36m10\u001b[0m\u001b[1;33m,\u001b[0m \u001b[1;33m-\u001b[0m\u001b[1;36m21\u001b[0m\u001b[1;33m,\u001b[0m \u001b[1;33m-\u001b[0m\u001b[1;36m4\u001b[0m\u001b[1;33m,\u001b[0m \u001b[1;36m45\u001b[0m\u001b[1;33m,\u001b[0m \u001b[1;36m66\u001b[0m\u001b[1;33m,\u001b[0m \u001b[1;36m93\u001b[0m\u001b[1;33m,\u001b[0m \u001b[1;33m-\u001b[0m\u001b[1;36m11\u001b[0m\u001b[1;33m]\u001b[0m\u001b[1;33m\u001b[0m\u001b[1;33m\u001b[0m\u001b[0m\n\u001b[0;32m      6\u001b[0m \u001b[1;33m\u001b[0m\u001b[0m\n\u001b[1;32m----> 7\u001b[1;33m \u001b[0mneg_count\u001b[0m \u001b[1;33m=\u001b[0m \u001b[0mlen\u001b[0m\u001b[1;33m(\u001b[0m\u001b[0mlist\u001b[0m\u001b[1;33m(\u001b[0m\u001b[0mfilter\u001b[0m\u001b[1;33m(\u001b[0m\u001b[1;32mlambda\u001b[0m \u001b[0mx\u001b[0m\u001b[1;33m:\u001b[0m \u001b[1;33m(\u001b[0m\u001b[0mx\u001b[0m \u001b[1;33m<\u001b[0m \u001b[1;36m0\u001b[0m\u001b[1;33m)\u001b[0m\u001b[1;33m,\u001b[0m \u001b[0mlist1\u001b[0m\u001b[1;33m)\u001b[0m\u001b[1;33m)\u001b[0m\u001b[1;33m)\u001b[0m\u001b[1;33m\u001b[0m\u001b[1;33m\u001b[0m\u001b[0m\n\u001b[0m\u001b[0;32m      8\u001b[0m \u001b[1;33m\u001b[0m\u001b[0m\n\u001b[0;32m      9\u001b[0m \u001b[1;31m# we can also do len(list1) - neg_count\u001b[0m\u001b[1;33m\u001b[0m\u001b[1;33m\u001b[0m\u001b[1;33m\u001b[0m\u001b[0m\n",
      "\u001b[1;31mTypeError\u001b[0m: 'list' object is not callable"
     ]
    }
   ],
   "source": [
    "# Python program to count positive \n",
    "# and negative numbers in a List \n",
    "  \n",
    "# list of numbers \n",
    "list1 = [10, -21, -4, 45, 66, 93, -11] \n",
    "  \n",
    "neg_count = len(list(filter(lambda x: (x < 0), list1))) \n",
    "  \n",
    "# we can also do len(list1) - neg_count \n",
    "pos_count = len(list(filter(lambda x: (x >= 0), list1))) \n",
    "  \n",
    "print(\"Positive numbers in the list: \", pos_count) \n",
    "print(\"Negative numbers in the list: \", neg_count) \n"
   ]
  },
  {
   "cell_type": "code",
   "execution_count": 175,
   "metadata": {},
   "outputs": [
    {
     "name": "stdout",
     "output_type": "stream",
     "text": [
      "Positive numbers in the list:  1\n",
      "Negative numbers in the list:  6\n"
     ]
    }
   ],
   "source": [
    "# Python program to count positive \n",
    "# and negative numbers in a List \n",
    "  \n",
    "# list of numbers \n",
    "list1 = [-10, -21, -4, -45, -66, -93, 11] \n",
    "  \n",
    "only_pos = [num for num in list1 if num >= 1] \n",
    "pos_count = len(only_pos) \n",
    "  \n",
    "print(\"Positive numbers in the list: \", pos_count) \n",
    "print(\"Negative numbers in the list: \", len(list1) - pos_count) \n"
   ]
  },
  {
   "cell_type": "code",
   "execution_count": 176,
   "metadata": {},
   "outputs": [
    {
     "name": "stdout",
     "output_type": "stream",
     "text": [
      "New list after removing all even numbers:  [11, 5, 17, 23]\n"
     ]
    }
   ],
   "source": [
    "# Python program to remove multiple \n",
    "# elements from a list  \n",
    "  \n",
    "# creating a list \n",
    "list1 = [11, 5, 17, 18, 23, 50]  \n",
    "  \n",
    "# Iterate each element in list \n",
    "# and add them in variale total \n",
    "for ele in list1: \n",
    "    if ele % 2 == 0: \n",
    "        list1.remove(ele) \n",
    "  \n",
    "# printing modified list \n",
    "print(\"New list after removing all even numbers: \", list1) \n"
   ]
  },
  {
   "cell_type": "code",
   "execution_count": 177,
   "metadata": {},
   "outputs": [
    {
     "name": "stdout",
     "output_type": "stream",
     "text": [
      "11 5 17 23\n"
     ]
    }
   ],
   "source": [
    "# Python program to remove multiple \n",
    "# elements from a list  \n",
    "  \n",
    "# creating a list \n",
    "list1 = [11, 5, 17, 18, 23, 50]  \n",
    "  \n",
    "# will create a new list,  \n",
    "# excluding all even numbers \n",
    "list1 = [ elem for elem in list1 if elem % 2 != 0] \n",
    "  \n",
    "print(*list1) \n"
   ]
  },
  {
   "cell_type": "code",
   "execution_count": 178,
   "metadata": {},
   "outputs": [
    {
     "name": "stdout",
     "output_type": "stream",
     "text": [
      "11 50\n"
     ]
    }
   ],
   "source": [
    "# Python program to remove multiple \n",
    "# elements from a list  \n",
    "  \n",
    "# creating a list \n",
    "list1 = [11, 5, 17, 18, 23, 50]  \n",
    "  \n",
    "# removes elements from index 1 to 4 \n",
    "# i.e. 5, 17, 18, 23 will be deleted \n",
    "del list1[1:5] \n",
    "  \n",
    "print(*list1) \n"
   ]
  },
  {
   "cell_type": "code",
   "execution_count": 179,
   "metadata": {},
   "outputs": [
    {
     "name": "stdout",
     "output_type": "stream",
     "text": [
      "New list after removing unwanted numbers:  [17, 18, 23, 50]\n"
     ]
    }
   ],
   "source": [
    "# Python program to remove multiple \n",
    "# elements from a list  \n",
    "  \n",
    "# creating a list \n",
    "list1 = [11, 5, 17, 18, 23, 50]  \n",
    "  \n",
    "# items to be removed \n",
    "unwanted_num = {11, 5} \n",
    "  \n",
    "list1 = [ele for ele in list1 if ele not in unwanted_num] \n",
    "  \n",
    "# printing modified list \n",
    "print(\"New list after removing unwanted numbers: \", list1) \n"
   ]
  },
  {
   "cell_type": "code",
   "execution_count": 180,
   "metadata": {},
   "outputs": [
    {
     "name": "stdout",
     "output_type": "stream",
     "text": [
      "5 17 50\n"
     ]
    }
   ],
   "source": [
    "# Python program to remove multiple \n",
    "# elements from a list  \n",
    "  \n",
    "# creating a list \n",
    "list1 = [11, 5, 17, 18, 23, 50]  \n",
    "  \n",
    "# given index of elements  \n",
    "# removes 11, 18, 23 \n",
    "unwanted = [0, 3, 4] \n",
    "  \n",
    "for ele in sorted(unwanted, reverse = True):  \n",
    "    del list1[ele] \n",
    "  \n",
    "# printing modified list \n",
    "print (*list1) \n"
   ]
  },
  {
   "cell_type": "code",
   "execution_count": 181,
   "metadata": {},
   "outputs": [
    {
     "name": "stdout",
     "output_type": "stream",
     "text": [
      "[('ram', '15', '8'), ('laxman', 'sita'), ('krishna', 'akbar', '45'), ('', '')]\n"
     ]
    }
   ],
   "source": [
    "# Python program to remove empty tuples from a  \n",
    "# list of tuples function to remove empty tuples  \n",
    "# using list comprehension \n",
    "def Remove(tuples): \n",
    "    tuples = [t for t in tuples if t] \n",
    "    return tuples \n",
    "  \n",
    "# Driver Code \n",
    "tuples = [(), ('ram','15','8'), (), ('laxman', 'sita'),  \n",
    "          ('krishna', 'akbar', '45'), ('',''),()] \n",
    "print(Remove(tuples)) \n"
   ]
  },
  {
   "cell_type": "code",
   "execution_count": 198,
   "metadata": {},
   "outputs": [
    {
     "ename": "SyntaxError",
     "evalue": "invalid syntax (<ipython-input-198-06ea6e7ef651>, line 11)",
     "output_type": "error",
     "traceback": [
      "\u001b[1;36m  File \u001b[1;32m\"<ipython-input-198-06ea6e7ef651>\"\u001b[1;36m, line \u001b[1;32m11\u001b[0m\n\u001b[1;33m    print Remove(tuples)\u001b[0m\n\u001b[1;37m               ^\u001b[0m\n\u001b[1;31mSyntaxError\u001b[0m\u001b[1;31m:\u001b[0m invalid syntax\n"
     ]
    }
   ],
   "source": [
    "# Python2 program to remove empty tuples \n",
    "# from a list of tuples function to remove  \n",
    "# empty tuples using filter \n",
    "def Remove(tuples): \n",
    "    tuples = filter(None, tuples) \n",
    "    return tuples \n",
    "  \n",
    "# Driver Code \n",
    "tuples = [(), ('ram','15','8'), (), ('laxman', 'sita'),  \n",
    "          ('krishna', 'akbar', '45'), ('',''),()]\n",
    "print Remove(tuples)\n"
   ]
  },
  {
   "cell_type": "code",
   "execution_count": 196,
   "metadata": {},
   "outputs": [
    {
     "name": "stdout",
     "output_type": "stream",
     "text": [
      "<filter object at 0x000001F6867B5AC8>\n"
     ]
    }
   ],
   "source": [
    "# Python program to remove empty tuples from  \n",
    "# a list of tuples function to remove empty  \n",
    "# tuples using filter \n",
    "def Remove(tuples): \n",
    "    tuples = filter(None, tuples) \n",
    "    return tuples \n",
    "  \n",
    "# Driver Code \n",
    "tuples = [(), ('ram','15','8'), (), ('laxman', 'sita'),  \n",
    "          ('krishna', 'akbar', '45'), ('',''),()] \n",
    "print (Remove(tuples)) \n"
   ]
  },
  {
   "cell_type": "code",
   "execution_count": 199,
   "metadata": {},
   "outputs": [
    {
     "name": "stdout",
     "output_type": "stream",
     "text": [
      "<filter object at 0x000001F68541EE48>\n"
     ]
    }
   ],
   "source": [
    "# Python program to remove empty tuples from  \n",
    "# a list of tuples function to remove empty  \n",
    "# tuples using filter \n",
    "def Remove(tuples): \n",
    "    tuples = filter(None, tuples) \n",
    "    return tuples \n",
    "  \n",
    "# Driver Code \n",
    "tuples = [(), ('ram','15','8'), (), ('laxman', 'sita'),  \n",
    "          ('krishna', 'akbar', '45'), ('',''),()] \n",
    "print (Remove(tuples)) \n"
   ]
  },
  {
   "cell_type": "code",
   "execution_count": 200,
   "metadata": {},
   "outputs": [
    {
     "name": "stdout",
     "output_type": "stream",
     "text": [
      "[20, 30, -20, 60]\n"
     ]
    }
   ],
   "source": [
    "# Python program to print  \n",
    "# duplicates from a list  \n",
    "# of integers \n",
    "def Repeat(x): \n",
    "    _size = len(x) \n",
    "    repeated = [] \n",
    "    for i in range(_size): \n",
    "        k = i + 1\n",
    "        for j in range(k, _size): \n",
    "            if x[i] == x[j] and x[i] not in repeated: \n",
    "                repeated.append(x[i]) \n",
    "    return repeated \n",
    "  \n",
    "# Driver Code \n",
    "list1 = [10, 20, 30, 20, 20, 30, 40,  \n",
    "         50, -20, 60, 60, -20, -20] \n",
    "print (Repeat(list1)) \n",
    "      \n",
    "# This code is contributed  \n",
    "# by Sandeep_anand \n"
   ]
  },
  {
   "cell_type": "code",
   "execution_count": 204,
   "metadata": {},
   "outputs": [
    {
     "ename": "SyntaxError",
     "evalue": "invalid character in identifier (<ipython-input-204-fdef93a7c1c7>, line 5)",
     "output_type": "error",
     "traceback": [
      "\u001b[1;36m  File \u001b[1;32m\"<ipython-input-204-fdef93a7c1c7>\"\u001b[1;36m, line \u001b[1;32m5\u001b[0m\n\u001b[1;33m    cu_list = [sum(lists[0😡 + 1]) for x in range(0, length)]\u001b[0m\n\u001b[1;37m                          ^\u001b[0m\n\u001b[1;31mSyntaxError\u001b[0m\u001b[1;31m:\u001b[0m invalid character in identifier\n"
     ]
    }
   ],
   "source": [
    "# Python code to get the Cumulative sum of a list \n",
    "def Cumulative(lists): \n",
    "    cu_list = [] \n",
    "    length = len(lists) \n",
    "    cu_list = [sum(lists[0😡 + 1]) for x in range(0, length)] \n",
    "    return cu_list \n",
    "  \n",
    "# Driver Code \n",
    "lists = [10, 20, 30, 40, 50] \n",
    "print (Cumulative(lists)) \n"
   ]
  },
  {
   "cell_type": "code",
   "execution_count": 205,
   "metadata": {},
   "outputs": [
    {
     "ename": "TypeError",
     "evalue": "'list' object is not callable",
     "output_type": "error",
     "traceback": [
      "\u001b[1;31m---------------------------------------------------------------------------\u001b[0m",
      "\u001b[1;31mTypeError\u001b[0m                                 Traceback (most recent call last)",
      "\u001b[1;32m<ipython-input-205-34d7bf5702cb>\u001b[0m in \u001b[0;36m<module>\u001b[1;34m\u001b[0m\n\u001b[0;32m     15\u001b[0m \u001b[0mn\u001b[0m \u001b[1;33m=\u001b[0m \u001b[1;36m5\u001b[0m\u001b[1;33m\u001b[0m\u001b[1;33m\u001b[0m\u001b[0m\n\u001b[0;32m     16\u001b[0m \u001b[1;33m\u001b[0m\u001b[0m\n\u001b[1;32m---> 17\u001b[1;33m \u001b[0mx\u001b[0m \u001b[1;33m=\u001b[0m \u001b[0mlist\u001b[0m\u001b[1;33m(\u001b[0m\u001b[0mdivide_chunks\u001b[0m\u001b[1;33m(\u001b[0m\u001b[0mmy_list\u001b[0m\u001b[1;33m,\u001b[0m \u001b[0mn\u001b[0m\u001b[1;33m)\u001b[0m\u001b[1;33m)\u001b[0m\u001b[1;33m\u001b[0m\u001b[1;33m\u001b[0m\u001b[0m\n\u001b[0m\u001b[0;32m     18\u001b[0m \u001b[0mprint\u001b[0m \u001b[1;33m(\u001b[0m\u001b[0mx\u001b[0m\u001b[1;33m)\u001b[0m\u001b[1;33m\u001b[0m\u001b[1;33m\u001b[0m\u001b[0m\n",
      "\u001b[1;31mTypeError\u001b[0m: 'list' object is not callable"
     ]
    }
   ],
   "source": [
    "my_list = ['geeks', 'for', 'geeks', 'like', \n",
    "           'geeky','nerdy', 'geek', 'love', \n",
    "               'questions','words', 'life'] \n",
    "  \n",
    "# Yield successive n-sized \n",
    "# chunks from l. \n",
    "def divide_chunks(l, n): \n",
    "      \n",
    "    # looping till length l \n",
    "    for i in range(0, len(l), n):  \n",
    "        yield l[i:i + n] \n",
    "  \n",
    "# How many elements each \n",
    "# list should have \n",
    "n = 5\n",
    "  \n",
    "x = list(divide_chunks(my_list, n)) \n",
    "print (x) \n"
   ]
  },
  {
   "cell_type": "code",
   "execution_count": 206,
   "metadata": {},
   "outputs": [
    {
     "name": "stdout",
     "output_type": "stream",
     "text": [
      "[[1, 2, 3, 4], [5, 6, 7, 8], [9]]\n"
     ]
    }
   ],
   "source": [
    "my_list = [1, 2, 3, 4, 5, \n",
    "              6, 7, 8, 9] \n",
    "  \n",
    "# How many elements each \n",
    "# list should have \n",
    "n = 4 \n",
    "  \n",
    "# using list comprehension \n",
    "final = [my_list[i * n:(i + 1) * n] for i in range((len(my_list) + n - 1) // n )]  \n",
    "print (final) \n"
   ]
  },
  {
   "cell_type": "code",
   "execution_count": 207,
   "metadata": {},
   "outputs": [
    {
     "name": "stdout",
     "output_type": "stream",
     "text": [
      "['a', 'd', 'h', 'b', 'c', 'e', 'i', 'f', 'g']\n",
      "['g', 'k', 'r', 'e', 'e', 'g', 's', 'f', 'o']\n"
     ]
    }
   ],
   "source": [
    "# Python program to sort  \n",
    "# one list using \n",
    "# the other list \n",
    "  \n",
    "def sort_list(list1, list2): \n",
    "  \n",
    "    zipped_pairs = zip(list2, list1) \n",
    "  \n",
    "    z = [x for _, x in sorted(zipped_pairs)] \n",
    "      \n",
    "    return z \n",
    "      \n",
    "  \n",
    "# driver code \n",
    "x = [\"a\", \"b\", \"c\", \"d\", \"e\", \"f\", \"g\", \"h\", \"i\"] \n",
    "y = [ 0,   1,   1,    0,   1,   2,   2,   0,   1] \n",
    "  \n",
    "print(sort_list(x, y)) \n",
    "  \n",
    "x = [\"g\", \"e\", \"e\", \"k\", \"s\", \"f\", \"o\", \"r\", \"g\", \"e\", \"e\", \"k\", \"s\"] \n",
    "y = [ 0,   1,   1,    0,   1,   2,   2,   0,   1] \n",
    "  \n",
    "print(sort_list(x, y)) \n"
   ]
  },
  {
   "cell_type": "code",
   "execution_count": null,
   "metadata": {},
   "outputs": [],
   "source": []
  },
  {
   "cell_type": "code",
   "execution_count": null,
   "metadata": {},
   "outputs": [],
   "source": []
  }
 ],
 "metadata": {
  "kernelspec": {
   "display_name": "Python 3",
   "language": "python",
   "name": "python3"
  },
  "language_info": {
   "codemirror_mode": {
    "name": "ipython",
    "version": 3
   },
   "file_extension": ".py",
   "mimetype": "text/x-python",
   "name": "python",
   "nbconvert_exporter": "python",
   "pygments_lexer": "ipython3",
   "version": "3.7.3"
  }
 },
 "nbformat": 4,
 "nbformat_minor": 2
}
