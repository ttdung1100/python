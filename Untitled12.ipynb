{
 "cells": [
  {
   "cell_type": "code",
   "execution_count": 5,
   "metadata": {},
   "outputs": [
    {
     "name": "stdout",
     "output_type": "stream",
     "text": [
      "Yes\n"
     ]
    }
   ],
   "source": [
    "# function which return reverse of a string \n",
    "def reverse(s): \n",
    "    return s[::-1] \n",
    "  \n",
    "def isPalindrome(s): \n",
    "    # Calling reverse function \n",
    "    rev = reverse(s) \n",
    "  \n",
    "    # Checking if both string are equal or not \n",
    "    if (s == rev): \n",
    "        return True\n",
    "    return False\n",
    "  \n",
    "  \n",
    "# Driver code \n",
    "s = \"malayalam\"\n",
    "ans = isPalindrome(s) \n",
    "  \n",
    "if ans == 1: \n",
    "    print(\"Yes\") \n",
    "else: \n",
    "    print(\"No\") \n"
   ]
  },
  {
   "cell_type": "code",
   "execution_count": 17,
   "metadata": {},
   "outputs": [
    {
     "ename": "NameError",
     "evalue": "name 'xrange' is not defined",
     "output_type": "error",
     "traceback": [
      "\u001b[1;31m---------------------------------------------------------------------------\u001b[0m",
      "\u001b[1;31mNameError\u001b[0m                                 Traceback (most recent call last)",
      "\u001b[1;32m<ipython-input-17-1beb7c14d62c>\u001b[0m in \u001b[0;36m<module>\u001b[1;34m\u001b[0m\n\u001b[0;32m     11\u001b[0m \u001b[1;31m# main function\u001b[0m\u001b[1;33m\u001b[0m\u001b[1;33m\u001b[0m\u001b[1;33m\u001b[0m\u001b[0m\n\u001b[0;32m     12\u001b[0m \u001b[0ms\u001b[0m \u001b[1;33m=\u001b[0m \u001b[1;34m\"malayalam\"\u001b[0m\u001b[1;33m\u001b[0m\u001b[1;33m\u001b[0m\u001b[0m\n\u001b[1;32m---> 13\u001b[1;33m \u001b[0mans\u001b[0m \u001b[1;33m=\u001b[0m \u001b[0misPalindrome\u001b[0m\u001b[1;33m(\u001b[0m\u001b[0ms\u001b[0m\u001b[1;33m)\u001b[0m\u001b[1;33m\u001b[0m\u001b[1;33m\u001b[0m\u001b[0m\n\u001b[0m\u001b[0;32m     14\u001b[0m \u001b[1;33m\u001b[0m\u001b[0m\n\u001b[0;32m     15\u001b[0m \u001b[1;32mif\u001b[0m \u001b[1;33m(\u001b[0m\u001b[0mans\u001b[0m\u001b[1;33m)\u001b[0m\u001b[1;33m:\u001b[0m\u001b[1;33m\u001b[0m\u001b[1;33m\u001b[0m\u001b[0m\n",
      "\u001b[1;32m<ipython-input-17-1beb7c14d62c>\u001b[0m in \u001b[0;36misPalindrome\u001b[1;34m(str)\u001b[0m\n\u001b[0;32m      4\u001b[0m \u001b[1;33m\u001b[0m\u001b[0m\n\u001b[0;32m      5\u001b[0m     \u001b[1;31m# Run loop from 0 to len/2\u001b[0m\u001b[1;33m\u001b[0m\u001b[1;33m\u001b[0m\u001b[1;33m\u001b[0m\u001b[0m\n\u001b[1;32m----> 6\u001b[1;33m     \u001b[1;32mfor\u001b[0m \u001b[0mi\u001b[0m \u001b[1;32min\u001b[0m \u001b[0mxrange\u001b[0m\u001b[1;33m(\u001b[0m\u001b[1;36m0\u001b[0m\u001b[1;33m,\u001b[0m \u001b[0mlen\u001b[0m\u001b[1;33m(\u001b[0m\u001b[0mstr\u001b[0m\u001b[1;33m)\u001b[0m\u001b[1;33m/\u001b[0m\u001b[1;36m2\u001b[0m\u001b[1;33m)\u001b[0m\u001b[1;33m:\u001b[0m\u001b[1;33m\u001b[0m\u001b[1;33m\u001b[0m\u001b[0m\n\u001b[0m\u001b[0;32m      7\u001b[0m         \u001b[1;32mif\u001b[0m \u001b[0mstr\u001b[0m\u001b[1;33m[\u001b[0m\u001b[0mi\u001b[0m\u001b[1;33m]\u001b[0m \u001b[1;33m!=\u001b[0m \u001b[0mstr\u001b[0m\u001b[1;33m[\u001b[0m\u001b[0mlen\u001b[0m\u001b[1;33m(\u001b[0m\u001b[0mstr\u001b[0m\u001b[1;33m)\u001b[0m\u001b[1;33m-\u001b[0m\u001b[0mi\u001b[0m\u001b[1;33m-\u001b[0m\u001b[1;36m1\u001b[0m\u001b[1;33m]\u001b[0m\u001b[1;33m:\u001b[0m\u001b[1;33m\u001b[0m\u001b[1;33m\u001b[0m\u001b[0m\n\u001b[0;32m      8\u001b[0m             \u001b[1;32mreturn\u001b[0m \u001b[1;32mFalse\u001b[0m\u001b[1;33m\u001b[0m\u001b[1;33m\u001b[0m\u001b[0m\n",
      "\u001b[1;31mNameError\u001b[0m: name 'xrange' is not defined"
     ]
    }
   ],
   "source": [
    "# function to check string is  \n",
    "# palindrome or not  \n",
    "def isPalindrome(str): \n",
    "  \n",
    "    # Run loop from 0 to len/2  \n",
    "    for i in xrange(0, len(str)/2):  \n",
    "        if str[i] != str[len(str)-i-1]: \n",
    "            return False\n",
    "    return True\n",
    "  \n",
    "# main function \n",
    "s = \"malayalam\"\n",
    "ans = isPalindrome(s) \n",
    "  \n",
    "if (ans): \n",
    "    print(\"Yes\") \n",
    "else: \n",
    "    print(\"No\") \n"
   ]
  },
  {
   "cell_type": "code",
   "execution_count": 19,
   "metadata": {},
   "outputs": [
    {
     "ename": "SyntaxError",
     "evalue": "invalid syntax (<ipython-input-19-6bc0fe22ec06>, line 1)",
     "output_type": "error",
     "traceback": [
      "\u001b[1;36m  File \u001b[1;32m\"<ipython-input-19-6bc0fe22ec06>\"\u001b[1;36m, line \u001b[1;32m1\u001b[0m\n\u001b[1;33m    function to check string is\u001b[0m\n\u001b[1;37m              ^\u001b[0m\n\u001b[1;31mSyntaxError\u001b[0m\u001b[1;31m:\u001b[0m invalid syntax\n"
     ]
    }
   ],
   "source": [
    "function to check string is  \n",
    "# palindrome or not \n",
    "def isPalindrome(s): \n",
    "      \n",
    "    # Using predefined function to  \n",
    "    # reverse to string print(s) \n",
    "    rev = ''.join(reversed(s)) \n",
    "  \n",
    "    # Checking if both string are  \n",
    "    # equal or not \n",
    "    if (s == rev): \n",
    "        return True\n",
    "    return False\n",
    "  \n",
    "# main function \n",
    "s = \"malayalam\"\n",
    "ans = isPalindrome(s) \n",
    "  \n",
    "if (ans): \n",
    "    print(\"Yes\") \n",
    "else: \n",
    "    print(\"No\") \n"
   ]
  },
  {
   "cell_type": "code",
   "execution_count": 20,
   "metadata": {},
   "outputs": [
    {
     "name": "stdout",
     "output_type": "stream",
     "text": [
      "YES\n"
     ]
    }
   ],
   "source": [
    "# Python program to check \n",
    "# if a string is palindrome  \n",
    "# or not \n",
    "  \n",
    "x = \"malayalam\"\n",
    "w = \"\" \n",
    "for i in x: \n",
    "    w = i + w \n",
    "    if (x==w): \n",
    "        print(\"YES\") \n"
   ]
  },
  {
   "cell_type": "code",
   "execution_count": 27,
   "metadata": {},
   "outputs": [
    {
     "name": "stdout",
     "output_type": "stream",
     "text": [
      "code practice quiz geeks\n"
     ]
    }
   ],
   "source": [
    "# Function to reverse words of string \n",
    "  \n",
    "def reverseWords(input): \n",
    "      \n",
    "    # split words of string separated by space \n",
    "    inputWords = input.split(\" \") \n",
    "  \n",
    "    # reverse list of words \n",
    "    # suppose we have list of elements list = [1,2,3,4],  \n",
    "    # list[0]=1, list[1]=2 and index -1 represents \n",
    "    # the last element list[-1]=4 ( equivalent to list[3]=4 ) \n",
    "    # So, inputWords[-1::-1] here we have three arguments \n",
    "    # first is -1 that means start from last element \n",
    "    # second argument is empty that means move to end of list \n",
    "    # third arguments is difference of steps \n",
    "    inputWords=inputWords[-1::-1] \n",
    "  \n",
    "    # now join words with space \n",
    "    output = ' '.join(inputWords) \n",
    "      \n",
    "    return output \n",
    "  \n",
    "if __name__ == \"__main__\": \n",
    "    input = 'geeks quiz practice code'\n",
    "    print (reverseWords(input))"
   ]
  },
  {
   "cell_type": "code",
   "execution_count": 30,
   "metadata": {},
   "outputs": [
    {
     "name": "stdout",
     "output_type": "stream",
     "text": [
      "The original string is : GeeksForGeeks\n",
      "The string after removal of i'th character : GeksForGeeks\n"
     ]
    }
   ],
   "source": [
    "# Python code to demonstrate \n",
    "# method to remove i'th character \n",
    "# Naive Method \n",
    "  \n",
    "# Initializing String  \n",
    "test_str = \"GeeksForGeeks\"\n",
    "  \n",
    "# Printing original string  \n",
    "print (\"The original string is : \" + test_str) \n",
    "  \n",
    "# Removing char at pos 3 \n",
    "# using loop \n",
    "new_str = \"\" \n",
    "  \n",
    "for i in range(0, len(test_str)): \n",
    "    if i != 2: \n",
    "        new_str = new_str + test_str[i] \n",
    "  \n",
    "# Printing string after removal   \n",
    "print (\"The string after removal of i'th character : \" + new_str) \n"
   ]
  },
  {
   "cell_type": "code",
   "execution_count": 29,
   "metadata": {},
   "outputs": [
    {
     "name": "stdout",
     "output_type": "stream",
     "text": [
      "The original string is : GeeksForGeeks\n",
      "The string after removal of i'th character( doesn't work) : GksForGks\n",
      "The string after removal of i'th character(works) : GeekForGeeks\n"
     ]
    }
   ],
   "source": [
    "# Python code to demonstrate \n",
    "# method to remove i'th character \n",
    "# using replace() \n",
    "  \n",
    "# Initializing String  \n",
    "test_str = \"GeeksForGeeks\"\n",
    "  \n",
    "# Printing original string  \n",
    "print (\"The original string is : \" + test_str) \n",
    "  \n",
    "# Removing char at pos 3 \n",
    "# using replace \n",
    "new_str = test_str.replace('e', '') \n",
    "  \n",
    "# Printing string after removal   \n",
    "# removes all occurrences of 'e' \n",
    "print (\"The string after removal of i'th character( doesn't work) : \" + new_str) \n",
    "  \n",
    "# Removing 1st occurrence of s, i.e 5th pos. \n",
    "# if we wish to remove it. \n",
    "new_str = test_str.replace('s', '', 1) \n",
    "  \n",
    "# Printing string after removal   \n",
    "# removes first occurrences of s \n",
    "print (\"The string after removal of i'th character(works) : \" + new_str) \n"
   ]
  },
  {
   "cell_type": "code",
   "execution_count": 31,
   "metadata": {},
   "outputs": [
    {
     "name": "stdout",
     "output_type": "stream",
     "text": [
      "The original string is : GeeksForGeeks\n",
      "The string after removal of i'th character : GeksForGeeks\n"
     ]
    }
   ],
   "source": [
    "# Python code to demonstrate \n",
    "# method to remove i'th character \n",
    "# using slice + concatenation \n",
    "  \n",
    "# Initializing String  \n",
    "test_str = \"GeeksForGeeks\"\n",
    "  \n",
    "# Printing original string  \n",
    "print (\"The original string is : \" + test_str) \n",
    "  \n",
    "# Removing char at pos 3 \n",
    "# using slice + concatenation \n",
    "new_str = test_str[:2] +  test_str[3:] \n",
    "  \n",
    "# Printing string after removal   \n",
    "# removes ele. at 3rd index \n",
    "print (\"The string after removal of i'th character : \" + new_str) \n"
   ]
  },
  {
   "cell_type": "code",
   "execution_count": 32,
   "metadata": {},
   "outputs": [
    {
     "name": "stdout",
     "output_type": "stream",
     "text": [
      "The original string is : GeeksForGeeks\n",
      "The string after removal of i'th character : GeksForGeeks\n"
     ]
    }
   ],
   "source": [
    "# Python code to demonstrate \n",
    "# method to remove i'th character \n",
    "# using join() + list comprehension \n",
    "  \n",
    "# Initializing String  \n",
    "test_str = \"GeeksForGeeks\"\n",
    "  \n",
    "# Printing original string  \n",
    "print (\"The original string is : \" + test_str) \n",
    "  \n",
    "# Removing char at pos 3 \n",
    "# using join() + list comprehension \n",
    "new_str = ''.join([test_str[i] for i in range(len(test_str)) if i != 2]) \n",
    "  \n",
    "# Printing string after removal   \n",
    "# removes ele. at 3rd index \n",
    "print (\"The string after removal of i'th character : \" + new_str) \n"
   ]
  },
  {
   "cell_type": "code",
   "execution_count": 33,
   "metadata": {},
   "outputs": [
    {
     "name": "stdout",
     "output_type": "stream",
     "text": [
      "YES\n"
     ]
    }
   ],
   "source": [
    "# function to check if small string is  \n",
    "# there in big string \n",
    "def check(string, sub_str): \n",
    "    if (string.find(sub_str) == -1): \n",
    "        print(\"NO\") \n",
    "    else: \n",
    "        print(\"YES\") \n",
    "            \n",
    "# driver code \n",
    "string = \"geeks for geeks\"\n",
    "sub_str =\"geek\"\n",
    "check(string, sub_str) \n"
   ]
  },
  {
   "cell_type": "code",
   "execution_count": 34,
   "metadata": {},
   "outputs": [
    {
     "name": "stdout",
     "output_type": "stream",
     "text": [
      "5\n"
     ]
    }
   ],
   "source": [
    "# Python code to demonstrate string length  \n",
    "# using len \n",
    "  \n",
    "str = \"geeks\"\n",
    "print(len(str)) \n"
   ]
  },
  {
   "cell_type": "code",
   "execution_count": 35,
   "metadata": {},
   "outputs": [
    {
     "name": "stdout",
     "output_type": "stream",
     "text": [
      "5\n"
     ]
    }
   ],
   "source": [
    "# Python code to demonstrate string length  \n",
    "# using for loop \n",
    "  \n",
    "# Returns length of string \n",
    "def findLen(str): \n",
    "    counter = 0    \n",
    "    for i in str: \n",
    "        counter += 1\n",
    "    return counter \n",
    "  \n",
    "  \n",
    "str = \"geeks\"\n",
    "print(findLen(str)) \n"
   ]
  },
  {
   "cell_type": "code",
   "execution_count": 36,
   "metadata": {},
   "outputs": [
    {
     "name": "stdout",
     "output_type": "stream",
     "text": [
      "5\n"
     ]
    }
   ],
   "source": [
    "# Python code to demonstrate string length  \n",
    "# using while loop. \n",
    "  \n",
    "# Returns length of string \n",
    "def findLen(str): \n",
    "    counter = 0\n",
    "    while str[counter:]: \n",
    "        counter += 1\n",
    "    return counter \n",
    "  \n",
    "str = \"geeks\"\n",
    "print(findLen(str)) \n"
   ]
  },
  {
   "cell_type": "code",
   "execution_count": 37,
   "metadata": {},
   "outputs": [
    {
     "name": "stdout",
     "output_type": "stream",
     "text": [
      "5\n"
     ]
    }
   ],
   "source": [
    "# Python code to demonstrate string length  \n",
    "# using join and count \n",
    "  \n",
    "# Returns length of string \n",
    "def findLen(str): \n",
    "    if not str: \n",
    "        return 0\n",
    "    else: \n",
    "        some_random_str = 'py'\n",
    "        return ((some_random_str).join(str)).count(some_random_str) + 1\n",
    "  \n",
    "str = \"geeks\"\n",
    "print(findLen(str)) \n"
   ]
  },
  {
   "cell_type": "code",
   "execution_count": 38,
   "metadata": {},
   "outputs": [
    {
     "name": "stdout",
     "output_type": "stream",
     "text": [
      "am\n",
      "muskan\n"
     ]
    }
   ],
   "source": [
    "# Python3 program to print  \n",
    "#  even length words in a string  \n",
    "  \n",
    "def printWords(s): \n",
    "      \n",
    "    # split the string  \n",
    "    s = s.split(' ')  \n",
    "      \n",
    "    # iterate in words of string  \n",
    "    for word in s:  \n",
    "          \n",
    "        # if length is even  \n",
    "        if len(word)%2==0: \n",
    "            print(word)  \n",
    "  \n",
    "  \n",
    "# Driver Code  \n",
    "s = \"i am muskan\" \n",
    "printWords(s)  \n"
   ]
  },
  {
   "cell_type": "code",
   "execution_count": 39,
   "metadata": {},
   "outputs": [
    {
     "name": "stdout",
     "output_type": "stream",
     "text": [
      "Accepted\n"
     ]
    }
   ],
   "source": [
    "# Python program to accept the strings \n",
    "# which contains all the vowels \n",
    "  \n",
    "# Function for check if string \n",
    "# is accepted or not \n",
    "def check(string) : \n",
    "  \n",
    "    # set() function convert \"aeiou\" \n",
    "    # string into set of characters \n",
    "    # i.e.vowels = {'a', 'e', 'i', 'o', 'u'} \n",
    "    vowels = set(\"aeiou\") \n",
    "  \n",
    "    # set() function convert empty  \n",
    "    # dictionary into empty set \n",
    "    s = set({}) \n",
    "  \n",
    "    # looping through each \n",
    "    # character of the string \n",
    "    for char in string : \n",
    "  \n",
    "    # Check for the character is present inside \n",
    "    # the vowels set or not. If present, then \n",
    "    # add into the set s by using add method \n",
    "        if char in vowels : \n",
    "            s.add(char) \n",
    "        else: \n",
    "            pass\n",
    "              \n",
    "    # check the length of set s equal to length  \n",
    "    # of vowels set or not. If equal, string is   \n",
    "    # accepted otherwise not \n",
    "    if len(s) == len(vowels) : \n",
    "        print(\"Accepted\") \n",
    "    else : \n",
    "        print(\"Not Accepted\") \n",
    "  \n",
    "  \n",
    "# Driver code \n",
    "if __name__ == \"__main__\" : \n",
    "      \n",
    "    string = \"SEEquoiaL\"\n",
    "  \n",
    "    # lower method of string convert \n",
    "    # every character into small letter \n",
    "    string = string.lower() \n",
    "  \n",
    "    # calling function \n",
    "    check(string) \n"
   ]
  },
  {
   "cell_type": "code",
   "execution_count": 40,
   "metadata": {},
   "outputs": [
    {
     "name": "stdout",
     "output_type": "stream",
     "text": [
      "No. of matching characters are :  5\n"
     ]
    }
   ],
   "source": [
    "# Python code to count number of matching \n",
    "# characters in a pair of strings \n",
    "  \n",
    "# count function \n",
    "def count(str1, str2):  \n",
    "    c, j = 0, 0\n",
    "      \n",
    "    # loop executes till length of str1 and  \n",
    "    # stores value of str1 character by character  \n",
    "    # and stores in i at each iteration. \n",
    "    for i in str1:     \n",
    "          \n",
    "        # this will check if character extracted from \n",
    "        # str1 is present in str2 or not(str2.find(i) \n",
    "        # return -1 if not found otherwise return the  \n",
    "        # starting occurrence index of that character \n",
    "        # in str2) and j == str1.find(i) is used to  \n",
    "        # avoid the counting of the duplicate characters \n",
    "        # present in str1 found in str2 \n",
    "        if str2.find(i)>= 0 and j == str1.find(i):  \n",
    "            c += 1\n",
    "        j += 1\n",
    "    print ('No. of matching characters are : ', c) \n",
    "  \n",
    "# Main function \n",
    "def main():  \n",
    "    str1 ='aabcddekll12@' # first string \n",
    "    str2 ='bb2211@55k' # second string \n",
    "    count(str1, str2) # calling count function  \n",
    "  \n",
    "# Driver Code \n",
    "if __name__==\"__main__\": \n",
    "    main() \n"
   ]
  },
  {
   "cell_type": "code",
   "execution_count": 41,
   "metadata": {},
   "outputs": [
    {
     "ename": "TypeError",
     "evalue": "'str' object is not callable",
     "output_type": "error",
     "traceback": [
      "\u001b[1;31m---------------------------------------------------------------------------\u001b[0m",
      "\u001b[1;31mTypeError\u001b[0m                                 Traceback (most recent call last)",
      "\u001b[1;32m<ipython-input-41-548f163d8347>\u001b[0m in \u001b[0;36m<module>\u001b[1;34m\u001b[0m\n\u001b[0;32m     28\u001b[0m \u001b[1;33m\u001b[0m\u001b[0m\n\u001b[0;32m     29\u001b[0m     \u001b[1;31m# call count function\u001b[0m\u001b[1;33m\u001b[0m\u001b[1;33m\u001b[0m\u001b[1;33m\u001b[0m\u001b[0m\n\u001b[1;32m---> 30\u001b[1;33m     \u001b[0mcount\u001b[0m\u001b[1;33m(\u001b[0m \u001b[0mstr1\u001b[0m \u001b[1;33m,\u001b[0m \u001b[0mstr2\u001b[0m \u001b[1;33m)\u001b[0m\u001b[1;33m\u001b[0m\u001b[1;33m\u001b[0m\u001b[0m\n\u001b[0m",
      "\u001b[1;32m<ipython-input-41-548f163d8347>\u001b[0m in \u001b[0;36mcount\u001b[1;34m(str1, str2)\u001b[0m\n\u001b[0;32m     18\u001b[0m     \u001b[1;31m# printing the length of matched_characters set\u001b[0m\u001b[1;33m\u001b[0m\u001b[1;33m\u001b[0m\u001b[1;33m\u001b[0m\u001b[0m\n\u001b[0;32m     19\u001b[0m     \u001b[1;31m# gives the no. of matched characters\u001b[0m\u001b[1;33m\u001b[0m\u001b[1;33m\u001b[0m\u001b[1;33m\u001b[0m\u001b[0m\n\u001b[1;32m---> 20\u001b[1;33m     \u001b[0mprint\u001b[0m\u001b[1;33m(\u001b[0m\u001b[1;34m\"No. of matching characters are : \"\u001b[0m \u001b[1;33m+\u001b[0m \u001b[0mstr\u001b[0m\u001b[1;33m(\u001b[0m\u001b[0mlen\u001b[0m\u001b[1;33m(\u001b[0m\u001b[0mmatched_characters\u001b[0m\u001b[1;33m)\u001b[0m\u001b[1;33m)\u001b[0m \u001b[1;33m)\u001b[0m\u001b[1;33m\u001b[0m\u001b[1;33m\u001b[0m\u001b[0m\n\u001b[0m\u001b[0;32m     21\u001b[0m \u001b[1;33m\u001b[0m\u001b[0m\n\u001b[0;32m     22\u001b[0m \u001b[1;33m\u001b[0m\u001b[0m\n",
      "\u001b[1;31mTypeError\u001b[0m: 'str' object is not callable"
     ]
    }
   ],
   "source": [
    "# Python code to count number of unique matching \n",
    "# characters in a pair of strings \n",
    "  \n",
    "# count function count the common unique \n",
    "# characters present in both strings . \n",
    "def count(str1 ,str2) : \n",
    "    # set of characters of string1 \n",
    "    set_string1 = set(str1) \n",
    "  \n",
    "    # set of characters of string2 \n",
    "    set_string2 = set(str2) \n",
    "  \n",
    "    # using (&) intersection mathematical operation on sets \n",
    "    # the unique characters present in both the strings \n",
    "    # are stored in matched_characters set variable \n",
    "    matched_characters = set_string1 & set_string2 \n",
    "  \n",
    "    # printing the length of matched_characters set \n",
    "    # gives the no. of matched characters \n",
    "    print(\"No. of matching characters are : \" + str(len(matched_characters)) ) \n",
    "  \n",
    "  \n",
    "# Driver code \n",
    "if __name__ == \"__main__\" : \n",
    "  \n",
    "    str1 = 'aabcddekll12@'  # first string \n",
    "    str2 = 'bb2211@55k'     # second string \n",
    "  \n",
    "    # call count function  \n",
    "    count( str1 , str2 ) \n"
   ]
  },
  {
   "cell_type": "code",
   "execution_count": 42,
   "metadata": {},
   "outputs": [
    {
     "name": "stdout",
     "output_type": "stream",
     "text": [
      "No. of vowels : 5\n"
     ]
    }
   ],
   "source": [
    "# Python3 code to count vowel in  \n",
    "# a string using set \n",
    "  \n",
    "# Function to count vowel \n",
    "def vowel_count(str): \n",
    "      \n",
    "    # Intializing count variable to 0 \n",
    "    count = 0\n",
    "      \n",
    "    # Creating a set of vowels \n",
    "    vowel = set(\"aeiouAEIOU\") \n",
    "      \n",
    "    # Loop to traverse the alphabet \n",
    "    # in the given string \n",
    "    for alphabet in str: \n",
    "      \n",
    "        # If alphabet is present \n",
    "        # in set vowel \n",
    "        if alphabet in vowel: \n",
    "            count = count + 1\n",
    "      \n",
    "    print(\"No. of vowels :\", count) \n",
    "      \n",
    "# Driver code  \n",
    "str = \"GeeksforGeeks\"\n",
    "  \n",
    "# Function Call \n",
    "vowel_count(str) \n"
   ]
  },
  {
   "cell_type": "code",
   "execution_count": 44,
   "metadata": {},
   "outputs": [
    {
     "ename": "SyntaxError",
     "evalue": "invalid syntax (<ipython-input-44-eb5f3db008bd>, line 24)",
     "output_type": "error",
     "traceback": [
      "\u001b[1;36m  File \u001b[1;32m\"<ipython-input-44-eb5f3db008bd>\"\u001b[1;36m, line \u001b[1;32m24\u001b[0m\n\u001b[1;33m    print \"Without Order = \",removeDupWithoutOrder(str)\u001b[0m\n\u001b[1;37m                           ^\u001b[0m\n\u001b[1;31mSyntaxError\u001b[0m\u001b[1;31m:\u001b[0m invalid syntax\n"
     ]
    }
   ],
   "source": [
    "from collections import OrderedDict \n",
    "  \n",
    "# Function to remove all duplicates from string \n",
    "# and order does not matter \n",
    "def removeDupWithoutOrder(str): \n",
    "   \n",
    "    # set() --> A Set is an unordered collection  \n",
    "    #            data type that is iterable, mutable,  \n",
    "    #            and has no duplicate elements. \n",
    "    # \"\".join() --> It joins two adjacent elements in \n",
    "    #               iterable with any symbol defined in  \n",
    "    #               \"\" ( double quotes ) and returns a  \n",
    "    #               single string \n",
    "    return \"\".join(set(str)) \n",
    "  \n",
    "# Function to remove all duplicates from string  \n",
    "# and keep the order of characters same \n",
    "def removeDupWithOrder(str): \n",
    "    return \"\".join(OrderedDict.fromkeys(str))  \n",
    "  \n",
    "# Driver program \n",
    "if __name__ == \"__main__\": \n",
    "    str = \"geeksforgeeks\"\n",
    "    print \"Without Order = \",removeDupWithoutOrder(str) \n",
    "    print \"With Order = \",removeDupWithOrder(str) \n"
   ]
  },
  {
   "cell_type": "code",
   "execution_count": 46,
   "metadata": {},
   "outputs": [
    {
     "name": "stdout",
     "output_type": "stream",
     "text": [
      "{'a': 1, 'b': 2, 'c': 3, 'd': 4, 'e': 5}\n"
     ]
    }
   ],
   "source": [
    "from collections import OrderedDict \n",
    "  \n",
    "ordinary_dictionary = {} \n",
    "ordinary_dictionary['a'] = 1\n",
    "ordinary_dictionary['b'] = 2\n",
    "ordinary_dictionary['c'] = 3\n",
    "ordinary_dictionary['d'] = 4\n",
    "ordinary_dictionary['e'] = 5\n",
    "  \n",
    "# Output = {'a': 1, 'c': 3, 'b': 2, 'e': 5, 'd': 4} \n",
    "print (ordinary_dictionary     )\n",
    "  \n",
    "ordered_dictionary = OrderedDict() \n",
    "ordered_dictionary['a'] = 1\n",
    "ordered_dictionary['b'] = 2\n",
    "ordered_dictionary['c'] = 3\n",
    "ordered_dictionary['d'] = 4\n",
    "ordered_dictionary['e'] = 5\n",
    "  \n"
   ]
  },
  {
   "cell_type": "code",
   "execution_count": 55,
   "metadata": {},
   "outputs": [
    {
     "name": "stdout",
     "output_type": "stream",
     "text": [
      "OrderedDict([('name', None), ('age', None), ('gender', None)])\n",
      "OrderedDict([('name', 10), ('age', 10), ('gender', 10)])\n"
     ]
    }
   ],
   "source": [
    "from collections import OrderedDict \n",
    "seq = ('name', 'age', 'gender') \n",
    "dict = OrderedDict.fromkeys(seq) \n",
    "  \n",
    "# Output = {'age': None, 'name': None, 'gender': None} \n",
    "print(dict)\n",
    "dict = OrderedDict.fromkeys(seq, 10) \n",
    "  \n",
    "# Output = {'age': 10, 'name': 10, 'gender': 10} \n",
    "print(dict)\n"
   ]
  },
  {
   "cell_type": "code",
   "execution_count": 56,
   "metadata": {},
   "outputs": [
    {
     "name": "stdout",
     "output_type": "stream",
     "text": [
      "String is not accepted.\n"
     ]
    }
   ],
   "source": [
    "# Python program to check if a string \n",
    "# contains any special character \n",
    "  \n",
    "# import required package \n",
    "import re \n",
    "  \n",
    "# Function checks if the string \n",
    "# contains any special character \n",
    "def run(string): \n",
    "  \n",
    "    # Make own character set and pass  \n",
    "    # this as argument in compile method \n",
    "    regex = re.compile('[@_!#$%^&*()<>?/\\|}{~:]') \n",
    "      \n",
    "    # Pass the string in search  \n",
    "    # method of regex object.     \n",
    "    if(regex.search(string) == None): \n",
    "        print(\"String is accepted\") \n",
    "          \n",
    "    else: \n",
    "        print(\"String is not accepted.\") \n",
    "      \n",
    "  \n",
    "# Driver Code \n",
    "if __name__ == '__main__' : \n",
    "      \n",
    "    # Enter the string \n",
    "    string = \"Geeks$For$Geeks\"\n",
    "      \n",
    "    # calling run function  \n",
    "    run(string) \n"
   ]
  },
  {
   "cell_type": "code",
   "execution_count": 60,
   "metadata": {},
   "outputs": [
    {
     "name": "stdout",
     "output_type": "stream",
     "text": [
      "['geek', 'geeks']\n"
     ]
    }
   ],
   "source": [
    "# Python program to find all string  \n",
    "# which are greater than given length k \n",
    "  \n",
    "# function find sttring greater than length k \n",
    "def string_k(k, str): \n",
    "      \n",
    "    # create the empty string \n",
    "    string = [] \n",
    "      \n",
    "    # split the string where space is comes \n",
    "    text = str.split(\" \") \n",
    "      \n",
    "    # iterate the loop till every substring \n",
    "    for x in text: \n",
    "          \n",
    "        # if length of current sub string \n",
    "        # is greater than k then \n",
    "        if len(x) > k: \n",
    "              \n",
    "            # append this sub string in \n",
    "            # string list \n",
    "            string.append(x) \n",
    "              \n",
    "     # return string list \n",
    "    return string \n",
    "  \n",
    "  \n",
    "# Driver Program      \n",
    "k = 3\n",
    "str =\"geek for geeks\"\n",
    "print(string_k(k, str))  \n"
   ]
  },
  {
   "cell_type": "code",
   "execution_count": 61,
   "metadata": {},
   "outputs": [
    {
     "name": "stdout",
     "output_type": "stream",
     "text": [
      "geeksORgeeks\n"
     ]
    }
   ],
   "source": [
    "# Python3 program for removing i-th  \n",
    "# indexed character from a string \n",
    "  \n",
    "# Removes character at index i \n",
    "def remove(string, i):  \n",
    "  \n",
    "    # Characters before the i-th indexed \n",
    "    # is stored in a variable a \n",
    "    a = string[ : i]  \n",
    "      \n",
    "    # Characters after the nth indexed \n",
    "    # is stored in a variable b \n",
    "    b = string[i + 1: ] \n",
    "      \n",
    "    # Returning string after removing \n",
    "    # nth indexed character. \n",
    "    return a + b \n",
    "      \n",
    "# Driver Code \n",
    "if __name__ == '__main__': \n",
    "      \n",
    "    string = \"geeksFORgeeks\"\n",
    "      \n",
    "    # Remove nth index element \n",
    "    i = 5\n",
    "    \n",
    "    # Print the new string \n",
    "    print(remove(string, i)) \n"
   ]
  },
  {
   "cell_type": "code",
   "execution_count": 62,
   "metadata": {},
   "outputs": [
    {
     "name": "stdout",
     "output_type": "stream",
     "text": [
      "['Geeks', 'for', 'Geeks']\n",
      "Geeks-for-Geeks\n"
     ]
    }
   ],
   "source": [
    "# Python program to split a string and   \n",
    "# join it using different delimiter \n",
    "  \n",
    "def split_string(string): \n",
    "  \n",
    "    # Split the string based on space delimiter \n",
    "    list_string = string.split(' ') \n",
    "      \n",
    "    return list_string \n",
    "  \n",
    "def join_string(list_string): \n",
    "  \n",
    "    # Join the string based on '-' delimiter \n",
    "    string = '-'.join(list_string) \n",
    "      \n",
    "    return string \n",
    "  \n",
    "# Driver Function \n",
    "if __name__ == '__main__': \n",
    "    string = 'Geeks for Geeks'\n",
    "      \n",
    "    # Splitting a string \n",
    "    list_string = split_string(string) \n",
    "    print(list_string) \n",
    "  \n",
    "     # Join list of strings into one \n",
    "    new_string = join_string(list_string) \n",
    "    print(new_string) \n"
   ]
  },
  {
   "cell_type": "code",
   "execution_count": 63,
   "metadata": {},
   "outputs": [
    {
     "name": "stdout",
     "output_type": "stream",
     "text": [
      "Yes\n"
     ]
    }
   ],
   "source": [
    "# Python program to check \n",
    "# if a string is binary or not \n",
    "  \n",
    "# function for checking the \n",
    "# string is accepted or not \n",
    "def check(string) : \n",
    "  \n",
    "    # set function convert string \n",
    "    # into set of characters . \n",
    "    p = set(string) \n",
    "  \n",
    "    # declare set of '0', '1' . \n",
    "    s = {'0', '1'} \n",
    "  \n",
    "    # check set p is same as set s \n",
    "    # or set p contains only '0' \n",
    "    # or set p contains only '1' \n",
    "    # or not, if any one conditon \n",
    "    # is true then string is accepted \n",
    "    # otherwise not . \n",
    "    if s == p or p == {'0'} or p == {'1'}: \n",
    "        print(\"Yes\") \n",
    "    else : \n",
    "        print(\"No\") \n",
    "  \n",
    "  \n",
    "          \n",
    "# driver code \n",
    "if __name__ == \"__main__\" : \n",
    "  \n",
    "    string = \"101010000111\"\n",
    "  \n",
    "    # function calling \n",
    "    check(string) \n"
   ]
  },
  {
   "cell_type": "code",
   "execution_count": 64,
   "metadata": {},
   "outputs": [
    {
     "name": "stdout",
     "output_type": "stream",
     "text": [
      "No\n"
     ]
    }
   ],
   "source": [
    "# Python program to check \n",
    "# if a string is binary or not \n",
    "  \n",
    "# function for checking the \n",
    "# string is accepted or not \n",
    "def check2(string) : \n",
    "  \n",
    "    # initialize the variable t \n",
    "    # with '01' string \n",
    "    t = '01'\n",
    "  \n",
    "    # initialize the variable count \n",
    "    # with 0 value \n",
    "    count = 0\n",
    "  \n",
    "    # looping through each character \n",
    "    # of the string . \n",
    "    for char in string : \n",
    "  \n",
    "        # check the character is present in \n",
    "        # string t or not. \n",
    "        # if this condition is true \n",
    "        # assign 1 to the count variable \n",
    "        # and break out of the for loop \n",
    "        # otherwise pass \n",
    "        if char not in t : \n",
    "            count = 1\n",
    "            break\n",
    "        else : \n",
    "            pass\n",
    "          \n",
    "    # after coming out of the loop \n",
    "    # check value of count is non-zero or not \n",
    "    # if the value is non-zero the en condition is true \n",
    "    # and string is not accepted \n",
    "    # otherwise string is accepted \n",
    "    if count : \n",
    "        print(\"No\") \n",
    "    else : \n",
    "        print(\"Yes\") \n",
    "  \n",
    "  \n",
    "  \n",
    "# driver code \n",
    "if __name__ == \"__main__\" : \n",
    "  \n",
    "    string = \"001021010001010\"\n",
    "  \n",
    "    # function calling \n",
    "    check2(string) \n"
   ]
  },
  {
   "cell_type": "code",
   "execution_count": 65,
   "metadata": {},
   "outputs": [
    {
     "name": "stdout",
     "output_type": "stream",
     "text": [
      "['apple', 'ape']\n"
     ]
    }
   ],
   "source": [
    "# Function to find all close matches of  \n",
    "# input string in given list of possible strings \n",
    "from difflib import get_close_matches \n",
    "  \n",
    "def closeMatches(patterns, word): \n",
    "     print(get_close_matches(word, patterns)) \n",
    "  \n",
    "# Driver program \n",
    "if __name__ == \"__main__\": \n",
    "    word = 'appel'\n",
    "    patterns = ['ape', 'apple', 'peach', 'puppy'] \n",
    "    closeMatches(patterns, word) \n"
   ]
  },
  {
   "cell_type": "code",
   "execution_count": 66,
   "metadata": {},
   "outputs": [
    {
     "name": "stdout",
     "output_type": "stream",
     "text": [
      "14.,625.,498 002\n"
     ]
    }
   ],
   "source": [
    "# Python code to replace, with . and vice-versa \n",
    "def Replace(str1): \n",
    "    maketrans = str1.maketrans \n",
    "    final = str1.translate(maketrans(', .', '., ')) \n",
    "    return final \n",
    "  \n",
    "# Driving Code \n",
    "string = \"14, 625, 498.002\"\n",
    "print(Replace(string)) \n"
   ]
  },
  {
   "cell_type": "code",
   "execution_count": 67,
   "metadata": {},
   "outputs": [
    {
     "name": "stdout",
     "output_type": "stream",
     "text": [
      "14.625.498, 002\n"
     ]
    }
   ],
   "source": [
    "def Replace(str1): \n",
    "    str1 = str1.replace(', ', 'third') \n",
    "    str1 = str1.replace('.', ', ') \n",
    "    str1 = str1.replace('third', '.') \n",
    "    return str1 \n",
    "      \n",
    "string = \"14, 625, 498.002\"\n",
    "print(Replace(string)) \n"
   ]
  },
  {
   "cell_type": "code",
   "execution_count": 68,
   "metadata": {},
   "outputs": [
    {
     "name": "stdout",
     "output_type": "stream",
     "text": [
      "['Learning', 'from']\n"
     ]
    }
   ],
   "source": [
    "# Python3 program to find list of uncommon words \n",
    "  \n",
    "# Function to return all uncommon words \n",
    "def UncommonWords(A, B): \n",
    "  \n",
    "    # count will contain all the word counts \n",
    "    count = {} \n",
    "      \n",
    "    # insert words of string A to hash \n",
    "    for word in A.split(): \n",
    "        count[word] = count.get(word, 0) + 1\n",
    "      \n",
    "    # insert words of string B to hash \n",
    "    for word in B.split(): \n",
    "        count[word] = count.get(word, 0) + 1\n",
    "  \n",
    "    # return required list of words \n",
    "    return [word for word in count if count[word] == 1] \n",
    "  \n",
    "# Driver Code \n",
    "A = \"Geeks for Geeks\"\n",
    "B = \"Learning from Geeks for Geeks\"\n",
    "  \n",
    "# Print required answer \n",
    "print(UncommonWords(A, B)) \n"
   ]
  },
  {
   "cell_type": "code",
   "execution_count": 69,
   "metadata": {},
   "outputs": [
    {
     "name": "stdout",
     "output_type": "stream",
     "text": [
      "ABC\n",
      "ACB\n",
      "BAC\n",
      "BCA\n",
      "CAB\n",
      "CBA\n"
     ]
    }
   ],
   "source": [
    "# Function to find permutations of a given string \n",
    "from itertools import permutations \n",
    "  \n",
    "def allPermutations(str): \n",
    "       \n",
    "     # Get all permutations of string 'ABC' \n",
    "     permList = permutations(str) \n",
    "  \n",
    "     # print all permutations \n",
    "     for perm in list(permList): \n",
    "         print (''.join(perm)) \n",
    "        \n",
    "# Driver program \n",
    "if __name__ == \"__main__\": \n",
    "    str = 'ABC'\n",
    "    allPermutations(str) \n"
   ]
  },
  {
   "cell_type": "code",
   "execution_count": 70,
   "metadata": {},
   "outputs": [
    {
     "name": "stdout",
     "output_type": "stream",
     "text": [
      "120\n"
     ]
    }
   ],
   "source": [
    "# Python program to illustrate use of exec to \n",
    "# execute a given code as string. \n",
    "  \n",
    "# function illustrating how exec() functions. \n",
    "def exec_code(): \n",
    "    LOC = \"\"\" \n",
    "def factorial(num): \n",
    "    fact=1 \n",
    "    for i in range(1,num+1): \n",
    "        fact = fact*i \n",
    "    return fact \n",
    "print(factorial(5)) \n",
    "\"\"\"\n",
    "    exec(LOC) \n",
    "      \n",
    "# Driver Code \n",
    "exec_code() \n"
   ]
  },
  {
   "cell_type": "code",
   "execution_count": 71,
   "metadata": {},
   "outputs": [
    {
     "ename": "SyntaxError",
     "evalue": "EOL while scanning string literal (<ipython-input-71-134b6c636f53>, line 8)",
     "output_type": "error",
     "traceback": [
      "\u001b[1;36m  File \u001b[1;32m\"<ipython-input-71-134b6c636f53>\"\u001b[1;36m, line \u001b[1;32m8\u001b[0m\n\u001b[1;33m    url = re.findall('http[s]?://(?:[a-zA-Z]|[0-9]|[$-_@.&+]\u001b[0m\n\u001b[1;37m                                                             ^\u001b[0m\n\u001b[1;31mSyntaxError\u001b[0m\u001b[1;31m:\u001b[0m EOL while scanning string literal\n"
     ]
    }
   ],
   "source": [
    "# Python code to find the URL from an input string \n",
    "# Using the regular expression \n",
    "import re\n",
    "  \n",
    "def Find(string): \n",
    "    # findall() has been used  \n",
    "    # with valid conditions for urls in string \n",
    "    url = re.findall('http[s]?://(?:[a-zA-Z]|[0-9]|[$-_@.&+] \n",
    "    |[!*\\(\\), ]|(?:%[0-9a-fA-F][0-9a-fA-F]))+', string)\n",
    "    return url \n",
    "      \n",
    "# Driver Code \n",
    "string = 'My Profile: https://auth.geeksforgeeks.org \n",
    "/ user / Chinmoy % 20Lenka / articles in \n",
    "the portal of http://www.geeksforgeeks.org/' \n",
    "print(\"Urls: \", Find(string)) \n"
   ]
  },
  {
   "cell_type": "code",
   "execution_count": 73,
   "metadata": {},
   "outputs": [
    {
     "name": "stdout",
     "output_type": "stream",
     "text": [
      "Left Rotation :  eksforGeeksGe\n",
      "Right Rotation :  ksGeeksforGee\n"
     ]
    }
   ],
   "source": [
    "# Function to rotate string left and right by d length \n",
    "  \n",
    "def rotate(input,d): \n",
    "  \n",
    "    # slice string in two parts for left and right \n",
    "    Lfirst = input[0 : d] \n",
    "    Lsecond = input[d :] \n",
    "    Rfirst = input[0 : len(input)-d] \n",
    "    Rsecond = input[len(input)-d : ] \n",
    "  \n",
    "    # now concatenate two parts together \n",
    "    print (\"Left Rotation : \", (Lsecond + Lfirst) )\n",
    "    print (\"Right Rotation : \", (Rsecond + Rfirst) )\n",
    "  \n",
    "# Driver program \n",
    "if __name__ == \"__main__\": \n",
    "    input = 'GeeksforGeeks'\n",
    "    d=2\n",
    "    rotate(input,d) \n"
   ]
  },
  {
   "cell_type": "code",
   "execution_count": 123,
   "metadata": {},
   "outputs": [
    {
     "ename": "IndentationError",
     "evalue": "unindent does not match any outer indentation level (<tokenize>, line 20)",
     "output_type": "error",
     "traceback": [
      "\u001b[1;36m  File \u001b[1;32m\"<tokenize>\"\u001b[1;36m, line \u001b[1;32m20\u001b[0m\n\u001b[1;33m    return 'true'\u001b[0m\n\u001b[1;37m    ^\u001b[0m\n\u001b[1;31mIndentationError\u001b[0m\u001b[1;31m:\u001b[0m unindent does not match any outer indentation level\n"
     ]
    }
   ],
   "source": [
    "# Function to check if a string can become empty  \n",
    "# by recursively deleting a given sub-string \n",
    "  \n",
    "def checkEmpty(input, pattern): \n",
    "      \n",
    "    if len(input)== 0: \n",
    "         return 'false'\n",
    "  \n",
    "    while (len(input) != 0): \n",
    "  \n",
    "          # find sub-string in main string \n",
    "          index = input.find(pattern) \n",
    "            \n",
    "          # check if sub-string founded or not \n",
    "          if (index ==(-1)): \n",
    "              return 'false'\n",
    "            \n",
    "          # slice input string in two parts and concatenate \n",
    "          input = input[0:index] + input[index + len(pattern):]              \n",
    "       return 'true'\n",
    "# Driver program\n",
    "if __name__ == \"__main__\":\n",
    "    input ='GEEGEEKSKS'\n",
    "    pattern ='GEEKS'\n",
    "    print (checkEmpty(input,pattern))"
   ]
  },
  {
   "cell_type": "code",
   "execution_count": 148,
   "metadata": {},
   "outputs": [
    {
     "ename": "TypeError",
     "evalue": "'dict_keys' object is not subscriptable",
     "output_type": "error",
     "traceback": [
      "\u001b[1;31m---------------------------------------------------------------------------\u001b[0m",
      "\u001b[1;31mTypeError\u001b[0m                                 Traceback (most recent call last)",
      "\u001b[1;32m<ipython-input-148-78cd3feb8e85>\u001b[0m in \u001b[0;36m<module>\u001b[1;34m\u001b[0m\n\u001b[0;32m     20\u001b[0m \u001b[1;32mif\u001b[0m \u001b[0m__name__\u001b[0m \u001b[1;33m==\u001b[0m \u001b[1;34m\"__main__\"\u001b[0m\u001b[1;33m:\u001b[0m\u001b[1;33m\u001b[0m\u001b[1;33m\u001b[0m\u001b[0m\n\u001b[0;32m     21\u001b[0m     \u001b[0minput\u001b[0m \u001b[1;33m=\u001b[0m \u001b[1;34m'geeksforgeeks'\u001b[0m\u001b[1;33m\u001b[0m\u001b[1;33m\u001b[0m\u001b[0m\n\u001b[1;32m---> 22\u001b[1;33m     \u001b[0mfind_dup_char\u001b[0m\u001b[1;33m(\u001b[0m\u001b[0minput\u001b[0m\u001b[1;33m)\u001b[0m\u001b[1;33m\u001b[0m\u001b[1;33m\u001b[0m\u001b[0m\n\u001b[0m",
      "\u001b[1;32m<ipython-input-148-78cd3feb8e85>\u001b[0m in \u001b[0;36mfind_dup_char\u001b[1;34m(input)\u001b[0m\n\u001b[0;32m     15\u001b[0m         \u001b[0mj\u001b[0m \u001b[1;33m=\u001b[0m \u001b[0mj\u001b[0m \u001b[1;33m+\u001b[0m \u001b[1;36m1\u001b[0m\u001b[1;33m\u001b[0m\u001b[1;33m\u001b[0m\u001b[0m\n\u001b[0;32m     16\u001b[0m         \u001b[1;32mif\u001b[0m\u001b[1;33m(\u001b[0m \u001b[0mi\u001b[0m \u001b[1;33m>\u001b[0m \u001b[1;36m1\u001b[0m \u001b[1;33m)\u001b[0m\u001b[1;33m:\u001b[0m\u001b[1;33m\u001b[0m\u001b[1;33m\u001b[0m\u001b[0m\n\u001b[1;32m---> 17\u001b[1;33m             \u001b[0mprint\u001b[0m\u001b[1;33m(\u001b[0m\u001b[0mWC\u001b[0m\u001b[1;33m.\u001b[0m\u001b[0mkeys\u001b[0m\u001b[1;33m(\u001b[0m\u001b[1;33m)\u001b[0m\u001b[1;33m[\u001b[0m\u001b[0mj\u001b[0m\u001b[1;33m]\u001b[0m\u001b[1;33m)\u001b[0m\u001b[1;33m\u001b[0m\u001b[1;33m\u001b[0m\u001b[0m\n\u001b[0m\u001b[0;32m     18\u001b[0m \u001b[1;33m\u001b[0m\u001b[0m\n\u001b[0;32m     19\u001b[0m \u001b[1;31m# Driver program\u001b[0m\u001b[1;33m\u001b[0m\u001b[1;33m\u001b[0m\u001b[1;33m\u001b[0m\u001b[0m\n",
      "\u001b[1;31mTypeError\u001b[0m: 'dict_keys' object is not subscriptable"
     ]
    }
   ],
   "source": [
    "from collections import Counter \n",
    "  \n",
    "def find_dup_char(input): \n",
    "  \n",
    "    # now create dictionary using counter method \n",
    "    # which will have strings as key and their  \n",
    "    # frequencies as value \n",
    "    WC = Counter(input)\n",
    "    j = -1\n",
    "      \n",
    "      \n",
    "    # Finding no. of  occurrence of a character\n",
    "    # and get the index of it.\n",
    "    for i in WC.values():\n",
    "        j = j + 1\n",
    "        if( i > 1 ): \n",
    "            print(WC.keys()[j])\n",
    "            \n",
    "# Driver program\n",
    "if __name__ == \"__main__\": \n",
    "    input = 'geeksforgeeks'\n",
    "    find_dup_char(input)"
   ]
  },
  {
   "cell_type": "code",
   "execution_count": 170,
   "metadata": {},
   "outputs": [
    {
     "ename": "IndentationError",
     "evalue": "unindent does not match any outer indentation level (<tokenize>, line 29)",
     "output_type": "error",
     "traceback": [
      "\u001b[1;36m  File \u001b[1;32m\"<tokenize>\"\u001b[1;36m, line \u001b[1;32m29\u001b[0m\n\u001b[1;33m    output = \"\"\u001b[0m\n\u001b[1;37m    ^\u001b[0m\n\u001b[1;31mIndentationError\u001b[0m\u001b[1;31m:\u001b[0m unindent does not match any outer indentation level\n"
     ]
    }
   ],
   "source": [
    "# Function to return all anagrams together \n",
    "def allAnagram(input): \n",
    "      \n",
    "    # empty dictionary which holds subsets  \n",
    "    # of all anagrams together \n",
    "    dict = {} \n",
    "  \n",
    "    # traverse list of strings \n",
    "    for strVal in input: \n",
    "          \n",
    "        # sorted(iterable) method accepts any  \n",
    "        # iterable and rerturns list of items \n",
    "        # in ascending order \n",
    "        key = ''.join(sorted(strVal)) \n",
    "          \n",
    "        # now check if key exist in dictionary \n",
    "        # or not. If yes then simply append the   \n",
    "        # strVal into the list of it's corresponding  \n",
    "        # key. If not then map empty list onto \n",
    "        # key and then start appending values \n",
    "        if key in dict.keys(): \n",
    "            dict[key].append(strVal) \n",
    "        else: \n",
    "            dict[key] = [] \n",
    "            dict[key].append(strVal) \n",
    "  \n",
    "     # traverse dictionary and concatenate values  \n",
    "     # of keys together \n",
    "     output = \"\" \n",
    "     for key,value in dict.iteritems(): \n",
    "         output = output + ' '.join(value) + ' '\n",
    "  \n",
    "     return output \n",
    "  \n",
    "# Driver function \n",
    "if __name__ == \"__main__\": \n",
    "    input=['cat', 'dog', 'tac', 'god', 'act'] \n",
    "    print (allAnagram(input))"
   ]
  },
  {
   "cell_type": "code",
   "execution_count": 180,
   "metadata": {},
   "outputs": [
    {
     "ename": "SyntaxError",
     "evalue": "unexpected character after line continuation character (<ipython-input-180-31901f1f3876>, line 20)",
     "output_type": "error",
     "traceback": [
      "\u001b[1;36m  File \u001b[1;32m\"<ipython-input-180-31901f1f3876>\"\u001b[1;36m, line \u001b[1;32m20\u001b[0m\n\u001b[1;33m    nonRepeatDict = [key for (key,value) in \\\u001b[0m\n\u001b[1;37m                                              ^\u001b[0m\n\u001b[1;31mSyntaxError\u001b[0m\u001b[1;31m:\u001b[0m unexpected character after line continuation character\n"
     ]
    }
   ],
   "source": [
    "# Function to find k'th non repeating character  \n",
    "# in string \n",
    "from collections import OrderedDict \n",
    "  \n",
    "def kthRepeating(input,k): \n",
    "  \n",
    "    # OrderedDict returns a dictionary data  \n",
    "        # structure having characters of input \n",
    "    # string as keys in the same order they  \n",
    "        # were inserted and 0 as their default value \n",
    "    dict=OrderedDict.fromkeys(input,0) \n",
    "  \n",
    "    # now traverse input string to calculate \n",
    "        # frequency of each character \n",
    "    for ch in input: \n",
    "        dict[ch]+=1\n",
    "  \n",
    "    # now extract list of all keys whose value \n",
    "        # is 1 from dict Ordered Dictionary  \n",
    "    nonRepeatDict = [key for (key,value) in \\ \n",
    "                    dict.iteritems() if value==1] \n",
    "      \n",
    "    # now return (k-1)th character from above list \n",
    "    if len(nonRepeatDict) < k: \n",
    "        return 'Less than k non-repeating \\ \n",
    "                characters in input.' \n",
    "    else: \n",
    "        return nonRepeatDict[k-1] \n",
    "  \n",
    "# Driver function \n",
    "if __name__ == \"__main__\": \n",
    "    input = \"geeksforgeeks\"\n",
    "    k = 3\n",
    "    print kthRepeating(input, k) \n"
   ]
  },
  {
   "cell_type": "code",
   "execution_count": 181,
   "metadata": {},
   "outputs": [
    {
     "name": "stdout",
     "output_type": "stream",
     "text": [
      "Yes\n"
     ]
    }
   ],
   "source": [
    "# function to Check if binary representations \n",
    "# of two numbers are anagram \n",
    "from collections import Counter \n",
    "  \n",
    "def checkAnagram(num1,num2): \n",
    "  \n",
    "    # convert numbers into in binary \n",
    "    # and remove first two characters of  \n",
    "    # output string because bin function  \n",
    "    # '0b' as prefix in output string \n",
    "    bin1 = bin(num1)[2:] \n",
    "    bin2 = bin(num2)[2:] \n",
    "  \n",
    "    # append zeros in shorter string \n",
    "    zeros = abs(len(bin1)-len(bin2)) \n",
    "    if (len(bin1)>len(bin2)): \n",
    "         bin2 = zeros * '0' + bin2 \n",
    "    else: \n",
    "         bin1 = zeros * '0' + bin1 \n",
    "  \n",
    "    # convert binary representations  \n",
    "    # into dictionary \n",
    "    dict1 = Counter(bin1) \n",
    "    dict2 = Counter(bin2) \n",
    "  \n",
    "    # compare both dictionaries \n",
    "    if dict1 == dict2: \n",
    "         print('Yes') \n",
    "    else: \n",
    "         print('No') \n",
    "  \n",
    "# Driver program \n",
    "if __name__ == \"__main__\": \n",
    "    num1 = 8\n",
    "    num2 = 4\n",
    "    checkAnagram(num1,num2) \n",
    "     \n"
   ]
  },
  {
   "cell_type": "code",
   "execution_count": 182,
   "metadata": {},
   "outputs": [
    {
     "name": "stdout",
     "output_type": "stream",
     "text": [
      "3\n"
     ]
    }
   ],
   "source": [
    "# Function to find the size of largest subset  \n",
    "# of anagram words \n",
    "from collections import Counter \n",
    "  \n",
    "def maxAnagramSize(input): \n",
    "  \n",
    "    # split input string separated by space \n",
    "    input = input.split(\" \") \n",
    "  \n",
    "    # sort each string in given list of strings \n",
    "    for i in range(0,len(input)): \n",
    "         input[i]=''.join(sorted(input[i])) \n",
    "  \n",
    "    # now create dictionary using counter method \n",
    "    # which will have strings as key and their  \n",
    "    # frequencies as value \n",
    "    freqDict = Counter(input) \n",
    "  \n",
    "    # get maximum value of frequency \n",
    "    print (max(freqDict.values())) \n",
    "  \n",
    "# Driver program \n",
    "if __name__ == \"__main__\": \n",
    "    input = 'ant magenta magnate tan gnamate'\n",
    "    maxAnagramSize(input) \n"
   ]
  },
  {
   "cell_type": "code",
   "execution_count": 183,
   "metadata": {},
   "outputs": [
    {
     "name": "stdout",
     "output_type": "stream",
     "text": [
      "Python is great and Java also\n"
     ]
    }
   ],
   "source": [
    "from collections import Counter \n",
    "  \n",
    "def remov_duplicates(input): \n",
    "  \n",
    "    # split input string separated by space \n",
    "    input = input.split(\" \") \n",
    "  \n",
    "    # joins two adjacent elements in iterable way \n",
    "    for i in range(0, len(input)): \n",
    "        input[i] = \"\".join(input[i]) \n",
    "  \n",
    "    # now create dictionary using counter method \n",
    "    # which will have strings as key and their  \n",
    "    # frequencies as value \n",
    "    UniqW = Counter(input) \n",
    "  \n",
    "    # joins two adjacent elements in iterable way \n",
    "    s = \" \".join(UniqW.keys()) \n",
    "    print (s) \n",
    "  \n",
    "# Driver program \n",
    "if __name__ == \"__main__\": \n",
    "    input = 'Python is great and Java is also great'\n",
    "    remov_duplicates(input) \n"
   ]
  },
  {
   "cell_type": "code",
   "execution_count": 184,
   "metadata": {},
   "outputs": [
    {
     "ename": "TypeError",
     "evalue": "'collections.OrderedDict' object is not callable",
     "output_type": "error",
     "traceback": [
      "\u001b[1;31m---------------------------------------------------------------------------\u001b[0m",
      "\u001b[1;31mTypeError\u001b[0m                                 Traceback (most recent call last)",
      "\u001b[1;32m<ipython-input-184-0981d8beff60>\u001b[0m in \u001b[0;36m<module>\u001b[1;34m\u001b[0m\n\u001b[0;32m     25\u001b[0m     \u001b[0minput\u001b[0m \u001b[1;33m=\u001b[0m \u001b[1;34m'paradox'\u001b[0m\u001b[1;33m\u001b[0m\u001b[1;33m\u001b[0m\u001b[0m\n\u001b[0;32m     26\u001b[0m     \u001b[0mk\u001b[0m \u001b[1;33m=\u001b[0m \u001b[1;36m3\u001b[0m\u001b[1;33m\u001b[0m\u001b[1;33m\u001b[0m\u001b[0m\n\u001b[1;32m---> 27\u001b[1;33m     \u001b[0mmirrorChars\u001b[0m\u001b[1;33m(\u001b[0m\u001b[0minput\u001b[0m\u001b[1;33m,\u001b[0m\u001b[0mk\u001b[0m\u001b[1;33m)\u001b[0m\u001b[1;33m\u001b[0m\u001b[1;33m\u001b[0m\u001b[0m\n\u001b[0m",
      "\u001b[1;32m<ipython-input-184-0981d8beff60>\u001b[0m in \u001b[0;36mmirrorChars\u001b[1;34m(input, k)\u001b[0m\n\u001b[0;32m      6\u001b[0m     \u001b[0moriginal\u001b[0m \u001b[1;33m=\u001b[0m \u001b[1;34m'abcdefghijklmnopqrstuvwxyz'\u001b[0m\u001b[1;33m\u001b[0m\u001b[1;33m\u001b[0m\u001b[0m\n\u001b[0;32m      7\u001b[0m     \u001b[0mreverse\u001b[0m \u001b[1;33m=\u001b[0m \u001b[1;34m'zyxwvutsrqponmlkjihgfedcba'\u001b[0m\u001b[1;33m\u001b[0m\u001b[1;33m\u001b[0m\u001b[0m\n\u001b[1;32m----> 8\u001b[1;33m     \u001b[0mdictChars\u001b[0m \u001b[1;33m=\u001b[0m \u001b[0mdict\u001b[0m\u001b[1;33m(\u001b[0m\u001b[0mzip\u001b[0m\u001b[1;33m(\u001b[0m\u001b[0moriginal\u001b[0m\u001b[1;33m,\u001b[0m\u001b[0mreverse\u001b[0m\u001b[1;33m)\u001b[0m\u001b[1;33m)\u001b[0m\u001b[1;33m\u001b[0m\u001b[1;33m\u001b[0m\u001b[0m\n\u001b[0m\u001b[0;32m      9\u001b[0m \u001b[1;33m\u001b[0m\u001b[0m\n\u001b[0;32m     10\u001b[0m     \u001b[1;31m# separate out string after length k to change\u001b[0m\u001b[1;33m\u001b[0m\u001b[1;33m\u001b[0m\u001b[1;33m\u001b[0m\u001b[0m\n",
      "\u001b[1;31mTypeError\u001b[0m: 'collections.OrderedDict' object is not callable"
     ]
    }
   ],
   "source": [
    "# function to mirror characters of a string \n",
    "  \n",
    "def mirrorChars(input,k): \n",
    "  \n",
    "    # create dictionary \n",
    "    original = 'abcdefghijklmnopqrstuvwxyz'\n",
    "    reverse = 'zyxwvutsrqponmlkjihgfedcba'\n",
    "    dictChars = dict(zip(original,reverse)) \n",
    "  \n",
    "    # separate out string after length k to change \n",
    "    # characters in mirror \n",
    "    prefix = input[0:k-1] \n",
    "    suffix = input[k-1:] \n",
    "    mirror = '' \n",
    "  \n",
    "    # change into mirror \n",
    "    for i in range(0,len(suffix)): \n",
    "         mirror = mirror + dictChars[suffix[i]] \n",
    "  \n",
    "    # concat prefix and mirrored part \n",
    "    print (prefix+mirror) \n",
    "           \n",
    "# Driver program \n",
    "if __name__ == \"__main__\": \n",
    "    input = 'paradox'\n",
    "    k = 3\n",
    "    mirrorChars(input,k) \n"
   ]
  },
  {
   "cell_type": "code",
   "execution_count": 185,
   "metadata": {},
   "outputs": [
    {
     "name": "stdout",
     "output_type": "stream",
     "text": [
      " 1 :  5\n",
      " 5 :  2\n",
      " 3 :  3\n",
      " 4 :  3\n",
      " 2 :  4\n"
     ]
    }
   ],
   "source": [
    "# Python program to count the frequency of  \n",
    "# elements in a list using a dictionary \n",
    "  \n",
    "def CountFrequency(my_list): \n",
    "  \n",
    "    # Creating an empty dictionary  \n",
    "    freq = {} \n",
    "    for item in my_list: \n",
    "        if (item in freq): \n",
    "            freq[item] += 1\n",
    "        else: \n",
    "            freq[item] = 1\n",
    "  \n",
    "    for key, value in freq.items(): \n",
    "        print (\"% d : % d\"%(key, value)) \n",
    "  \n",
    "# Driver function \n",
    "if __name__ == \"__main__\":  \n",
    "    my_list =[1, 1, 1, 5, 5, 3, 1, 3, 3, 1, 4, 4, 4, 2, 2, 2, 2] \n",
    "  \n",
    "    CountFrequency(my_list) \n"
   ]
  },
  {
   "cell_type": "code",
   "execution_count": 186,
   "metadata": {},
   "outputs": [
    {
     "name": "stdout",
     "output_type": "stream",
     "text": [
      "{'akash': [10], 'gaurav': [12], 'anand': [14], 'suraj': [20], 'akhil': [25], 'ashish': [30]}\n"
     ]
    }
   ],
   "source": [
    "# Python code to convert into dictionary \n",
    "  \n",
    "def Convert(tup, di): \n",
    "    for a, b in tup: \n",
    "        di.setdefault(a, []).append(b) \n",
    "    return di \n",
    "      \n",
    "# Driver Code     \n",
    "tups = [(\"akash\", 10), (\"gaurav\", 12), (\"anand\", 14),  \n",
    "     (\"suraj\", 20), (\"akhil\", 25), (\"ashish\", 30)] \n",
    "dictionary = {} \n",
    "print (Convert(tups, dictionary)) \n"
   ]
  },
  {
   "cell_type": "code",
   "execution_count": 187,
   "metadata": {},
   "outputs": [
    {
     "ename": "TypeError",
     "evalue": "'collections.OrderedDict' object is not callable",
     "output_type": "error",
     "traceback": [
      "\u001b[1;31m---------------------------------------------------------------------------\u001b[0m",
      "\u001b[1;31mTypeError\u001b[0m                                 Traceback (most recent call last)",
      "\u001b[1;32m<ipython-input-187-3e17c22389d6>\u001b[0m in \u001b[0;36m<module>\u001b[1;34m\u001b[0m\n\u001b[0;32m      8\u001b[0m     (\"suraj\", 20), (\"akhil\", 25), (\"ashish\", 30)] \n\u001b[0;32m      9\u001b[0m \u001b[0mdictionary\u001b[0m \u001b[1;33m=\u001b[0m \u001b[1;33m{\u001b[0m\u001b[1;33m}\u001b[0m\u001b[1;33m\u001b[0m\u001b[1;33m\u001b[0m\u001b[0m\n\u001b[1;32m---> 10\u001b[1;33m \u001b[0mprint\u001b[0m \u001b[1;33m(\u001b[0m\u001b[0mConvert\u001b[0m\u001b[1;33m(\u001b[0m\u001b[0mtups\u001b[0m\u001b[1;33m,\u001b[0m \u001b[0mdictionary\u001b[0m\u001b[1;33m)\u001b[0m\u001b[1;33m)\u001b[0m\u001b[1;33m\u001b[0m\u001b[1;33m\u001b[0m\u001b[0m\n\u001b[0m",
      "\u001b[1;32m<ipython-input-187-3e17c22389d6>\u001b[0m in \u001b[0;36mConvert\u001b[1;34m(tup, di)\u001b[0m\n\u001b[0;32m      1\u001b[0m \u001b[1;31m# Python code to convert into dictionary\u001b[0m\u001b[1;33m\u001b[0m\u001b[1;33m\u001b[0m\u001b[1;33m\u001b[0m\u001b[0m\n\u001b[0;32m      2\u001b[0m \u001b[1;32mdef\u001b[0m \u001b[0mConvert\u001b[0m\u001b[1;33m(\u001b[0m\u001b[0mtup\u001b[0m\u001b[1;33m,\u001b[0m \u001b[0mdi\u001b[0m\u001b[1;33m)\u001b[0m\u001b[1;33m:\u001b[0m\u001b[1;33m\u001b[0m\u001b[1;33m\u001b[0m\u001b[0m\n\u001b[1;32m----> 3\u001b[1;33m     \u001b[0mdi\u001b[0m \u001b[1;33m=\u001b[0m \u001b[0mdict\u001b[0m\u001b[1;33m(\u001b[0m\u001b[0mtup\u001b[0m\u001b[1;33m)\u001b[0m\u001b[1;33m\u001b[0m\u001b[1;33m\u001b[0m\u001b[0m\n\u001b[0m\u001b[0;32m      4\u001b[0m     \u001b[1;32mreturn\u001b[0m \u001b[0mdi\u001b[0m\u001b[1;33m\u001b[0m\u001b[1;33m\u001b[0m\u001b[0m\n\u001b[0;32m      5\u001b[0m \u001b[1;33m\u001b[0m\u001b[0m\n",
      "\u001b[1;31mTypeError\u001b[0m: 'collections.OrderedDict' object is not callable"
     ]
    }
   ],
   "source": [
    "# Python code to convert into dictionary \n",
    "def Convert(tup, di): \n",
    "    di = dict(tup) \n",
    "    return di \n",
    "      \n",
    "# Driver Code  \n",
    "tups = [(\"akash\", 10), (\"gaurav\", 12), (\"anand\", 14),  \n",
    "    (\"suraj\", 20), (\"akhil\", 25), (\"ashish\", 30)] \n",
    "dictionary = {} \n",
    "print (Convert(tups, dictionary)) \n"
   ]
  },
  {
   "cell_type": "code",
   "execution_count": 188,
   "metadata": {},
   "outputs": [
    {
     "name": "stdout",
     "output_type": "stream",
     "text": [
      " 1 :  5\n",
      " 5 :  2\n",
      " 3 :  3\n",
      " 4 :  3\n",
      " 2 :  4\n"
     ]
    }
   ],
   "source": [
    "# Python program to count the frequency of \n",
    "# elements in a list using a dictionary \n",
    "  \n",
    "def CountFrequency(my_list): \n",
    "      \n",
    "    # Creating an empty dictionary  \n",
    "    freq = {} \n",
    "    for items in my_list: \n",
    "        freq[items] = my_list.count(items) \n",
    "      \n",
    "    for key, value in freq.items(): \n",
    "        print (\"% d : % d\"%(key, value)) \n",
    "  \n",
    "# Driver function \n",
    "if __name__ == \"__main__\":  \n",
    "    my_list =[1, 1, 1, 5, 5, 3, 1, 3, 3, 1, 4, 4, 4, 2, 2, 2, 2] \n",
    "    CountFrequency(my_list) \n"
   ]
  },
  {
   "cell_type": "code",
   "execution_count": 189,
   "metadata": {},
   "outputs": [
    {
     "name": "stdout",
     "output_type": "stream",
     "text": [
      "Possible\n"
     ]
    }
   ],
   "source": [
    "# Python code to find if we can make first string \n",
    "# from second by deleting some characters from  \n",
    "# second and rearranging remaining characters. \n",
    "from collections import Counter \n",
    "  \n",
    "def makeString(str1,str2): \n",
    "  \n",
    "    # convert both strings into dictionaries \n",
    "    # output will be like str1=\"aabbcc\",  \n",
    "    # dict1={'a':2,'b':2,'c':2} \n",
    "    # str2 = 'abbbcc', dict2={'a':1,'b':3,'c':2} \n",
    "    dict1 = Counter(str1) \n",
    "    dict2 = Counter(str2) \n",
    "  \n",
    "    # take intersection of two dictionries \n",
    "    # output will be result = {'a':1,'b':2,'c':2} \n",
    "    result = dict1 & dict2 \n",
    "  \n",
    "    # compare resultant dictionary with first \n",
    "    # dictionary comparision first compares keys \n",
    "    # and then compares their corresponding values  \n",
    "    return result == dict1 \n",
    "  \n",
    "# Driver program \n",
    "if __name__ == \"__main__\": \n",
    "    str1 = 'ABHISHEKsinGH'\n",
    "    str2 = 'gfhfBHkooIHnfndSHEKsiAnG'\n",
    "    if (makeString(str1,str2)==True): \n",
    "        print(\"Possible\") \n",
    "    else: \n",
    "        print(\"Not Possible\") \n"
   ]
  },
  {
   "cell_type": "code",
   "execution_count": 198,
   "metadata": {},
   "outputs": [
    {
     "name": "stdout",
     "output_type": "stream",
     "text": [
      "No\n"
     ]
    }
   ],
   "source": [
    "# Function to Check if frequency of all characters \n",
    "# can become same by one removal \n",
    "from collections import Counter \n",
    "  \n",
    "def allSame(input): \n",
    "      \n",
    "    # calculate frequency of each character \n",
    "    # and convert string into dictionary \n",
    "    dict=Counter(input) \n",
    "  \n",
    "    # now get list of all values and push it \n",
    "    # in set \n",
    "    same = set(dict.values()) \n",
    "  \n",
    "    # now check if frequency of all characters  \n",
    "    # can become same \n",
    "    if (len(same)==1): \n",
    "         print ('Yes')\n",
    "    elif (len(same)==2): \n",
    "         if (list(same)[0]==1):\n",
    "             print('Yes')\n",
    "         else:\n",
    "             print('No')\n",
    "  \n",
    "# Driver program \n",
    "if __name__ == \"__main__\": \n",
    "    input = 'xxxxyyzz'\n",
    "    allSame(input) \n"
   ]
  },
  {
   "cell_type": "code",
   "execution_count": 203,
   "metadata": {},
   "outputs": [],
   "source": [
    "# Python program to find ordered words \n",
    "import requests \n",
    "  \n",
    "# Scrapes the words from the URL below and stores  \n",
    "# them in a list \n",
    "def getWords(): \n",
    "  \n",
    "    # contains about 2500 words \n",
    "    url = \"http://www.puzzlers.org/pub/wordlists/unixdict.txt\"\n",
    "    fetchData = requests.get(url) \n",
    "  \n",
    "    # extracts the content of the webpage \n",
    "    wordList = fetchData.content \n",
    "  \n",
    "    # decodes the UTF-8 encoded text and splits the  \n",
    "    # string to turn it into a list of words \n",
    "    wordList = wordList.decode(\"utf-8\").split() \n",
    "  \n",
    "    return wordList \n",
    "  \n",
    "  \n",
    "# function to determine whether a word is ordered or not \n",
    "def isOrdered(): \n",
    "  \n",
    "    # fetching the wordList \n",
    "    collection = getWords() \n",
    "  \n",
    "    # since the first few of the elements of the  \n",
    "    # dictionary are numbers, getting rid of those \n",
    "    # numbers by slicing off the first 17 elements \n",
    "    collection = collection[16:] \n",
    "    word = '' \n",
    "  \n",
    "    for word in collection: \n",
    "        result = 'Word is ordered'\n",
    "        i = 0\n",
    "        l = len(word) - 1\n",
    "  \n",
    "        if (len(word) < 3): # skips the 1 and 2 lettered strings \n",
    "            continue\n",
    "  \n",
    "        # traverses through all characters of the word in pairs \n",
    "        while i < l:          \n",
    "            if (ord(word[i]) > ord(word[i+1])): \n",
    "                result = 'Word is not ordered'\n",
    "                break\n",
    "            else: \n",
    "                i += 1\n",
    "  \n",
    "        # only printing the ordered words \n",
    "        if (result == 'Word is ordered'): \n",
    "            print(word,': ',result) \n",
    "  \n",
    "  \n",
    "# execute isOrdered() function \n",
    "if __name__ == '__main__': \n",
    "    isOrdered() \n"
   ]
  },
  {
   "cell_type": "code",
   "execution_count": 206,
   "metadata": {},
   "outputs": [
    {
     "name": "stdout",
     "output_type": "stream",
     "text": [
      "me\n",
      "goal\n"
     ]
    }
   ],
   "source": [
    "# Function to print words which can be created \n",
    "# using given set of characters \n",
    "  \n",
    "  \n",
    "  \n",
    "def charCount(word): \n",
    "    dict = {} \n",
    "    for i in word: \n",
    "        dict[i] = dict.get(i, 0) + 1\n",
    "    return dict\n",
    "  \n",
    "  \n",
    "def possible_words(lwords, charSet): \n",
    "    for word in lwords: \n",
    "        flag = 1\n",
    "        chars = charCount(word) \n",
    "        for key in chars: \n",
    "            if key not in charSet: \n",
    "                flag = 0\n",
    "            else: \n",
    "                if charSet.count(key) != chars[key]: \n",
    "                    flag = 0\n",
    "        if flag == 1: \n",
    "            print(word) \n",
    "  \n",
    "if __name__ == \"__main__\": \n",
    "    input = ['goo', 'bat', 'me', 'eat', 'goal', 'boy', 'run'] \n",
    "    charSet = ['e', 'o', 'b', 'a', 'm', 'g', 'l'] \n",
    "    possible_words(input, charSet) \n"
   ]
  },
  {
   "cell_type": "code",
   "execution_count": null,
   "metadata": {},
   "outputs": [],
   "source": []
  }
 ],
 "metadata": {
  "kernelspec": {
   "display_name": "Python 3",
   "language": "python",
   "name": "python3"
  },
  "language_info": {
   "codemirror_mode": {
    "name": "ipython",
    "version": 3
   },
   "file_extension": ".py",
   "mimetype": "text/x-python",
   "name": "python",
   "nbconvert_exporter": "python",
   "pygments_lexer": "ipython3",
   "version": "3.7.3"
  }
 },
 "nbformat": 4,
 "nbformat_minor": 2
}
