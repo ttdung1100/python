{
 "cells": [
  {
   "cell_type": "code",
   "execution_count": null,
   "metadata": {},
   "outputs": [],
   "source": [
    "import sys\n",
    "\n",
    "try:\n",
    "   # open file stream\n",
    "   file = open(file_name, \"w\")\n",
    "except IOError:\n",
    "   print (\"There was an error writing to\", file_name)\n",
    "   sys.exit()\n",
    "print (\"Enter '\", file_finish,\n",
    "print (\"' When finished\"\n",
    "while file_text != file_finish:\n",
    "   file_text = raw_input(\"Enter text: \")\n",
    "   if file_text == file_finish:\n",
    "      # close the file\n",
    "      file.close\n",
    "      break\n",
    "   file.write(file_text)\n",
    "   file.write(\"\\n\")\n",
    "file.close()\n",
    "file_name = raw_input(\"Enter filename: \")\n",
    "if len(file_name) == 0:\n",
    "   print( \"Next time please enter something\")\n",
    "   sys.exit()\n",
    "try:\n",
    "   file = open(file_name, \"r\")\n",
    "except IOError:\n",
    "   print( \"There was an error reading file\")\n",
    "   sys.exit()\n",
    "file_text = file.read()\n",
    "file.close()\n",
    "print (file_text)"
   ]
  },
  {
   "cell_type": "code",
   "execution_count": null,
   "metadata": {},
   "outputs": [],
   "source": []
  }
 ],
 "metadata": {
  "kernelspec": {
   "display_name": "Python 3",
   "language": "python",
   "name": "python3"
  },
  "language_info": {
   "codemirror_mode": {
    "name": "ipython",
    "version": 3
   },
   "file_extension": ".py",
   "mimetype": "text/x-python",
   "name": "python",
   "nbconvert_exporter": "python",
   "pygments_lexer": "ipython3",
   "version": "3.7.3"
  }
 },
 "nbformat": 4,
 "nbformat_minor": 2
}
