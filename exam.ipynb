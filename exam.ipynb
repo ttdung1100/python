{
 "cells": [
  {
   "cell_type": "code",
   "execution_count": 6,
   "metadata": {},
   "outputs": [],
   "source": [
    "import pandas as pd\n",
    "import matplotlib.pyplot as plt\n",
    "%matplotlib inline\n",
    "import numpy as np\n",
    "import seaborn as sns\n",
    "\n",
    "import datetime"
   ]
  },
  {
   "cell_type": "code",
   "execution_count": 3,
   "metadata": {},
   "outputs": [
    {
     "name": "stdout",
     "output_type": "stream",
     "text": [
      "(634, 17)\n",
      "Index(['UserId', 'OrderId', 'Status', 'OrderDate', 'OrderTime', 'ASAP',\n",
      "       'DeliveredTime', 'CompletionTime', 'Distance', 'RestaurantID',\n",
      "       'TotalItem', 'Order Value', 'TotalDiscount', 'PaymentMethod',\n",
      "       'DeviceOSType', 'AppType', 'Category'],\n",
      "      dtype='object')\n"
     ]
    },
    {
     "data": {
      "text/html": [
       "<div>\n",
       "<style scoped>\n",
       "    .dataframe tbody tr th:only-of-type {\n",
       "        vertical-align: middle;\n",
       "    }\n",
       "\n",
       "    .dataframe tbody tr th {\n",
       "        vertical-align: top;\n",
       "    }\n",
       "\n",
       "    .dataframe thead th {\n",
       "        text-align: right;\n",
       "    }\n",
       "</style>\n",
       "<table border=\"1\" class=\"dataframe\">\n",
       "  <thead>\n",
       "    <tr style=\"text-align: right;\">\n",
       "      <th></th>\n",
       "      <th>UserId</th>\n",
       "      <th>OrderId</th>\n",
       "      <th>Status</th>\n",
       "      <th>OrderDate</th>\n",
       "      <th>OrderTime</th>\n",
       "      <th>ASAP</th>\n",
       "      <th>DeliveredTime</th>\n",
       "      <th>CompletionTime</th>\n",
       "      <th>Distance</th>\n",
       "      <th>RestaurantID</th>\n",
       "      <th>TotalItem</th>\n",
       "      <th>Order Value</th>\n",
       "      <th>TotalDiscount</th>\n",
       "      <th>PaymentMethod</th>\n",
       "      <th>DeviceOSType</th>\n",
       "      <th>AppType</th>\n",
       "      <th>Category</th>\n",
       "    </tr>\n",
       "  </thead>\n",
       "  <tbody>\n",
       "    <tr>\n",
       "      <th>0</th>\n",
       "      <td>997400</td>\n",
       "      <td>760984</td>\n",
       "      <td>Delivered</td>\n",
       "      <td>2018-05-01</td>\n",
       "      <td>13:07:46</td>\n",
       "      <td>True</td>\n",
       "      <td>2018-05-01 14:44:00</td>\n",
       "      <td>96.817067</td>\n",
       "      <td>6.2</td>\n",
       "      <td>141966</td>\n",
       "      <td>4</td>\n",
       "      <td>222000</td>\n",
       "      <td>0</td>\n",
       "      <td>Cash</td>\n",
       "      <td>Web</td>\n",
       "      <td>Foody</td>\n",
       "      <td>[Food, Lunch]</td>\n",
       "    </tr>\n",
       "    <tr>\n",
       "      <th>1</th>\n",
       "      <td>997400</td>\n",
       "      <td>880315</td>\n",
       "      <td>Delivered</td>\n",
       "      <td>2018-05-30</td>\n",
       "      <td>13:09:14</td>\n",
       "      <td>True</td>\n",
       "      <td>2018-05-30 13:42:00</td>\n",
       "      <td>33.700000</td>\n",
       "      <td>6.2</td>\n",
       "      <td>141966</td>\n",
       "      <td>2</td>\n",
       "      <td>165000</td>\n",
       "      <td>0</td>\n",
       "      <td>Cash</td>\n",
       "      <td>Web</td>\n",
       "      <td>Foody</td>\n",
       "      <td>[Food, Lunch]</td>\n",
       "    </tr>\n",
       "    <tr>\n",
       "      <th>2</th>\n",
       "      <td>997400</td>\n",
       "      <td>876172</td>\n",
       "      <td>Delivered</td>\n",
       "      <td>2018-05-29</td>\n",
       "      <td>14:51:52</td>\n",
       "      <td>True</td>\n",
       "      <td>2018-05-29 15:24:00</td>\n",
       "      <td>32.150000</td>\n",
       "      <td>6.2</td>\n",
       "      <td>141966</td>\n",
       "      <td>2</td>\n",
       "      <td>190500</td>\n",
       "      <td>0</td>\n",
       "      <td>Cash</td>\n",
       "      <td>Web</td>\n",
       "      <td>Foody</td>\n",
       "      <td>[Food, Lunch]</td>\n",
       "    </tr>\n",
       "    <tr>\n",
       "      <th>3</th>\n",
       "      <td>997400</td>\n",
       "      <td>763694</td>\n",
       "      <td>Delivered</td>\n",
       "      <td>2018-05-02</td>\n",
       "      <td>11:06:15</td>\n",
       "      <td>True</td>\n",
       "      <td>2018-05-02 12:01:00</td>\n",
       "      <td>54.972550</td>\n",
       "      <td>8.7</td>\n",
       "      <td>1630</td>\n",
       "      <td>6</td>\n",
       "      <td>213000</td>\n",
       "      <td>0</td>\n",
       "      <td>Cash</td>\n",
       "      <td>Web</td>\n",
       "      <td>Foody</td>\n",
       "      <td>[Food]</td>\n",
       "    </tr>\n",
       "    <tr>\n",
       "      <th>4</th>\n",
       "      <td>997405</td>\n",
       "      <td>773532</td>\n",
       "      <td>Delivered</td>\n",
       "      <td>2018-05-04</td>\n",
       "      <td>18:35:37</td>\n",
       "      <td>True</td>\n",
       "      <td>2018-05-04 19:39:00</td>\n",
       "      <td>63.697100</td>\n",
       "      <td>4.0</td>\n",
       "      <td>7924</td>\n",
       "      <td>6</td>\n",
       "      <td>202500</td>\n",
       "      <td>0</td>\n",
       "      <td>Cash</td>\n",
       "      <td>iOS</td>\n",
       "      <td>Foody</td>\n",
       "      <td>[Food, Lunch]</td>\n",
       "    </tr>\n",
       "  </tbody>\n",
       "</table>\n",
       "</div>"
      ],
      "text/plain": [
       "   UserId  OrderId     Status  OrderDate OrderTime  ASAP       DeliveredTime  \\\n",
       "0  997400   760984  Delivered 2018-05-01  13:07:46  True 2018-05-01 14:44:00   \n",
       "1  997400   880315  Delivered 2018-05-30  13:09:14  True 2018-05-30 13:42:00   \n",
       "2  997400   876172  Delivered 2018-05-29  14:51:52  True 2018-05-29 15:24:00   \n",
       "3  997400   763694  Delivered 2018-05-02  11:06:15  True 2018-05-02 12:01:00   \n",
       "4  997405   773532  Delivered 2018-05-04  18:35:37  True 2018-05-04 19:39:00   \n",
       "\n",
       "   CompletionTime  Distance  RestaurantID  TotalItem  Order Value  \\\n",
       "0       96.817067       6.2        141966          4       222000   \n",
       "1       33.700000       6.2        141966          2       165000   \n",
       "2       32.150000       6.2        141966          2       190500   \n",
       "3       54.972550       8.7          1630          6       213000   \n",
       "4       63.697100       4.0          7924          6       202500   \n",
       "\n",
       "   TotalDiscount PaymentMethod DeviceOSType AppType       Category  \n",
       "0              0          Cash          Web   Foody  [Food, Lunch]  \n",
       "1              0          Cash          Web   Foody  [Food, Lunch]  \n",
       "2              0          Cash          Web   Foody  [Food, Lunch]  \n",
       "3              0          Cash          Web   Foody         [Food]  \n",
       "4              0          Cash          iOS   Foody  [Food, Lunch]  "
      ]
     },
     "execution_count": 3,
     "metadata": {},
     "output_type": "execute_result"
    }
   ],
   "source": [
    "data = pd.read_csv('User behavior sample 2.csv',parse_dates=[3,6])\n",
    "print(data.shape)\n",
    "print(data.columns)\n",
    "data.head()"
   ]
  },
  {
   "cell_type": "markdown",
   "metadata": {},
   "source": [
    "# Section 01 - Data Analysis - Key Metrics"
   ]
  },
  {
   "cell_type": "markdown",
   "metadata": {},
   "source": [
    "## A. Determine user behaviors and any other parameters you think make sense for a company like ours"
   ]
  },
  {
   "cell_type": "code",
   "execution_count": 4,
   "metadata": {},
   "outputs": [
    {
     "name": "stdout",
     "output_type": "stream",
     "text": [
      "0\n"
     ]
    },
    {
     "data": {
      "text/plain": [
       "Delivered    554\n",
       "Cancel        80\n",
       "Name: Status, dtype: int64"
      ]
     },
     "execution_count": 4,
     "metadata": {},
     "output_type": "execute_result"
    }
   ],
   "source": [
    "print(data.Status.isnull().sum())\n",
    "data.Status.value_counts()"
   ]
  },
  {
   "cell_type": "code",
   "execution_count": 5,
   "metadata": {},
   "outputs": [
    {
     "name": "stdout",
     "output_type": "stream",
     "text": [
      "count    554.000000\n",
      "mean       3.075271\n",
      "std        2.122484\n",
      "min        0.100000\n",
      "25%        1.500000\n",
      "50%        2.600000\n",
      "75%        4.100000\n",
      "max       13.000000\n",
      "Name: Distance, dtype: float64\n"
     ]
    },
    {
     "data": {
      "text/plain": [
       "<matplotlib.axes._subplots.AxesSubplot at 0x1784fe97240>"
      ]
     },
     "execution_count": 5,
     "metadata": {},
     "output_type": "execute_result"
    },
    {
     "data": {
      "image/png": "[encoded data removed]",
      "text/plain": [
       "<Figure size 432x288 with 1 Axes>"
      ]
     },
     "metadata": {
      "needs_background": "light"
     },
     "output_type": "display_data"
    }
   ],
   "source": [
    "print(data[data.Status=='Delivered']['Distance'].describe())\n",
    "data[data.Status=='Delivered']['Distance'].hist()"
   ]
  },
  {
   "cell_type": "code",
   "execution_count": 43,
   "metadata": {},
   "outputs": [
    {
     "name": "stdout",
     "output_type": "stream",
     "text": [
      "count    80.000000\n",
      "mean      3.452500\n",
      "std       2.317516\n",
      "min       0.100000\n",
      "25%       1.325000\n",
      "50%       3.300000\n",
      "75%       5.025000\n",
      "max       8.900000\n",
      "Name: Distance, dtype: float64\n"
     ]
    },
    {
     "data": {
      "text/plain": [
       "<matplotlib.axes._subplots.AxesSubplot at 0x1a16d2a198>"
      ]
     },
     "execution_count": 43,
     "metadata": {},
     "output_type": "execute_result"
    },
    {
     "data": {
      "image/png": "[encoded data removed]",
      "text/plain": [
       "<Figure size 432x288 with 1 Axes>"
      ]
     },
     "metadata": {
      "needs_background": "light"
     },
     "output_type": "display_data"
    }
   ],
   "source": [
    "print(data[data.Status=='Cancel']['Distance'].describe())\n",
    "data[data.Status=='Cancel']['Distance'].hist()"
   ]
  },
  {
   "cell_type": "markdown",
   "metadata": {},
   "source": [
    "We could see that the Status of order does not have strong correlation with the Distance here when:\n",
    "* The means of distance between 02 groups are so close\n",
    "* The median of Cancel group is slightly larger than Delivered group but the max values of Delivered group reach to 13 comparing with 8.9 of Cancel group."
   ]
  },
  {
   "cell_type": "code",
   "execution_count": 57,
   "metadata": {},
   "outputs": [],
   "source": [
    "data['OrderWeekday'] = data['OrderDate'].apply(lambda x:x.weekday())"
   ]
  },
  {
   "cell_type": "markdown",
   "metadata": {},
   "source": [
    "## B. Determine patterns of top users in terms of GMV"
   ]
  },
  {
   "cell_type": "code",
   "execution_count": 66,
   "metadata": {},
   "outputs": [
    {
     "name": "stdout",
     "output_type": "stream",
     "text": [
      "(253, 2)\n",
      "count    2.530000e+02\n",
      "mean     5.236577e+05\n",
      "std      8.540521e+05\n",
      "min      3.750000e+04\n",
      "25%      1.500000e+05\n",
      "50%      2.400000e+05\n",
      "75%      5.250000e+05\n",
      "max      8.604000e+06\n",
      "Name: SumOrderValue, dtype: float64\n"
     ]
    },
    {
     "data": {
      "text/plain": [
       "<matplotlib.axes._subplots.AxesSubplot at 0x1a17a8b710>"
      ]
     },
     "execution_count": 66,
     "metadata": {},
     "output_type": "execute_result"
    },
    {
     "data": {
      "image/png": "[encoded data removed]",
      "text/plain": [
       "<Figure size 432x288 with 1 Axes>"
      ]
     },
     "metadata": {
      "needs_background": "light"
     },
     "output_type": "display_data"
    }
   ],
   "source": [
    "gmv_by_user = data.groupby('UserId',as_index=False).agg({'Order Value':'sum'})\n",
    "gmv_by_user.columns = ['UserId','SumOrderValue']\n",
    "print(gmv_by_user.shape)\n",
    "print(gmv_by_user['SumOrderValue'].describe())\n",
    "gmv_by_user['SumOrderValue'].hist()"
   ]
  },
  {
   "cell_type": "markdown",
   "metadata": {},
   "source": [
    "Based on the distribution, we choose 5.250000e+05 as the threshold to choose top users by GMV"
   ]
  },
  {
   "cell_type": "code",
   "execution_count": 70,
   "metadata": {},
   "outputs": [
    {
     "data": {
      "text/plain": [
       "(63,)"
      ]
     },
     "execution_count": 70,
     "metadata": {},
     "output_type": "execute_result"
    }
   ],
   "source": [
    "top_users = gmv_by_user[gmv_by_user['SumOrderValue']>5.250000e+05]['UserId']\n",
    "top_users.shape"
   ]
  },
  {
   "cell_type": "code",
   "execution_count": 71,
   "metadata": {},
   "outputs": [],
   "source": [
    "data['is_top_user'] = np.where(data['UserId'].isin(top_users_top_25_percent),1,0)"
   ]
  },
  {
   "cell_type": "code",
   "execution_count": 78,
   "metadata": {},
   "outputs": [
    {
     "name": "stdout",
     "output_type": "stream",
     "text": [
      "count    297.000000\n",
      "mean      55.944766\n",
      "std       53.666895\n",
      "min        6.216667\n",
      "25%       30.130050\n",
      "50%       42.791883\n",
      "75%       64.376900\n",
      "max      552.299283\n",
      "Name: CompletionTime, dtype: float64\n"
     ]
    },
    {
     "data": {
      "text/plain": [
       "<matplotlib.axes._subplots.AxesSubplot at 0x1a17c72080>"
      ]
     },
     "execution_count": 78,
     "metadata": {},
     "output_type": "execute_result"
    },
    {
     "data": {
      "image/png": "[encoded data removed]",
      "text/plain": [
       "<Figure size 432x288 with 1 Axes>"
      ]
     },
     "metadata": {
      "needs_background": "light"
     },
     "output_type": "display_data"
    }
   ],
   "source": [
    "print(data[data.is_top_user==1]['CompletionTime'].describe())\n",
    "data[data.is_top_user==1]['CompletionTime'].hist()"
   ]
  },
  {
   "cell_type": "code",
   "execution_count": 79,
   "metadata": {},
   "outputs": [
    {
     "name": "stdout",
     "output_type": "stream",
     "text": [
      "count    257.000000\n",
      "mean      38.456090\n",
      "std       18.131619\n",
      "min       10.033333\n",
      "25%       24.750000\n",
      "50%       35.982783\n",
      "75%       46.966667\n",
      "max      150.511217\n",
      "Name: CompletionTime, dtype: float64\n"
     ]
    },
    {
     "data": {
      "text/plain": [
       "<matplotlib.axes._subplots.AxesSubplot at 0x1a17d03ac8>"
      ]
     },
     "execution_count": 79,
     "metadata": {},
     "output_type": "execute_result"
    },
    {
     "data": {
      "image/png": "[encoded data removed]",
      "text/plain": [
       "<Figure size 432x288 with 1 Axes>"
      ]
     },
     "metadata": {
      "needs_background": "light"
     },
     "output_type": "display_data"
    }
   ],
   "source": [
    "print(data[data.is_top_user==0]['CompletionTime'].describe())\n",
    "data[data.is_top_user==0]['CompletionTime'].hist()"
   ]
  },
  {
   "cell_type": "code",
   "execution_count": 81,
   "metadata": {},
   "outputs": [
    {
     "name": "stdout",
     "output_type": "stream",
     "text": [
      "count    344.000000\n",
      "mean       5.985465\n",
      "std        9.536018\n",
      "min        1.000000\n",
      "25%        2.000000\n",
      "50%        4.000000\n",
      "75%        7.000000\n",
      "max      111.000000\n",
      "Name: TotalItem, dtype: float64\n"
     ]
    },
    {
     "data": {
      "text/plain": [
       "<matplotlib.axes._subplots.AxesSubplot at 0x1a17dcfd68>"
      ]
     },
     "execution_count": 81,
     "metadata": {},
     "output_type": "execute_result"
    },
    {
     "data": {
      "image/png": "[encoded data removed]",
      "text/plain": [
       "<Figure size 432x288 with 1 Axes>"
      ]
     },
     "metadata": {
      "needs_background": "light"
     },
     "output_type": "display_data"
    }
   ],
   "source": [
    "print(data[data.is_top_user==1]['TotalItem'].describe())\n",
    "data[data.is_top_user==1]['TotalItem'].hist()"
   ]
  },
  {
   "cell_type": "code",
   "execution_count": 82,
   "metadata": {},
   "outputs": [
    {
     "name": "stdout",
     "output_type": "stream",
     "text": [
      "count    290.000000\n",
      "mean       3.717241\n",
      "std        4.094394\n",
      "min        1.000000\n",
      "25%        2.000000\n",
      "50%        3.000000\n",
      "75%        4.000000\n",
      "max       48.000000\n",
      "Name: TotalItem, dtype: float64\n"
     ]
    },
    {
     "data": {
      "text/plain": [
       "<matplotlib.axes._subplots.AxesSubplot at 0x1a17ecc588>"
      ]
     },
     "execution_count": 82,
     "metadata": {},
     "output_type": "execute_result"
    },
    {
     "data": {
      "image/png": "[encoded data removed]",
      "text/plain": [
       "<Figure size 432x288 with 1 Axes>"
      ]
     },
     "metadata": {
      "needs_background": "light"
     },
     "output_type": "display_data"
    }
   ],
   "source": [
    "print(data[data.is_top_user==0]['TotalItem'].describe())\n",
    "data[data.is_top_user==0]['TotalItem'].hist()"
   ]
  },
  {
   "cell_type": "code",
   "execution_count": 83,
   "metadata": {},
   "outputs": [
    {
     "name": "stdout",
     "output_type": "stream",
     "text": [
      "count    3.440000e+02\n",
      "mean     2.660089e+05\n",
      "std      2.562028e+05\n",
      "min      3.000000e+04\n",
      "25%      1.271250e+05\n",
      "50%      1.987500e+05\n",
      "75%      3.150000e+05\n",
      "max      2.446500e+06\n",
      "Name: Order Value, dtype: float64\n"
     ]
    },
    {
     "data": {
      "text/plain": [
       "<matplotlib.axes._subplots.AxesSubplot at 0x1a17dcf4a8>"
      ]
     },
     "execution_count": 83,
     "metadata": {},
     "output_type": "execute_result"
    },
    {
     "data": {
      "image/png": "[encoded data removed]",
      "text/plain": [
       "<Figure size 432x288 with 1 Axes>"
      ]
     },
     "metadata": {
      "needs_background": "light"
     },
     "output_type": "display_data"
    }
   ],
   "source": [
    "print(data[data.is_top_user==1]['Order Value'].describe())\n",
    "data[data.is_top_user==1]['Order Value'].hist()"
   ]
  },
  {
   "cell_type": "code",
   "execution_count": 84,
   "metadata": {},
   "outputs": [
    {
     "name": "stdout",
     "output_type": "stream",
     "text": [
      "count       290.000000\n",
      "mean     141304.655172\n",
      "std       79310.884316\n",
      "min       30000.000000\n",
      "25%       81000.000000\n",
      "50%      130500.000000\n",
      "75%      180000.000000\n",
      "max      454500.000000\n",
      "Name: Order Value, dtype: float64\n"
     ]
    },
    {
     "data": {
      "text/plain": [
       "<matplotlib.axes._subplots.AxesSubplot at 0x1a1806e8d0>"
      ]
     },
     "execution_count": 84,
     "metadata": {},
     "output_type": "execute_result"
    },
    {
     "data": {
      "image/png": "[encoded data removed]",
      "text/plain": [
       "<Figure size 432x288 with 1 Axes>"
      ]
     },
     "metadata": {
      "needs_background": "light"
     },
     "output_type": "display_data"
    }
   ],
   "source": [
    "print(data[data.is_top_user==0]['Order Value'].describe())\n",
    "data[data.is_top_user==0]['Order Value'].hist()"
   ]
  },
  {
   "cell_type": "code",
   "execution_count": 91,
   "metadata": {},
   "outputs": [
    {
     "name": "stdout",
     "output_type": "stream",
     "text": [
      "(290, 19)\n",
      "(189,)\n",
      "(344, 19)\n",
      "(64,)\n"
     ]
    }
   ],
   "source": [
    "print(data[data.is_top_user==0].shape)\n",
    "print(data[data.is_top_user==0].UserId.drop_duplicates().shape)\n",
    "print(data[data.is_top_user==1].shape)\n",
    "print(data[data.is_top_user==1].UserId.drop_duplicates().shape)\n"
   ]
  },
  {
   "cell_type": "markdown",
   "metadata": {},
   "source": [
    "* For top users, the mean of completion time is higher because the mean of total item is larger. \n",
    "* The top users usually order more valued orders than the others do. \n",
    "* Moreover, they also have more orders than the others in same specific time window, for more details, 64 users in top user group ordered 344 times (~5.375 orders for 1 person) comparing with 189 normal users and 290 orders (~1.53 order for 1 person)"
   ]
  },
  {
   "cell_type": "code",
   "execution_count": 92,
   "metadata": {},
   "outputs": [
    {
     "name": "stdout",
     "output_type": "stream",
     "text": [
      "count    290.000000\n",
      "mean       2.853103\n",
      "std        2.076331\n",
      "min        0.100000\n",
      "25%        1.325000\n",
      "50%        2.400000\n",
      "75%        3.800000\n",
      "max       13.000000\n",
      "Name: Distance, dtype: float64\n"
     ]
    },
    {
     "data": {
      "text/plain": [
       "<matplotlib.axes._subplots.AxesSubplot at 0x1a1815f438>"
      ]
     },
     "execution_count": 92,
     "metadata": {},
     "output_type": "execute_result"
    },
    {
     "data": {
      "image/png": "[encoded data removed]",
      "text/plain": [
       "<Figure size 432x288 with 1 Axes>"
      ]
     },
     "metadata": {
      "needs_background": "light"
     },
     "output_type": "display_data"
    }
   ],
   "source": [
    "print(data[data.is_top_user==0]['Distance'].describe())\n",
    "data[data.is_top_user==0]['Distance'].hist()"
   ]
  },
  {
   "cell_type": "code",
   "execution_count": 93,
   "metadata": {},
   "outputs": [
    {
     "name": "stdout",
     "output_type": "stream",
     "text": [
      "count    344.000000\n",
      "mean       3.350291\n",
      "std        2.187068\n",
      "min        0.100000\n",
      "25%        1.600000\n",
      "50%        3.050000\n",
      "75%        4.800000\n",
      "max       11.700000\n",
      "Name: Distance, dtype: float64\n"
     ]
    },
    {
     "data": {
      "text/plain": [
       "<matplotlib.axes._subplots.AxesSubplot at 0x1a18242780>"
      ]
     },
     "execution_count": 93,
     "metadata": {},
     "output_type": "execute_result"
    },
    {
     "data": {
      "image/png": "[encoded data removed]",
      "text/plain": [
       "<Figure size 432x288 with 1 Axes>"
      ]
     },
     "metadata": {
      "needs_background": "light"
     },
     "output_type": "display_data"
    }
   ],
   "source": [
    "print(data[data.is_top_user==1]['Distance'].describe())\n",
    "data[data.is_top_user==1]['Distance'].hist()"
   ]
  },
  {
   "cell_type": "code",
   "execution_count": 100,
   "metadata": {},
   "outputs": [],
   "source": [
    "data['OrderHour'] = data['OrderTime'].apply(lambda x:datetime.datetime.strptime(x, '%H:%M:%S').time().hour)"
   ]
  },
  {
   "cell_type": "code",
   "execution_count": 102,
   "metadata": {},
   "outputs": [
    {
     "name": "stdout",
     "output_type": "stream",
     "text": [
      "count    290.000000\n",
      "mean      15.334483\n",
      "std        3.706608\n",
      "min        0.000000\n",
      "25%       12.000000\n",
      "50%       15.000000\n",
      "75%       18.000000\n",
      "max       23.000000\n",
      "Name: OrderHour, dtype: float64\n"
     ]
    },
    {
     "data": {
      "text/plain": [
       "<matplotlib.axes._subplots.AxesSubplot at 0x1a18331c88>"
      ]
     },
     "execution_count": 102,
     "metadata": {},
     "output_type": "execute_result"
    },
    {
     "data": {
      "image/png": "[encoded data removed]",
      "text/plain": [
       "<Figure size 432x288 with 1 Axes>"
      ]
     },
     "metadata": {
      "needs_background": "light"
     },
     "output_type": "display_data"
    }
   ],
   "source": [
    "print(data[data.is_top_user==0]['OrderHour'].describe())\n",
    "data[data.is_top_user==0]['OrderHour'].hist()"
   ]
  },
  {
   "cell_type": "code",
   "execution_count": 103,
   "metadata": {},
   "outputs": [
    {
     "name": "stdout",
     "output_type": "stream",
     "text": [
      "count    344.000000\n",
      "mean      14.546512\n",
      "std        3.878345\n",
      "min        1.000000\n",
      "25%       11.000000\n",
      "50%       14.000000\n",
      "75%       18.000000\n",
      "max       23.000000\n",
      "Name: OrderHour, dtype: float64\n"
     ]
    },
    {
     "data": {
      "text/plain": [
       "<matplotlib.axes._subplots.AxesSubplot at 0x1a18474c50>"
      ]
     },
     "execution_count": 103,
     "metadata": {},
     "output_type": "execute_result"
    },
    {
     "data": {
      "image/png": "[encoded data removed]",
      "text/plain": [
       "<Figure size 432x288 with 1 Axes>"
      ]
     },
     "metadata": {
      "needs_background": "light"
     },
     "output_type": "display_data"
    }
   ],
   "source": [
    "print(data[data.is_top_user==1]['OrderHour'].describe())\n",
    "data[data.is_top_user==1]['OrderHour'].hist()"
   ]
  },
  {
   "cell_type": "code",
   "execution_count": 105,
   "metadata": {},
   "outputs": [
    {
     "name": "stdout",
     "output_type": "stream",
     "text": [
      "count      290.000000\n",
      "mean      3526.100000\n",
      "std       8516.647757\n",
      "min          0.000000\n",
      "25%          0.000000\n",
      "50%          0.000000\n",
      "75%          0.000000\n",
      "max      46850.000000\n",
      "Name: TotalDiscount, dtype: float64\n"
     ]
    },
    {
     "data": {
      "text/plain": [
       "<matplotlib.axes._subplots.AxesSubplot at 0x1a18468898>"
      ]
     },
     "execution_count": 105,
     "metadata": {},
     "output_type": "execute_result"
    },
    {
     "data": {
      "image/png": "[encoded data removed]",
      "text/plain": [
       "<Figure size 432x288 with 1 Axes>"
      ]
     },
     "metadata": {
      "needs_background": "light"
     },
     "output_type": "display_data"
    }
   ],
   "source": [
    "print(data[data.is_top_user==0]['TotalDiscount'].describe())\n",
    "data[data.is_top_user==0]['TotalDiscount'].hist()"
   ]
  },
  {
   "cell_type": "code",
   "execution_count": 106,
   "metadata": {},
   "outputs": [
    {
     "name": "stdout",
     "output_type": "stream",
     "text": [
      "count       344.000000\n",
      "mean      13831.892442\n",
      "std       22307.909187\n",
      "min           0.000000\n",
      "25%           0.000000\n",
      "50%           0.000000\n",
      "75%       25700.000000\n",
      "max      147850.000000\n",
      "Name: TotalDiscount, dtype: float64\n"
     ]
    },
    {
     "data": {
      "text/plain": [
       "<matplotlib.axes._subplots.AxesSubplot at 0x1a189b4550>"
      ]
     },
     "execution_count": 106,
     "metadata": {},
     "output_type": "execute_result"
    },
    {
     "data": {
      "image/png": "[encoded data removed]",
      "text/plain": [
       "<Figure size 432x288 with 1 Axes>"
      ]
     },
     "metadata": {
      "needs_background": "light"
     },
     "output_type": "display_data"
    }
   ],
   "source": [
    "print(data[data.is_top_user==1]['TotalDiscount'].describe())\n",
    "data[data.is_top_user==1]['TotalDiscount'].hist()"
   ]
  },
  {
   "cell_type": "markdown",
   "metadata": {},
   "source": [
    "* One more point we could see is that in group of orders made by top users, the distribution of TotalDiscount have longer and thicker right tail. It absolutely makes sense."
   ]
  },
  {
   "cell_type": "code",
   "execution_count": 107,
   "metadata": {},
   "outputs": [
    {
     "data": {
      "text/plain": [
       "<matplotlib.axes._subplots.AxesSubplot at 0x1a18a98cc0>"
      ]
     },
     "execution_count": 107,
     "metadata": {},
     "output_type": "execute_result"
    },
    {
     "data": {
      "image/png": "[encoded data removed]",
      "text/plain": [
       "<Figure size 432x288 with 1 Axes>"
      ]
     },
     "metadata": {
      "needs_background": "light"
     },
     "output_type": "display_data"
    }
   ],
   "source": [
    "fig, ax = plt.subplots()\n",
    "data[data.is_top_user==0]['PaymentMethod'].value_counts().plot(ax=ax, kind='bar')"
   ]
  },
  {
   "cell_type": "code",
   "execution_count": 108,
   "metadata": {},
   "outputs": [
    {
     "data": {
      "text/plain": [
       "<matplotlib.axes._subplots.AxesSubplot at 0x1a18b5b128>"
      ]
     },
     "execution_count": 108,
     "metadata": {},
     "output_type": "execute_result"
    },
    {
     "data": {
      "image/png": "[encoded data removed]",
      "text/plain": [
       "<Figure size 432x288 with 1 Axes>"
      ]
     },
     "metadata": {
      "needs_background": "light"
     },
     "output_type": "display_data"
    }
   ],
   "source": [
    "fig, ax = plt.subplots()\n",
    "data[data.is_top_user==1]['PaymentMethod'].value_counts().plot(ax=ax, kind='bar')"
   ]
  },
  {
   "cell_type": "markdown",
   "metadata": {},
   "source": [
    "Top users intended to use other payment methods because\n",
    "* The suppliers usually give larger discount for non-cash payment methods\n",
    "* There is a commitment to use one service in long term when we connect it with your payment method information like credit card number,..."
   ]
  },
  {
   "cell_type": "code",
   "execution_count": 111,
   "metadata": {},
   "outputs": [
    {
     "name": "stdout",
     "output_type": "stream",
     "text": [
      "iOS        178\n",
      "Android     82\n",
      "Web         30\n",
      "Name: DeviceOSType, dtype: int64\n"
     ]
    },
    {
     "data": {
      "text/plain": [
       "<matplotlib.axes._subplots.AxesSubplot at 0x1a18ca8d68>"
      ]
     },
     "execution_count": 111,
     "metadata": {},
     "output_type": "execute_result"
    },
    {
     "data": {
      "image/png": "[encoded data removed]",
      "text/plain": [
       "<Figure size 432x288 with 1 Axes>"
      ]
     },
     "metadata": {
      "needs_background": "light"
     },
     "output_type": "display_data"
    }
   ],
   "source": [
    "fig, ax = plt.subplots()\n",
    "print(data[data.is_top_user==0]['DeviceOSType'].value_counts())\n",
    "data[data.is_top_user==0]['DeviceOSType'].value_counts().plot(ax=ax, kind='bar')"
   ]
  },
  {
   "cell_type": "code",
   "execution_count": 112,
   "metadata": {},
   "outputs": [
    {
     "name": "stdout",
     "output_type": "stream",
     "text": [
      "iOS        189\n",
      "Android     84\n",
      "Web         71\n",
      "Name: DeviceOSType, dtype: int64\n"
     ]
    },
    {
     "data": {
      "text/plain": [
       "<matplotlib.axes._subplots.AxesSubplot at 0x1a18d7a320>"
      ]
     },
     "execution_count": 112,
     "metadata": {},
     "output_type": "execute_result"
    },
    {
     "data": {
      "image/png": "[encoded data removed]",
      "text/plain": [
       "<Figure size 432x288 with 1 Axes>"
      ]
     },
     "metadata": {
      "needs_background": "light"
     },
     "output_type": "display_data"
    }
   ],
   "source": [
    "fig, ax = plt.subplots()\n",
    "print(data[data.is_top_user==1]['DeviceOSType'].value_counts())\n",
    "data[data.is_top_user==1]['DeviceOSType'].value_counts().plot(ax=ax, kind='bar')"
   ]
  },
  {
   "cell_type": "markdown",
   "metadata": {},
   "source": [
    "It's a little bit strange here when the orders made from web of top user group is larger proportional comparing with the normal group. In my opinion, users who install the apps ans use them to order show much more commitment. However, the larger number of orders from web might also show that those users usually are officer in working hours."
   ]
  },
  {
   "cell_type": "code",
   "execution_count": 115,
   "metadata": {},
   "outputs": [
    {
     "data": {
      "text/plain": [
       "[Food]                    295\n",
       "[Food, Lunch]             294\n",
       "[Food, Drink]              22\n",
       "[Streetfood]               20\n",
       "[Dessert, Food, Drink]      3\n",
       "Name: Category, dtype: int64"
      ]
     },
     "execution_count": 115,
     "metadata": {},
     "output_type": "execute_result"
    }
   ],
   "source": [
    "data.Category.value_counts()"
   ]
  },
  {
   "cell_type": "markdown",
   "metadata": {},
   "source": [
    "# Section 03 - Data Analysis - Business Insight"
   ]
  },
  {
   "cell_type": "markdown",
   "metadata": {},
   "source": [
    "Based on some findings\n",
    "* The relationship between OrderValue, TotalItem and is_top_user\n",
    "* The relationship between TotalDiscount and is_top_user\n",
    "* The relationship between PaymentMethod and is_top_user\n",
    "* The relationship between DeviceOSType and is_top_user\n",
    "\n",
    "We would have some decisions to drive business forward\n",
    "* Give users higher discount value when the OrderValue meet some high values\n",
    "* Give users higher discount value when they install and use apps to order\n",
    "* Give users higher discount value when they use non-cash payment methods to order\n"
   ]
  },
  {
   "cell_type": "markdown",
   "metadata": {},
   "source": [
    "# Section 04"
   ]
  },
  {
   "cell_type": "raw",
   "metadata": {},
   "source": [
    "select AppType,\n",
    "       SUM(\"Order Value\") as total_order_value,\n",
    "       AVG(TotalItem) as average_basklet_size from \n",
    "data \n",
    "group by AppType"
   ]
  }
 ],
 "metadata": {
  "kernelspec": {
   "display_name": "Python 3",
   "language": "python",
   "name": "python3"
  },
  "language_info": {
   "codemirror_mode": {
    "name": "ipython",
    "version": 3
   },
   "file_extension": ".py",
   "mimetype": "text/x-python",
   "name": "python",
   "nbconvert_exporter": "python",
   "pygments_lexer": "ipython3",
   "version": "3.7.3"
  }
 },
 "nbformat": 4,
 "nbformat_minor": 2
}
